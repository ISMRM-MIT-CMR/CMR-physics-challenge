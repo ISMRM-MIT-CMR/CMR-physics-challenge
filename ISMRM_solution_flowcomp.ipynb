{
  "nbformat": 4,
  "nbformat_minor": 0,
  "metadata": {
    "colab": {
      "name": "ISMRM_MR-Pub_FCO1.ipynb",
      "provenance": [],
      "collapsed_sections": [
        "kuNFgJpV6S33",
        "064ZMWx2zjoN",
        "x-byLkmsw1-5",
        "ypYhMqLUQfh_",
        "GfzjrJozQz5E",
        "9pgL7VbED09b",
        "aJUdBeM7S1Y3",
        "MIKaXY3KTCsV",
        "rGnnQ_RdNtPl"
      ],
      "toc_visible": true
    },
    "kernelspec": {
      "name": "python3",
      "display_name": "Python 3"
    },
    "language_info": {
      "name": "python"
    },
    "widgets": {
      "application/vnd.jupyter.widget-state+json": {
        "8050616768dd4355a9506f942f7f0e70": {
          "model_module": "@jupyter-widgets/controls",
          "model_name": "HBoxModel",
          "state": {
            "_view_name": "HBoxView",
            "_dom_classes": [],
            "_model_name": "HBoxModel",
            "_view_module": "@jupyter-widgets/controls",
            "_model_module_version": "1.5.0",
            "_view_count": null,
            "_view_module_version": "1.5.0",
            "box_style": "",
            "layout": "IPY_MODEL_39b46513cd44456491d6772b95de5b6f",
            "_model_module": "@jupyter-widgets/controls",
            "children": [
              "IPY_MODEL_22aa1c636be947e6a4c78e1bdc782bdf",
              "IPY_MODEL_5b67363c911543178cae8850d28c8f4a"
            ]
          }
        },
        "39b46513cd44456491d6772b95de5b6f": {
          "model_module": "@jupyter-widgets/base",
          "model_name": "LayoutModel",
          "state": {
            "_view_name": "LayoutView",
            "grid_template_rows": null,
            "right": null,
            "justify_content": null,
            "_view_module": "@jupyter-widgets/base",
            "overflow": null,
            "_model_module_version": "1.2.0",
            "_view_count": null,
            "flex_flow": null,
            "width": null,
            "min_width": null,
            "border": null,
            "align_items": null,
            "bottom": null,
            "_model_module": "@jupyter-widgets/base",
            "top": null,
            "grid_column": null,
            "overflow_y": null,
            "overflow_x": null,
            "grid_auto_flow": null,
            "grid_area": null,
            "grid_template_columns": null,
            "flex": null,
            "_model_name": "LayoutModel",
            "justify_items": null,
            "grid_row": null,
            "max_height": null,
            "align_content": null,
            "visibility": null,
            "align_self": null,
            "height": null,
            "min_height": null,
            "padding": null,
            "grid_auto_rows": null,
            "grid_gap": null,
            "max_width": null,
            "order": null,
            "_view_module_version": "1.2.0",
            "grid_template_areas": null,
            "object_position": null,
            "object_fit": null,
            "grid_auto_columns": null,
            "margin": null,
            "display": null,
            "left": null
          }
        },
        "22aa1c636be947e6a4c78e1bdc782bdf": {
          "model_module": "@jupyter-widgets/controls",
          "model_name": "FloatProgressModel",
          "state": {
            "_view_name": "ProgressView",
            "style": "IPY_MODEL_17f74d0553824f9188190c2c43ca412c",
            "_dom_classes": [],
            "description": "100%",
            "_model_name": "FloatProgressModel",
            "bar_style": "success",
            "max": 21,
            "_view_module": "@jupyter-widgets/controls",
            "_model_module_version": "1.5.0",
            "value": 21,
            "_view_count": null,
            "_view_module_version": "1.5.0",
            "orientation": "horizontal",
            "min": 0,
            "description_tooltip": null,
            "_model_module": "@jupyter-widgets/controls",
            "layout": "IPY_MODEL_1e05d447f9e346dd8dc022c019840687"
          }
        },
        "5b67363c911543178cae8850d28c8f4a": {
          "model_module": "@jupyter-widgets/controls",
          "model_name": "HTMLModel",
          "state": {
            "_view_name": "HTMLView",
            "style": "IPY_MODEL_c1b6fd8aa6b24c768d2e5b78e8987737",
            "_dom_classes": [],
            "description": "",
            "_model_name": "HTMLModel",
            "placeholder": "​",
            "_view_module": "@jupyter-widgets/controls",
            "_model_module_version": "1.5.0",
            "value": " 21/21 [02:32&lt;00:00,  7.28s/it]",
            "_view_count": null,
            "_view_module_version": "1.5.0",
            "description_tooltip": null,
            "_model_module": "@jupyter-widgets/controls",
            "layout": "IPY_MODEL_e443a95259e143c6b76c6ea3ca6b41a5"
          }
        },
        "17f74d0553824f9188190c2c43ca412c": {
          "model_module": "@jupyter-widgets/controls",
          "model_name": "ProgressStyleModel",
          "state": {
            "_view_name": "StyleView",
            "_model_name": "ProgressStyleModel",
            "description_width": "initial",
            "_view_module": "@jupyter-widgets/base",
            "_model_module_version": "1.5.0",
            "_view_count": null,
            "_view_module_version": "1.2.0",
            "bar_color": null,
            "_model_module": "@jupyter-widgets/controls"
          }
        },
        "1e05d447f9e346dd8dc022c019840687": {
          "model_module": "@jupyter-widgets/base",
          "model_name": "LayoutModel",
          "state": {
            "_view_name": "LayoutView",
            "grid_template_rows": null,
            "right": null,
            "justify_content": null,
            "_view_module": "@jupyter-widgets/base",
            "overflow": null,
            "_model_module_version": "1.2.0",
            "_view_count": null,
            "flex_flow": null,
            "width": null,
            "min_width": null,
            "border": null,
            "align_items": null,
            "bottom": null,
            "_model_module": "@jupyter-widgets/base",
            "top": null,
            "grid_column": null,
            "overflow_y": null,
            "overflow_x": null,
            "grid_auto_flow": null,
            "grid_area": null,
            "grid_template_columns": null,
            "flex": null,
            "_model_name": "LayoutModel",
            "justify_items": null,
            "grid_row": null,
            "max_height": null,
            "align_content": null,
            "visibility": null,
            "align_self": null,
            "height": null,
            "min_height": null,
            "padding": null,
            "grid_auto_rows": null,
            "grid_gap": null,
            "max_width": null,
            "order": null,
            "_view_module_version": "1.2.0",
            "grid_template_areas": null,
            "object_position": null,
            "object_fit": null,
            "grid_auto_columns": null,
            "margin": null,
            "display": null,
            "left": null
          }
        },
        "c1b6fd8aa6b24c768d2e5b78e8987737": {
          "model_module": "@jupyter-widgets/controls",
          "model_name": "DescriptionStyleModel",
          "state": {
            "_view_name": "StyleView",
            "_model_name": "DescriptionStyleModel",
            "description_width": "",
            "_view_module": "@jupyter-widgets/base",
            "_model_module_version": "1.5.0",
            "_view_count": null,
            "_view_module_version": "1.2.0",
            "_model_module": "@jupyter-widgets/controls"
          }
        },
        "e443a95259e143c6b76c6ea3ca6b41a5": {
          "model_module": "@jupyter-widgets/base",
          "model_name": "LayoutModel",
          "state": {
            "_view_name": "LayoutView",
            "grid_template_rows": null,
            "right": null,
            "justify_content": null,
            "_view_module": "@jupyter-widgets/base",
            "overflow": null,
            "_model_module_version": "1.2.0",
            "_view_count": null,
            "flex_flow": null,
            "width": null,
            "min_width": null,
            "border": null,
            "align_items": null,
            "bottom": null,
            "_model_module": "@jupyter-widgets/base",
            "top": null,
            "grid_column": null,
            "overflow_y": null,
            "overflow_x": null,
            "grid_auto_flow": null,
            "grid_area": null,
            "grid_template_columns": null,
            "flex": null,
            "_model_name": "LayoutModel",
            "justify_items": null,
            "grid_row": null,
            "max_height": null,
            "align_content": null,
            "visibility": null,
            "align_self": null,
            "height": null,
            "min_height": null,
            "padding": null,
            "grid_auto_rows": null,
            "grid_gap": null,
            "max_width": null,
            "order": null,
            "_view_module_version": "1.2.0",
            "grid_template_areas": null,
            "object_position": null,
            "object_fit": null,
            "grid_auto_columns": null,
            "margin": null,
            "display": null,
            "left": null
          }
        },
        "24e5f5b2610d4166933f3506151b2072": {
          "model_module": "@jupyter-widgets/controls",
          "model_name": "HBoxModel",
          "state": {
            "_view_name": "HBoxView",
            "_dom_classes": [],
            "_model_name": "HBoxModel",
            "_view_module": "@jupyter-widgets/controls",
            "_model_module_version": "1.5.0",
            "_view_count": null,
            "_view_module_version": "1.5.0",
            "box_style": "",
            "layout": "IPY_MODEL_6fb6b674460d44ecabd1884010b2e883",
            "_model_module": "@jupyter-widgets/controls",
            "children": [
              "IPY_MODEL_a5993c8191d54c2ea5383d0f1e71e9b0",
              "IPY_MODEL_026c24a1e4e8483dbeefd48432b9abad"
            ]
          }
        },
        "6fb6b674460d44ecabd1884010b2e883": {
          "model_module": "@jupyter-widgets/base",
          "model_name": "LayoutModel",
          "state": {
            "_view_name": "LayoutView",
            "grid_template_rows": null,
            "right": null,
            "justify_content": null,
            "_view_module": "@jupyter-widgets/base",
            "overflow": null,
            "_model_module_version": "1.2.0",
            "_view_count": null,
            "flex_flow": null,
            "width": null,
            "min_width": null,
            "border": null,
            "align_items": null,
            "bottom": null,
            "_model_module": "@jupyter-widgets/base",
            "top": null,
            "grid_column": null,
            "overflow_y": null,
            "overflow_x": null,
            "grid_auto_flow": null,
            "grid_area": null,
            "grid_template_columns": null,
            "flex": null,
            "_model_name": "LayoutModel",
            "justify_items": null,
            "grid_row": null,
            "max_height": null,
            "align_content": null,
            "visibility": null,
            "align_self": null,
            "height": null,
            "min_height": null,
            "padding": null,
            "grid_auto_rows": null,
            "grid_gap": null,
            "max_width": null,
            "order": null,
            "_view_module_version": "1.2.0",
            "grid_template_areas": null,
            "object_position": null,
            "object_fit": null,
            "grid_auto_columns": null,
            "margin": null,
            "display": null,
            "left": null
          }
        },
        "a5993c8191d54c2ea5383d0f1e71e9b0": {
          "model_module": "@jupyter-widgets/controls",
          "model_name": "FloatProgressModel",
          "state": {
            "_view_name": "ProgressView",
            "style": "IPY_MODEL_80dfc6df3f934114b13885fe8960887a",
            "_dom_classes": [],
            "description": "100%",
            "_model_name": "FloatProgressModel",
            "bar_style": "success",
            "max": 21,
            "_view_module": "@jupyter-widgets/controls",
            "_model_module_version": "1.5.0",
            "value": 21,
            "_view_count": null,
            "_view_module_version": "1.5.0",
            "orientation": "horizontal",
            "min": 0,
            "description_tooltip": null,
            "_model_module": "@jupyter-widgets/controls",
            "layout": "IPY_MODEL_d686f1f7e6f1402eae71dae18e41f039"
          }
        },
        "026c24a1e4e8483dbeefd48432b9abad": {
          "model_module": "@jupyter-widgets/controls",
          "model_name": "HTMLModel",
          "state": {
            "_view_name": "HTMLView",
            "style": "IPY_MODEL_6e8768550e95432f933e07e6c93712a6",
            "_dom_classes": [],
            "description": "",
            "_model_name": "HTMLModel",
            "placeholder": "​",
            "_view_module": "@jupyter-widgets/controls",
            "_model_module_version": "1.5.0",
            "value": " 21/21 [00:44&lt;00:00,  2.12s/it]",
            "_view_count": null,
            "_view_module_version": "1.5.0",
            "description_tooltip": null,
            "_model_module": "@jupyter-widgets/controls",
            "layout": "IPY_MODEL_72ef7cbd983c40878ecc558b8dd1104e"
          }
        },
        "80dfc6df3f934114b13885fe8960887a": {
          "model_module": "@jupyter-widgets/controls",
          "model_name": "ProgressStyleModel",
          "state": {
            "_view_name": "StyleView",
            "_model_name": "ProgressStyleModel",
            "description_width": "initial",
            "_view_module": "@jupyter-widgets/base",
            "_model_module_version": "1.5.0",
            "_view_count": null,
            "_view_module_version": "1.2.0",
            "bar_color": null,
            "_model_module": "@jupyter-widgets/controls"
          }
        },
        "d686f1f7e6f1402eae71dae18e41f039": {
          "model_module": "@jupyter-widgets/base",
          "model_name": "LayoutModel",
          "state": {
            "_view_name": "LayoutView",
            "grid_template_rows": null,
            "right": null,
            "justify_content": null,
            "_view_module": "@jupyter-widgets/base",
            "overflow": null,
            "_model_module_version": "1.2.0",
            "_view_count": null,
            "flex_flow": null,
            "width": null,
            "min_width": null,
            "border": null,
            "align_items": null,
            "bottom": null,
            "_model_module": "@jupyter-widgets/base",
            "top": null,
            "grid_column": null,
            "overflow_y": null,
            "overflow_x": null,
            "grid_auto_flow": null,
            "grid_area": null,
            "grid_template_columns": null,
            "flex": null,
            "_model_name": "LayoutModel",
            "justify_items": null,
            "grid_row": null,
            "max_height": null,
            "align_content": null,
            "visibility": null,
            "align_self": null,
            "height": null,
            "min_height": null,
            "padding": null,
            "grid_auto_rows": null,
            "grid_gap": null,
            "max_width": null,
            "order": null,
            "_view_module_version": "1.2.0",
            "grid_template_areas": null,
            "object_position": null,
            "object_fit": null,
            "grid_auto_columns": null,
            "margin": null,
            "display": null,
            "left": null
          }
        },
        "6e8768550e95432f933e07e6c93712a6": {
          "model_module": "@jupyter-widgets/controls",
          "model_name": "DescriptionStyleModel",
          "state": {
            "_view_name": "StyleView",
            "_model_name": "DescriptionStyleModel",
            "description_width": "",
            "_view_module": "@jupyter-widgets/base",
            "_model_module_version": "1.5.0",
            "_view_count": null,
            "_view_module_version": "1.2.0",
            "_model_module": "@jupyter-widgets/controls"
          }
        },
        "72ef7cbd983c40878ecc558b8dd1104e": {
          "model_module": "@jupyter-widgets/base",
          "model_name": "LayoutModel",
          "state": {
            "_view_name": "LayoutView",
            "grid_template_rows": null,
            "right": null,
            "justify_content": null,
            "_view_module": "@jupyter-widgets/base",
            "overflow": null,
            "_model_module_version": "1.2.0",
            "_view_count": null,
            "flex_flow": null,
            "width": null,
            "min_width": null,
            "border": null,
            "align_items": null,
            "bottom": null,
            "_model_module": "@jupyter-widgets/base",
            "top": null,
            "grid_column": null,
            "overflow_y": null,
            "overflow_x": null,
            "grid_auto_flow": null,
            "grid_area": null,
            "grid_template_columns": null,
            "flex": null,
            "_model_name": "LayoutModel",
            "justify_items": null,
            "grid_row": null,
            "max_height": null,
            "align_content": null,
            "visibility": null,
            "align_self": null,
            "height": null,
            "min_height": null,
            "padding": null,
            "grid_auto_rows": null,
            "grid_gap": null,
            "max_width": null,
            "order": null,
            "_view_module_version": "1.2.0",
            "grid_template_areas": null,
            "object_position": null,
            "object_fit": null,
            "grid_auto_columns": null,
            "margin": null,
            "display": null,
            "left": null
          }
        },
        "12489030ff034c64b065e9d653aed29f": {
          "model_module": "@jupyter-widgets/controls",
          "model_name": "HBoxModel",
          "state": {
            "_view_name": "HBoxView",
            "_dom_classes": [],
            "_model_name": "HBoxModel",
            "_view_module": "@jupyter-widgets/controls",
            "_model_module_version": "1.5.0",
            "_view_count": null,
            "_view_module_version": "1.5.0",
            "box_style": "",
            "layout": "IPY_MODEL_e9b619fe58b64e5194a112c51ba9e801",
            "_model_module": "@jupyter-widgets/controls",
            "children": [
              "IPY_MODEL_2bb6f39dc161490f8f782d2d57a71729",
              "IPY_MODEL_98b5174e265c44b0a9b76ceae403e62e"
            ]
          }
        },
        "e9b619fe58b64e5194a112c51ba9e801": {
          "model_module": "@jupyter-widgets/base",
          "model_name": "LayoutModel",
          "state": {
            "_view_name": "LayoutView",
            "grid_template_rows": null,
            "right": null,
            "justify_content": null,
            "_view_module": "@jupyter-widgets/base",
            "overflow": null,
            "_model_module_version": "1.2.0",
            "_view_count": null,
            "flex_flow": null,
            "width": null,
            "min_width": null,
            "border": null,
            "align_items": null,
            "bottom": null,
            "_model_module": "@jupyter-widgets/base",
            "top": null,
            "grid_column": null,
            "overflow_y": null,
            "overflow_x": null,
            "grid_auto_flow": null,
            "grid_area": null,
            "grid_template_columns": null,
            "flex": null,
            "_model_name": "LayoutModel",
            "justify_items": null,
            "grid_row": null,
            "max_height": null,
            "align_content": null,
            "visibility": null,
            "align_self": null,
            "height": null,
            "min_height": null,
            "padding": null,
            "grid_auto_rows": null,
            "grid_gap": null,
            "max_width": null,
            "order": null,
            "_view_module_version": "1.2.0",
            "grid_template_areas": null,
            "object_position": null,
            "object_fit": null,
            "grid_auto_columns": null,
            "margin": null,
            "display": null,
            "left": null
          }
        },
        "2bb6f39dc161490f8f782d2d57a71729": {
          "model_module": "@jupyter-widgets/controls",
          "model_name": "FloatProgressModel",
          "state": {
            "_view_name": "ProgressView",
            "style": "IPY_MODEL_c0b17f884d394cc7965be23c1a46ada7",
            "_dom_classes": [],
            "description": "100%",
            "_model_name": "FloatProgressModel",
            "bar_style": "success",
            "max": 21,
            "_view_module": "@jupyter-widgets/controls",
            "_model_module_version": "1.5.0",
            "value": 21,
            "_view_count": null,
            "_view_module_version": "1.5.0",
            "orientation": "horizontal",
            "min": 0,
            "description_tooltip": null,
            "_model_module": "@jupyter-widgets/controls",
            "layout": "IPY_MODEL_cdb87a2559a944ad83d8969fd3724982"
          }
        },
        "98b5174e265c44b0a9b76ceae403e62e": {
          "model_module": "@jupyter-widgets/controls",
          "model_name": "HTMLModel",
          "state": {
            "_view_name": "HTMLView",
            "style": "IPY_MODEL_bdcde3e9e2fe486197caa0e1c15bf178",
            "_dom_classes": [],
            "description": "",
            "_model_name": "HTMLModel",
            "placeholder": "​",
            "_view_module": "@jupyter-widgets/controls",
            "_model_module_version": "1.5.0",
            "value": " 21/21 [01:47&lt;00:00,  5.12s/it]",
            "_view_count": null,
            "_view_module_version": "1.5.0",
            "description_tooltip": null,
            "_model_module": "@jupyter-widgets/controls",
            "layout": "IPY_MODEL_8a232ffda36745399eaac1ffd267ead5"
          }
        },
        "c0b17f884d394cc7965be23c1a46ada7": {
          "model_module": "@jupyter-widgets/controls",
          "model_name": "ProgressStyleModel",
          "state": {
            "_view_name": "StyleView",
            "_model_name": "ProgressStyleModel",
            "description_width": "initial",
            "_view_module": "@jupyter-widgets/base",
            "_model_module_version": "1.5.0",
            "_view_count": null,
            "_view_module_version": "1.2.0",
            "bar_color": null,
            "_model_module": "@jupyter-widgets/controls"
          }
        },
        "cdb87a2559a944ad83d8969fd3724982": {
          "model_module": "@jupyter-widgets/base",
          "model_name": "LayoutModel",
          "state": {
            "_view_name": "LayoutView",
            "grid_template_rows": null,
            "right": null,
            "justify_content": null,
            "_view_module": "@jupyter-widgets/base",
            "overflow": null,
            "_model_module_version": "1.2.0",
            "_view_count": null,
            "flex_flow": null,
            "width": null,
            "min_width": null,
            "border": null,
            "align_items": null,
            "bottom": null,
            "_model_module": "@jupyter-widgets/base",
            "top": null,
            "grid_column": null,
            "overflow_y": null,
            "overflow_x": null,
            "grid_auto_flow": null,
            "grid_area": null,
            "grid_template_columns": null,
            "flex": null,
            "_model_name": "LayoutModel",
            "justify_items": null,
            "grid_row": null,
            "max_height": null,
            "align_content": null,
            "visibility": null,
            "align_self": null,
            "height": null,
            "min_height": null,
            "padding": null,
            "grid_auto_rows": null,
            "grid_gap": null,
            "max_width": null,
            "order": null,
            "_view_module_version": "1.2.0",
            "grid_template_areas": null,
            "object_position": null,
            "object_fit": null,
            "grid_auto_columns": null,
            "margin": null,
            "display": null,
            "left": null
          }
        },
        "bdcde3e9e2fe486197caa0e1c15bf178": {
          "model_module": "@jupyter-widgets/controls",
          "model_name": "DescriptionStyleModel",
          "state": {
            "_view_name": "StyleView",
            "_model_name": "DescriptionStyleModel",
            "description_width": "",
            "_view_module": "@jupyter-widgets/base",
            "_model_module_version": "1.5.0",
            "_view_count": null,
            "_view_module_version": "1.2.0",
            "_model_module": "@jupyter-widgets/controls"
          }
        },
        "8a232ffda36745399eaac1ffd267ead5": {
          "model_module": "@jupyter-widgets/base",
          "model_name": "LayoutModel",
          "state": {
            "_view_name": "LayoutView",
            "grid_template_rows": null,
            "right": null,
            "justify_content": null,
            "_view_module": "@jupyter-widgets/base",
            "overflow": null,
            "_model_module_version": "1.2.0",
            "_view_count": null,
            "flex_flow": null,
            "width": null,
            "min_width": null,
            "border": null,
            "align_items": null,
            "bottom": null,
            "_model_module": "@jupyter-widgets/base",
            "top": null,
            "grid_column": null,
            "overflow_y": null,
            "overflow_x": null,
            "grid_auto_flow": null,
            "grid_area": null,
            "grid_template_columns": null,
            "flex": null,
            "_model_name": "LayoutModel",
            "justify_items": null,
            "grid_row": null,
            "max_height": null,
            "align_content": null,
            "visibility": null,
            "align_self": null,
            "height": null,
            "min_height": null,
            "padding": null,
            "grid_auto_rows": null,
            "grid_gap": null,
            "max_width": null,
            "order": null,
            "_view_module_version": "1.2.0",
            "grid_template_areas": null,
            "object_position": null,
            "object_fit": null,
            "grid_auto_columns": null,
            "margin": null,
            "display": null,
            "left": null
          }
        },
        "35b841d8a3d6431e950e448bfca1b524": {
          "model_module": "@jupyter-widgets/controls",
          "model_name": "HBoxModel",
          "state": {
            "_view_name": "HBoxView",
            "_dom_classes": [],
            "_model_name": "HBoxModel",
            "_view_module": "@jupyter-widgets/controls",
            "_model_module_version": "1.5.0",
            "_view_count": null,
            "_view_module_version": "1.5.0",
            "box_style": "",
            "layout": "IPY_MODEL_ad021642dc03416b96f7474b9f92f7aa",
            "_model_module": "@jupyter-widgets/controls",
            "children": [
              "IPY_MODEL_ae58c5abb5354660b7e90a64e653d06b",
              "IPY_MODEL_ea9567aeef264ddebbae9e937a7a9949"
            ]
          }
        },
        "ad021642dc03416b96f7474b9f92f7aa": {
          "model_module": "@jupyter-widgets/base",
          "model_name": "LayoutModel",
          "state": {
            "_view_name": "LayoutView",
            "grid_template_rows": null,
            "right": null,
            "justify_content": null,
            "_view_module": "@jupyter-widgets/base",
            "overflow": null,
            "_model_module_version": "1.2.0",
            "_view_count": null,
            "flex_flow": null,
            "width": null,
            "min_width": null,
            "border": null,
            "align_items": null,
            "bottom": null,
            "_model_module": "@jupyter-widgets/base",
            "top": null,
            "grid_column": null,
            "overflow_y": null,
            "overflow_x": null,
            "grid_auto_flow": null,
            "grid_area": null,
            "grid_template_columns": null,
            "flex": null,
            "_model_name": "LayoutModel",
            "justify_items": null,
            "grid_row": null,
            "max_height": null,
            "align_content": null,
            "visibility": null,
            "align_self": null,
            "height": null,
            "min_height": null,
            "padding": null,
            "grid_auto_rows": null,
            "grid_gap": null,
            "max_width": null,
            "order": null,
            "_view_module_version": "1.2.0",
            "grid_template_areas": null,
            "object_position": null,
            "object_fit": null,
            "grid_auto_columns": null,
            "margin": null,
            "display": null,
            "left": null
          }
        },
        "ae58c5abb5354660b7e90a64e653d06b": {
          "model_module": "@jupyter-widgets/controls",
          "model_name": "FloatProgressModel",
          "state": {
            "_view_name": "ProgressView",
            "style": "IPY_MODEL_f33a0fb50f20433abdccd9bcd490a083",
            "_dom_classes": [],
            "description": "100%",
            "_model_name": "FloatProgressModel",
            "bar_style": "success",
            "max": 21,
            "_view_module": "@jupyter-widgets/controls",
            "_model_module_version": "1.5.0",
            "value": 21,
            "_view_count": null,
            "_view_module_version": "1.5.0",
            "orientation": "horizontal",
            "min": 0,
            "description_tooltip": null,
            "_model_module": "@jupyter-widgets/controls",
            "layout": "IPY_MODEL_27440dcd8a0046f8bfa4325d141cb018"
          }
        },
        "ea9567aeef264ddebbae9e937a7a9949": {
          "model_module": "@jupyter-widgets/controls",
          "model_name": "HTMLModel",
          "state": {
            "_view_name": "HTMLView",
            "style": "IPY_MODEL_baac2222b4e04d978be95ea63a796e62",
            "_dom_classes": [],
            "description": "",
            "_model_name": "HTMLModel",
            "placeholder": "​",
            "_view_module": "@jupyter-widgets/controls",
            "_model_module_version": "1.5.0",
            "value": " 21/21 [00:50&lt;00:00,  2.42s/it]",
            "_view_count": null,
            "_view_module_version": "1.5.0",
            "description_tooltip": null,
            "_model_module": "@jupyter-widgets/controls",
            "layout": "IPY_MODEL_78f97dddb7a04973b5c302d8ca1ccd2f"
          }
        },
        "f33a0fb50f20433abdccd9bcd490a083": {
          "model_module": "@jupyter-widgets/controls",
          "model_name": "ProgressStyleModel",
          "state": {
            "_view_name": "StyleView",
            "_model_name": "ProgressStyleModel",
            "description_width": "initial",
            "_view_module": "@jupyter-widgets/base",
            "_model_module_version": "1.5.0",
            "_view_count": null,
            "_view_module_version": "1.2.0",
            "bar_color": null,
            "_model_module": "@jupyter-widgets/controls"
          }
        },
        "27440dcd8a0046f8bfa4325d141cb018": {
          "model_module": "@jupyter-widgets/base",
          "model_name": "LayoutModel",
          "state": {
            "_view_name": "LayoutView",
            "grid_template_rows": null,
            "right": null,
            "justify_content": null,
            "_view_module": "@jupyter-widgets/base",
            "overflow": null,
            "_model_module_version": "1.2.0",
            "_view_count": null,
            "flex_flow": null,
            "width": null,
            "min_width": null,
            "border": null,
            "align_items": null,
            "bottom": null,
            "_model_module": "@jupyter-widgets/base",
            "top": null,
            "grid_column": null,
            "overflow_y": null,
            "overflow_x": null,
            "grid_auto_flow": null,
            "grid_area": null,
            "grid_template_columns": null,
            "flex": null,
            "_model_name": "LayoutModel",
            "justify_items": null,
            "grid_row": null,
            "max_height": null,
            "align_content": null,
            "visibility": null,
            "align_self": null,
            "height": null,
            "min_height": null,
            "padding": null,
            "grid_auto_rows": null,
            "grid_gap": null,
            "max_width": null,
            "order": null,
            "_view_module_version": "1.2.0",
            "grid_template_areas": null,
            "object_position": null,
            "object_fit": null,
            "grid_auto_columns": null,
            "margin": null,
            "display": null,
            "left": null
          }
        },
        "baac2222b4e04d978be95ea63a796e62": {
          "model_module": "@jupyter-widgets/controls",
          "model_name": "DescriptionStyleModel",
          "state": {
            "_view_name": "StyleView",
            "_model_name": "DescriptionStyleModel",
            "description_width": "",
            "_view_module": "@jupyter-widgets/base",
            "_model_module_version": "1.5.0",
            "_view_count": null,
            "_view_module_version": "1.2.0",
            "_model_module": "@jupyter-widgets/controls"
          }
        },
        "78f97dddb7a04973b5c302d8ca1ccd2f": {
          "model_module": "@jupyter-widgets/base",
          "model_name": "LayoutModel",
          "state": {
            "_view_name": "LayoutView",
            "grid_template_rows": null,
            "right": null,
            "justify_content": null,
            "_view_module": "@jupyter-widgets/base",
            "overflow": null,
            "_model_module_version": "1.2.0",
            "_view_count": null,
            "flex_flow": null,
            "width": null,
            "min_width": null,
            "border": null,
            "align_items": null,
            "bottom": null,
            "_model_module": "@jupyter-widgets/base",
            "top": null,
            "grid_column": null,
            "overflow_y": null,
            "overflow_x": null,
            "grid_auto_flow": null,
            "grid_area": null,
            "grid_template_columns": null,
            "flex": null,
            "_model_name": "LayoutModel",
            "justify_items": null,
            "grid_row": null,
            "max_height": null,
            "align_content": null,
            "visibility": null,
            "align_self": null,
            "height": null,
            "min_height": null,
            "padding": null,
            "grid_auto_rows": null,
            "grid_gap": null,
            "max_width": null,
            "order": null,
            "_view_module_version": "1.2.0",
            "grid_template_areas": null,
            "object_position": null,
            "object_fit": null,
            "grid_auto_columns": null,
            "margin": null,
            "display": null,
            "left": null
          }
        },
        "f54e391348d94e5a8559ff2b8744b9b7": {
          "model_module": "@jupyter-widgets/controls",
          "model_name": "HBoxModel",
          "state": {
            "_view_name": "HBoxView",
            "_dom_classes": [],
            "_model_name": "HBoxModel",
            "_view_module": "@jupyter-widgets/controls",
            "_model_module_version": "1.5.0",
            "_view_count": null,
            "_view_module_version": "1.5.0",
            "box_style": "",
            "layout": "IPY_MODEL_5b741b49dce74f91abe5058858fad1cf",
            "_model_module": "@jupyter-widgets/controls",
            "children": [
              "IPY_MODEL_76eb787ae1cc4772962450a49c025af0",
              "IPY_MODEL_40c78c9aa9594d59833985e45b010a52"
            ]
          }
        },
        "5b741b49dce74f91abe5058858fad1cf": {
          "model_module": "@jupyter-widgets/base",
          "model_name": "LayoutModel",
          "state": {
            "_view_name": "LayoutView",
            "grid_template_rows": null,
            "right": null,
            "justify_content": null,
            "_view_module": "@jupyter-widgets/base",
            "overflow": null,
            "_model_module_version": "1.2.0",
            "_view_count": null,
            "flex_flow": null,
            "width": null,
            "min_width": null,
            "border": null,
            "align_items": null,
            "bottom": null,
            "_model_module": "@jupyter-widgets/base",
            "top": null,
            "grid_column": null,
            "overflow_y": null,
            "overflow_x": null,
            "grid_auto_flow": null,
            "grid_area": null,
            "grid_template_columns": null,
            "flex": null,
            "_model_name": "LayoutModel",
            "justify_items": null,
            "grid_row": null,
            "max_height": null,
            "align_content": null,
            "visibility": null,
            "align_self": null,
            "height": null,
            "min_height": null,
            "padding": null,
            "grid_auto_rows": null,
            "grid_gap": null,
            "max_width": null,
            "order": null,
            "_view_module_version": "1.2.0",
            "grid_template_areas": null,
            "object_position": null,
            "object_fit": null,
            "grid_auto_columns": null,
            "margin": null,
            "display": null,
            "left": null
          }
        },
        "76eb787ae1cc4772962450a49c025af0": {
          "model_module": "@jupyter-widgets/controls",
          "model_name": "FloatProgressModel",
          "state": {
            "_view_name": "ProgressView",
            "style": "IPY_MODEL_724a47e3b8af417ba10b9a597a34f388",
            "_dom_classes": [],
            "description": "100%",
            "_model_name": "FloatProgressModel",
            "bar_style": "success",
            "max": 21,
            "_view_module": "@jupyter-widgets/controls",
            "_model_module_version": "1.5.0",
            "value": 21,
            "_view_count": null,
            "_view_module_version": "1.5.0",
            "orientation": "horizontal",
            "min": 0,
            "description_tooltip": null,
            "_model_module": "@jupyter-widgets/controls",
            "layout": "IPY_MODEL_cf318a39eb9f42ccbcb605e54040c54d"
          }
        },
        "40c78c9aa9594d59833985e45b010a52": {
          "model_module": "@jupyter-widgets/controls",
          "model_name": "HTMLModel",
          "state": {
            "_view_name": "HTMLView",
            "style": "IPY_MODEL_ebc279ff58024423ab535b67e010450b",
            "_dom_classes": [],
            "description": "",
            "_model_name": "HTMLModel",
            "placeholder": "​",
            "_view_module": "@jupyter-widgets/controls",
            "_model_module_version": "1.5.0",
            "value": " 21/21 [00:00&lt;00:00, 21.89it/s]",
            "_view_count": null,
            "_view_module_version": "1.5.0",
            "description_tooltip": null,
            "_model_module": "@jupyter-widgets/controls",
            "layout": "IPY_MODEL_8e2d49f3c4fe4039b4d69250f5f30874"
          }
        },
        "724a47e3b8af417ba10b9a597a34f388": {
          "model_module": "@jupyter-widgets/controls",
          "model_name": "ProgressStyleModel",
          "state": {
            "_view_name": "StyleView",
            "_model_name": "ProgressStyleModel",
            "description_width": "initial",
            "_view_module": "@jupyter-widgets/base",
            "_model_module_version": "1.5.0",
            "_view_count": null,
            "_view_module_version": "1.2.0",
            "bar_color": null,
            "_model_module": "@jupyter-widgets/controls"
          }
        },
        "cf318a39eb9f42ccbcb605e54040c54d": {
          "model_module": "@jupyter-widgets/base",
          "model_name": "LayoutModel",
          "state": {
            "_view_name": "LayoutView",
            "grid_template_rows": null,
            "right": null,
            "justify_content": null,
            "_view_module": "@jupyter-widgets/base",
            "overflow": null,
            "_model_module_version": "1.2.0",
            "_view_count": null,
            "flex_flow": null,
            "width": null,
            "min_width": null,
            "border": null,
            "align_items": null,
            "bottom": null,
            "_model_module": "@jupyter-widgets/base",
            "top": null,
            "grid_column": null,
            "overflow_y": null,
            "overflow_x": null,
            "grid_auto_flow": null,
            "grid_area": null,
            "grid_template_columns": null,
            "flex": null,
            "_model_name": "LayoutModel",
            "justify_items": null,
            "grid_row": null,
            "max_height": null,
            "align_content": null,
            "visibility": null,
            "align_self": null,
            "height": null,
            "min_height": null,
            "padding": null,
            "grid_auto_rows": null,
            "grid_gap": null,
            "max_width": null,
            "order": null,
            "_view_module_version": "1.2.0",
            "grid_template_areas": null,
            "object_position": null,
            "object_fit": null,
            "grid_auto_columns": null,
            "margin": null,
            "display": null,
            "left": null
          }
        },
        "ebc279ff58024423ab535b67e010450b": {
          "model_module": "@jupyter-widgets/controls",
          "model_name": "DescriptionStyleModel",
          "state": {
            "_view_name": "StyleView",
            "_model_name": "DescriptionStyleModel",
            "description_width": "",
            "_view_module": "@jupyter-widgets/base",
            "_model_module_version": "1.5.0",
            "_view_count": null,
            "_view_module_version": "1.2.0",
            "_model_module": "@jupyter-widgets/controls"
          }
        },
        "8e2d49f3c4fe4039b4d69250f5f30874": {
          "model_module": "@jupyter-widgets/base",
          "model_name": "LayoutModel",
          "state": {
            "_view_name": "LayoutView",
            "grid_template_rows": null,
            "right": null,
            "justify_content": null,
            "_view_module": "@jupyter-widgets/base",
            "overflow": null,
            "_model_module_version": "1.2.0",
            "_view_count": null,
            "flex_flow": null,
            "width": null,
            "min_width": null,
            "border": null,
            "align_items": null,
            "bottom": null,
            "_model_module": "@jupyter-widgets/base",
            "top": null,
            "grid_column": null,
            "overflow_y": null,
            "overflow_x": null,
            "grid_auto_flow": null,
            "grid_area": null,
            "grid_template_columns": null,
            "flex": null,
            "_model_name": "LayoutModel",
            "justify_items": null,
            "grid_row": null,
            "max_height": null,
            "align_content": null,
            "visibility": null,
            "align_self": null,
            "height": null,
            "min_height": null,
            "padding": null,
            "grid_auto_rows": null,
            "grid_gap": null,
            "max_width": null,
            "order": null,
            "_view_module_version": "1.2.0",
            "grid_template_areas": null,
            "object_position": null,
            "object_fit": null,
            "grid_auto_columns": null,
            "margin": null,
            "display": null,
            "left": null
          }
        },
        "de1d9913e3034af8a5825af7c75eea3b": {
          "model_module": "@jupyter-widgets/controls",
          "model_name": "HBoxModel",
          "state": {
            "_view_name": "HBoxView",
            "_dom_classes": [],
            "_model_name": "HBoxModel",
            "_view_module": "@jupyter-widgets/controls",
            "_model_module_version": "1.5.0",
            "_view_count": null,
            "_view_module_version": "1.5.0",
            "box_style": "",
            "layout": "IPY_MODEL_2d89c79b157a4f9e9f854820302ab3ec",
            "_model_module": "@jupyter-widgets/controls",
            "children": [
              "IPY_MODEL_338a01f97f354bdf987f96abbd130559",
              "IPY_MODEL_3fd04784f34a4e49994983f94f694767"
            ]
          }
        },
        "2d89c79b157a4f9e9f854820302ab3ec": {
          "model_module": "@jupyter-widgets/base",
          "model_name": "LayoutModel",
          "state": {
            "_view_name": "LayoutView",
            "grid_template_rows": null,
            "right": null,
            "justify_content": null,
            "_view_module": "@jupyter-widgets/base",
            "overflow": null,
            "_model_module_version": "1.2.0",
            "_view_count": null,
            "flex_flow": null,
            "width": null,
            "min_width": null,
            "border": null,
            "align_items": null,
            "bottom": null,
            "_model_module": "@jupyter-widgets/base",
            "top": null,
            "grid_column": null,
            "overflow_y": null,
            "overflow_x": null,
            "grid_auto_flow": null,
            "grid_area": null,
            "grid_template_columns": null,
            "flex": null,
            "_model_name": "LayoutModel",
            "justify_items": null,
            "grid_row": null,
            "max_height": null,
            "align_content": null,
            "visibility": null,
            "align_self": null,
            "height": null,
            "min_height": null,
            "padding": null,
            "grid_auto_rows": null,
            "grid_gap": null,
            "max_width": null,
            "order": null,
            "_view_module_version": "1.2.0",
            "grid_template_areas": null,
            "object_position": null,
            "object_fit": null,
            "grid_auto_columns": null,
            "margin": null,
            "display": null,
            "left": null
          }
        },
        "338a01f97f354bdf987f96abbd130559": {
          "model_module": "@jupyter-widgets/controls",
          "model_name": "FloatProgressModel",
          "state": {
            "_view_name": "ProgressView",
            "style": "IPY_MODEL_bf459391668b47629907b7a316c20b90",
            "_dom_classes": [],
            "description": "100%",
            "_model_name": "FloatProgressModel",
            "bar_style": "success",
            "max": 21,
            "_view_module": "@jupyter-widgets/controls",
            "_model_module_version": "1.5.0",
            "value": 21,
            "_view_count": null,
            "_view_module_version": "1.5.0",
            "orientation": "horizontal",
            "min": 0,
            "description_tooltip": null,
            "_model_module": "@jupyter-widgets/controls",
            "layout": "IPY_MODEL_52c37e8d076949d88a9ffc62b3d9b3c6"
          }
        },
        "3fd04784f34a4e49994983f94f694767": {
          "model_module": "@jupyter-widgets/controls",
          "model_name": "HTMLModel",
          "state": {
            "_view_name": "HTMLView",
            "style": "IPY_MODEL_c18d2e03fe904226afe7d012fd1d684e",
            "_dom_classes": [],
            "description": "",
            "_model_name": "HTMLModel",
            "placeholder": "​",
            "_view_module": "@jupyter-widgets/controls",
            "_model_module_version": "1.5.0",
            "value": " 21/21 [00:55&lt;00:00,  2.65s/it]",
            "_view_count": null,
            "_view_module_version": "1.5.0",
            "description_tooltip": null,
            "_model_module": "@jupyter-widgets/controls",
            "layout": "IPY_MODEL_b2abc04c457349f587704c2e0c6e8fc7"
          }
        },
        "bf459391668b47629907b7a316c20b90": {
          "model_module": "@jupyter-widgets/controls",
          "model_name": "ProgressStyleModel",
          "state": {
            "_view_name": "StyleView",
            "_model_name": "ProgressStyleModel",
            "description_width": "initial",
            "_view_module": "@jupyter-widgets/base",
            "_model_module_version": "1.5.0",
            "_view_count": null,
            "_view_module_version": "1.2.0",
            "bar_color": null,
            "_model_module": "@jupyter-widgets/controls"
          }
        },
        "52c37e8d076949d88a9ffc62b3d9b3c6": {
          "model_module": "@jupyter-widgets/base",
          "model_name": "LayoutModel",
          "state": {
            "_view_name": "LayoutView",
            "grid_template_rows": null,
            "right": null,
            "justify_content": null,
            "_view_module": "@jupyter-widgets/base",
            "overflow": null,
            "_model_module_version": "1.2.0",
            "_view_count": null,
            "flex_flow": null,
            "width": null,
            "min_width": null,
            "border": null,
            "align_items": null,
            "bottom": null,
            "_model_module": "@jupyter-widgets/base",
            "top": null,
            "grid_column": null,
            "overflow_y": null,
            "overflow_x": null,
            "grid_auto_flow": null,
            "grid_area": null,
            "grid_template_columns": null,
            "flex": null,
            "_model_name": "LayoutModel",
            "justify_items": null,
            "grid_row": null,
            "max_height": null,
            "align_content": null,
            "visibility": null,
            "align_self": null,
            "height": null,
            "min_height": null,
            "padding": null,
            "grid_auto_rows": null,
            "grid_gap": null,
            "max_width": null,
            "order": null,
            "_view_module_version": "1.2.0",
            "grid_template_areas": null,
            "object_position": null,
            "object_fit": null,
            "grid_auto_columns": null,
            "margin": null,
            "display": null,
            "left": null
          }
        },
        "c18d2e03fe904226afe7d012fd1d684e": {
          "model_module": "@jupyter-widgets/controls",
          "model_name": "DescriptionStyleModel",
          "state": {
            "_view_name": "StyleView",
            "_model_name": "DescriptionStyleModel",
            "description_width": "",
            "_view_module": "@jupyter-widgets/base",
            "_model_module_version": "1.5.0",
            "_view_count": null,
            "_view_module_version": "1.2.0",
            "_model_module": "@jupyter-widgets/controls"
          }
        },
        "b2abc04c457349f587704c2e0c6e8fc7": {
          "model_module": "@jupyter-widgets/base",
          "model_name": "LayoutModel",
          "state": {
            "_view_name": "LayoutView",
            "grid_template_rows": null,
            "right": null,
            "justify_content": null,
            "_view_module": "@jupyter-widgets/base",
            "overflow": null,
            "_model_module_version": "1.2.0",
            "_view_count": null,
            "flex_flow": null,
            "width": null,
            "min_width": null,
            "border": null,
            "align_items": null,
            "bottom": null,
            "_model_module": "@jupyter-widgets/base",
            "top": null,
            "grid_column": null,
            "overflow_y": null,
            "overflow_x": null,
            "grid_auto_flow": null,
            "grid_area": null,
            "grid_template_columns": null,
            "flex": null,
            "_model_name": "LayoutModel",
            "justify_items": null,
            "grid_row": null,
            "max_height": null,
            "align_content": null,
            "visibility": null,
            "align_self": null,
            "height": null,
            "min_height": null,
            "padding": null,
            "grid_auto_rows": null,
            "grid_gap": null,
            "max_width": null,
            "order": null,
            "_view_module_version": "1.2.0",
            "grid_template_areas": null,
            "object_position": null,
            "object_fit": null,
            "grid_auto_columns": null,
            "margin": null,
            "display": null,
            "left": null
          }
        },
        "7e22900431bb4b1ca8fbdc87ba93ba1c": {
          "model_module": "@jupyter-widgets/controls",
          "model_name": "HBoxModel",
          "state": {
            "_view_name": "HBoxView",
            "_dom_classes": [],
            "_model_name": "HBoxModel",
            "_view_module": "@jupyter-widgets/controls",
            "_model_module_version": "1.5.0",
            "_view_count": null,
            "_view_module_version": "1.5.0",
            "box_style": "",
            "layout": "IPY_MODEL_63d8883b108b49d2a6afd0f5b893f70a",
            "_model_module": "@jupyter-widgets/controls",
            "children": [
              "IPY_MODEL_76ecb8a6a3924c11a7bf43d30d958550",
              "IPY_MODEL_95577652bb5040d9bba721e55f79a2c4"
            ]
          }
        },
        "63d8883b108b49d2a6afd0f5b893f70a": {
          "model_module": "@jupyter-widgets/base",
          "model_name": "LayoutModel",
          "state": {
            "_view_name": "LayoutView",
            "grid_template_rows": null,
            "right": null,
            "justify_content": null,
            "_view_module": "@jupyter-widgets/base",
            "overflow": null,
            "_model_module_version": "1.2.0",
            "_view_count": null,
            "flex_flow": null,
            "width": null,
            "min_width": null,
            "border": null,
            "align_items": null,
            "bottom": null,
            "_model_module": "@jupyter-widgets/base",
            "top": null,
            "grid_column": null,
            "overflow_y": null,
            "overflow_x": null,
            "grid_auto_flow": null,
            "grid_area": null,
            "grid_template_columns": null,
            "flex": null,
            "_model_name": "LayoutModel",
            "justify_items": null,
            "grid_row": null,
            "max_height": null,
            "align_content": null,
            "visibility": null,
            "align_self": null,
            "height": null,
            "min_height": null,
            "padding": null,
            "grid_auto_rows": null,
            "grid_gap": null,
            "max_width": null,
            "order": null,
            "_view_module_version": "1.2.0",
            "grid_template_areas": null,
            "object_position": null,
            "object_fit": null,
            "grid_auto_columns": null,
            "margin": null,
            "display": null,
            "left": null
          }
        },
        "76ecb8a6a3924c11a7bf43d30d958550": {
          "model_module": "@jupyter-widgets/controls",
          "model_name": "FloatProgressModel",
          "state": {
            "_view_name": "ProgressView",
            "style": "IPY_MODEL_b30cd4cd966246fe889f91f5ee0225a6",
            "_dom_classes": [],
            "description": "100%",
            "_model_name": "FloatProgressModel",
            "bar_style": "success",
            "max": 21,
            "_view_module": "@jupyter-widgets/controls",
            "_model_module_version": "1.5.0",
            "value": 21,
            "_view_count": null,
            "_view_module_version": "1.5.0",
            "orientation": "horizontal",
            "min": 0,
            "description_tooltip": null,
            "_model_module": "@jupyter-widgets/controls",
            "layout": "IPY_MODEL_7451ea87024a45f1848a75103037c335"
          }
        },
        "95577652bb5040d9bba721e55f79a2c4": {
          "model_module": "@jupyter-widgets/controls",
          "model_name": "HTMLModel",
          "state": {
            "_view_name": "HTMLView",
            "style": "IPY_MODEL_0bef0940eaf14a0291d675dbccc4ca6a",
            "_dom_classes": [],
            "description": "",
            "_model_name": "HTMLModel",
            "placeholder": "​",
            "_view_module": "@jupyter-widgets/controls",
            "_model_module_version": "1.5.0",
            "value": " 21/21 [00:00&lt;00:00, 21.88it/s]",
            "_view_count": null,
            "_view_module_version": "1.5.0",
            "description_tooltip": null,
            "_model_module": "@jupyter-widgets/controls",
            "layout": "IPY_MODEL_890af2880c7042a6af0a7ec056fbebbc"
          }
        },
        "b30cd4cd966246fe889f91f5ee0225a6": {
          "model_module": "@jupyter-widgets/controls",
          "model_name": "ProgressStyleModel",
          "state": {
            "_view_name": "StyleView",
            "_model_name": "ProgressStyleModel",
            "description_width": "initial",
            "_view_module": "@jupyter-widgets/base",
            "_model_module_version": "1.5.0",
            "_view_count": null,
            "_view_module_version": "1.2.0",
            "bar_color": null,
            "_model_module": "@jupyter-widgets/controls"
          }
        },
        "7451ea87024a45f1848a75103037c335": {
          "model_module": "@jupyter-widgets/base",
          "model_name": "LayoutModel",
          "state": {
            "_view_name": "LayoutView",
            "grid_template_rows": null,
            "right": null,
            "justify_content": null,
            "_view_module": "@jupyter-widgets/base",
            "overflow": null,
            "_model_module_version": "1.2.0",
            "_view_count": null,
            "flex_flow": null,
            "width": null,
            "min_width": null,
            "border": null,
            "align_items": null,
            "bottom": null,
            "_model_module": "@jupyter-widgets/base",
            "top": null,
            "grid_column": null,
            "overflow_y": null,
            "overflow_x": null,
            "grid_auto_flow": null,
            "grid_area": null,
            "grid_template_columns": null,
            "flex": null,
            "_model_name": "LayoutModel",
            "justify_items": null,
            "grid_row": null,
            "max_height": null,
            "align_content": null,
            "visibility": null,
            "align_self": null,
            "height": null,
            "min_height": null,
            "padding": null,
            "grid_auto_rows": null,
            "grid_gap": null,
            "max_width": null,
            "order": null,
            "_view_module_version": "1.2.0",
            "grid_template_areas": null,
            "object_position": null,
            "object_fit": null,
            "grid_auto_columns": null,
            "margin": null,
            "display": null,
            "left": null
          }
        },
        "0bef0940eaf14a0291d675dbccc4ca6a": {
          "model_module": "@jupyter-widgets/controls",
          "model_name": "DescriptionStyleModel",
          "state": {
            "_view_name": "StyleView",
            "_model_name": "DescriptionStyleModel",
            "description_width": "",
            "_view_module": "@jupyter-widgets/base",
            "_model_module_version": "1.5.0",
            "_view_count": null,
            "_view_module_version": "1.2.0",
            "_model_module": "@jupyter-widgets/controls"
          }
        },
        "890af2880c7042a6af0a7ec056fbebbc": {
          "model_module": "@jupyter-widgets/base",
          "model_name": "LayoutModel",
          "state": {
            "_view_name": "LayoutView",
            "grid_template_rows": null,
            "right": null,
            "justify_content": null,
            "_view_module": "@jupyter-widgets/base",
            "overflow": null,
            "_model_module_version": "1.2.0",
            "_view_count": null,
            "flex_flow": null,
            "width": null,
            "min_width": null,
            "border": null,
            "align_items": null,
            "bottom": null,
            "_model_module": "@jupyter-widgets/base",
            "top": null,
            "grid_column": null,
            "overflow_y": null,
            "overflow_x": null,
            "grid_auto_flow": null,
            "grid_area": null,
            "grid_template_columns": null,
            "flex": null,
            "_model_name": "LayoutModel",
            "justify_items": null,
            "grid_row": null,
            "max_height": null,
            "align_content": null,
            "visibility": null,
            "align_self": null,
            "height": null,
            "min_height": null,
            "padding": null,
            "grid_auto_rows": null,
            "grid_gap": null,
            "max_width": null,
            "order": null,
            "_view_module_version": "1.2.0",
            "grid_template_areas": null,
            "object_position": null,
            "object_fit": null,
            "grid_auto_columns": null,
            "margin": null,
            "display": null,
            "left": null
          }
        },
        "b505b462435548588b1869adf5089ad2": {
          "model_module": "@jupyter-widgets/controls",
          "model_name": "HBoxModel",
          "state": {
            "_view_name": "HBoxView",
            "_dom_classes": [],
            "_model_name": "HBoxModel",
            "_view_module": "@jupyter-widgets/controls",
            "_model_module_version": "1.5.0",
            "_view_count": null,
            "_view_module_version": "1.5.0",
            "box_style": "",
            "layout": "IPY_MODEL_2b48f26e58c54fdf8a59ca9d15099546",
            "_model_module": "@jupyter-widgets/controls",
            "children": [
              "IPY_MODEL_e64811a611b14c4abb836c9df1be8856",
              "IPY_MODEL_11e135e4e91f428fa923ed834212602e"
            ]
          }
        },
        "2b48f26e58c54fdf8a59ca9d15099546": {
          "model_module": "@jupyter-widgets/base",
          "model_name": "LayoutModel",
          "state": {
            "_view_name": "LayoutView",
            "grid_template_rows": null,
            "right": null,
            "justify_content": null,
            "_view_module": "@jupyter-widgets/base",
            "overflow": null,
            "_model_module_version": "1.2.0",
            "_view_count": null,
            "flex_flow": null,
            "width": null,
            "min_width": null,
            "border": null,
            "align_items": null,
            "bottom": null,
            "_model_module": "@jupyter-widgets/base",
            "top": null,
            "grid_column": null,
            "overflow_y": null,
            "overflow_x": null,
            "grid_auto_flow": null,
            "grid_area": null,
            "grid_template_columns": null,
            "flex": null,
            "_model_name": "LayoutModel",
            "justify_items": null,
            "grid_row": null,
            "max_height": null,
            "align_content": null,
            "visibility": null,
            "align_self": null,
            "height": null,
            "min_height": null,
            "padding": null,
            "grid_auto_rows": null,
            "grid_gap": null,
            "max_width": null,
            "order": null,
            "_view_module_version": "1.2.0",
            "grid_template_areas": null,
            "object_position": null,
            "object_fit": null,
            "grid_auto_columns": null,
            "margin": null,
            "display": null,
            "left": null
          }
        },
        "e64811a611b14c4abb836c9df1be8856": {
          "model_module": "@jupyter-widgets/controls",
          "model_name": "FloatProgressModel",
          "state": {
            "_view_name": "ProgressView",
            "style": "IPY_MODEL_2c72dabb69a64f7990072d37f2dbda50",
            "_dom_classes": [],
            "description": "100%",
            "_model_name": "FloatProgressModel",
            "bar_style": "success",
            "max": 21,
            "_view_module": "@jupyter-widgets/controls",
            "_model_module_version": "1.5.0",
            "value": 21,
            "_view_count": null,
            "_view_module_version": "1.5.0",
            "orientation": "horizontal",
            "min": 0,
            "description_tooltip": null,
            "_model_module": "@jupyter-widgets/controls",
            "layout": "IPY_MODEL_64743af54a8a44bbb102b78df349ecea"
          }
        },
        "11e135e4e91f428fa923ed834212602e": {
          "model_module": "@jupyter-widgets/controls",
          "model_name": "HTMLModel",
          "state": {
            "_view_name": "HTMLView",
            "style": "IPY_MODEL_c3e6b6be593749d0a7d7fc275037bcfd",
            "_dom_classes": [],
            "description": "",
            "_model_name": "HTMLModel",
            "placeholder": "​",
            "_view_module": "@jupyter-widgets/controls",
            "_model_module_version": "1.5.0",
            "value": " 21/21 [01:47&lt;00:00,  5.13s/it]",
            "_view_count": null,
            "_view_module_version": "1.5.0",
            "description_tooltip": null,
            "_model_module": "@jupyter-widgets/controls",
            "layout": "IPY_MODEL_05281aa9e12145a78d9bcd3b5296ae01"
          }
        },
        "2c72dabb69a64f7990072d37f2dbda50": {
          "model_module": "@jupyter-widgets/controls",
          "model_name": "ProgressStyleModel",
          "state": {
            "_view_name": "StyleView",
            "_model_name": "ProgressStyleModel",
            "description_width": "initial",
            "_view_module": "@jupyter-widgets/base",
            "_model_module_version": "1.5.0",
            "_view_count": null,
            "_view_module_version": "1.2.0",
            "bar_color": null,
            "_model_module": "@jupyter-widgets/controls"
          }
        },
        "64743af54a8a44bbb102b78df349ecea": {
          "model_module": "@jupyter-widgets/base",
          "model_name": "LayoutModel",
          "state": {
            "_view_name": "LayoutView",
            "grid_template_rows": null,
            "right": null,
            "justify_content": null,
            "_view_module": "@jupyter-widgets/base",
            "overflow": null,
            "_model_module_version": "1.2.0",
            "_view_count": null,
            "flex_flow": null,
            "width": null,
            "min_width": null,
            "border": null,
            "align_items": null,
            "bottom": null,
            "_model_module": "@jupyter-widgets/base",
            "top": null,
            "grid_column": null,
            "overflow_y": null,
            "overflow_x": null,
            "grid_auto_flow": null,
            "grid_area": null,
            "grid_template_columns": null,
            "flex": null,
            "_model_name": "LayoutModel",
            "justify_items": null,
            "grid_row": null,
            "max_height": null,
            "align_content": null,
            "visibility": null,
            "align_self": null,
            "height": null,
            "min_height": null,
            "padding": null,
            "grid_auto_rows": null,
            "grid_gap": null,
            "max_width": null,
            "order": null,
            "_view_module_version": "1.2.0",
            "grid_template_areas": null,
            "object_position": null,
            "object_fit": null,
            "grid_auto_columns": null,
            "margin": null,
            "display": null,
            "left": null
          }
        },
        "c3e6b6be593749d0a7d7fc275037bcfd": {
          "model_module": "@jupyter-widgets/controls",
          "model_name": "DescriptionStyleModel",
          "state": {
            "_view_name": "StyleView",
            "_model_name": "DescriptionStyleModel",
            "description_width": "",
            "_view_module": "@jupyter-widgets/base",
            "_model_module_version": "1.5.0",
            "_view_count": null,
            "_view_module_version": "1.2.0",
            "_model_module": "@jupyter-widgets/controls"
          }
        },
        "05281aa9e12145a78d9bcd3b5296ae01": {
          "model_module": "@jupyter-widgets/base",
          "model_name": "LayoutModel",
          "state": {
            "_view_name": "LayoutView",
            "grid_template_rows": null,
            "right": null,
            "justify_content": null,
            "_view_module": "@jupyter-widgets/base",
            "overflow": null,
            "_model_module_version": "1.2.0",
            "_view_count": null,
            "flex_flow": null,
            "width": null,
            "min_width": null,
            "border": null,
            "align_items": null,
            "bottom": null,
            "_model_module": "@jupyter-widgets/base",
            "top": null,
            "grid_column": null,
            "overflow_y": null,
            "overflow_x": null,
            "grid_auto_flow": null,
            "grid_area": null,
            "grid_template_columns": null,
            "flex": null,
            "_model_name": "LayoutModel",
            "justify_items": null,
            "grid_row": null,
            "max_height": null,
            "align_content": null,
            "visibility": null,
            "align_self": null,
            "height": null,
            "min_height": null,
            "padding": null,
            "grid_auto_rows": null,
            "grid_gap": null,
            "max_width": null,
            "order": null,
            "_view_module_version": "1.2.0",
            "grid_template_areas": null,
            "object_position": null,
            "object_fit": null,
            "grid_auto_columns": null,
            "margin": null,
            "display": null,
            "left": null
          }
        }
      }
    }
  },
  "cells": [
    {
      "cell_type": "markdown",
      "metadata": {
        "id": "LSOrNNbGedJB"
      },
      "source": [
        "#ISMRM Member Initiated Tutorial - Cardiac MR\n",
        "##Physics coding challenge\n",
        "\n",
        "Authors: Maša Božić, Chiara Coletti, Sebastian Weingärtner (*TU Delft, Delft, The Netherlands*)\n",
        "\n",
        "---\n",
        "\n",
        "\n"
      ]
    },
    {
      "cell_type": "markdown",
      "metadata": {
        "id": "FA2FEcFigF4E"
      },
      "source": [
        "This notebook contains a simple MRI simulator which can be used to define a custom pulse sequence and simulate an image acquisition on a phantom.\n",
        "\n",
        "During this tutorial we will simulate a spoiled GRE sequence on a cardiac phantom and we will observe the effects of blood flow. \n",
        "\n",
        "**Some remarks**: the simulation does not take into account off-resonance effects nor relaxation contribution. \n"
      ]
    },
    {
      "cell_type": "markdown",
      "metadata": {
        "id": "kuNFgJpV6S33"
      },
      "source": [
        "!------------------------- DO NOT MODIFY THIS SECTION -------------------------!\n",
        "# Simulator \n",
        "This section contains the functions and classes needed to run  the simulation.\n",
        "*You should not modify these classes and functions to implement your solution.*"
      ]
    },
    {
      "cell_type": "markdown",
      "metadata": {
        "id": "064ZMWx2zjoN"
      },
      "source": [
        "## Utilities\n",
        "Some code cells to import necessary libraries, define auxiliary functions and the visualization function `plotMulti` which allows to display and compare multiple images in a single figure."
      ]
    },
    {
      "cell_type": "code",
      "metadata": {
        "id": "o_WIiFvKigdu"
      },
      "source": [
        "# Imports\n",
        "import numpy as np\n",
        "import matplotlib.pyplot as plt\n",
        "from tqdm.notebook import tqdm\n",
        "from skimage.transform import resize, rescale\n",
        "import scipy\n",
        "import copy"
      ],
      "execution_count": null,
      "outputs": []
    },
    {
      "cell_type": "code",
      "metadata": {
        "id": "C_Bt01Xl9QPD"
      },
      "source": [
        "# Rotation functions along cardinal axes\n",
        "# Input:\n",
        "#   alpha: rotation angle [radians] \n",
        "# Output:\n",
        "#   R: rotation matrix\n",
        "def rotX(alpha):\n",
        "  R = np.array([[1, 0, 0], [0, np.cos(alpha), np.sin(alpha)], [0, -np.sin(alpha), np.cos(alpha)]])\n",
        "  return R\n",
        "\n",
        "def rotY(alpha):\n",
        "  R = np.array([[np.cos(alpha), 0, -np.sin(alpha)], [0, 1, 0], [np.sin(alpha), 0, np.cos(alpha)]])\n",
        "  return R\n",
        "\n",
        "def rotZ(alpha):\n",
        "  R = np.array([[np.cos(alpha), np.sin(alpha), 0], [-np.sin(alpha), np.cos(alpha), 0], [0, 0, 1]])\n",
        "  return R\n"
      ],
      "execution_count": null,
      "outputs": []
    },
    {
      "cell_type": "code",
      "metadata": {
        "id": "zH4SKlzqQEcW"
      },
      "source": [
        "# Visualization function to compare 3 images\n",
        "# Input:\n",
        "#   imgs [img1, img2, img3]:        Input images\n",
        "#   [title1, title2, title3]:  Respective titles\n",
        "def plotMulti(imgs, titles):\n",
        "\n",
        "  # Number of subplots\n",
        "  n = len(imgs)\n",
        "\n",
        "  # Plot\n",
        "  plt.figure(figsize = [15, 5])\n",
        "\n",
        "  for i in range(len(imgs)):\n",
        "    plt.subplot(1, n, i + 1)\n",
        "    plt.imshow(imgs[i], cmap='gray')\n",
        "    plt.axis('off')\n",
        "    plt.title(titles[i])\n",
        "  \n",
        "  plt.plot()"
      ],
      "execution_count": null,
      "outputs": []
    },
    {
      "cell_type": "markdown",
      "metadata": {
        "id": "x-byLkmsw1-5"
      },
      "source": [
        "## Phantom\n",
        "Numerical cardiac phantom in short axis view"
      ]
    },
    {
      "cell_type": "code",
      "metadata": {
        "id": "cVPJoKvvZxMI"
      },
      "source": [
        "# Read in phantom as a matrix\n",
        "val = '0 0 0 0 0 0 0 0 0 0 0 0 0 0 0 0 0 0 0 0 0 0 0 0 0 0 0 0 0 0 0 0 0 0 0 0 0 0 0 0 0 3 3 3 3 3 3 3 3 3 0 0 0 0 0 0 0 0 0 0 0 0 0 0 0 0 0 0 0 0 0 0 0 0 0 0 0 0 0 0 0 0 0 0 0 0 0 0 0 0 0 0 0 0 0 0 0 0 0 0 0 0 0 0 0 0 0 0 0 0 0 0 0 0 0 0 0 0 0 0 0 0 0 0 0 0 0 0 0 0 0 0 0 0 0 0 0 0 0 0 0 0 0 0 0 0 0 0 0 0;0 0 0 0 0 0 0 0 0 0 0 0 0 0 0 0 0 0 0 0 0 0 0 0 0 0 0 0 0 0 0 0 0 0 0 0 0 0 0 0 0 3 3 3 3 3 3 3 3 0 0 0 0 0 0 0 0 0 0 0 0 0 0 0 0 0 0 0 0 0 0 0 0 0 0 0 0 0 0 0 0 0 0 0 0 0 0 0 0 0 0 0 0 0 0 0 0 0 0 0 0 0 0 0 0 0 0 0 0 0 0 0 0 0 0 0 0 0 0 0 0 0 0 0 0 0 0 0 0 0 0 0 0 0 0 0 0 0 0 0 0 0 0 0 0 0 0 0 0 0;0 0 0 0 0 0 0 0 0 0 0 0 0 0 0 0 0 0 0 0 0 0 0 0 0 0 0 0 0 0 0 0 0 0 0 0 0 0 0 0 3 3 3 3 3 3 3 3 3 0 0 0 0 0 0 0 0 0 0 0 0 0 0 0 0 0 0 0 0 0 0 0 0 0 0 0 0 0 0 0 0 0 0 0 0 0 0 0 0 0 0 0 0 0 0 0 0 0 0 0 0 0 0 0 0 0 0 0 0 0 0 0 0 0 0 0 0 0 0 0 0 0 0 0 0 0 0 0 0 0 0 0 0 0 0 0 0 0 0 0 0 0 0 0 0 0 0 0 0 0;0 0 0 0 0 0 0 0 0 0 0 0 0 0 0 0 0 0 0 0 0 0 0 0 0 0 0 0 0 0 0 0 0 0 0 0 0 0 0 0 3 3 3 3 3 3 3 3 3 0 0 0 0 0 0 0 0 0 0 0 0 0 0 0 0 0 0 0 0 0 0 0 0 0 0 0 0 0 0 0 0 0 0 0 0 0 0 0 0 0 0 0 0 0 0 0 0 0 0 0 0 0 0 0 0 0 0 0 0 0 0 0 0 0 0 0 0 0 0 0 0 0 0 0 0 0 0 0 0 0 0 0 0 0 0 0 0 0 0 0 0 0 0 0 0 0 0 0 0 0;0 0 0 0 0 0 0 0 0 0 0 0 0 0 0 0 0 0 0 0 0 0 0 0 0 0 0 0 0 0 0 0 0 0 0 0 0 0 0 0 3 3 3 3 3 3 3 3 0 0 0 0 0 0 0 0 0 0 0 0 0 0 0 0 0 0 0 0 0 0 0 0 0 0 0 0 0 0 0 0 0 0 0 0 0 0 0 0 0 0 0 0 0 0 0 0 0 0 0 0 0 0 0 0 0 0 0 0 0 0 0 0 0 0 0 0 0 0 0 0 0 0 0 0 0 0 0 0 0 0 0 0 0 0 0 0 0 0 0 0 0 0 0 0 0 0 0 0 0 0;0 0 0 0 0 0 0 0 0 0 0 0 0 0 0 0 0 0 0 0 0 0 0 0 0 0 0 0 0 0 0 0 0 0 0 0 0 0 0 3 3 3 3 3 3 3 3 3 0 0 0 0 0 0 0 0 0 0 0 0 0 0 0 0 0 0 0 0 0 0 0 0 0 0 0 0 0 0 0 0 0 0 0 0 0 0 0 0 0 0 0 0 0 0 0 0 0 0 0 0 0 0 0 0 0 0 0 0 0 0 0 0 0 0 0 0 0 0 0 0 0 0 0 0 0 0 0 0 0 0 0 0 0 0 0 0 0 0 0 0 0 0 0 0 0 0 0 0 0 0;0 0 0 0 0 0 0 0 0 0 0 0 0 0 0 0 0 0 0 0 0 0 0 0 0 0 0 0 0 0 0 0 0 0 0 0 0 0 0 3 3 3 3 3 3 3 3 3 0 0 0 0 0 0 0 0 0 0 0 0 0 0 0 0 0 0 0 0 0 0 0 0 0 0 0 0 0 0 0 0 0 0 0 0 0 0 0 0 0 0 0 0 0 0 0 0 0 0 0 0 0 0 0 0 0 0 0 0 0 0 0 0 0 0 0 0 0 0 0 0 0 0 0 0 0 0 0 0 0 0 0 0 0 0 0 0 0 0 0 0 0 0 0 0 0 0 0 0 0 0;0 0 0 0 0 0 0 0 0 0 0 0 0 0 0 0 0 0 0 0 0 0 0 0 0 0 0 0 0 0 0 0 0 0 0 0 0 0 0 3 3 3 3 3 3 3 3 3 0 0 0 0 0 0 0 0 0 0 0 0 0 0 0 0 0 0 0 0 0 0 0 0 0 0 0 0 0 0 0 0 0 0 0 0 0 0 0 0 0 0 0 0 0 0 0 0 0 0 0 0 0 0 0 0 0 0 0 0 0 0 0 0 0 0 0 0 0 0 0 0 0 0 0 0 0 0 0 0 0 0 0 0 0 0 0 0 0 0 0 0 0 0 0 0 0 0 0 0 0 0;0 0 0 0 0 0 0 0 0 0 0 0 0 0 0 0 0 0 0 0 0 0 0 0 0 0 0 0 0 0 0 0 0 0 0 0 0 0 0 3 3 3 3 3 3 3 3 0 0 0 0 0 0 0 0 0 0 0 0 0 0 0 0 0 0 0 0 0 0 0 0 0 0 0 0 0 0 0 0 0 0 0 0 0 0 0 0 0 0 0 0 0 0 0 0 0 0 0 0 0 0 0 0 0 0 0 0 0 0 0 0 0 0 0 0 0 0 0 0 0 0 0 0 0 0 0 0 0 0 0 0 0 0 0 0 0 0 0 0 0 0 0 0 0 0 0 0 0 0 0;0 0 0 0 0 0 0 0 0 0 0 0 0 0 0 0 0 0 0 0 0 0 0 0 0 0 0 0 0 0 0 0 0 0 0 0 0 0 3 3 3 3 3 3 3 3 3 0 0 0 0 0 0 0 0 0 0 0 0 0 0 0 0 0 0 0 0 0 0 0 0 0 0 0 0 0 0 0 0 0 0 0 0 0 0 0 0 0 0 0 0 0 0 0 0 0 0 0 0 0 0 0 0 0 0 0 0 0 0 0 0 0 0 0 0 0 0 0 0 0 0 0 0 0 0 0 0 0 0 0 0 0 0 0 0 0 0 0 0 0 0 0 0 0 0 0 0 0 0 0;0 0 0 0 0 0 0 0 0 0 0 0 0 0 0 0 0 0 0 0 0 0 0 0 0 0 0 0 0 0 0 0 0 0 0 0 0 0 3 3 3 3 3 3 3 3 3 0 0 0 0 0 0 0 0 0 0 0 0 0 0 0 0 0 0 0 0 0 0 0 0 0 0 0 0 0 0 0 0 0 0 0 0 0 0 0 0 0 0 0 0 0 0 0 0 0 0 0 0 0 0 0 0 0 0 0 0 0 0 0 0 0 0 0 0 0 0 0 0 0 0 0 0 0 0 0 0 0 0 0 0 0 0 0 0 0 0 0 0 0 0 0 0 0 0 0 0 0 0 0;0 0 0 0 0 0 0 0 0 0 0 0 0 0 0 0 0 0 0 0 0 0 0 0 0 0 0 0 0 0 0 0 0 0 0 0 0 0 3 3 3 3 3 3 3 3 0 0 0 0 0 0 0 0 0 0 0 0 0 0 0 0 0 0 0 0 0 0 0 0 0 0 0 0 0 0 0 0 0 0 0 0 0 0 0 0 0 0 0 0 0 0 0 0 0 0 0 0 0 0 0 0 0 0 0 0 0 0 0 0 0 0 0 0 0 0 0 0 0 0 0 0 0 0 0 0 0 0 0 0 0 0 0 0 0 0 0 0 0 0 0 0 0 0 0 0 0 0 0 0;0 0 0 0 0 0 0 0 0 0 0 0 0 0 0 0 0 0 0 0 0 0 0 0 0 0 0 0 0 0 0 0 0 0 0 0 0 3 3 3 3 3 3 3 3 3 0 0 0 0 0 0 0 0 0 0 0 0 0 0 0 0 0 0 0 0 0 0 0 0 0 0 0 0 0 0 0 0 0 0 0 0 0 0 0 0 0 0 0 0 0 0 0 0 0 0 0 0 0 0 0 0 0 0 0 0 0 0 0 0 0 0 0 0 0 0 0 0 0 0 0 0 0 0 0 0 0 0 0 0 0 0 0 0 0 0 0 0 0 0 0 0 0 0 0 0 0 0 0 0;0 0 0 0 0 0 0 0 0 0 0 0 0 0 0 0 0 0 0 0 0 0 0 0 0 0 0 0 0 0 0 0 0 0 0 0 0 3 3 3 3 3 3 3 3 3 0 0 0 0 0 0 0 0 0 0 0 0 0 0 0 0 0 0 0 0 0 0 0 0 0 0 0 0 0 0 0 0 0 0 0 0 0 0 0 0 0 0 0 0 0 0 0 0 0 0 0 0 0 0 0 0 0 0 0 0 0 0 0 0 0 0 0 0 0 0 0 0 0 0 0 0 0 0 0 0 0 0 0 0 0 0 0 0 0 0 0 0 0 0 0 0 0 0 0 0 0 0 0 0;0 0 0 0 0 0 0 0 0 0 0 0 0 0 0 0 0 0 0 0 0 0 0 0 0 0 0 0 0 0 0 0 0 0 0 0 0 3 3 3 3 3 3 3 3 0 0 0 0 0 0 0 0 0 0 0 0 0 0 0 0 0 0 0 0 0 0 0 0 0 0 0 0 0 0 0 0 0 0 0 0 0 0 0 0 0 0 0 0 0 0 0 0 0 0 0 0 0 0 0 0 0 0 0 0 0 0 0 0 0 0 0 0 0 0 0 0 0 0 0 0 0 0 0 0 0 0 0 0 0 0 0 0 0 0 0 0 0 0 0 0 0 0 0 0 0 0 0 0 0;0 0 0 0 0 0 0 0 0 0 0 0 0 0 0 0 0 0 0 0 0 0 0 0 0 0 0 0 0 0 0 0 0 0 0 0 0 3 3 3 3 3 3 3 3 0 0 0 0 0 0 0 0 0 0 0 0 0 0 0 0 0 0 0 0 0 0 0 0 0 0 0 0 0 0 0 0 0 0 0 0 0 0 0 0 0 0 0 0 0 0 0 0 0 0 0 0 0 0 0 0 0 0 0 0 0 0 0 0 0 0 0 0 0 0 0 0 0 0 0 0 0 0 0 0 0 0 0 0 0 0 0 0 0 0 0 0 0 0 0 0 0 0 0 0 0 0 0 0 0;0 0 0 0 0 0 0 0 0 0 0 0 0 0 0 0 0 0 0 0 0 0 0 0 0 0 0 0 0 0 0 0 0 0 0 0 3 3 3 3 3 3 3 3 3 0 0 0 0 0 0 0 0 0 0 0 0 0 0 0 0 0 0 0 0 0 0 0 0 0 0 0 0 0 0 0 0 0 0 0 0 0 0 0 0 0 0 0 0 0 0 0 0 0 0 0 0 0 0 0 0 0 0 0 0 0 0 0 0 0 0 0 0 0 0 0 0 0 0 0 0 0 0 0 0 0 0 0 0 0 0 0 0 0 0 0 0 0 0 0 0 0 0 0 0 0 0 0 0 0;0 0 0 0 0 0 0 0 0 0 0 0 0 0 0 0 0 0 0 0 0 0 0 0 0 0 0 0 0 0 0 0 0 0 0 0 3 3 3 3 3 3 3 3 3 0 0 0 0 0 0 0 0 0 0 0 0 0 0 0 0 0 0 0 0 0 0 0 0 0 0 0 0 0 0 0 0 0 0 0 0 0 0 0 0 0 0 0 0 0 0 0 0 0 0 0 0 0 0 0 0 0 0 0 0 0 0 0 0 0 0 0 0 0 0 0 0 0 0 0 0 0 0 0 0 0 0 0 0 0 0 0 0 0 0 0 0 0 0 0 0 0 0 0 0 0 0 0 0 0;0 0 0 0 0 0 0 0 0 0 0 0 0 0 0 0 0 0 0 0 0 0 0 0 0 0 0 0 0 0 0 0 0 0 0 0 3 3 3 3 3 3 3 3 0 0 0 0 0 0 0 0 0 0 0 0 0 0 0 0 0 0 0 0 0 0 0 0 0 0 0 0 0 0 0 0 0 0 0 0 0 0 0 0 0 0 0 0 0 0 0 0 0 0 0 0 0 0 0 0 0 0 0 0 0 0 0 0 0 0 0 0 0 0 0 0 0 0 0 0 0 0 0 0 0 0 0 0 0 0 0 0 0 0 0 0 0 0 0 0 0 0 0 0 0 0 0 0 0 0;0 0 0 0 0 0 0 0 0 0 0 0 0 0 0 0 0 0 0 0 0 0 0 0 0 0 0 0 0 0 0 0 0 0 0 0 3 3 3 3 3 3 3 3 0 0 0 0 0 0 0 0 0 0 0 0 0 0 0 0 0 0 0 0 0 0 0 0 0 0 0 0 0 0 0 0 0 0 0 0 0 0 0 0 0 0 0 0 0 0 0 0 0 0 0 0 0 0 0 0 0 0 0 0 0 0 0 0 0 0 0 0 0 0 0 0 0 0 0 0 0 0 0 0 0 0 0 0 0 0 0 0 0 0 0 0 0 0 0 0 0 0 0 0 0 0 0 0 0 0;0 0 0 0 0 0 0 0 0 0 0 0 0 0 0 0 0 0 0 0 0 0 0 0 0 0 0 0 0 0 0 0 0 0 0 3 3 3 3 3 3 3 3 3 0 0 0 0 0 0 0 0 0 0 0 0 0 0 0 0 0 0 0 0 0 0 0 0 0 0 0 0 0 0 0 0 0 0 0 0 0 0 0 0 0 0 0 0 0 0 0 0 0 0 0 0 0 0 0 0 0 0 0 0 0 0 0 0 0 0 0 0 0 0 0 0 0 0 0 0 0 0 0 0 0 0 0 0 0 0 0 0 0 0 0 0 0 0 0 0 0 0 0 0 0 0 0 0 0 0;0 0 0 0 0 0 0 0 0 0 0 0 0 0 0 0 0 0 0 0 0 0 0 0 0 0 0 0 0 0 0 0 0 0 0 3 3 3 3 3 3 3 3 3 0 0 0 0 0 0 0 0 0 0 0 0 0 0 0 0 0 0 0 0 0 0 0 0 0 0 0 0 0 0 0 0 0 0 0 0 0 0 0 0 0 0 0 0 0 0 0 0 0 0 0 0 0 0 0 0 0 0 0 0 0 0 0 0 0 0 0 0 0 0 0 0 0 0 0 0 0 0 0 0 0 0 0 0 0 0 0 0 0 0 0 0 0 0 0 0 0 0 0 0 0 0 0 0 0 0;0 0 0 0 0 0 0 0 0 0 0 0 0 0 0 0 0 0 0 0 0 0 0 0 0 0 0 0 0 0 0 0 0 0 0 3 3 3 3 3 3 3 3 0 0 0 0 0 0 0 0 0 0 0 0 0 0 0 0 0 0 0 0 0 0 0 0 0 0 0 0 0 0 0 0 0 0 0 0 0 0 0 0 0 0 0 0 0 0 0 0 0 0 0 0 0 0 0 0 0 0 0 0 0 0 0 0 0 0 0 0 0 0 0 0 0 0 0 0 0 0 0 0 0 0 0 0 0 0 0 0 0 0 0 0 0 0 0 0 0 0 0 0 0 0 0 0 0 0 0;0 0 0 0 0 0 0 0 0 0 0 0 0 0 0 0 0 0 0 0 0 0 0 0 0 0 0 0 0 0 0 0 0 0 0 3 3 3 3 3 3 3 3 0 0 0 0 0 0 0 0 0 0 0 0 0 0 0 0 0 0 0 0 0 0 0 0 0 0 0 0 0 0 0 0 0 0 0 0 0 0 0 0 0 0 0 0 0 0 0 0 0 0 0 0 0 0 0 0 0 0 0 0 0 0 0 0 0 0 0 0 0 0 0 0 0 0 0 0 0 0 0 0 0 0 0 0 0 0 0 0 0 0 0 0 0 0 0 0 0 0 0 0 0 0 0 0 0 0 0;0 0 0 0 0 0 0 0 0 0 0 0 0 0 0 0 0 0 0 0 0 0 0 0 0 0 0 0 0 0 0 0 0 0 3 3 3 3 3 3 3 3 3 0 0 0 0 0 0 0 0 0 0 0 0 0 0 0 0 0 0 0 0 0 0 0 0 0 0 0 0 0 0 0 0 0 0 0 0 0 0 0 0 0 0 0 0 0 0 0 0 0 0 0 0 0 0 0 0 0 0 0 0 0 0 0 0 0 0 0 0 0 0 0 0 0 0 0 0 0 0 0 0 0 0 0 0 0 0 0 0 0 0 0 0 0 0 0 0 0 0 0 0 0 0 0 0 0 0 0;0 0 0 0 0 0 0 0 0 0 0 0 0 0 0 0 0 0 0 0 0 0 0 0 0 0 0 0 0 0 0 0 0 0 3 3 3 3 3 3 3 3 3 0 0 0 0 0 0 0 0 0 0 0 0 0 0 0 0 0 0 0 0 0 0 0 0 0 0 0 0 0 0 0 0 0 0 0 0 0 0 0 0 0 0 0 0 0 0 0 0 0 0 0 0 0 0 0 0 0 0 0 0 0 0 0 0 0 0 0 0 0 0 0 0 0 0 0 0 0 0 0 0 0 0 0 0 0 0 0 0 0 0 0 0 0 0 0 0 0 0 0 0 0 0 0 0 0 0 0;0 0 0 0 0 0 0 0 0 0 0 0 0 0 0 0 0 0 0 0 0 0 0 0 0 0 0 0 0 0 0 0 0 0 3 3 3 3 3 3 3 3 0 0 0 0 0 0 0 0 0 0 0 0 0 0 0 0 0 0 0 0 0 0 0 0 0 0 0 0 0 0 0 0 0 0 0 0 0 0 0 0 0 0 0 0 0 0 0 0 0 0 0 0 0 0 0 0 0 0 0 0 0 0 0 0 0 0 0 0 0 0 0 0 0 0 0 0 0 0 0 0 0 0 0 0 0 0 0 0 0 0 0 0 0 0 0 0 0 0 0 0 0 0 0 0 0 0 0 0;0 0 0 0 0 0 0 0 0 0 0 0 0 0 0 0 0 0 0 0 0 0 0 0 0 0 0 0 0 0 0 0 0 0 3 3 3 3 3 3 3 3 0 0 0 0 0 0 0 0 0 0 0 0 0 0 0 0 0 0 0 0 0 0 0 0 0 0 0 0 0 0 0 0 0 0 0 0 0 0 0 0 0 0 0 0 0 0 0 0 0 0 0 0 0 0 0 0 0 0 0 0 0 0 0 0 0 0 0 0 0 0 0 0 0 0 0 0 0 0 0 0 0 0 0 0 0 0 0 0 0 0 0 0 0 0 0 0 0 0 0 0 0 0 0 0 0 0 0 0;0 0 0 0 0 0 0 0 0 0 0 0 0 0 0 0 0 0 0 0 0 0 0 0 0 0 0 0 0 0 0 0 0 0 3 3 3 3 3 3 3 3 0 0 0 0 0 0 0 0 0 0 0 0 0 0 0 0 0 0 0 0 0 0 0 0 0 0 0 0 0 0 0 0 0 0 0 0 0 0 0 0 0 0 0 0 0 0 0 0 0 0 0 0 0 0 0 0 0 0 0 0 0 0 0 0 0 0 0 0 0 0 0 0 0 0 0 0 0 0 0 0 0 0 0 0 0 0 0 0 0 0 0 0 0 0 0 0 0 0 0 0 0 0 0 0 0 0 0 0;0 0 0 0 0 0 0 0 0 0 0 0 0 0 0 0 0 0 0 0 0 0 0 0 0 0 0 0 0 0 0 0 0 3 3 3 3 3 3 3 3 3 0 0 0 0 0 0 0 0 0 0 0 0 0 0 0 0 0 0 0 0 0 0 0 0 0 0 0 0 0 0 0 0 0 0 0 0 0 0 0 0 0 0 0 0 0 0 0 0 0 0 0 0 0 0 0 0 0 0 0 0 0 0 0 0 0 0 0 0 0 0 0 0 0 0 0 0 0 0 0 0 0 0 0 0 0 0 0 0 0 0 0 0 0 0 0 0 0 0 0 0 0 0 0 0 0 0 0 0;0 0 0 0 0 0 0 0 0 0 0 0 0 0 0 0 0 0 0 0 0 0 0 0 0 0 0 0 0 0 0 0 0 3 3 3 3 3 3 3 3 0 0 0 0 0 0 0 0 0 0 0 0 0 0 0 0 0 0 0 0 0 0 0 0 0 0 0 0 0 0 0 0 0 0 0 0 0 0 0 0 0 0 0 0 0 0 0 0 0 0 0 0 0 0 0 0 0 0 0 0 0 0 0 0 0 0 0 0 0 0 0 0 0 0 0 0 0 0 0 0 0 0 0 0 0 0 0 0 0 0 0 0 0 0 0 0 0 0 0 0 0 0 0 0 0 0 0 0 0;0 0 0 0 0 0 0 0 0 0 0 0 0 0 0 0 0 0 0 0 0 0 0 0 0 0 0 0 0 0 0 0 0 3 3 3 3 3 3 3 3 0 0 0 0 0 0 0 0 0 0 0 0 0 0 0 0 0 0 0 0 0 0 0 0 0 0 0 0 0 0 0 0 0 0 0 0 0 0 0 0 0 0 0 0 0 0 0 0 0 0 0 0 0 0 0 0 0 0 0 0 0 0 0 0 0 0 0 0 0 0 0 0 0 0 0 0 0 0 0 0 0 0 0 0 0 0 0 0 0 0 0 0 0 0 0 0 0 0 0 0 0 0 0 0 0 0 0 0 0;0 0 0 0 0 0 0 0 0 0 0 0 0 0 0 0 0 0 0 0 0 0 0 0 0 0 0 0 0 0 0 0 0 3 3 3 3 3 3 3 3 0 0 0 0 0 0 0 0 0 0 0 0 0 0 0 0 0 0 0 0 0 0 0 0 0 0 0 0 0 0 0 0 0 0 0 0 0 0 0 0 0 0 0 0 0 0 0 0 0 0 0 0 0 0 0 0 0 0 0 0 0 0 0 0 0 0 0 0 0 0 0 0 0 0 0 0 0 0 0 0 0 0 0 0 0 0 0 0 0 0 0 0 0 0 0 0 0 0 0 0 0 0 0 0 0 0 0 0 0;0 0 0 0 0 0 0 0 0 0 0 0 0 0 0 0 0 0 0 0 0 0 0 0 0 0 0 0 0 0 0 0 0 3 3 3 3 3 3 3 3 0 0 0 0 0 0 0 0 0 0 0 0 0 0 0 0 0 0 0 0 0 0 0 0 0 0 0 0 0 0 0 0 0 0 0 0 0 0 0 0 0 0 0 0 0 0 0 0 0 0 0 0 0 0 0 0 0 0 0 0 0 0 0 0 0 0 0 0 0 0 0 0 0 0 0 0 0 0 0 0 0 0 0 0 0 0 0 0 0 0 0 0 0 0 0 0 0 0 0 0 0 0 0 0 0 0 0 0 0;0 0 0 0 0 0 0 0 0 0 0 0 0 0 0 0 0 0 0 0 0 0 0 0 0 0 0 0 0 0 0 0 3 3 3 3 3 3 3 3 3 0 0 0 0 0 0 0 0 0 0 0 0 0 0 0 0 0 0 0 0 0 0 0 0 0 0 0 0 0 0 0 0 0 0 0 0 0 0 0 0 0 0 0 0 0 0 0 0 0 0 0 0 0 0 0 0 0 0 0 0 0 0 0 0 0 0 0 0 0 0 0 0 0 0 0 0 0 0 0 0 0 0 0 0 0 0 0 0 0 0 0 0 0 0 0 0 0 0 0 0 0 0 0 0 0 0 0 0 0;0 0 0 0 0 0 0 0 0 0 0 0 0 0 0 0 0 0 0 0 0 0 0 0 0 0 0 0 0 0 0 0 3 3 3 3 3 3 3 3 0 0 0 0 0 0 0 0 0 0 0 0 0 0 0 0 0 0 0 0 0 0 0 0 0 0 0 0 0 0 0 0 0 0 0 0 0 0 0 0 0 0 0 0 0 0 0 0 0 0 0 0 0 0 0 0 0 0 0 0 0 0 0 0 0 0 0 0 0 0 0 0 0 0 0 0 0 0 0 0 0 0 0 0 0 0 0 0 0 0 0 0 0 0 0 0 0 0 0 0 0 0 0 0 0 0 0 0 0 0;0 0 0 0 0 0 0 0 0 0 0 0 0 0 0 0 0 0 0 0 0 0 0 0 0 0 0 0 0 0 0 0 3 3 3 3 3 3 3 3 0 0 0 0 0 0 0 0 0 0 0 0 0 0 0 0 0 0 0 0 0 0 0 0 0 0 0 0 0 0 0 0 0 0 0 0 0 0 0 0 0 0 0 0 0 0 0 0 0 0 0 0 0 0 0 0 0 0 0 0 0 0 0 0 0 0 0 0 0 0 0 0 0 0 0 0 0 0 0 0 0 0 0 0 0 0 0 0 0 0 0 0 0 0 0 0 0 0 0 0 0 0 0 0 0 0 0 0 0 0;0 0 0 0 0 0 0 0 0 0 0 0 0 0 0 0 0 0 0 0 0 0 0 0 0 0 0 0 0 0 0 0 3 3 3 3 3 3 3 3 0 0 0 0 0 0 0 0 0 0 0 0 0 0 0 0 0 0 0 0 0 0 0 0 0 0 0 0 0 0 0 0 0 0 0 0 0 0 0 0 0 0 0 0 0 0 0 0 0 0 0 0 0 0 0 0 0 0 0 0 0 0 0 0 0 0 0 0 0 0 0 0 0 0 0 0 0 0 0 0 0 0 0 0 0 0 0 0 0 0 0 0 0 0 0 0 0 0 0 0 0 0 0 0 0 0 0 0 0 0;0 0 0 0 0 0 0 0 0 0 0 0 0 0 0 0 0 0 0 0 0 0 0 0 0 0 0 0 0 0 0 0 3 3 3 3 3 3 3 3 0 0 0 0 0 0 0 0 0 0 0 0 0 0 0 0 0 0 0 0 0 0 0 0 0 0 0 0 0 0 0 0 0 0 0 0 0 0 0 0 0 0 0 0 0 0 0 0 0 0 0 0 0 0 0 0 0 0 0 0 0 0 0 0 0 0 0 0 0 0 0 0 0 0 0 0 0 0 0 0 0 0 0 0 0 0 0 0 0 0 0 0 0 0 0 0 0 0 0 0 0 0 0 0 0 0 0 0 0 0;0 0 0 0 0 0 0 0 0 0 0 0 0 0 0 0 0 0 0 0 0 0 0 0 0 0 0 0 0 0 0 3 3 3 3 3 3 3 3 0 0 0 0 0 0 0 0 0 0 0 0 0 0 0 0 0 0 0 0 0 0 0 0 0 0 0 0 0 0 0 0 0 0 0 0 0 0 0 0 0 0 0 0 0 0 0 0 0 0 0 0 0 0 0 0 0 0 0 0 0 0 0 0 0 0 0 0 0 0 0 0 0 0 0 0 0 0 0 0 0 0 0 0 0 0 0 0 0 0 0 0 0 0 0 0 0 0 0 0 0 0 0 0 0 0 0 0 0 0 0;0 0 0 0 0 0 0 0 0 0 0 0 0 0 0 0 0 0 0 0 0 0 0 0 0 0 0 0 0 0 0 3 3 3 3 3 3 3 3 0 0 0 0 0 0 0 0 0 0 0 0 0 0 0 0 0 0 0 0 0 0 0 0 0 0 0 0 0 0 0 0 0 0 0 0 0 0 0 0 0 0 0 0 0 0 0 0 0 0 0 0 0 0 0 0 0 0 0 0 0 0 0 0 0 0 0 0 0 0 0 0 0 0 0 0 0 0 0 0 0 0 0 0 0 0 0 0 0 0 0 0 0 0 0 0 0 0 0 0 0 0 0 0 0 0 0 0 0 0 0;0 0 0 0 0 0 0 0 0 0 0 0 0 0 0 0 0 0 0 0 0 0 0 0 0 0 0 0 0 0 0 3 3 3 3 3 3 3 3 0 0 0 0 0 0 0 0 0 0 0 0 0 0 0 0 0 0 0 0 0 0 0 0 0 0 0 0 0 0 0 0 0 0 0 0 0 0 0 0 0 0 0 0 0 0 0 0 0 0 0 3 3 3 3 3 3 3 3 3 3 3 3 0 0 0 0 0 0 0 0 0 0 0 0 0 0 0 0 0 0 0 0 0 0 0 0 0 0 0 0 0 0 0 0 0 0 0 0 0 0 0 0 0 0 0 0 0 0 0 0;0 0 0 0 0 0 0 0 0 0 0 0 0 0 0 0 0 0 0 0 0 0 0 0 0 0 0 0 0 0 0 3 3 3 3 3 3 3 3 0 0 0 0 0 0 0 0 0 0 0 0 0 0 0 0 0 0 0 0 0 0 0 0 0 0 0 0 0 0 0 0 0 0 0 0 0 0 0 0 0 0 0 0 0 0 0 0 3 3 3 3 0.800000011920929 0.800000011920929 0.800000011920929 0.800000011920929 0.800000011920929 0.800000011920929 0.800000011920929 0.800000011920929 0.800000011920929 0.800000011920929 3 3 3 3 0 0 0 0 0 0 0 0 0 0 0 0 0 0 0 0 0 0 0 0 0 0 0 0 0 0 0 0 0 0 0 0 0 0 0 0 0 0 0 0 0 0 0 0 0;0 0 0 0 0 0 0 0 0 0 0 0 0 0 0 0 0 0 0 0 0 0 0 0 0 0 0 0 0 0 0 3 3 3 3 3 3 3 3 0 0 0 0 0 0 0 0 0 0 0 0 0 0 0 0 0 0 0 0 0 0 0 0 0 0 0 0 0 0 0 0 0 0 0 0 0 0 0 0 0 0 0 0 0 0 3 3 3 0.800000011920929 0.800000011920929 0.800000011920929 0.800000011920929 0.800000011920929 0.800000011920929 0.800000011920929 0.800000011920929 0.800000011920929 0.800000011920929 0.800000011920929 0.800000011920929 0.800000011920929 0.800000011920929 0.800000011920929 0.800000011920929 3 3 3 0 0 0 0 0 0 0 0 0 0 0 0 0 0 0 0 0 0 0 0 0 0 0 0 0 0 0 0 0 0 0 0 0 0 0 0 0 0 0 0 0 0 0;0 0 0 0 0 0 0 0 0 0 0 0 0 0 0 0 0 0 0 0 0 0 0 0 0 0 0 0 0 0 0 3 3 3 3 3 3 3 3 0 0 0 0 0 0 0 0 0 0 0 0 0 0 0 0 0 0 0 0 0 0 0 0 0 0 0 0 0 0 0 0 0 0 0 0 0 0 0 0 0 0 0 0 3 3 3 0.800000011920929 0.800000011920929 0.800000011920929 0.800000011920929 0.800000011920929 0.800000011920929 0.800000011920929 0.800000011920929 0.800000011920929 0.800000011920929 0.800000011920929 0.800000011920929 0.800000011920929 0.800000011920929 0.800000011920929 0.800000011920929 0.800000011920929 0.800000011920929 0.800000011920929 0.800000011920929 3 3 0 0 0 0 0 0 0 0 0 0 0 0 0 0 0 0 0 0 0 0 0 0 0 0 0 0 0 0 0 0 0 0 0 0 0 0 0 0 0 0 0 0;0 0 0 0 0 0 0 0 0 0 0 0 0 0 0 0 0 0 0 0 0 0 0 0 0 0 0 0 0 0 3 3 3 3 3 3 3 3 0 0 0 0 0 0 0 0 0 0 0 0 0 0 0 0 0 0 0 0 0 0 0 0 0 0 0 0 0 0 0 0 0 0 0 0 0 0 0 0 0 3 3 3 3 3 0.800000011920929 0.800000011920929 0.800000011920929 0.800000011920929 0.800000011920929 0.800000011920929 0.800000011920929 0.800000011920929 0.800000011920929 0.800000011920929 0.800000011920929 0.800000011920929 0.800000011920929 0.800000011920929 0.800000011920929 0.800000011920929 0.800000011920929 0.800000011920929 0.800000011920929 0.800000011920929 0.800000011920929 0.800000011920929 0.800000011920929 3 3 0 0 0 0 0 0 0 0 0 0 0 0 0 0 0 0 0 0 0 0 0 0 0 0 0 0 0 0 0 0 0 0 0 0 0 0 0 0 0 0 0;0 0 0 0 0 0 0 0 0 0 0 0 0 0 0 0 0 0 0 0 0 0 0 0 0 0 0 0 0 0 3 3 3 3 3 3 3 3 0 0 0 0 0 0 0 0 0 0 0 0 0 0 0 0 0 0 0 0 0 0 0 0 0 0 0 0 0 0 0 0 0 0 0 0 0 0 3 3 3 3 1 1 1 0.800000011920929 0.800000011920929 0.800000011920929 0.800000011920929 0.800000011920929 0.800000011920929 0.800000011920929 0.800000011920929 0.800000011920929 0.800000011920929 0.800000011920929 0.800000011920929 0.800000011920929 0.800000011920929 0.800000011920929 0.800000011920929 0.800000011920929 0.800000011920929 0.800000011920929 0.800000011920929 0.800000011920929 0.800000011920929 0.800000011920929 0.800000011920929 0.800000011920929 3 3 3 0 0 0 0 0 0 0 0 0 0 0 0 0 0 0 0 0 0 0 0 0 0 0 0 0 0 0 0 0 0 0 0 0 0 0 0 0 0 0;0 0 0 0 0 0 0 0 0 0 0 0 0 0 0 0 0 0 0 0 0 0 0 0 0 0 0 0 0 0 3 3 3 3 3 3 3 3 0 0 0 0 0 0 0 0 0 0 0 0 0 0 0 0 0 0 0 0 0 0 0 0 0 0 0 0 0 0 0 0 0 0 0 0 3 3 3 1 1 1 1 1 0.800000011920929 0.800000011920929 0.800000011920929 0.800000011920929 0.800000011920929 0.800000011920929 0.800000011920929 0.800000011920929 0.800000011920929 0.800000011920929 0.800000011920929 0.800000011920929 0.800000011920929 0.800000011920929 0.800000011920929 0.800000011920929 0.800000011920929 0.800000011920929 0.800000011920929 0.800000011920929 0.800000011920929 0.800000011920929 0.800000011920929 0.800000011920929 0.800000011920929 0.800000011920929 0.800000011920929 0.800000011920929 3 0 0 0 0 0 0 0 0 0 0 0 0 0 0 0 0 0 0 0 0 0 0 0 0 0 0 0 0 0 0 0 0 0 0 0 0 0 0 0;0 0 0 0 0 0 0 0 0 0 0 0 0 0 0 0 0 0 0 0 0 0 0 0 0 0 0 0 0 0 3 3 3 3 3 3 3 3 0 0 0 0 0 0 0 0 0 0 0 0 0 0 0 0 0 0 0 0 0 0 0 0 0 0 0 0 0 0 0 0 0 0 3 3 3 1 1 1 1 1 1 0.800000011920929 0.800000011920929 0.800000011920929 0.800000011920929 0.800000011920929 0.800000011920929 0.800000011920929 0.800000011920929 0.800000011920929 0.800000011920929 0.800000011920929 0.800000011920929 0.800000011920929 0.800000011920929 0.800000011920929 0.800000011920929 0.800000011920929 0.800000011920929 0.800000011920929 0.800000011920929 0.800000011920929 0.800000011920929 0.800000011920929 0.800000011920929 0.800000011920929 0.800000011920929 0.800000011920929 0.800000011920929 0.800000011920929 3 3 0 0 0 0 0 0 0 0 0 0 0 0 0 0 0 0 0 0 0 0 0 0 0 0 0 0 0 0 0 0 0 0 0 0 0 0 0 0;0 0 0 0 0 0 0 0 0 0 0 0 0 0 0 0 0 0 0 0 0 0 0 0 0 0 0 0 0 0 3 3 3 3 3 3 3 3 0 0 0 0 0 0 0 0 0 0 0 0 0 0 0 0 0 0 0 0 0 0 0 0 0 0 0 0 0 0 0 0 3 3 3 1 1 1 1 1 1 1 0.800000011920929 0.800000011920929 0.800000011920929 0.800000011920929 0.800000011920929 0.800000011920929 0.800000011920929 0.800000011920929 0.800000011920929 0.800000011920929 0.800000011920929 0.800000011920929 0.800000011920929 0.800000011920929 1 1 1 0.800000011920929 0.800000011920929 0.800000011920929 0.800000011920929 0.800000011920929 0.800000011920929 0.800000011920929 0.800000011920929 0.800000011920929 0.800000011920929 0.800000011920929 0.800000011920929 0.800000011920929 0.800000011920929 3 3 0 0 0 0 0 0 0 0 0 0 0 0 0 0 0 0 0 0 0 0 0 0 0 0 0 0 0 0 0 0 0 0 0 0 0 0 0;0 0 0 0 0 0 0 0 0 0 0 0 0 0 0 0 0 0 0 0 0 0 0 0 0 0 0 0 0 0 3 3 3 3 3 3 3 3 0 0 0 0 0 0 0 0 0 0 0 0 0 0 0 0 0 0 0 0 0 0 0 0 0 0 0 0 0 0 0 3 3 1 1 1 1 1 1 1 1 0.800000011920929 0.800000011920929 0.800000011920929 0.800000011920929 0.800000011920929 0.800000011920929 0.800000011920929 0.800000011920929 0.800000011920929 0.800000011920929 0.800000011920929 1 1 1 1 1 1 1 1 1 1 1 0.800000011920929 0.800000011920929 0.800000011920929 0.800000011920929 0.800000011920929 0.800000011920929 0.800000011920929 0.800000011920929 0.800000011920929 0.800000011920929 0.800000011920929 3 3 0 0 0 0 0 0 0 0 0 0 0 0 0 0 0 0 0 0 0 0 0 0 0 0 0 0 0 0 0 0 0 0 0 0 0 0;0 0 0 0 0 0 0 0 0 0 0 0 0 0 0 0 0 0 0 0 0 0 0 0 0 0 0 0 0 0 3 3 3 3 3 3 3 0 0 0 0 0 0 0 0 0 0 0 0 0 0 0 0 0 0 0 0 0 0 0 0 0 0 0 0 0 0 0 3 3 1 1 1 1 1 1 1 1 1 0.800000011920929 0.800000011920929 0.800000011920929 0.800000011920929 0.800000011920929 0.800000011920929 0.800000011920929 0.800000011920929 0.800000011920929 0.800000011920929 1 1 1 1 1 1 1 1 1 1 1 1 1 1 0.800000011920929 0.800000011920929 0.800000011920929 0.800000011920929 0.800000011920929 0.800000011920929 0.800000011920929 0.800000011920929 0.800000011920929 0.800000011920929 3 0 0 0 0 0 0 0 0 0 0 0 0 0 0 0 0 0 0 0 0 0 0 0 0 0 0 0 0 0 0 0 0 0 0 0 0;0 0 0 0 0 0 0 0 0 0 0 0 0 0 0 0 0 0 0 0 0 0 0 0 0 0 0 0 0 3 3 3 3 3 3 3 3 0 0 0 0 0 0 0 0 0 0 0 0 0 0 0 0 0 0 0 0 0 0 0 0 0 0 0 0 0 3 3 3 1 1 1 1 1 1 1 1 1 0.800000011920929 0.800000011920929 0.800000011920929 0.800000011920929 0.800000011920929 0.800000011920929 0.800000011920929 0.800000011920929 0.800000011920929 1 1 1 1 1 1 1 1 1 1 1 1 1 1 1 1 1 0.800000011920929 0.800000011920929 0.800000011920929 0.800000011920929 0.800000011920929 0.800000011920929 0.800000011920929 0.800000011920929 0.800000011920929 3 3 0 0 0 0 0 0 0 0 0 0 0 0 0 0 0 0 0 0 0 0 0 0 0 0 0 0 0 0 0 0 0 0 0 0 0;0 0 0 0 0 0 0 0 0 0 0 0 0 0 0 0 0 0 0 0 0 0 0 0 0 0 0 0 0 3 3 3 3 3 3 3 3 0 0 0 0 0 0 0 0 0 0 0 0 0 0 0 0 0 0 0 0 0 0 0 0 0 0 0 0 3 3 1 1 1 1 1 1 1 1 1 1 0.800000011920929 0.800000011920929 0.800000011920929 0.800000011920929 0.800000011920929 0.800000011920929 0.800000011920929 0.800000011920929 0.800000011920929 1 1 1 1 1 1 1 1 1 1 1 1 1 1 1 1 1 1 1 0.800000011920929 0.800000011920929 0.800000011920929 0.800000011920929 0.800000011920929 0.800000011920929 0.800000011920929 0.800000011920929 0.800000011920929 3 0 0 0 0 0 0 0 0 0 0 0 0 0 0 0 0 0 0 0 0 0 0 0 0 0 0 0 0 0 0 0 0 0 0 0;0 0 0 0 0 0 0 0 0 0 0 0 0 0 0 0 0 0 0 0 0 0 0 0 0 0 0 0 0 3 3 3 3 3 3 3 3 0 0 0 0 0 0 0 0 0 0 0 0 0 0 0 0 0 0 0 0 0 0 0 0 0 0 0 3 3 1 1 1 1 1 1 1 1 1 1 1 0.800000011920929 0.800000011920929 0.800000011920929 0.800000011920929 0.800000011920929 0.800000011920929 0.800000011920929 0.800000011920929 0.800000011920929 1 1 1 1 1 1 1 1 1 1 1 1 1 1 1 1 1 1 1 1 0.800000011920929 0.800000011920929 0.800000011920929 0.800000011920929 0.800000011920929 0.800000011920929 0.800000011920929 0.800000011920929 3 3 0 0 0 0 0 0 0 0 0 0 0 0 0 0 0 0 0 0 0 0 0 0 0 0 0 0 0 0 0 0 0 0 0 0;0 0 0 0 0 0 0 0 0 0 0 0 0 0 0 0 0 0 0 0 0 0 0 0 0 0 0 0 0 3 3 3 3 3 3 3 3 0 0 0 0 0 0 0 0 0 0 0 0 0 0 0 0 0 0 0 0 0 0 0 0 0 0 3 3 1 1 1 1 1 1 1 1 1 1 1 1 0.800000011920929 0.800000011920929 0.800000011920929 0.800000011920929 0.800000011920929 0.800000011920929 0.800000011920929 0.800000011920929 1 1 1 1 1 1 1 1 1 1 1 1 1 1 1 1 1 1 1 1 1 0.800000011920929 0.800000011920929 0.800000011920929 0.800000011920929 0.800000011920929 0.800000011920929 0.800000011920929 0.800000011920929 0.800000011920929 3 0 0 0 0 0 0 0 0 0 0 0 0 0 0 0 0 0 0 0 0 0 0 0 0 0 0 0 0 0 0 0 0 0 0;0 0 0 0 0 0 0 0 0 0 0 0 0 0 0 0 0 0 0 0 0 0 0 0 0 0 0 0 0 3 3 3 3 3 3 3 3 0 0 0 0 0 0 0 0 0 0 0 0 0 0 0 0 0 0 0 0 0 0 0 0 0 3 3 1 1 1 1 1 1 1 1 1 1 1 1 0.800000011920929 0.800000011920929 0.800000011920929 0.800000011920929 0.800000011920929 0.800000011920929 0.800000011920929 0.800000011920929 1 1 1 1 1 1 1 1 1 1 1 1 1 1 1 1 1 1 1 1 1 1 1 0.800000011920929 0.800000011920929 0.800000011920929 0.800000011920929 0.800000011920929 0.800000011920929 0.800000011920929 0.800000011920929 3 0 0 0 0 0 0 0 0 0 0 0 0 0 0 0 0 0 0 0 0 0 0 0 0 0 0 0 0 0 0 0 0 0 0;0 0 0 0 0 0 0 0 0 0 0 0 0 0 0 0 0 0 0 0 0 0 0 0 0 0 0 0 0 3 3 3 3 3 3 3 0 0 0 0 0 0 0 0 0 0 0 0 0 0 0 0 0 0 0 0 0 0 0 0 0 3 3 1 1 1 1 1 1 1 1 1 1 1 1 1 0.800000011920929 0.800000011920929 0.800000011920929 0.800000011920929 0.800000011920929 0.800000011920929 0.800000011920929 0.800000011920929 1 1 1 1 1 1 1 1 1 1 1 1 1 1 1 1 1 1 1 1 1 1 1 0.800000011920929 0.800000011920929 0.800000011920929 0.800000011920929 0.800000011920929 0.800000011920929 0.800000011920929 0.800000011920929 3 0 0 0 0 0 0 0 0 0 0 0 0 0 0 0 0 0 0 0 0 0 0 0 0 0 0 0 0 0 0 0 0 0 0;0 0 0 0 0 0 0 0 0 0 0 0 0 0 0 0 0 0 0 0 0 0 0 0 0 0 0 0 0 3 3 3 3 3 3 3 0 0 0 0 0 0 0 0 0 0 0 0 0 0 0 0 0 0 0 0 0 0 0 0 3 3 1 1 1 1 1 1 1 1 1 1 1 1 1 1 0.800000011920929 0.800000011920929 0.800000011920929 0.800000011920929 0.800000011920929 0.800000011920929 0.800000011920929 0.800000011920929 1 1 1 1 1 1 1 1 1 1 1 1 1 1 1 1 1 1 1 1 1 1 1 1 0.800000011920929 0.800000011920929 0.800000011920929 0.800000011920929 0.800000011920929 0.800000011920929 0.800000011920929 3 0 0 0 0 0 0 0 0 0 0 0 0 0 0 0 0 0 0 0 0 0 0 0 0 0 0 0 0 0 0 0 0 0 0;0 0 0 0 0 0 0 0 0 0 0 0 0 0 0 0 0 0 0 0 0 0 0 0 0 0 0 0 3 3 3 3 3 3 3 3 0 0 0 0 0 0 0 0 0 0 0 0 0 0 0 0 0 0 0 0 0 0 0 3 3 1 1 1 1 1 1 1 1 1 1 1 1 1 1 1 0.800000011920929 0.800000011920929 0.800000011920929 0.800000011920929 0.800000011920929 0.800000011920929 0.800000011920929 1 1 1 1 1 1 1 1 1 1 1 1 1 1 1 1 1 1 1 1 1 1 1 1 1 0.800000011920929 0.800000011920929 0.800000011920929 0.800000011920929 0.800000011920929 0.800000011920929 0.800000011920929 3 3 0 0 0 0 0 0 0 0 0 0 0 0 0 0 0 0 0 0 0 0 0 0 0 0 0 0 0 0 0 0 0 0 0;0 0 0 0 0 0 0 0 0 0 0 0 0 0 0 0 0 0 0 0 0 0 0 0 0 0 0 0 3 3 3 3 3 3 3 3 0 0 0 0 0 0 0 0 0 0 0 0 0 0 0 0 0 0 0 0 0 0 3 3 1 1 1 1 1 1 1 1 1 1 1 1 1 1 1 1 0.800000011920929 0.800000011920929 0.800000011920929 0.800000011920929 0.800000011920929 0.800000011920929 0.800000011920929 1 1 1 1 1 1 1 1 1 1 1 1 1 1 1 1 1 1 1 1 1 1 1 1 1 0.800000011920929 0.800000011920929 0.800000011920929 0.800000011920929 0.800000011920929 0.800000011920929 0.800000011920929 0.800000011920929 3 0 0 0 0 0 0 0 0 0 0 0 0 0 0 0 0 0 0 0 0 0 0 0 0 0 0 0 0 0 0 0 0 0;0 0 0 0 0 0 0 0 0 0 0 0 0 0 0 0 0 0 0 0 0 0 0 0 0 0 0 0 3 3 3 3 3 3 3 3 0 0 0 0 0 0 0 0 0 0 0 0 0 0 0 0 0 0 0 0 0 3 3 1 1 1 1 1 1 1 1 1 1 1 1 1 1 1 1 1 0.800000011920929 0.800000011920929 0.800000011920929 0.800000011920929 0.800000011920929 0.800000011920929 0.800000011920929 1 1 1 1 1 1 1 1 1 1 1 1 1 1 1 1 1 1 1 1 1 1 1 1 1 0.800000011920929 0.800000011920929 0.800000011920929 0.800000011920929 0.800000011920929 0.800000011920929 0.800000011920929 0.800000011920929 3 0 0 0 0 0 0 0 0 0 0 0 0 0 0 0 0 0 0 0 0 0 0 0 0 0 0 0 0 0 0 0 0 0;0 0 0 0 0 0 0 0 0 0 0 0 0 0 0 0 0 0 0 0 0 0 0 0 0 0 0 0 3 3 3 3 3 3 3 3 0 0 0 0 0 0 0 0 0 0 0 0 0 0 0 0 0 0 0 0 3 3 1 1 1 1 1 1 1 1 1 1 1 1 1 1 1 1 1 1 0.800000011920929 0.800000011920929 0.800000011920929 0.800000011920929 0.800000011920929 0.800000011920929 0.800000011920929 1 1 1 1 1 1 1 1 1 1 1 1 1 1 1 1 1 1 1 1 1 1 1 1 1 0.800000011920929 0.800000011920929 0.800000011920929 0.800000011920929 0.800000011920929 0.800000011920929 0.800000011920929 0.800000011920929 3 0 0 0 0 0 0 0 0 0 0 0 0 0 0 0 0 0 0 0 0 0 0 0 0 0 0 0 0 0 0 0 0 0;0 0 0 0 0 0 0 0 0 0 0 0 0 0 0 0 0 0 0 0 0 0 0 0 0 0 0 0 3 3 3 3 3 3 3 3 0 0 0 0 0 0 0 0 0 0 0 0 0 0 0 0 0 0 0 0 3 1 1 1 1 1 1 1 1 1 1 1 1 1 1 1 1 1 1 1 0.800000011920929 0.800000011920929 0.800000011920929 0.800000011920929 0.800000011920929 0.800000011920929 0.800000011920929 1 1 1 1 1 1 1 1 1 1 1 1 1 1 1 1 1 1 1 1 1 1 1 1 1 0.800000011920929 0.800000011920929 0.800000011920929 0.800000011920929 0.800000011920929 0.800000011920929 0.800000011920929 0.800000011920929 3 0 0 0 0 0 0 0 0 0 0 0 0 0 0 0 0 0 0 0 0 0 0 0 0 0 0 0 0 0 0 0 0 0;0 0 0 0 0 0 0 0 0 0 0 0 0 0 0 0 0 0 0 0 0 0 0 0 0 0 0 0 3 3 3 3 3 3 3 3 0 0 0 0 0 0 0 0 0 0 0 0 0 0 0 0 0 0 0 3 3 1 1 1 1 1 1 1 1 1 1 1 1 1 1 1 1 1 1 1 0.800000011920929 0.800000011920929 0.800000011920929 0.800000011920929 0.800000011920929 0.800000011920929 0.800000011920929 1 1 1 1 1 1 1 1 1 1 1 1 1 1 1 1 1 1 1 1 1 1 1 1 1 0.800000011920929 0.800000011920929 0.800000011920929 0.800000011920929 0.800000011920929 0.800000011920929 0.800000011920929 3 3 0 0 0 0 0 0 0 0 0 0 0 0 0 0 0 0 0 0 0 0 0 0 0 0 0 0 0 0 0 0 0 0 0;0 0 0 0 0 0 0 0 0 0 0 0 0 0 0 0 0 0 0 0 0 0 0 0 0 0 0 0 3 3 3 3 3 3 3 0 0 0 0 0 0 0 0 0 0 0 0 0 0 0 0 0 0 0 0 3 1 1 1 1 1 1 1 1 1 1 1 1 1 1 1 1 1 1 1 1 0.800000011920929 0.800000011920929 0.800000011920929 0.800000011920929 0.800000011920929 0.800000011920929 0.800000011920929 0.800000011920929 1 1 1 1 1 1 1 1 1 1 1 1 1 1 1 1 1 1 1 1 1 1 1 1 0.800000011920929 0.800000011920929 0.800000011920929 0.800000011920929 0.800000011920929 0.800000011920929 0.800000011920929 3 0 0 0 0 0 0 0 0 0 0 0 0 0 0 0 0 0 0 0 0 0 0 0 0 0 0 0 0 0 0 0 0 0 0;0 0 0 0 0 0 0 0 0 0 0 0 0 0 0 0 0 0 0 0 0 0 0 0 0 0 0 0 3 3 3 3 3 3 3 0 0 0 0 0 0 0 0 0 0 0 0 0 0 0 0 0 0 0 3 3 1 1 1 1 1 1 1 1 1 1 1 1 1 1 1 1 1 1 1 1 0.800000011920929 0.800000011920929 0.800000011920929 0.800000011920929 0.800000011920929 0.800000011920929 0.800000011920929 0.800000011920929 1 1 1 1 1 1 1 1 1 1 1 1 1 1 1 1 1 1 1 1 1 1 1 0.800000011920929 0.800000011920929 0.800000011920929 0.800000011920929 0.800000011920929 0.800000011920929 0.800000011920929 0.800000011920929 3 0 0 0 0 0 0 0 0 0 0 0 0 0 0 0 0 0 0 0 0 0 0 0 0 0 0 0 0 0 0 0 0 0 0;0 0 0 0 0 0 0 0 0 0 0 0 0 0 0 0 0 0 0 0 0 0 0 0 0 0 0 0 3 3 3 3 3 3 3 0 0 0 0 0 0 0 0 0 0 0 0 0 0 0 0 0 0 0 3 1 1 1 1 1 1 1 1 1 1 1 1 1 1 1 1 1 1 1 1 1 0.800000011920929 0.800000011920929 0.800000011920929 0.800000011920929 0.800000011920929 0.800000011920929 0.800000011920929 0.800000011920929 1 1 1 1 1 1 1 1 1 1 1 1 1 1 1 1 1 1 1 1 1 1 1 0.800000011920929 0.800000011920929 0.800000011920929 0.800000011920929 0.800000011920929 0.800000011920929 0.800000011920929 0.800000011920929 3 0 0 0 0 0 0 0 0 0 0 0 0 0 0 0 0 0 0 0 0 0 0 0 0 0 0 0 0 0 0 0 0 0.699999988079071 0.699999988079071;0 0 0 0 0 0 0 0 0 0 0 0 0 0 0 0 0 0 0 0 0 0 0 0 0 0 0 3 3 3 3 3 3 3 3 0 0 0 0 0 0 0 0 0 0 0 0 0 0 0 0 0 0 3 3 1 1 1 1 1 1 1 1 1 1 1 1 1 1 1 1 1 1 1 1 1 1 0.800000011920929 0.800000011920929 0.800000011920929 0.800000011920929 0.800000011920929 0.800000011920929 0.800000011920929 0.800000011920929 1 1 1 1 1 1 1 1 1 1 1 1 1 1 1 1 1 1 1 1 1 0.800000011920929 0.800000011920929 0.800000011920929 0.800000011920929 0.800000011920929 0.800000011920929 0.800000011920929 0.800000011920929 3 3 0 0 0 0 0 0 0 0 0 0 0 0 0 0 0 0 0 0 0 0 0 0 0 0 0 0 0 0 0 0 0.699999988079071 0.699999988079071 0.699999988079071 0.699999988079071;0 0 0 0 0 0 0 0 0 0 0 0 0 0 0 0 0 0 0 0 0 0 0 0 0 0 0 3 3 3 3 3 3 3 3 0 0 0 0 0 0 0 0 0 0 0 0 0 0 0 0 0 0 3 1 1 1 1 1 1 1 1 1 1 1 1 1 1 1 1 1 1 1 1 1 1 1 0.800000011920929 0.800000011920929 0.800000011920929 0.800000011920929 0.800000011920929 0.800000011920929 0.800000011920929 0.800000011920929 0.800000011920929 1 1 1 1 1 1 1 1 1 1 1 1 1 1 1 1 1 1 1 1 0.800000011920929 0.800000011920929 0.800000011920929 0.800000011920929 0.800000011920929 0.800000011920929 0.800000011920929 0.800000011920929 3 0 0 0 0 0 0 0 0 0 0 0 0 0 0 0 0 0 0 0 0 0 0 0 0 0 0 0 0 0.699999988079071 0.699999988079071 0.699999988079071 0.699999988079071 0.699999988079071 0.699999988079071 0.699999988079071;0 0 0 0 0 0 0 0 0 0 0 0 0 0 0 0 0 0 0 0 0 0 0 0 0 0 0 3 3 3 3 3 3 3 3 0 0 0 0 0 0 0 0 0 0 0 0 0 0 0 0 0 3 3 1 1 1 1 1 1 1 1 1 1 1 1 1 1 1 1 1 1 1 1 1 1 1 1 0.800000011920929 0.800000011920929 0.800000011920929 0.800000011920929 0.800000011920929 0.800000011920929 0.800000011920929 0.800000011920929 0.800000011920929 1 1 1 1 1 1 1 1 1 1 1 1 1 1 1 1 1 1 0.800000011920929 0.800000011920929 0.800000011920929 0.800000011920929 0.800000011920929 0.800000011920929 0.800000011920929 0.800000011920929 0.800000011920929 3 0 0 0 0 0 0 0 0 0 0 0 0 0 0 0 0 0 0 0 0 0 0 0 0 0 0.699999988079071 0.699999988079071 0.699999988079071 0.699999988079071 0.699999988079071 0.699999988079071 0.699999988079071 0.699999988079071 0.699999988079071 0.699999988079071;0 0 0 0 0 0 0 0 0 0 0 0 0 0 0 0 0 0 0 0 0 0 0 0 0 0 0 3 3 3 3 3 3 3 3 0 0 0 0 0 0 0 0 0 0 0 0 0 0 0 0 0 3 1 1 1 1 1 1 1 1 1 1 1 1 1 1 1 1 1 1 1 1 1 1 1 1 1 0.800000011920929 0.800000011920929 0.800000011920929 0.800000011920929 0.800000011920929 0.800000011920929 0.800000011920929 0.800000011920929 0.800000011920929 0.800000011920929 1 1 1 1 1 1 1 1 1 1 1 1 1 1 1 1 0.800000011920929 0.800000011920929 0.800000011920929 0.800000011920929 0.800000011920929 0.800000011920929 0.800000011920929 0.800000011920929 0.800000011920929 3 3 0 0 0 0 0 0 0 0 0 0 0 0 0 0 0 0 0 0 0 0 0 0 0 0.699999988079071 0.699999988079071 0.699999988079071 0.699999988079071 0.699999988079071 0.699999988079071 0.699999988079071 0.699999988079071 0.699999988079071 0.699999988079071 0.699999988079071 0.699999988079071;0 0 0 0 0 0 0 0 0 0 0 0 0 0 0 0 0 0 0 0 0 0 0 0 0 0 0 3 3 3 3 3 3 3 3 0 0 0 0 0 0 0 0 0 0 0 0 0 0 0 0 0 3 1 1 1 1 1 1 1 1 1 1 1 1 1 1 1 1 1 1 1 1 1 1 1 1 1 1 0.800000011920929 0.800000011920929 0.800000011920929 0.800000011920929 0.800000011920929 0.800000011920929 0.800000011920929 0.800000011920929 0.800000011920929 0.800000011920929 1 1 1 1 1 1 1 1 1 1 1 1 1 0.800000011920929 0.800000011920929 0.800000011920929 0.800000011920929 0.800000011920929 0.800000011920929 0.800000011920929 0.800000011920929 0.800000011920929 0.800000011920929 0.800000011920929 3 0 0 0 0 0 0 0 0 0 0 0 0 0 0 0 0 0 0 0 0 0 0.699999988079071 0.699999988079071 0.699999988079071 0.699999988079071 0.699999988079071 0.699999988079071 0.699999988079071 0.699999988079071 0.699999988079071 0.699999988079071 0.699999988079071 0.699999988079071 0.699999988079071 0.699999988079071 0.699999988079071;0 0 0 0 0 0 0 0 0 0 0 0 0 0 0 0 0 0 0 0 0 0 0 0 0 0 0 3 3 3 3 3 3 3 3 0 0 0 0 0 0 0 0 0 0 0 0 0 0 0 0 3 3 1 1 1 1 1 1 1 1 1 1 1 1 1 1 1 1 1 1 1 1 1 1 1 1 1 1 0.800000011920929 0.800000011920929 0.800000011920929 0.800000011920929 0.800000011920929 0.800000011920929 0.800000011920929 0.800000011920929 0.800000011920929 0.800000011920929 0.800000011920929 0.800000011920929 1 1 1 1 1 1 1 1 1 0.800000011920929 0.800000011920929 0.800000011920929 0.800000011920929 0.800000011920929 0.800000011920929 0.800000011920929 0.800000011920929 0.800000011920929 0.800000011920929 0.800000011920929 0.800000011920929 3 3 0 0 0 0 0 0 0 0 0 0 0 0 0 0 0 0 0 0 0 0.699999988079071 0.699999988079071 0.699999988079071 0.699999988079071 0.699999988079071 0.699999988079071 0.699999988079071 0.699999988079071 0.699999988079071 0.699999988079071 0.699999988079071 0.699999988079071 0.699999988079071 0.699999988079071 0.699999988079071 0.699999988079071 0.699999988079071;0 0 0 0 0 0 0 0 0 0 0 0 0 0 0 0 0 0 0 0 0 0 0 0 0 0 0 3 3 3 3 3 3 3 3 0 0 0 0 0 0 0 0 0 0 0 0 0 0 0 0 3 1 1 1 1 1 1 1 1 1 1 1 1 1 1 1 1 1 1 1 1 1 1 1 1 1 1 1 1 0.800000011920929 0.800000011920929 0.800000011920929 0.800000011920929 0.800000011920929 0.800000011920929 0.800000011920929 0.800000011920929 0.800000011920929 0.800000011920929 0.800000011920929 0.800000011920929 0.800000011920929 0.800000011920929 0.800000011920929 0.800000011920929 0.800000011920929 0.800000011920929 0.800000011920929 0.800000011920929 0.800000011920929 0.800000011920929 0.800000011920929 0.800000011920929 0.800000011920929 0.800000011920929 0.800000011920929 0.800000011920929 0.800000011920929 0.800000011920929 0.800000011920929 3 3 0 0 0 0 0 0 0 0 0 0 0 0 0 0 0 0 0 0.699999988079071 0.699999988079071 0.699999988079071 0.699999988079071 0.699999988079071 0.699999988079071 0.699999988079071 0.699999988079071 0.699999988079071 0.699999988079071 0.699999988079071 0.699999988079071 0.699999988079071 0.699999988079071 0.699999988079071 0.699999988079071 0.699999988079071 0.699999988079071 0.699999988079071 0.699999988079071;0 0 0 0 0 0 0 0 0 0 0 0 0 0 0 0 0 0 0 0 0 0 0 0 0 0 0 3 3 3 3 3 3 3 0 0 0 0 0 0 0 0 0 0 0 0 0 0 0 0 0 3 1 1 1 1 1 1 1 1 1 1 1 1 1 1 1 1 1 1 1 1 1 1 1 1 1 1 1 1 1 0.800000011920929 0.800000011920929 0.800000011920929 0.800000011920929 0.800000011920929 0.800000011920929 0.800000011920929 0.800000011920929 0.800000011920929 0.800000011920929 0.800000011920929 0.800000011920929 0.800000011920929 0.800000011920929 0.800000011920929 0.800000011920929 0.800000011920929 0.800000011920929 0.800000011920929 0.800000011920929 0.800000011920929 0.800000011920929 0.800000011920929 0.800000011920929 0.800000011920929 0.800000011920929 0.800000011920929 0.800000011920929 0.800000011920929 3 3 0 0 0 0 0 0 0 0 0 0 0 0 0 0 0 0 0.699999988079071 0.699999988079071 0.699999988079071 0.699999988079071 0.699999988079071 0.699999988079071 0.699999988079071 0.699999988079071 0.699999988079071 0.699999988079071 0.699999988079071 0.699999988079071 0.699999988079071 0.699999988079071 0.699999988079071 0.699999988079071 0.699999988079071 0.699999988079071 0.699999988079071 0.699999988079071 0.699999988079071 0.699999988079071;0 0 0 0 0 0 0 0 0 0 0 0 0 0 0 0 0 0 0 0 0 0 0 0 0 0 0 3 3 3 3 3 3 3 0 0 0 0 0 0 0 0 0 0 0 0 0 0 0 0 0 3 1 1 1 1 1 1 1 1 1 1 1 1 1 1 1 1 1 1 1 1 1 1 1 1 1 1 1 1 1 1 0.800000011920929 0.800000011920929 0.800000011920929 0.800000011920929 0.800000011920929 0.800000011920929 0.800000011920929 0.800000011920929 0.800000011920929 0.800000011920929 0.800000011920929 0.800000011920929 0.800000011920929 0.800000011920929 0.800000011920929 0.800000011920929 0.800000011920929 0.800000011920929 0.800000011920929 0.800000011920929 0.800000011920929 0.800000011920929 0.800000011920929 0.800000011920929 0.800000011920929 0.800000011920929 0.800000011920929 3 3 0 0 0 0 0 0 0 0 0 0 0 0 0 0 0.699999988079071 0.699999988079071 0.699999988079071 0.699999988079071 0.699999988079071 0.699999988079071 0.699999988079071 0.699999988079071 0.699999988079071 0.699999988079071 0.699999988079071 0.699999988079071 0.699999988079071 0.699999988079071 0.699999988079071 0.699999988079071 0.699999988079071 0.699999988079071 0.699999988079071 0.699999988079071 0.699999988079071 0.699999988079071 0.699999988079071 0.699999988079071 0.699999988079071;0 0 0 0 0 0 0 0 0 0 0 0 0 0 0 0 0 0 0 0 0 0 0 0 0 0 0 3 3 3 3 3 3 3 0 0 0 0 0 0 0 0 0 0 0 0 0 0 0 0 0 3 1 1 1 1 1 1 1 1 1 1 1 1 1 1 1 1 1 1 1 1 1 1 1 1 1 1 1 1 1 1 1 0.800000011920929 0.800000011920929 0.800000011920929 0.800000011920929 0.800000011920929 0.800000011920929 0.800000011920929 0.800000011920929 0.800000011920929 0.800000011920929 0.800000011920929 0.800000011920929 0.800000011920929 0.800000011920929 0.800000011920929 0.800000011920929 0.800000011920929 0.800000011920929 0.800000011920929 0.800000011920929 0.800000011920929 0.800000011920929 0.800000011920929 0.800000011920929 0.800000011920929 3 3 0 0 0 0 0 0 0 0 0 0 0 0 0 0.699999988079071 0.699999988079071 0.699999988079071 0.699999988079071 0.699999988079071 0.699999988079071 0.699999988079071 0.699999988079071 0.699999988079071 0.699999988079071 0.699999988079071 0.699999988079071 0.699999988079071 0.699999988079071 0.699999988079071 0.699999988079071 0.699999988079071 0.699999988079071 0.699999988079071 0.699999988079071 0.699999988079071 0.699999988079071 0.699999988079071 0.699999988079071 0.699999988079071 0.699999988079071 0.699999988079071;0 0 0 0 0 0 0 0 0 0 0 0 0 0 0 0 0 0 0 0 0 0 0 0 0 0 0 3 3 3 3 3 3 3 0 0 0 0 0 0 0 0 0 0 0 0 0 0 0 0 0 3 1 1 1 1 1 1 1 1 1 1 1 1 1 1 1 1 1 1 1 1 1 1 1 1 1 1 1 1 1 1 1 1 1 0.800000011920929 0.800000011920929 0.800000011920929 0.800000011920929 0.800000011920929 0.800000011920929 0.800000011920929 0.800000011920929 0.800000011920929 0.800000011920929 0.800000011920929 0.800000011920929 0.800000011920929 0.800000011920929 0.800000011920929 0.800000011920929 0.800000011920929 0.800000011920929 0.800000011920929 0.800000011920929 0.800000011920929 0.800000011920929 3 3 0 0 0 0 0 0 0 0 0 0 0 0 0.699999988079071 0.699999988079071 0.699999988079071 0.699999988079071 0.699999988079071 0.699999988079071 0.699999988079071 0.699999988079071 0.699999988079071 0.699999988079071 0.699999988079071 0.699999988079071 0.699999988079071 0.699999988079071 0.699999988079071 0.699999988079071 0.699999988079071 0.699999988079071 0.699999988079071 0.699999988079071 0.699999988079071 0.699999988079071 0.699999988079071 0.699999988079071 0.699999988079071 0.699999988079071 0.699999988079071 0.699999988079071 0.699999988079071;0 0 0 0 0 0 0 0 0 0 0 0 0 0 0 0 0 0 0 0 0 0 0 0 0 0 0 3 3 3 3 3 3 3 0 0 0 0 0 0 0 0 0 0 0 0 0 0 0 0 0 3 1 1 1 1 1 1 1 1 1 1 1 1 1 1 1 1 1 1 1 1 1 1 1 1 1 1 1 1 1 1 1 1 1 1 0.800000011920929 0.800000011920929 0.800000011920929 0.800000011920929 0.800000011920929 0.800000011920929 0.800000011920929 0.800000011920929 0.800000011920929 0.800000011920929 0.800000011920929 0.800000011920929 0.800000011920929 0.800000011920929 0.800000011920929 0.800000011920929 0.800000011920929 0.800000011920929 0.800000011920929 3 3 3 0 0 0 0 0 0 0 0 0 0 0 0.699999988079071 0.699999988079071 0.699999988079071 0.699999988079071 0.699999988079071 0.699999988079071 0.699999988079071 0.699999988079071 0.699999988079071 0.699999988079071 0.699999988079071 0.699999988079071 0.699999988079071 0.699999988079071 0.699999988079071 0.699999988079071 0.699999988079071 0.699999988079071 0.699999988079071 0.699999988079071 0.699999988079071 0.699999988079071 0.699999988079071 0.699999988079071 0.699999988079071 0.699999988079071 0.699999988079071 0.699999988079071 0.699999988079071 0.699999988079071 0.699999988079071;0 0 0 0 0 0 0 0 0 0 0 0 0 0 0 0 0 0 0 0 0 0 0 0 0 0 3 3 3 3 3 3 3 3 0 0 0 0 0 0 0 0 0 0 0 0 0 0 0 0 0 3 1 1 1 1 1 1 1 1 1 1 1 1 1 1 1 1 1 1 1 1 1 1 1 1 1 1 1 1 1 1 1 1 1 1 1 1 0.800000011920929 0.800000011920929 0.800000011920929 0.800000011920929 0.800000011920929 0.800000011920929 0.800000011920929 0.800000011920929 0.800000011920929 0.800000011920929 0.800000011920929 0.800000011920929 0.800000011920929 0.800000011920929 0.800000011920929 1 3 3 0 0 0 0 0 0 0 0 0 0 0 0.699999988079071 0.699999988079071 0.699999988079071 0.699999988079071 0.699999988079071 0.699999988079071 0.699999988079071 0.699999988079071 0.699999988079071 0.699999988079071 0.699999988079071 0.699999988079071 0.699999988079071 0.699999988079071 0.699999988079071 0.699999988079071 0.699999988079071 0.699999988079071 0.699999988079071 0.699999988079071 0.699999988079071 0.699999988079071 0.699999988079071 0.699999988079071 0.699999988079071 0.699999988079071 0.699999988079071 0.699999988079071 0.699999988079071 0.699999988079071 0.699999988079071 0.699999988079071 0.699999988079071;0 0 0 0 0 0 0 0 0 0 0 0 0 0 0 0 0 0 0 0 0 0 0 0 0 0 3 3 3 3 3 3 3 3 0 0 0 0 0 0 0 0 0 0 0 0 0 0 0 0 0 3 1 1 1 1 1 1 1 1 1 1 1 1 1 1 1 1 1 1 1 1 1 1 1 1 1 1 1 1 1 1 1 1 1 1 1 1 1 1 1 1 0.800000011920929 0.800000011920929 0.800000011920929 0.800000011920929 0.800000011920929 0.800000011920929 0.800000011920929 1 1 1 1 3 3 0 0 0 0 0 0 0 0 0 0.699999988079071 0.699999988079071 0.699999988079071 0.699999988079071 0.699999988079071 0.699999988079071 0.699999988079071 0.699999988079071 0.699999988079071 0.699999988079071 0.699999988079071 0.699999988079071 0.699999988079071 0.699999988079071 0.699999988079071 0.699999988079071 0.699999988079071 0.699999988079071 0.699999988079071 0.699999988079071 0.699999988079071 0.699999988079071 0.699999988079071 0.699999988079071 0.699999988079071 0.699999988079071 0.699999988079071 0.699999988079071 0.699999988079071 0.699999988079071 0.699999988079071 0.699999988079071 0.699999988079071 0.699999988079071 0.699999988079071 0.699999988079071;0 0 0 0 0 0 0 0 0 0 0 0 0 0 0 0 0 0 0 0 0 0 0 0 0 0 3 3 3 3 3 3 3 3 0.699999988079071 0 0 0 0 0 0 0 0 0 0 0 0 0 0 0 0 3 1 1 1 1 1 1 1 1 1 1 1 1 1 1 1 1 1 1 1 1 1 1 1 1 1 1 1 1 1 1 1 1 1 1 1 1 1 1 1 1 1 1 1 1 1 1 1 1 1 1 3 3 0 0 0 0 0 0 0 0 0.699999988079071 0.699999988079071 0.699999988079071 0.699999988079071 0.699999988079071 0.699999988079071 0.699999988079071 0.699999988079071 0.699999988079071 0.699999988079071 0.699999988079071 0.699999988079071 0.699999988079071 0.699999988079071 0.699999988079071 0.699999988079071 0.699999988079071 0.699999988079071 0.699999988079071 0.699999988079071 0.699999988079071 0.699999988079071 0.699999988079071 0.699999988079071 0.699999988079071 0.699999988079071 0.699999988079071 0.699999988079071 0.699999988079071 0.699999988079071 0.699999988079071 0.699999988079071 0.699999988079071 0.699999988079071 0.699999988079071 0.699999988079071 0.699999988079071 0.699999988079071;0 0 0 0 0 0 0 0 0 0 0 0 0 0 0 0 0 0 0 0 0 0 0 0 0 0 3 3 3 3 3 3 3 3 0.699999988079071 0.699999988079071 0.699999988079071 0 0 0 0 0 0 0 0 0 0 0 0 0 0 3 1 1 1 1 1 1 1 1 1 1 1 1 1 1 1 1 1 1 1 1 1 1 1 1 1 1 1 1 1 1 1 1 1 1 1 1 1 1 1 1 1 1 1 1 1 1 1 1 1 3 3 0 0 0 0 0 0 0 0.699999988079071 0.699999988079071 0.699999988079071 0.699999988079071 0.699999988079071 0.699999988079071 0.699999988079071 0.699999988079071 0.699999988079071 0.699999988079071 0.699999988079071 0.699999988079071 0.699999988079071 0.699999988079071 0.699999988079071 0.699999988079071 0.699999988079071 0.699999988079071 0.699999988079071 0.699999988079071 0.699999988079071 0.699999988079071 0.699999988079071 0.699999988079071 0.699999988079071 0.699999988079071 0.699999988079071 0.699999988079071 0.699999988079071 0.699999988079071 0.699999988079071 0.699999988079071 0.699999988079071 0.699999988079071 0.699999988079071 0.699999988079071 0.699999988079071 0.699999988079071 0.699999988079071 0.699999988079071;0 0 0 0 0 0 0 0 0 0 0 0 0 0 0 0 0 0 0 0 0 0 0 0 0 0 3 3 3 3 3 3 3 3 0.699999988079071 0.699999988079071 0.699999988079071 0.699999988079071 0.699999988079071 0 0 0 0 0 0 0 0 0 0 0 0 3 1 1 1 1 1 1 1 1 1 1 1 1 1 1 1 1 1 1 1 1 1 1 1 1 1 1 1 1 1 1 1 1 1 1 1 1 1 1 1 1 1 1 1 1 1 1 1 1 3 3 0 0 0 0 0 0 0.699999988079071 0.699999988079071 0.699999988079071 0.699999988079071 0.699999988079071 0.699999988079071 0.699999988079071 0.699999988079071 0.699999988079071 0.699999988079071 0.699999988079071 0.699999988079071 0.699999988079071 0.699999988079071 0.699999988079071 0.699999988079071 0.699999988079071 0.699999988079071 0.699999988079071 0.699999988079071 0.699999988079071 0.699999988079071 0.699999988079071 0.699999988079071 0.699999988079071 0.699999988079071 0.699999988079071 0.699999988079071 0.699999988079071 0.699999988079071 0.699999988079071 0.699999988079071 0.699999988079071 0.699999988079071 0.699999988079071 0.699999988079071 0.699999988079071 0.699999988079071 0.699999988079071 0.699999988079071 0.699999988079071 0.699999988079071;0 0 0 0 0 0 0 0 0 0 0 0 0 0 0 0 0 0 0 0 0 0 0 0 0 0 3 3 3 3 3 3 3 3 0.699999988079071 0.699999988079071 0.699999988079071 0.699999988079071 0.699999988079071 0.699999988079071 0.699999988079071 0 0 0 0 0 0 0 0 0 0 3 3 1 1 1 1 1 1 1 1 1 1 1 1 1 1 1 1 1 1 1 1 1 1 1 1 1 1 1 1 1 1 1 1 1 1 1 1 1 1 1 1 1 1 1 1 1 1 3 3 0 0 0 0 0 0.699999988079071 0.699999988079071 0.699999988079071 0.699999988079071 0.699999988079071 0.699999988079071 0.699999988079071 0.699999988079071 0.699999988079071 0.699999988079071 0.699999988079071 0.699999988079071 0.699999988079071 0.699999988079071 0.699999988079071 0.699999988079071 0.699999988079071 0.699999988079071 0.699999988079071 0.699999988079071 0.699999988079071 0.699999988079071 0.699999988079071 0.699999988079071 0.699999988079071 0.699999988079071 0.699999988079071 0.699999988079071 0.699999988079071 0.699999988079071 0.699999988079071 0.699999988079071 0.699999988079071 0.699999988079071 0.699999988079071 0.699999988079071 0.699999988079071 0.699999988079071 0.699999988079071 0.699999988079071 0.699999988079071 0.699999988079071 0.699999988079071 0.699999988079071;0 0 0 0 0 0 0 0 0 0 0 0 0 0 0 0 0 0 0 0 0 0 0 0 0 0 3 3 3 3 3 3 3 3 0.699999988079071 0.699999988079071 0.699999988079071 0.699999988079071 0.699999988079071 0.699999988079071 0.699999988079071 0.699999988079071 0.699999988079071 0 0 0 0 0 0 0 0 0 3 1 1 1 1 1 1 1 1 1 1 1 1 1 1 1 1 1 1 1 1 1 1 1 1 1 1 1 1 1 1 1 1 1 1 1 1 1 1 1 1 1 1 1 1 1 3 3 0 0 0 0 0.699999988079071 0.699999988079071 0.699999988079071 0.699999988079071 0.699999988079071 0.699999988079071 0.699999988079071 0.699999988079071 0.699999988079071 0.699999988079071 0.699999988079071 0.699999988079071 0.699999988079071 0.699999988079071 0.699999988079071 0.699999988079071 0.699999988079071 0.699999988079071 0.699999988079071 0.699999988079071 0.699999988079071 0.699999988079071 0.699999988079071 0.699999988079071 0.699999988079071 0.699999988079071 0.699999988079071 0.699999988079071 0.699999988079071 0.699999988079071 0.699999988079071 0.699999988079071 0.699999988079071 0.699999988079071 0.699999988079071 0.699999988079071 0.699999988079071 0.699999988079071 0.699999988079071 0.699999988079071 0.699999988079071 0.699999988079071 0.699999988079071 0.699999988079071 0.699999988079071 0.699999988079071;0 0 0 0 0 0 0 0 0 0 0 0 0 0 0 0 0 0 0 0 0 0 0 0 0 0 3 3 3 3 3 3 3 3 0.699999988079071 0.699999988079071 0.699999988079071 0.699999988079071 0.699999988079071 0.699999988079071 0.699999988079071 0.699999988079071 0.699999988079071 0.699999988079071 0 0 0 0 0 0 0 0 3 3 1 1 1 1 1 1 1 1 1 1 1 1 1 1 1 1 1 1 1 1 1 1 1 1 1 1 1 1 1 1 1 1 1 1 1 1 1 1 1 1 1 1 1 3 3 0 0 0 0 0.699999988079071 0.699999988079071 0.699999988079071 0.699999988079071 0.699999988079071 0.699999988079071 0.699999988079071 0.699999988079071 0.699999988079071 0.699999988079071 0.699999988079071 0.699999988079071 0.699999988079071 0.699999988079071 0.699999988079071 0.699999988079071 0.699999988079071 0.699999988079071 0.699999988079071 0.699999988079071 0.699999988079071 0.699999988079071 0.699999988079071 0.699999988079071 0.699999988079071 0.699999988079071 0.699999988079071 0.699999988079071 0.699999988079071 0.699999988079071 0.699999988079071 0.699999988079071 0.699999988079071 0.699999988079071 0.699999988079071 0.699999988079071 0.699999988079071 0.699999988079071 0.699999988079071 0.699999988079071 0.699999988079071 0.699999988079071 0.699999988079071 0.699999988079071 0.699999988079071 0.699999988079071 0.699999988079071;0 0 0 0 0 0 0 0 0 0 0 0 0 0 0 0 0 0 0 0 0 0 0 0 0 0 3 3 3 3 3 3 3 3 0.699999988079071 0.699999988079071 0.699999988079071 0.699999988079071 0.699999988079071 0.699999988079071 0.699999988079071 0.699999988079071 0.699999988079071 0.699999988079071 0.699999988079071 0.699999988079071 0 0 0 0 0 0 0 3 1 1 1 1 1 1 1 1 1 1 1 1 1 1 1 1 1 1 1 1 1 1 1 1 1 1 1 1 1 1 1 1 1 1 1 1 1 1 1 1 1 1 3 3 0 0 0 0.699999988079071 0.699999988079071 0.699999988079071 0.699999988079071 0.699999988079071 0.699999988079071 0.699999988079071 0.699999988079071 0.699999988079071 0.699999988079071 0.699999988079071 0.699999988079071 0.699999988079071 0.699999988079071 0.699999988079071 0.699999988079071 0.699999988079071 0.699999988079071 0.699999988079071 0.699999988079071 0.699999988079071 0.699999988079071 0.699999988079071 0.699999988079071 0.699999988079071 0.699999988079071 0.699999988079071 0.699999988079071 0.699999988079071 0.699999988079071 0.699999988079071 0.699999988079071 0.699999988079071 0.699999988079071 0.699999988079071 0.699999988079071 0.699999988079071 0.699999988079071 0.699999988079071 0.699999988079071 0.699999988079071 0.699999988079071 0.699999988079071 0.699999988079071 0.699999988079071 0.699999988079071 0.699999988079071 0.699999988079071 0.699999988079071;0 0 0 0 0 0 0 0 0 0 0 0 0 0 0 0 0 0 0 0 0 0 0 0 0 0 3 3 3 3 3 3 3 0.699999988079071 0.699999988079071 0.699999988079071 0.699999988079071 0.699999988079071 0.699999988079071 0.699999988079071 0.699999988079071 0.699999988079071 0.699999988079071 0.699999988079071 0.699999988079071 0.699999988079071 0.699999988079071 0.699999988079071 0 0 0 0 0 3 3 1 1 1 1 1 1 1 1 1 1 1 1 1 1 1 1 1 1 1 1 1 1 1 1 1 1 1 1 1 1 1 1 1 1 1 1 1 1 1 3 3 3 0 0 0.699999988079071 0.699999988079071 0.699999988079071 0.699999988079071 0.699999988079071 0.699999988079071 0.699999988079071 0.699999988079071 0.699999988079071 0.699999988079071 0.699999988079071 0.699999988079071 0.699999988079071 0.699999988079071 0.699999988079071 0.699999988079071 0.699999988079071 0.699999988079071 0.699999988079071 0.699999988079071 0.699999988079071 0.699999988079071 0.699999988079071 0.699999988079071 0.699999988079071 0.699999988079071 0.699999988079071 0.699999988079071 0.699999988079071 0.699999988079071 0.699999988079071 0.699999988079071 0.699999988079071 0.699999988079071 0.699999988079071 0.699999988079071 0.699999988079071 0.699999988079071 0.699999988079071 0.699999988079071 0.699999988079071 0.699999988079071 0.699999988079071 0.699999988079071 0.699999988079071 0.699999988079071 0.699999988079071 0.699999988079071 0.699999988079071 0.699999988079071 0.699999988079071;0 0 0 0 0 0 0 0 0 0 0 0 0 0 0 0 0 0 0 0 0 0 0 0 0 0 3 3 3 3 3 3 3 0.699999988079071 0.699999988079071 0.699999988079071 0.699999988079071 0.699999988079071 0.699999988079071 0.699999988079071 0.699999988079071 0.699999988079071 0.699999988079071 0.699999988079071 0.699999988079071 0.699999988079071 0.699999988079071 0.699999988079071 0.699999988079071 0 0 0 0 0 3 3 1 1 1 1 1 1 1 1 1 1 1 1 1 1 1 1 1 1 1 1 1 1 1 1 1 1 1 1 1 1 1 1 1 1 1 1 1 3 3 0 0 0.699999988079071 0.699999988079071 0.699999988079071 0.699999988079071 0.699999988079071 0.699999988079071 0.699999988079071 0.699999988079071 0.699999988079071 0.699999988079071 0.699999988079071 0.699999988079071 0.699999988079071 0.699999988079071 0.699999988079071 0.699999988079071 0.699999988079071 0.699999988079071 0.699999988079071 0.699999988079071 0.699999988079071 0.699999988079071 0.699999988079071 0.699999988079071 0.699999988079071 0.699999988079071 0.699999988079071 0.699999988079071 0.699999988079071 0.699999988079071 0.699999988079071 0.699999988079071 0.699999988079071 0.699999988079071 0.699999988079071 0.699999988079071 0.699999988079071 0.699999988079071 0.699999988079071 0.699999988079071 0.699999988079071 0.699999988079071 0.699999988079071 0.699999988079071 0.699999988079071 0.699999988079071 0.699999988079071 0.699999988079071 0.699999988079071 0.699999988079071 0.699999988079071 0.699999988079071 0.699999988079071;0 0 0 0 0 0 0 0 0 0 0 0 0 0 0 0 0 0 0 0 0 0 0 0 0 0 3 3 3 3 3 3 3 0.699999988079071 0.699999988079071 0.699999988079071 0.699999988079071 0.699999988079071 0.699999988079071 0.699999988079071 0.699999988079071 0.699999988079071 0.699999988079071 0.699999988079071 0.699999988079071 0.699999988079071 0.699999988079071 0.699999988079071 0.699999988079071 0.699999988079071 0.699999988079071 0 0 0 0 3 1 1 1 1 1 1 1 1 1 1 1 1 1 1 1 1 1 1 1 1 1 1 1 1 1 1 1 1 1 1 1 1 1 1 1 3 3 3 0 0.699999988079071 0.699999988079071 0.699999988079071 0.699999988079071 0.699999988079071 0.699999988079071 0.699999988079071 0.699999988079071 0.699999988079071 0.699999988079071 0.699999988079071 0.699999988079071 0.699999988079071 0.699999988079071 0.699999988079071 0.699999988079071 0.699999988079071 0.699999988079071 0.699999988079071 0.699999988079071 0.699999988079071 0.699999988079071 0.699999988079071 0.699999988079071 0.699999988079071 0.699999988079071 0.699999988079071 0.699999988079071 0.699999988079071 0.699999988079071 0.699999988079071 0.699999988079071 0.699999988079071 0.699999988079071 0.699999988079071 0.699999988079071 0.699999988079071 0.699999988079071 0.699999988079071 0.699999988079071 0.699999988079071 0.699999988079071 0.699999988079071 0.699999988079071 0.699999988079071 0.699999988079071 0.699999988079071 0.699999988079071 0.699999988079071 0.699999988079071 0.699999988079071 0.699999988079071 0.699999988079071 0.699999988079071 0.699999988079071;0 0 0 0 0 0 0 0 0 0 0 0 0 0 0 0 0 0 0 0 0 0 0 0 0 0 3 3 3 3 3 3 3 0.699999988079071 0.699999988079071 0.699999988079071 0.699999988079071 0.699999988079071 0.699999988079071 0.699999988079071 0.699999988079071 0.699999988079071 0.699999988079071 0.699999988079071 0.699999988079071 0.699999988079071 0.699999988079071 0.699999988079071 0.699999988079071 0.699999988079071 0.699999988079071 0.699999988079071 0 0 0 3 3 1 1 1 1 1 1 1 1 1 1 1 1 1 1 1 1 1 1 1 1 1 1 1 1 1 1 1 1 1 1 1 1 3 3 3 0 0 0.699999988079071 0.699999988079071 0.699999988079071 0.699999988079071 0.699999988079071 0.699999988079071 0.699999988079071 0.699999988079071 0.699999988079071 0.699999988079071 0.699999988079071 0.699999988079071 0.699999988079071 0.699999988079071 0.699999988079071 0.699999988079071 0.699999988079071 0.699999988079071 0.699999988079071 0.699999988079071 0.699999988079071 0.699999988079071 0.699999988079071 0.699999988079071 0.699999988079071 0.699999988079071 0.699999988079071 0.699999988079071 0.699999988079071 0.699999988079071 0.699999988079071 0.699999988079071 0.699999988079071 0.699999988079071 0.699999988079071 0.699999988079071 0.699999988079071 0.699999988079071 0.699999988079071 0.699999988079071 0.699999988079071 0.699999988079071 0.699999988079071 0.699999988079071 0.699999988079071 0.699999988079071 0.699999988079071 0.699999988079071 0.699999988079071 0.699999988079071 0.699999988079071 0.699999988079071 0.699999988079071 0.699999988079071 0.699999988079071 0.699999988079071;0 0 0 0 0 0 0 0 0 0 0 0 0 0 0 0 0 0 0 0 0 0 0 0 0 0 3 3 3 3 3 3 3 0.699999988079071 0.699999988079071 0.699999988079071 0.699999988079071 0.699999988079071 0.699999988079071 0.699999988079071 0.699999988079071 0.699999988079071 0.699999988079071 0.699999988079071 0.699999988079071 0.699999988079071 0.699999988079071 0.699999988079071 0.699999988079071 0.699999988079071 0.699999988079071 0.699999988079071 0.699999988079071 0 0 0 3 3 3 1 1 1 1 1 1 1 1 1 1 1 1 1 1 1 1 1 1 1 1 1 1 1 1 1 1 1 1 3 3 3 0 0 0.699999988079071 0.699999988079071 0.699999988079071 0.699999988079071 0.699999988079071 0.699999988079071 0.699999988079071 0.699999988079071 0.699999988079071 0.699999988079071 0.699999988079071 0.699999988079071 0.699999988079071 0.699999988079071 0.699999988079071 0.699999988079071 0.699999988079071 0.699999988079071 0.699999988079071 0.699999988079071 0.699999988079071 0.699999988079071 0.699999988079071 0.699999988079071 0.699999988079071 0.699999988079071 0.699999988079071 0.699999988079071 0.699999988079071 0.699999988079071 0.699999988079071 0.699999988079071 0.699999988079071 0.699999988079071 0.699999988079071 0.699999988079071 0.699999988079071 0.699999988079071 0.699999988079071 0.699999988079071 0.699999988079071 0.699999988079071 0.699999988079071 0.699999988079071 0.699999988079071 0.699999988079071 0.699999988079071 0.699999988079071 0.699999988079071 0.699999988079071 0.699999988079071 0.699999988079071 0.699999988079071 0.699999988079071 0.699999988079071 0.699999988079071 0.699999988079071 0.699999988079071;0 0 0 0 0 0 0 0 0 0 0 0 0 0 0 0 0 0 0 0 0 0 0 0 0 0 3 3 3 3 3 3 3 0.699999988079071 0.699999988079071 0.699999988079071 0.699999988079071 0.699999988079071 0.699999988079071 0.699999988079071 0.699999988079071 0.699999988079071 0.699999988079071 0.699999988079071 0.699999988079071 0.699999988079071 0.699999988079071 0.699999988079071 0.699999988079071 0.699999988079071 0.699999988079071 0.699999988079071 0.699999988079071 0.699999988079071 0.699999988079071 0 0 0 3 3 1 1 1 1 1 1 1 1 1 1 1 1 1 1 1 1 1 1 1 1 1 1 1 1 1 3 3 3 0 0 0.699999988079071 0.699999988079071 0.699999988079071 0.699999988079071 0.699999988079071 0.699999988079071 0.699999988079071 0.699999988079071 0.699999988079071 0.699999988079071 0.699999988079071 0.699999988079071 0.699999988079071 0.699999988079071 0.699999988079071 0.699999988079071 0.699999988079071 0.699999988079071 0.699999988079071 0.699999988079071 0.699999988079071 0.699999988079071 0.699999988079071 0.699999988079071 0.699999988079071 0.699999988079071 0.699999988079071 0.699999988079071 0.699999988079071 0.699999988079071 0.699999988079071 0.699999988079071 0.699999988079071 0.699999988079071 0.699999988079071 0.699999988079071 0.699999988079071 0.699999988079071 0.699999988079071 0.699999988079071 0.699999988079071 0.699999988079071 0.699999988079071 0.699999988079071 0.699999988079071 0.699999988079071 0.699999988079071 0.699999988079071 0.699999988079071 0.699999988079071 0.699999988079071 0.699999988079071 0.699999988079071 0.699999988079071 0.699999988079071 0.699999988079071 0.699999988079071 0.699999988079071 0.699999988079071 0.699999988079071;0 0 0 0 0 0 0 0 0 0 0 0 0 0 0 0 0 0 0 0 0 0 0 0 0 0 3 3 3 3 3 3 3 0.699999988079071 0.699999988079071 0.699999988079071 0.699999988079071 0.699999988079071 0.699999988079071 0.699999988079071 0.699999988079071 0.699999988079071 0.699999988079071 0.699999988079071 0.699999988079071 0.699999988079071 0.699999988079071 0.699999988079071 0.699999988079071 0.699999988079071 0.699999988079071 0.699999988079071 0.699999988079071 0.699999988079071 0.699999988079071 0.699999988079071 0 0 0 3 3 3 1 1 1 1 1 1 1 1 1 1 1 1 1 1 1 1 1 1 1 1 3 3 3 3 0 0 0.699999988079071 0.699999988079071 0.699999988079071 0.699999988079071 0.699999988079071 0.699999988079071 0.699999988079071 0.699999988079071 0.699999988079071 0.699999988079071 0.699999988079071 0.699999988079071 0.699999988079071 0.699999988079071 0.699999988079071 0.699999988079071 0.699999988079071 0.699999988079071 0.699999988079071 0.699999988079071 0.699999988079071 0.699999988079071 0.699999988079071 0.699999988079071 0.699999988079071 0.699999988079071 0.699999988079071 0.699999988079071 0.699999988079071 0.699999988079071 0.699999988079071 0.699999988079071 0.699999988079071 0.699999988079071 0.699999988079071 0.699999988079071 0.699999988079071 0.699999988079071 0.699999988079071 0.699999988079071 0.699999988079071 0.699999988079071 0.699999988079071 0.699999988079071 0.699999988079071 0.699999988079071 0.699999988079071 0.699999988079071 0.699999988079071 0.699999988079071 0.699999988079071 0.699999988079071 0.699999988079071 0.699999988079071 0.699999988079071 0.699999988079071 0.699999988079071 0.699999988079071 0.699999988079071 0.699999988079071 0.699999988079071 0.699999988079071;0 0 0 0 0 0 0 0 0 0 0 0 0 0 0 0 0 0 0 0 0 0 0 0 0 0 3 3 3 3 3 3 3 0.699999988079071 0.699999988079071 0.699999988079071 0.699999988079071 0.699999988079071 0.699999988079071 0.699999988079071 0.699999988079071 0.699999988079071 0.699999988079071 0.699999988079071 0.699999988079071 0.699999988079071 0.699999988079071 0.699999988079071 0.699999988079071 0.699999988079071 0.699999988079071 0.699999988079071 0.699999988079071 0.699999988079071 0.699999988079071 0.699999988079071 0.699999988079071 0 0 0 0 3 3 3 3 3 1 1 1 1 1 1 1 1 1 1 1 1 3 3 3 3 3 0 0 0 0 0.699999988079071 0.699999988079071 0.699999988079071 0.699999988079071 0.699999988079071 0.699999988079071 0.699999988079071 0.699999988079071 0.699999988079071 0.699999988079071 0.699999988079071 0.699999988079071 0.699999988079071 0.699999988079071 0.699999988079071 0.699999988079071 0.699999988079071 0.699999988079071 0.699999988079071 0.699999988079071 0.699999988079071 0.699999988079071 0.699999988079071 0.699999988079071 0.699999988079071 0.699999988079071 0.699999988079071 0.699999988079071 0.699999988079071 0.699999988079071 0.699999988079071 0.699999988079071 0.699999988079071 0.699999988079071 0.699999988079071 0.699999988079071 0.699999988079071 0.699999988079071 0.699999988079071 0.699999988079071 0.699999988079071 0.699999988079071 0.699999988079071 0.699999988079071 0.699999988079071 0.699999988079071 0.699999988079071 0.699999988079071 0.699999988079071 0.699999988079071 0.699999988079071 0.699999988079071 0.699999988079071 0.699999988079071 0.699999988079071 0.699999988079071 0.699999988079071 0.699999988079071 0.699999988079071 0.699999988079071 0.699999988079071 0.699999988079071 0.699999988079071;0 0 0 0 0 0 0 0 0 0 0 0 0 0 0 0 0 0 0 0 0 0 0 0 0 0 3 3 3 3 3 3 3 0.699999988079071 0.699999988079071 0.699999988079071 0.699999988079071 0.699999988079071 0.699999988079071 0.699999988079071 0.699999988079071 0.699999988079071 0.699999988079071 0.699999988079071 0.699999988079071 0.699999988079071 0.699999988079071 0.699999988079071 0.699999988079071 0.699999988079071 0.699999988079071 0.699999988079071 0.699999988079071 0.699999988079071 0.699999988079071 0.699999988079071 0.699999988079071 0.699999988079071 0.699999988079071 0 0 0 0 0 0 3 3 3 3 3 3 3 3 3 3 3 3 3 3 0 0 0 0 0 0 0.699999988079071 0.699999988079071 0.699999988079071 0.699999988079071 0.699999988079071 0.699999988079071 0.699999988079071 0.699999988079071 0.699999988079071 0.699999988079071 0.699999988079071 0.699999988079071 0.699999988079071 0.699999988079071 0.699999988079071 0.699999988079071 0.699999988079071 0.699999988079071 0.699999988079071 0.699999988079071 0.699999988079071 0.699999988079071 0.699999988079071 0.699999988079071 0.699999988079071 0.699999988079071 0.699999988079071 0.699999988079071 0.699999988079071 0.699999988079071 0.699999988079071 0.699999988079071 0.699999988079071 0.699999988079071 0.699999988079071 0.699999988079071 0.699999988079071 0.699999988079071 0.699999988079071 0.699999988079071 0.699999988079071 0.699999988079071 0.699999988079071 0.699999988079071 0.699999988079071 0.699999988079071 0.699999988079071 0.699999988079071 0.699999988079071 0.699999988079071 0.699999988079071 0.699999988079071 0.699999988079071 0.699999988079071 0.699999988079071 0.699999988079071 0.699999988079071 0.699999988079071 0.699999988079071 0.699999988079071 0.699999988079071 0.699999988079071 0.699999988079071 0.699999988079071 0.699999988079071;0 0 0 0 0 0 0 0 0 0 0 0 0 0 0 0 0 0 0 0 0 0 0 0 0 0 3 3 3 3 3 3 3 0.699999988079071 0.699999988079071 0.699999988079071 0.699999988079071 0.699999988079071 0.699999988079071 0.699999988079071 0.699999988079071 0.699999988079071 0.699999988079071 0.699999988079071 0.699999988079071 0.699999988079071 0.699999988079071 0.699999988079071 0.699999988079071 0.699999988079071 0.699999988079071 0.699999988079071 0.699999988079071 0.699999988079071 0.699999988079071 0.699999988079071 0.699999988079071 0.699999988079071 0.699999988079071 0.699999988079071 0 0 0 0 0 0 0 0 0 0 0 0 0 0 0 0 0 0 0 0 0 0 0 0 0.699999988079071 0.699999988079071 0.699999988079071 0.699999988079071 0.699999988079071 0.699999988079071 0.699999988079071 0.699999988079071 0.699999988079071 0.699999988079071 0.699999988079071 0.699999988079071 0.699999988079071 0.699999988079071 0.699999988079071 0.699999988079071 0.699999988079071 0.699999988079071 0.699999988079071 0.699999988079071 0.699999988079071 0.699999988079071 0.699999988079071 0.699999988079071 0.699999988079071 0.699999988079071 0.699999988079071 0.699999988079071 0.699999988079071 0.699999988079071 0.699999988079071 0.699999988079071 0.699999988079071 0.699999988079071 0.699999988079071 0.699999988079071 0.699999988079071 0.699999988079071 0.699999988079071 0.699999988079071 0.699999988079071 0.699999988079071 0.699999988079071 0.699999988079071 0.699999988079071 0.699999988079071 0.699999988079071 0.699999988079071 0.699999988079071 0.699999988079071 0.699999988079071 0.699999988079071 0.699999988079071 0.699999988079071 0.699999988079071 0.699999988079071 0.699999988079071 0.699999988079071 0.699999988079071 0.699999988079071 0.699999988079071 0.699999988079071 0.699999988079071 0.699999988079071 0.699999988079071 0.699999988079071;0 0 0 0 0 0 0 0 0 0 0 0 0 0 0 0 0 0 0 0 0 0 0 0 0 0 3 3 3 3 3 3 3 0.699999988079071 0.699999988079071 0.699999988079071 0.699999988079071 0.699999988079071 0.699999988079071 0.699999988079071 0.699999988079071 0.699999988079071 0.699999988079071 0.699999988079071 0.699999988079071 0.699999988079071 0.699999988079071 0.699999988079071 0.699999988079071 0.699999988079071 0.699999988079071 0.699999988079071 0.699999988079071 0.699999988079071 0.699999988079071 0.699999988079071 0.699999988079071 0.699999988079071 0.699999988079071 0.699999988079071 0.699999988079071 0 0 0 0 0 0 0 0 0 0 0 0 0 0 0 0 0 0 0 0 0 0.699999988079071 0.699999988079071 0.699999988079071 0.699999988079071 0.699999988079071 0.699999988079071 0.699999988079071 0.699999988079071 0.699999988079071 0.699999988079071 0.699999988079071 0.699999988079071 0.699999988079071 0.699999988079071 0.699999988079071 0.699999988079071 0.699999988079071 0.699999988079071 0.699999988079071 0.699999988079071 0.699999988079071 0.699999988079071 0.699999988079071 0.699999988079071 0.699999988079071 0.699999988079071 0.699999988079071 0.699999988079071 0.699999988079071 0.699999988079071 0.699999988079071 0.699999988079071 0.699999988079071 0.699999988079071 0.699999988079071 0.699999988079071 0.699999988079071 0.699999988079071 0.699999988079071 0.699999988079071 0.699999988079071 0.699999988079071 0.699999988079071 0.699999988079071 0.699999988079071 0.699999988079071 0.699999988079071 0.699999988079071 0.699999988079071 0.699999988079071 0.699999988079071 0.699999988079071 0.699999988079071 0.699999988079071 0.699999988079071 0.699999988079071 0.699999988079071 0.699999988079071 0.699999988079071 0.699999988079071 0.699999988079071 0.699999988079071 0.699999988079071 0.699999988079071 0.699999988079071 0.699999988079071 0.699999988079071 0.699999988079071;0 0 0 0 0 0 0 0 0 0 0 0 0 0 0 0 0 0 0 0 0 0 0 0 0 0 3 3 3 3 3 3 3 0.699999988079071 0.699999988079071 0.699999988079071 0.699999988079071 0.699999988079071 0.699999988079071 0.699999988079071 0.699999988079071 0.699999988079071 0.699999988079071 0.699999988079071 0.699999988079071 0.699999988079071 0.699999988079071 0.699999988079071 0.699999988079071 0.699999988079071 0.699999988079071 0.699999988079071 0.699999988079071 0.699999988079071 0.699999988079071 0.699999988079071 0.699999988079071 0.699999988079071 0.699999988079071 0.699999988079071 0.699999988079071 0.699999988079071 0 0 0 0 0 0 0 0 0 0 0 0 0 0 0 0.699999988079071 0.699999988079071 0.699999988079071 0.699999988079071 0.699999988079071 0.699999988079071 0.699999988079071 0.699999988079071 0.699999988079071 0.699999988079071 0.699999988079071 0.699999988079071 0.699999988079071 0.699999988079071 0.699999988079071 0.699999988079071 0.699999988079071 0.699999988079071 0.699999988079071 0.699999988079071 0.699999988079071 0.699999988079071 0.699999988079071 0.699999988079071 0.699999988079071 0.699999988079071 0.699999988079071 0.699999988079071 0.699999988079071 0.699999988079071 0.699999988079071 0.699999988079071 0.699999988079071 0.699999988079071 0.699999988079071 0.699999988079071 0.699999988079071 0.699999988079071 0.699999988079071 0.699999988079071 0.699999988079071 0.699999988079071 0.699999988079071 0.699999988079071 0.699999988079071 0.699999988079071 0.699999988079071 0.699999988079071 0.699999988079071 0.699999988079071 0.699999988079071 0.699999988079071 0.699999988079071 0.699999988079071 0.699999988079071 0.699999988079071 0.699999988079071 0.699999988079071 0.699999988079071 0.699999988079071 0.699999988079071 0.699999988079071 0.699999988079071 0.699999988079071 0.699999988079071 0.699999988079071 0.699999988079071 0.699999988079071 0.699999988079071 0.699999988079071 0.699999988079071 0.699999988079071 0.699999988079071;0 0 0 0 0 0 0 0 0 0 0 0 0 0 0 0 0 0 0 0 0 0 0 0 0 0 3 3 3 3 3 3 3 0.699999988079071 0.699999988079071 0.699999988079071 0.699999988079071 0.699999988079071 0.699999988079071 0.699999988079071 0.699999988079071 0.699999988079071 0.699999988079071 0.699999988079071 0.699999988079071 0.699999988079071 0.699999988079071 0.699999988079071 0.699999988079071 0.699999988079071 0.699999988079071 0.699999988079071 0.699999988079071 0.699999988079071 0.699999988079071 0.699999988079071 0.699999988079071 0.699999988079071 0.699999988079071 0.699999988079071 0.699999988079071 0.699999988079071 0.699999988079071 0 0 0 0 0 0 0 0 0 0.699999988079071 0.699999988079071 0.699999988079071 0.699999988079071 0.699999988079071 0.699999988079071 0.699999988079071 0.699999988079071 0.699999988079071 0.699999988079071 0.699999988079071 0.699999988079071 0.699999988079071 0.699999988079071 0.699999988079071 0.699999988079071 0.699999988079071 0.699999988079071 0.699999988079071 0.699999988079071 0.699999988079071 0.699999988079071 0.699999988079071 0.699999988079071 0.699999988079071 0.699999988079071 0.699999988079071 0.699999988079071 0.699999988079071 0.699999988079071 0.699999988079071 0.699999988079071 0.699999988079071 0.699999988079071 0.699999988079071 0.699999988079071 0.699999988079071 0.699999988079071 0.699999988079071 0.699999988079071 0.699999988079071 0.699999988079071 0.699999988079071 0.699999988079071 0.699999988079071 0.699999988079071 0.699999988079071 0.699999988079071 0.699999988079071 0.699999988079071 0.699999988079071 0.699999988079071 0.699999988079071 0.699999988079071 0.699999988079071 0.699999988079071 0.699999988079071 0.699999988079071 0.699999988079071 0.699999988079071 0.699999988079071 0.699999988079071 0.699999988079071 0.699999988079071 0.699999988079071 0.699999988079071 0.699999988079071 0.699999988079071 0.699999988079071 0.699999988079071 0.699999988079071 0.699999988079071 0.699999988079071 0.699999988079071 0.699999988079071 0.699999988079071 0.699999988079071 0.699999988079071;0 0 0 0 0 0 0 0 0 0 0 0 0 0 0 0 0 0 0 0 0 0 0 0 0 0 3 3 3 3 3 3 3 0.699999988079071 0.699999988079071 0.699999988079071 0.699999988079071 0.699999988079071 0.699999988079071 0.699999988079071 0.699999988079071 0.699999988079071 0.699999988079071 0.699999988079071 0.699999988079071 0.699999988079071 0.699999988079071 0.699999988079071 0.699999988079071 0.699999988079071 0.699999988079071 0.699999988079071 0.699999988079071 0.699999988079071 0.699999988079071 0.699999988079071 0.699999988079071 0.699999988079071 0.699999988079071 0.699999988079071 0.699999988079071 0.699999988079071 0.699999988079071 0.699999988079071 0 0 0 0.699999988079071 0.699999988079071 0.699999988079071 0.699999988079071 0.699999988079071 0.699999988079071 0.699999988079071 0.699999988079071 0.699999988079071 0.699999988079071 0.699999988079071 0.699999988079071 0.699999988079071 0.699999988079071 0.699999988079071 0.699999988079071 0.699999988079071 0.699999988079071 0.699999988079071 0.699999988079071 0.699999988079071 0.699999988079071 0.699999988079071 0.699999988079071 0.699999988079071 0.699999988079071 0.699999988079071 0.699999988079071 0.699999988079071 0.699999988079071 0.699999988079071 0.699999988079071 0.699999988079071 0.699999988079071 0.699999988079071 0.699999988079071 0.699999988079071 0.699999988079071 0.699999988079071 0.699999988079071 0.699999988079071 0.699999988079071 0.699999988079071 0.699999988079071 0.699999988079071 0.699999988079071 0.699999988079071 0.699999988079071 0.699999988079071 0.699999988079071 0.699999988079071 0.699999988079071 0.699999988079071 0.699999988079071 0.699999988079071 0.699999988079071 0.699999988079071 0.699999988079071 0.699999988079071 0.699999988079071 0.699999988079071 0.699999988079071 0.699999988079071 0.699999988079071 0.699999988079071 0.699999988079071 0.699999988079071 0.699999988079071 0.699999988079071 0.699999988079071 0.699999988079071 0.699999988079071 0.699999988079071 0.699999988079071 0.699999988079071 0.699999988079071 0.699999988079071 0.699999988079071 0.699999988079071 0.699999988079071 0.699999988079071 0.699999988079071 0.699999988079071;0 0 0 0 0 0 0 0 0 0 0 0 0 0 0 0 0 0 0 0 0 0 0 0 0 0 3 3 3 3 3 3 3 0.699999988079071 0.699999988079071 0.699999988079071 0.699999988079071 0.699999988079071 0.699999988079071 0.699999988079071 0.699999988079071 0.699999988079071 0.699999988079071 0.699999988079071 0.699999988079071 0.699999988079071 0.699999988079071 0.699999988079071 0.699999988079071 0.699999988079071 0.699999988079071 0.699999988079071 0.699999988079071 0.699999988079071 0.699999988079071 0.699999988079071 0.699999988079071 0.699999988079071 0.699999988079071 0.699999988079071 0.699999988079071 0.699999988079071 0.699999988079071 0.699999988079071 0.699999988079071 0.699999988079071 0.699999988079071 0.699999988079071 0.699999988079071 0.699999988079071 0.699999988079071 0.699999988079071 0.699999988079071 0.699999988079071 0.699999988079071 0.699999988079071 0.699999988079071 0.699999988079071 0.699999988079071 0.699999988079071 0.699999988079071 0.699999988079071 0.699999988079071 0.699999988079071 0.699999988079071 0.699999988079071 0.699999988079071 0.699999988079071 0.699999988079071 0.699999988079071 0.699999988079071 0.699999988079071 0.699999988079071 0.699999988079071 0.699999988079071 0.699999988079071 0.699999988079071 0.699999988079071 0.699999988079071 0.699999988079071 0.699999988079071 0.699999988079071 0.699999988079071 0.699999988079071 0.699999988079071 0.699999988079071 0.699999988079071 0.699999988079071 0.699999988079071 0.699999988079071 0.699999988079071 0.699999988079071 0.699999988079071 0.699999988079071 0.699999988079071 0.699999988079071 0.699999988079071 0.699999988079071 0.699999988079071 0.699999988079071 0.699999988079071 0.699999988079071 0.699999988079071 0.699999988079071 0.699999988079071 0.699999988079071 0.699999988079071 0.699999988079071 0.699999988079071 0.699999988079071 0.699999988079071 0.699999988079071 0.699999988079071 0.699999988079071 0.699999988079071 0.699999988079071 0.699999988079071 0.699999988079071 0.699999988079071 0.699999988079071 0.699999988079071 0.699999988079071 0.699999988079071 0.699999988079071 0.699999988079071 0.699999988079071 0.699999988079071 0.699999988079071 0.699999988079071 0.699999988079071;0 0 0 0 0 0 0 0 0 0 0 0 0 0 0 0 0 0 0 0 0 0 0 0 0 0 3 3 3 3 3 3 3 0.699999988079071 0.699999988079071 0.699999988079071 0.699999988079071 0.699999988079071 0.699999988079071 0.699999988079071 0.699999988079071 0.699999988079071 0.699999988079071 0.699999988079071 0.699999988079071 0.699999988079071 0.699999988079071 0.699999988079071 0.699999988079071 0.699999988079071 0.699999988079071 0.699999988079071 0.699999988079071 0.699999988079071 0.699999988079071 0.699999988079071 0.699999988079071 0.699999988079071 0.699999988079071 0.699999988079071 0.699999988079071 0.699999988079071 0.699999988079071 0.699999988079071 0.699999988079071 0.699999988079071 0.699999988079071 0.699999988079071 0.699999988079071 0.699999988079071 0.699999988079071 0.699999988079071 0.699999988079071 0.699999988079071 0.699999988079071 0.699999988079071 0.699999988079071 0.699999988079071 0.699999988079071 0.699999988079071 0.699999988079071 0.699999988079071 0.699999988079071 0.699999988079071 0.699999988079071 0.699999988079071 0.699999988079071 0.699999988079071 0.699999988079071 0.699999988079071 0.699999988079071 0.699999988079071 0.699999988079071 0.699999988079071 0.699999988079071 0.699999988079071 0.699999988079071 0.699999988079071 0.699999988079071 0.699999988079071 0.699999988079071 0.699999988079071 0.699999988079071 0.699999988079071 0.699999988079071 0.699999988079071 0.699999988079071 0.699999988079071 0.699999988079071 0.699999988079071 0.699999988079071 0.699999988079071 0.699999988079071 0.699999988079071 0.699999988079071 0.699999988079071 0.699999988079071 0.699999988079071 0.699999988079071 0.699999988079071 0.699999988079071 0.699999988079071 0.699999988079071 0.699999988079071 0.699999988079071 0.699999988079071 0.699999988079071 0.699999988079071 0.699999988079071 0.699999988079071 0.699999988079071 0.699999988079071 0.699999988079071 0.699999988079071 0.699999988079071 0.699999988079071 0.699999988079071 0.699999988079071 0.699999988079071 0.699999988079071 0.699999988079071 0.699999988079071 0.699999988079071 0.699999988079071 0.699999988079071 0.699999988079071 0.699999988079071 0.699999988079071 0.699999988079071 0.699999988079071;0 0 0 0 0 0 0 0 0 0 0 0 0 0 0 0 0 0 0 0 0 0 0 0 0 0 3 3 3 3 3 3 3 0.699999988079071 0.699999988079071 0.699999988079071 0.699999988079071 0.699999988079071 0.699999988079071 0.699999988079071 0.699999988079071 0.699999988079071 0.699999988079071 0.699999988079071 0.699999988079071 0.699999988079071 0.699999988079071 0.699999988079071 0.699999988079071 0.699999988079071 0.699999988079071 0.699999988079071 0.699999988079071 0.699999988079071 0.699999988079071 0.699999988079071 0.699999988079071 0.699999988079071 0.699999988079071 0.699999988079071 0.699999988079071 0.699999988079071 0.699999988079071 0.699999988079071 0.699999988079071 0.699999988079071 0.699999988079071 0.699999988079071 0.699999988079071 0.699999988079071 0.699999988079071 0.699999988079071 0.699999988079071 0.699999988079071 0.699999988079071 0.699999988079071 0.699999988079071 0.699999988079071 0.699999988079071 0.699999988079071 0.699999988079071 0.699999988079071 0.699999988079071 0.699999988079071 0.699999988079071 0.699999988079071 0.699999988079071 0.699999988079071 0.699999988079071 0.699999988079071 0.699999988079071 0.699999988079071 0.699999988079071 0.699999988079071 0.699999988079071 0.699999988079071 0.699999988079071 0.699999988079071 0.699999988079071 0.699999988079071 0.699999988079071 0.699999988079071 0.699999988079071 0.699999988079071 0.699999988079071 0.699999988079071 0.699999988079071 0.699999988079071 0.699999988079071 0.699999988079071 0.699999988079071 0.699999988079071 0.699999988079071 0.699999988079071 0.699999988079071 0.699999988079071 0.699999988079071 0.699999988079071 0.699999988079071 0.699999988079071 0.699999988079071 0.699999988079071 0.699999988079071 0.699999988079071 0.699999988079071 0.699999988079071 0.699999988079071 0.699999988079071 0.699999988079071 0.699999988079071 0.699999988079071 0.699999988079071 0.699999988079071 0.699999988079071 0.699999988079071 0.699999988079071 0.699999988079071 0.699999988079071 0.699999988079071 0.699999988079071 0.699999988079071 0.699999988079071 0.699999988079071 0.699999988079071 0.699999988079071 0.699999988079071 0.699999988079071 0.699999988079071 0.699999988079071 0.699999988079071;0 0 0 0 0 0 0 0 0 0 0 0 0 0 0 0 0 0 0 0 0 0 0 0 0 0 3 3 3 3 3 3 3 0.699999988079071 0.699999988079071 0.699999988079071 0.699999988079071 0.699999988079071 0.699999988079071 0.699999988079071 0.699999988079071 0.699999988079071 0.699999988079071 0.699999988079071 0.699999988079071 0.699999988079071 0.699999988079071 0.699999988079071 0.699999988079071 0.699999988079071 0.699999988079071 0.699999988079071 0.699999988079071 0.699999988079071 0.699999988079071 0.699999988079071 0.699999988079071 0.699999988079071 0.699999988079071 0.699999988079071 0.699999988079071 0.699999988079071 0.699999988079071 0.699999988079071 0.699999988079071 0.699999988079071 0.699999988079071 0.699999988079071 0.699999988079071 0.699999988079071 0.699999988079071 0.699999988079071 0.699999988079071 0.699999988079071 0.699999988079071 0.699999988079071 0.699999988079071 0.699999988079071 0.699999988079071 0.699999988079071 0.699999988079071 0.699999988079071 0.699999988079071 0.699999988079071 0.699999988079071 0.699999988079071 0.699999988079071 0.699999988079071 0.699999988079071 0.699999988079071 0.699999988079071 0.699999988079071 0.699999988079071 0.699999988079071 0.699999988079071 0.699999988079071 0.699999988079071 0.699999988079071 0.699999988079071 0.699999988079071 0.699999988079071 0.699999988079071 0.699999988079071 0.699999988079071 0.699999988079071 0.699999988079071 0.699999988079071 0.699999988079071 0.699999988079071 0.699999988079071 0.699999988079071 0.699999988079071 0.699999988079071 0.699999988079071 0.699999988079071 0.699999988079071 0.699999988079071 0.699999988079071 0.699999988079071 0.699999988079071 0.699999988079071 0.699999988079071 0.699999988079071 0.699999988079071 0.699999988079071 0.699999988079071 0.699999988079071 0.699999988079071 0.699999988079071 0.699999988079071 0.699999988079071 0.699999988079071 0.699999988079071 0.699999988079071 0.699999988079071 0.699999988079071 0.699999988079071 0.699999988079071 0.699999988079071 0.699999988079071 0.699999988079071 0.699999988079071 0.699999988079071 0.699999988079071 0.699999988079071 0.699999988079071 0.699999988079071 0.699999988079071 0.699999988079071 0.699999988079071;0 0 0 0 0 0 0 0 0 0 0 0 0 0 0 0 0 0 0 0 0 0 0 0 0 0 3 3 3 3 3 3 3 0.699999988079071 0.699999988079071 0.699999988079071 0.699999988079071 0.699999988079071 0.699999988079071 0.699999988079071 0.699999988079071 0.699999988079071 0.699999988079071 0.699999988079071 0.699999988079071 0.699999988079071 0.699999988079071 0.699999988079071 0.699999988079071 0.699999988079071 0.699999988079071 0.699999988079071 0.699999988079071 0.699999988079071 0.699999988079071 0.699999988079071 0.699999988079071 0.699999988079071 0.699999988079071 0.699999988079071 0.699999988079071 0.699999988079071 0.699999988079071 0.699999988079071 0.699999988079071 0.699999988079071 0.699999988079071 0.699999988079071 0.699999988079071 0.699999988079071 0.699999988079071 0.699999988079071 0.699999988079071 0.699999988079071 0.699999988079071 0.699999988079071 0.699999988079071 0.699999988079071 0.699999988079071 0.699999988079071 0.699999988079071 0.699999988079071 0.699999988079071 0.699999988079071 0.699999988079071 0.699999988079071 0.699999988079071 0.699999988079071 0.699999988079071 0.699999988079071 0.699999988079071 0.699999988079071 0.699999988079071 0.699999988079071 0.699999988079071 0.699999988079071 0.699999988079071 0.699999988079071 0.699999988079071 0.699999988079071 0.699999988079071 0.699999988079071 0.699999988079071 0.699999988079071 0.699999988079071 0.699999988079071 0.699999988079071 0.699999988079071 0.699999988079071 0.699999988079071 0.699999988079071 0.699999988079071 0.699999988079071 0.699999988079071 0.699999988079071 0.699999988079071 0.699999988079071 0.699999988079071 0.699999988079071 0.699999988079071 0.699999988079071 0.699999988079071 0.699999988079071 0.699999988079071 0.699999988079071 0.699999988079071 0.699999988079071 0.699999988079071 0.699999988079071 0.699999988079071 0.699999988079071 0.699999988079071 0.699999988079071 0.699999988079071 0.699999988079071 0.699999988079071 0.699999988079071 0.699999988079071 0.699999988079071 0.699999988079071 0.699999988079071 0.699999988079071 0.699999988079071 0.699999988079071 0.699999988079071 0.699999988079071 0.699999988079071 0.699999988079071 0.699999988079071 0.699999988079071;0 0 0 0 0 0 0 0 0 0 0 0 0 0 0 0 0 0 0 0 0 0 0 0 0 3 3 3 3 3 3 3 3 0.699999988079071 0.699999988079071 0.699999988079071 0.699999988079071 0.699999988079071 0.699999988079071 0.699999988079071 0.699999988079071 0.699999988079071 0.699999988079071 0.699999988079071 0.699999988079071 0.699999988079071 0.699999988079071 0.699999988079071 0.699999988079071 0.699999988079071 0.699999988079071 0.699999988079071 0.699999988079071 0.699999988079071 0.699999988079071 0.699999988079071 0.699999988079071 0.699999988079071 0.699999988079071 0.699999988079071 0.699999988079071 0.699999988079071 0.699999988079071 0.699999988079071 0.699999988079071 0.699999988079071 0.699999988079071 0.699999988079071 0.699999988079071 0.699999988079071 0.699999988079071 0.699999988079071 0.699999988079071 0.699999988079071 0.699999988079071 0.699999988079071 0.699999988079071 0.699999988079071 0.699999988079071 0.699999988079071 0.699999988079071 0.699999988079071 0.699999988079071 0.699999988079071 0.699999988079071 0.699999988079071 0.699999988079071 0.699999988079071 0.699999988079071 0.699999988079071 0.699999988079071 0.699999988079071 0.699999988079071 0.699999988079071 0.699999988079071 0.699999988079071 0.699999988079071 0.699999988079071 0.699999988079071 0.699999988079071 0.699999988079071 0.699999988079071 0.699999988079071 0.699999988079071 0.699999988079071 0.699999988079071 0.699999988079071 0.699999988079071 0.699999988079071 0.699999988079071 0.699999988079071 0.699999988079071 0.699999988079071 0.699999988079071 0.699999988079071 0.699999988079071 0.699999988079071 0.699999988079071 0.699999988079071 0.699999988079071 0.699999988079071 0.699999988079071 0.699999988079071 0.699999988079071 0.699999988079071 0.699999988079071 0.699999988079071 0.699999988079071 0.699999988079071 0.699999988079071 0.699999988079071 0.699999988079071 0.699999988079071 0.699999988079071 0.699999988079071 0.699999988079071 0.699999988079071 0.699999988079071 0.699999988079071 0.699999988079071 0.699999988079071 0.699999988079071 0.699999988079071 0.699999988079071 0.699999988079071 0.699999988079071 0.699999988079071 0.699999988079071 0.699999988079071 0.699999988079071;0 0 0 0 0 0 0 0 0 0 0 0 0 0 0 0 0 0 0 0 0 0 0 0 0 0 3 3 3 3 3 3 3 0.699999988079071 0.699999988079071 0.699999988079071 0.699999988079071 0.699999988079071 0.699999988079071 0.699999988079071 0.699999988079071 0.699999988079071 0.699999988079071 0.699999988079071 0.699999988079071 0.699999988079071 0.699999988079071 0.699999988079071 0.699999988079071 0.699999988079071 0.699999988079071 0.699999988079071 0.699999988079071 0.699999988079071 0.699999988079071 0.699999988079071 0.699999988079071 0.699999988079071 0.699999988079071 0.699999988079071 0.699999988079071 0.699999988079071 0.699999988079071 0.699999988079071 0.699999988079071 0.699999988079071 0.699999988079071 0.699999988079071 0.699999988079071 0.699999988079071 0.699999988079071 0.699999988079071 0.699999988079071 0.699999988079071 0.699999988079071 0.699999988079071 0.699999988079071 0.699999988079071 0.699999988079071 0.699999988079071 0.699999988079071 0.699999988079071 0.699999988079071 0.699999988079071 0.699999988079071 0.699999988079071 0.699999988079071 0.699999988079071 0.699999988079071 0.699999988079071 0.699999988079071 0.699999988079071 0.699999988079071 0.699999988079071 0.699999988079071 0.699999988079071 0.699999988079071 0.699999988079071 0.699999988079071 0.699999988079071 0.699999988079071 0.699999988079071 0.699999988079071 0.699999988079071 0.699999988079071 0.699999988079071 0.699999988079071 0.699999988079071 0.699999988079071 0.699999988079071 0.699999988079071 0.699999988079071 0.699999988079071 0.699999988079071 0.699999988079071 0.699999988079071 0.699999988079071 0.699999988079071 0.699999988079071 0.699999988079071 0.699999988079071 0.699999988079071 0.699999988079071 0.699999988079071 0.699999988079071 0.699999988079071 0.699999988079071 0.699999988079071 0.699999988079071 0.699999988079071 0.699999988079071 0.699999988079071 0.699999988079071 0.699999988079071 0.699999988079071 0.699999988079071 0.699999988079071 0.699999988079071 0.699999988079071 0.699999988079071 0.699999988079071 0.699999988079071 0.699999988079071 0.699999988079071 0.699999988079071 0.699999988079071 0.699999988079071 0.699999988079071 0.699999988079071 0.699999988079071;0 0 0 0 0 0 0 0 0 0 0 0 0 0 0 0 0 0 0 0 0 0 0 0 0 0 3 3 3 3 3 3 3 0.699999988079071 0.699999988079071 0.699999988079071 0.699999988079071 0.699999988079071 0.699999988079071 0.699999988079071 0.699999988079071 0.699999988079071 0.699999988079071 0.699999988079071 0.699999988079071 0.699999988079071 0.699999988079071 0.699999988079071 0.699999988079071 0.699999988079071 0.699999988079071 0.699999988079071 0.699999988079071 0.699999988079071 0.699999988079071 0.699999988079071 0.699999988079071 0.699999988079071 0.699999988079071 0.699999988079071 0.699999988079071 0.699999988079071 0.699999988079071 0.699999988079071 0.699999988079071 0.699999988079071 0.699999988079071 0.699999988079071 0.699999988079071 0.699999988079071 0.699999988079071 0.699999988079071 0.699999988079071 0.699999988079071 0.699999988079071 0.699999988079071 0.699999988079071 0.699999988079071 0.699999988079071 0.699999988079071 0.699999988079071 0.699999988079071 0.699999988079071 0.699999988079071 0.699999988079071 0.699999988079071 0.699999988079071 0.699999988079071 0.699999988079071 0.699999988079071 0.699999988079071 0.699999988079071 0.699999988079071 0.699999988079071 0.699999988079071 0.699999988079071 0.699999988079071 0.699999988079071 0.699999988079071 0.699999988079071 0.699999988079071 0.699999988079071 0.699999988079071 0.699999988079071 0.699999988079071 0.699999988079071 0.699999988079071 0.699999988079071 0.699999988079071 0.699999988079071 0.699999988079071 0.699999988079071 0.699999988079071 0.699999988079071 0.699999988079071 0.699999988079071 0.699999988079071 0.699999988079071 0.699999988079071 0.699999988079071 0.699999988079071 0.699999988079071 0.699999988079071 0.699999988079071 0.699999988079071 0.699999988079071 0.699999988079071 0.699999988079071 0.699999988079071 0.699999988079071 0.699999988079071 0.699999988079071 0.699999988079071 0.699999988079071 0.699999988079071 0.699999988079071 0.699999988079071 0.699999988079071 0.699999988079071 0.699999988079071 0.699999988079071 0.699999988079071 0.699999988079071 0.699999988079071 0.699999988079071 0.699999988079071 0.699999988079071 0.699999988079071 0.699999988079071 0.699999988079071;0 0 0 0 0 0 0 0 0 0 0 0 0 0 0 0 0 0 0 0 0 0 0 0 0 0 3 3 3 3 3 3 3 0.699999988079071 0.699999988079071 0.699999988079071 0.699999988079071 0.699999988079071 0.699999988079071 0.699999988079071 0.699999988079071 0.699999988079071 0.699999988079071 0.699999988079071 0.699999988079071 0.699999988079071 0.699999988079071 0.699999988079071 0.699999988079071 0.699999988079071 0.699999988079071 0.699999988079071 0.699999988079071 0.699999988079071 0.699999988079071 0.699999988079071 0.699999988079071 0.699999988079071 0.699999988079071 0.699999988079071 0.699999988079071 0.699999988079071 0.699999988079071 0.699999988079071 0.699999988079071 0.699999988079071 0.699999988079071 0.699999988079071 0.699999988079071 0.699999988079071 0.699999988079071 0.699999988079071 0.699999988079071 0.699999988079071 0.699999988079071 0.699999988079071 0.699999988079071 0.699999988079071 0.699999988079071 0.699999988079071 0.699999988079071 0.699999988079071 0.699999988079071 0.699999988079071 0.699999988079071 0.699999988079071 0.699999988079071 0.699999988079071 0.699999988079071 0.699999988079071 0.699999988079071 0.699999988079071 0.699999988079071 0.699999988079071 0.699999988079071 0.699999988079071 0.699999988079071 0.699999988079071 0.699999988079071 0.699999988079071 0.699999988079071 0.699999988079071 0.699999988079071 0.699999988079071 0.699999988079071 0.699999988079071 0.699999988079071 0.699999988079071 0.699999988079071 0.699999988079071 0.699999988079071 0.699999988079071 0.699999988079071 0.699999988079071 0.699999988079071 0.699999988079071 0.699999988079071 0.699999988079071 0.699999988079071 0.699999988079071 0.699999988079071 0.699999988079071 0.699999988079071 0.699999988079071 0.699999988079071 0.699999988079071 0.699999988079071 0.699999988079071 0.699999988079071 0.699999988079071 0.699999988079071 0.699999988079071 0.699999988079071 0.699999988079071 0.699999988079071 0.699999988079071 0.699999988079071 0.699999988079071 0.699999988079071 0.699999988079071 0.699999988079071 0.699999988079071 0.699999988079071 0.699999988079071 0.699999988079071 0.699999988079071 0.699999988079071 0.699999988079071 0.699999988079071 0.699999988079071;0 0 0 0 0 0 0 0 0 0 0 0 0 0 0 0 0 0 0 0 0 0 0 0 0 0 3 3 3 3 3 3 3 0.699999988079071 0.699999988079071 0.699999988079071 0.699999988079071 0.699999988079071 0.699999988079071 0.699999988079071 0.699999988079071 0.699999988079071 0.699999988079071 0.699999988079071 0.699999988079071 0.699999988079071 0.699999988079071 0.699999988079071 0.699999988079071 0.699999988079071 0.699999988079071 0.699999988079071 0.699999988079071 0.699999988079071 0.699999988079071 0.699999988079071 0.699999988079071 0.699999988079071 0.699999988079071 0.699999988079071 0.699999988079071 0.699999988079071 0.699999988079071 0.699999988079071 0.699999988079071 0.699999988079071 0.699999988079071 0.699999988079071 0.699999988079071 0.699999988079071 0.699999988079071 0.699999988079071 0.699999988079071 0.699999988079071 0.699999988079071 0.699999988079071 0.699999988079071 0.699999988079071 0.699999988079071 0.699999988079071 0.699999988079071 0.699999988079071 0.699999988079071 0.699999988079071 0.699999988079071 0.699999988079071 0.699999988079071 0.699999988079071 0.699999988079071 0.699999988079071 0.699999988079071 0.699999988079071 0.699999988079071 0.699999988079071 0.699999988079071 0.699999988079071 0.699999988079071 0.699999988079071 0.699999988079071 0.699999988079071 0.699999988079071 0.699999988079071 0.699999988079071 0.699999988079071 0.699999988079071 0.699999988079071 0.699999988079071 0.699999988079071 0.699999988079071 0.699999988079071 0.699999988079071 0.699999988079071 0.699999988079071 0.699999988079071 0.699999988079071 0.699999988079071 0.699999988079071 0.699999988079071 0.699999988079071 0.699999988079071 0.699999988079071 0.699999988079071 0.699999988079071 0.699999988079071 0.699999988079071 0.699999988079071 0.699999988079071 0.699999988079071 0.699999988079071 0.699999988079071 0.699999988079071 0.699999988079071 0.699999988079071 0.699999988079071 0.699999988079071 0.699999988079071 0.699999988079071 0.699999988079071 0.699999988079071 0.699999988079071 0.699999988079071 0.699999988079071 0.699999988079071 0.699999988079071 0.699999988079071 0.699999988079071 0.699999988079071 0.699999988079071 0.699999988079071 0.699999988079071;0 0 0 0 0 0 0 0 0 0 0 0 0 0 0 0 0 0 0 0 0 0 0 0 0 0 3 3 3 3 3 3 3 0.699999988079071 0.699999988079071 0.699999988079071 0.699999988079071 0.699999988079071 0.699999988079071 0.699999988079071 0.699999988079071 0.699999988079071 0.699999988079071 0.699999988079071 0.699999988079071 0.699999988079071 0.699999988079071 0.699999988079071 0.699999988079071 0.699999988079071 0.699999988079071 0.699999988079071 0.699999988079071 0.699999988079071 0.699999988079071 0.699999988079071 0.699999988079071 0.699999988079071 0.699999988079071 0.699999988079071 0.699999988079071 0.699999988079071 0.699999988079071 0.699999988079071 0.699999988079071 0.699999988079071 0.699999988079071 0.699999988079071 0.699999988079071 0.699999988079071 0.699999988079071 0.699999988079071 0.699999988079071 0.699999988079071 0.699999988079071 0.699999988079071 0.699999988079071 0.699999988079071 0.699999988079071 0.699999988079071 0.699999988079071 0.699999988079071 0.699999988079071 0.699999988079071 0.699999988079071 0.699999988079071 0.699999988079071 0.699999988079071 0.699999988079071 0.699999988079071 0.699999988079071 0.699999988079071 0.699999988079071 0.699999988079071 0.699999988079071 0.699999988079071 0.699999988079071 0.699999988079071 0.699999988079071 0.699999988079071 0.699999988079071 0.699999988079071 0.699999988079071 0.699999988079071 0.699999988079071 0.699999988079071 0.699999988079071 0.699999988079071 0.699999988079071 0.699999988079071 0.699999988079071 0.699999988079071 0.699999988079071 0.699999988079071 0.699999988079071 0.699999988079071 0.699999988079071 0.699999988079071 0.699999988079071 0.699999988079071 0.699999988079071 0.699999988079071 0.699999988079071 0.699999988079071 0.699999988079071 0.699999988079071 0.699999988079071 0.699999988079071 0.699999988079071 0.699999988079071 0.699999988079071 0.699999988079071 0.699999988079071 0.699999988079071 0.699999988079071 0.699999988079071 0.699999988079071 0.699999988079071 0.699999988079071 0.699999988079071 0.699999988079071 0.699999988079071 0.699999988079071 0.699999988079071 0.699999988079071 0.699999988079071 0.699999988079071 0.699999988079071 0.699999988079071 0.699999988079071;0 0 0 0 0 0 0 0 0 0 0 0 0 0 0 0 0 0 0 0 0 0 0 0 0 0 3 3 3 3 3 3 3 0.699999988079071 0.699999988079071 0.699999988079071 0.699999988079071 0.699999988079071 0.699999988079071 0.699999988079071 0.699999988079071 0.699999988079071 0.699999988079071 0.699999988079071 0.699999988079071 0.699999988079071 0.699999988079071 0.699999988079071 0.699999988079071 0.699999988079071 0.699999988079071 0.699999988079071 0.699999988079071 0.699999988079071 0.699999988079071 0.699999988079071 0.699999988079071 0.699999988079071 0.699999988079071 0.699999988079071 0.699999988079071 0.699999988079071 0.699999988079071 0.699999988079071 0.699999988079071 0.699999988079071 0.699999988079071 0.699999988079071 0.699999988079071 0.699999988079071 0.699999988079071 0.699999988079071 0.699999988079071 0.699999988079071 0.699999988079071 0.699999988079071 0.699999988079071 0.699999988079071 0.699999988079071 0.699999988079071 0.699999988079071 0.699999988079071 0.699999988079071 0.699999988079071 0.699999988079071 0.699999988079071 0.699999988079071 0.699999988079071 0.699999988079071 0.699999988079071 0.699999988079071 0.699999988079071 0.699999988079071 0.699999988079071 0.699999988079071 0.699999988079071 0.699999988079071 0.699999988079071 0.699999988079071 0.699999988079071 0.699999988079071 0.699999988079071 0.699999988079071 0.699999988079071 0.699999988079071 0.699999988079071 0.699999988079071 0.699999988079071 0.699999988079071 0.699999988079071 0.699999988079071 0.699999988079071 0.699999988079071 0.699999988079071 0.699999988079071 0.699999988079071 0.699999988079071 0.699999988079071 0.699999988079071 0.699999988079071 0.699999988079071 0.699999988079071 0.699999988079071 0.699999988079071 0.699999988079071 0.699999988079071 0.699999988079071 0.699999988079071 0.699999988079071 0.699999988079071 0.699999988079071 0.699999988079071 0.699999988079071 0.699999988079071 0.699999988079071 0.699999988079071 0.699999988079071 0.699999988079071 0.699999988079071 0.699999988079071 0.699999988079071 0.699999988079071 0.699999988079071 0.699999988079071 0.699999988079071 0.699999988079071 0.699999988079071 0.699999988079071 0.699999988079071 0.699999988079071;0 0 0 0 0 0 0 0 0 0 0 0 0 0 0 0 0 0 0 0 0 0 0 0 0 0 3 3 3 3 3 3 3 0.699999988079071 0.699999988079071 0.699999988079071 0.699999988079071 0.699999988079071 0.699999988079071 0.699999988079071 0.699999988079071 0.699999988079071 0.699999988079071 0.699999988079071 0.699999988079071 0.699999988079071 0.699999988079071 0.699999988079071 0.699999988079071 0.699999988079071 0.699999988079071 0.699999988079071 0.699999988079071 0.699999988079071 0.699999988079071 0.699999988079071 0.699999988079071 0.699999988079071 0.699999988079071 0.699999988079071 0.699999988079071 0.699999988079071 0.699999988079071 0.699999988079071 0.699999988079071 0.699999988079071 0.699999988079071 0.699999988079071 0.699999988079071 0.699999988079071 0.699999988079071 0.699999988079071 0.699999988079071 0.699999988079071 0.699999988079071 0.699999988079071 0.699999988079071 0.699999988079071 0.699999988079071 0.699999988079071 0.699999988079071 0.699999988079071 0.699999988079071 0.699999988079071 0.699999988079071 0.699999988079071 0.699999988079071 0.699999988079071 0.699999988079071 0.699999988079071 0.699999988079071 0.699999988079071 0.699999988079071 0.699999988079071 0.699999988079071 0.699999988079071 0.699999988079071 0.699999988079071 0.699999988079071 0.699999988079071 0.699999988079071 0.699999988079071 0.699999988079071 0.699999988079071 0.699999988079071 0.699999988079071 0.699999988079071 0.699999988079071 0.699999988079071 0.699999988079071 0.699999988079071 0.699999988079071 0.699999988079071 0.699999988079071 0.699999988079071 0.699999988079071 0.699999988079071 0.699999988079071 0.699999988079071 0.699999988079071 0.699999988079071 0.699999988079071 0.699999988079071 0.699999988079071 0.699999988079071 0.699999988079071 0.699999988079071 0.699999988079071 0.699999988079071 0.699999988079071 0.699999988079071 0.699999988079071 0.699999988079071 0.699999988079071 0.699999988079071 0.699999988079071 0.699999988079071 0.699999988079071 0.699999988079071 0.699999988079071 0.699999988079071 0.699999988079071 0.699999988079071 0.699999988079071 0.699999988079071 0.699999988079071 0.699999988079071 0.699999988079071 0.699999988079071 0.699999988079071;0 0 0 0 0 0 0 0 0 0 0 0 0 0 0 0 0 0 0 0 0 0 0 0 0 0 3 3 3 3 3 3 3 0.699999988079071 0.699999988079071 0.699999988079071 0.699999988079071 0.699999988079071 0.699999988079071 0.699999988079071 0.699999988079071 0.699999988079071 0.699999988079071 0.699999988079071 0.699999988079071 0.699999988079071 0.699999988079071 0.699999988079071 0.699999988079071 0.699999988079071 0.699999988079071 0.699999988079071 0.699999988079071 0.699999988079071 0.699999988079071 0.699999988079071 0.699999988079071 0.699999988079071 0.699999988079071 0.699999988079071 0.699999988079071 0.699999988079071 0.699999988079071 0.699999988079071 0.699999988079071 0.699999988079071 0.699999988079071 0.699999988079071 0.699999988079071 0.699999988079071 0.699999988079071 0.699999988079071 0.699999988079071 0.699999988079071 0.699999988079071 0.699999988079071 0.699999988079071 0.699999988079071 0.699999988079071 0.699999988079071 0.699999988079071 0.699999988079071 0.699999988079071 0.699999988079071 0.699999988079071 0.699999988079071 0.699999988079071 0.699999988079071 0.699999988079071 0.699999988079071 0.699999988079071 0.699999988079071 0.699999988079071 0.699999988079071 0.699999988079071 0.699999988079071 0.699999988079071 0.699999988079071 0.699999988079071 0.699999988079071 0.699999988079071 0.699999988079071 0.699999988079071 0.699999988079071 0.699999988079071 0.699999988079071 0.699999988079071 0.699999988079071 0.699999988079071 0.699999988079071 0.699999988079071 0.699999988079071 0.699999988079071 0.699999988079071 0.699999988079071 0.699999988079071 0.699999988079071 0.699999988079071 0.699999988079071 0.699999988079071 0.699999988079071 0.699999988079071 0.699999988079071 0.699999988079071 0.699999988079071 0.699999988079071 0.699999988079071 0.699999988079071 0.699999988079071 0.699999988079071 0.699999988079071 0.699999988079071 0.699999988079071 0.699999988079071 0.699999988079071 0.699999988079071 0.699999988079071 0.699999988079071 0.699999988079071 0.699999988079071 0.699999988079071 0.699999988079071 0.699999988079071 0.699999988079071 0.699999988079071 0.699999988079071 0.699999988079071 0.699999988079071 0.699999988079071 0.699999988079071;0 0 0 0 0 0 0 0 0 0 0 0 0 0 0 0 0 0 0 0 0 0 0 0 0 0 3 3 3 3 3 3 3 0.699999988079071 0.699999988079071 0.699999988079071 0.699999988079071 0.699999988079071 0.699999988079071 0.699999988079071 0.699999988079071 0.699999988079071 0.699999988079071 0.699999988079071 0.699999988079071 0.699999988079071 0.699999988079071 0.699999988079071 0.699999988079071 0.699999988079071 0.699999988079071 0.699999988079071 0.699999988079071 0.699999988079071 0.699999988079071 0.699999988079071 0.699999988079071 0.699999988079071 0.699999988079071 0.699999988079071 0.699999988079071 0.699999988079071 0.699999988079071 0.699999988079071 0.699999988079071 0.699999988079071 0.699999988079071 0.699999988079071 0.699999988079071 0.699999988079071 0.699999988079071 0.699999988079071 0.699999988079071 0.699999988079071 0.699999988079071 0.699999988079071 0.699999988079071 0.699999988079071 0.699999988079071 0.699999988079071 0.699999988079071 0.699999988079071 0.699999988079071 0.699999988079071 0.699999988079071 0.699999988079071 0.699999988079071 0.699999988079071 0.699999988079071 0.699999988079071 0.699999988079071 0.699999988079071 0.699999988079071 0.699999988079071 0.699999988079071 0.699999988079071 0.699999988079071 0.699999988079071 0.699999988079071 0.699999988079071 0.699999988079071 0.699999988079071 0.699999988079071 0.699999988079071 0.699999988079071 0.699999988079071 0.699999988079071 0.699999988079071 0.699999988079071 0.699999988079071 0.699999988079071 0.699999988079071 0.699999988079071 0.699999988079071 0.699999988079071 0.699999988079071 0.699999988079071 0.699999988079071 0.699999988079071 0.699999988079071 0.699999988079071 0.699999988079071 0.699999988079071 0.699999988079071 0.699999988079071 0.699999988079071 0.699999988079071 0.699999988079071 0.699999988079071 0.699999988079071 0.699999988079071 0.699999988079071 0.699999988079071 0.699999988079071 0.699999988079071 0.699999988079071 0.699999988079071 0.699999988079071 0.699999988079071 0.699999988079071 0.699999988079071 0.699999988079071 0.699999988079071 0.699999988079071 0.699999988079071 0.699999988079071 0.699999988079071 0.699999988079071 0.699999988079071 0.699999988079071;0 0 0 0 0 0 0 0 0 0 0 0 0 0 0 0 0 0 0 0 0 0 0 0 0 0 3 3 3 3 3 3 3 0.699999988079071 0.699999988079071 0.699999988079071 0.699999988079071 0.699999988079071 0.699999988079071 0.699999988079071 0.699999988079071 0.699999988079071 0.699999988079071 0.699999988079071 0.699999988079071 0.699999988079071 0.699999988079071 0.699999988079071 0.699999988079071 0.699999988079071 0.699999988079071 0.699999988079071 0.699999988079071 0.699999988079071 0.699999988079071 0.699999988079071 0.699999988079071 0.699999988079071 0.699999988079071 0.699999988079071 0.699999988079071 0.699999988079071 0.699999988079071 0.699999988079071 0.699999988079071 0.699999988079071 0.699999988079071 0.699999988079071 0.699999988079071 0.699999988079071 0.699999988079071 0.699999988079071 0.699999988079071 0.699999988079071 0.699999988079071 0.699999988079071 0.699999988079071 0.699999988079071 0.699999988079071 0.699999988079071 0.699999988079071 0.699999988079071 0.699999988079071 0.699999988079071 0.699999988079071 0.699999988079071 0.699999988079071 0.699999988079071 0.699999988079071 0.699999988079071 0.699999988079071 0.699999988079071 0.699999988079071 0.699999988079071 0.699999988079071 0.699999988079071 0.699999988079071 0.699999988079071 0.699999988079071 0.699999988079071 0.699999988079071 0.699999988079071 0.699999988079071 0.699999988079071 0.699999988079071 0.699999988079071 0.699999988079071 0.699999988079071 0.699999988079071 0.699999988079071 0.699999988079071 0.699999988079071 0.699999988079071 0.699999988079071 0.699999988079071 0.699999988079071 0.699999988079071 0.699999988079071 0.699999988079071 0.699999988079071 0.699999988079071 0.699999988079071 0.699999988079071 0.699999988079071 0.699999988079071 0.699999988079071 0.699999988079071 0.699999988079071 0.699999988079071 0.699999988079071 0.699999988079071 0.699999988079071 0.699999988079071 0.699999988079071 0.699999988079071 0.699999988079071 0.699999988079071 0.699999988079071 0.699999988079071 0.699999988079071 0.699999988079071 0.699999988079071 0.699999988079071 0.699999988079071 0.699999988079071 0.699999988079071 0.699999988079071 0.699999988079071 0.699999988079071 0.699999988079071;0 0 0 0 0 0 0 0 0 0 0 0 0 0 0 0 0 0 0 0 0 0 0 0 0 0 3 3 3 3 3 3 3 0.699999988079071 0.699999988079071 0.699999988079071 0.699999988079071 0.699999988079071 0.699999988079071 0.699999988079071 0.699999988079071 0.699999988079071 0.699999988079071 0.699999988079071 0.699999988079071 0.699999988079071 0.699999988079071 0.699999988079071 0.699999988079071 0.699999988079071 0.699999988079071 0.699999988079071 0.699999988079071 0.699999988079071 0.699999988079071 0.699999988079071 0.699999988079071 0.699999988079071 0.699999988079071 0.699999988079071 0.699999988079071 0.699999988079071 0.699999988079071 0.699999988079071 0.699999988079071 0.699999988079071 0.699999988079071 0.699999988079071 0.699999988079071 0.699999988079071 0.699999988079071 0.699999988079071 0.699999988079071 0.699999988079071 0.699999988079071 0.699999988079071 0.699999988079071 0.699999988079071 0.699999988079071 0.699999988079071 0.699999988079071 0.699999988079071 0.699999988079071 0.699999988079071 0.699999988079071 0.699999988079071 0.699999988079071 0.699999988079071 0.699999988079071 0.699999988079071 0.699999988079071 0.699999988079071 0.699999988079071 0.699999988079071 0.699999988079071 0.699999988079071 0.699999988079071 0.699999988079071 0.699999988079071 0.699999988079071 0.699999988079071 0.699999988079071 0.699999988079071 0.699999988079071 0.699999988079071 0.699999988079071 0.699999988079071 0.699999988079071 0.699999988079071 0.699999988079071 0.699999988079071 0.699999988079071 0.699999988079071 0.699999988079071 0.699999988079071 0.699999988079071 0.699999988079071 0.699999988079071 0.699999988079071 0.699999988079071 0.699999988079071 0.699999988079071 0.699999988079071 0.699999988079071 0.699999988079071 0.699999988079071 0.699999988079071 0.699999988079071 0.699999988079071 0.699999988079071 0.699999988079071 0.699999988079071 0.699999988079071 0.699999988079071 0.699999988079071 0.699999988079071 0.699999988079071 0.699999988079071 0.699999988079071 0.699999988079071 0.699999988079071 0.699999988079071 0.699999988079071 0.699999988079071 0.699999988079071 0.699999988079071 0.699999988079071 0.699999988079071 0.699999988079071 0.699999988079071;0 0 0 0 0 0 0 0 0 0 0 0 0 0 0 0 0 0 0 0 0 0 0 0 0 0 3 3 3 3 3 3 3 0.699999988079071 0.699999988079071 0.699999988079071 0.699999988079071 0.699999988079071 0.699999988079071 0.699999988079071 0.699999988079071 0.699999988079071 0.699999988079071 0.699999988079071 0.699999988079071 0.699999988079071 0.699999988079071 0.699999988079071 0.699999988079071 0.699999988079071 0.699999988079071 0.699999988079071 0.699999988079071 0.699999988079071 0.699999988079071 0.699999988079071 0.699999988079071 0.699999988079071 0.699999988079071 0.699999988079071 0.699999988079071 0.699999988079071 0.699999988079071 0.699999988079071 0.699999988079071 0.699999988079071 0.699999988079071 0.699999988079071 0.699999988079071 0.699999988079071 0.699999988079071 0.699999988079071 0.699999988079071 0.699999988079071 0.699999988079071 0.699999988079071 0.699999988079071 0.699999988079071 0.699999988079071 0.699999988079071 0.699999988079071 0.699999988079071 0.699999988079071 0.699999988079071 0.699999988079071 0.699999988079071 0.699999988079071 0.699999988079071 0.699999988079071 0.699999988079071 0.699999988079071 0.699999988079071 0.699999988079071 0.699999988079071 0.699999988079071 0.699999988079071 0.699999988079071 0.699999988079071 0.699999988079071 0.699999988079071 0.699999988079071 0.699999988079071 0.699999988079071 0.699999988079071 0.699999988079071 0.699999988079071 0.699999988079071 0.699999988079071 0.699999988079071 0.699999988079071 0.699999988079071 0.699999988079071 0.699999988079071 0.699999988079071 0.699999988079071 0.699999988079071 0.699999988079071 0.699999988079071 0.699999988079071 0.699999988079071 0.699999988079071 0.699999988079071 0.699999988079071 0.699999988079071 0.699999988079071 0.699999988079071 0.699999988079071 0.699999988079071 0.699999988079071 0.699999988079071 0.699999988079071 0.699999988079071 0.699999988079071 0.699999988079071 0.699999988079071 0.699999988079071 0.699999988079071 0.699999988079071 0.699999988079071 0.699999988079071 0.699999988079071 0.699999988079071 0.699999988079071 0.699999988079071 0.699999988079071 0.699999988079071 0.699999988079071 0.699999988079071 0.699999988079071 0.699999988079071;0 0 0 0 0 0 0 0 0 0 0 0 0 0 0 0 0 0 0 0 0 0 0 0 0 0 3 3 3 3 3 3 3 0.699999988079071 0.699999988079071 0.699999988079071 0.699999988079071 0.699999988079071 0.699999988079071 0.699999988079071 0.699999988079071 0.699999988079071 0.699999988079071 0.699999988079071 0.699999988079071 0.699999988079071 0.699999988079071 0.699999988079071 0.699999988079071 0.699999988079071 0.699999988079071 0.699999988079071 0.699999988079071 0.699999988079071 0.699999988079071 0.699999988079071 0.699999988079071 0.699999988079071 0.699999988079071 0.699999988079071 0.699999988079071 0.699999988079071 0.699999988079071 0.699999988079071 0.699999988079071 0.699999988079071 0.699999988079071 0.699999988079071 0.699999988079071 0.699999988079071 0.699999988079071 0.699999988079071 0.699999988079071 0.699999988079071 0.699999988079071 0.699999988079071 0.699999988079071 0.699999988079071 0.699999988079071 0.699999988079071 0.699999988079071 0.699999988079071 0.699999988079071 0.699999988079071 0.699999988079071 0.699999988079071 0.699999988079071 0.699999988079071 0.699999988079071 0.699999988079071 0.699999988079071 0.699999988079071 0.699999988079071 0.699999988079071 0.699999988079071 0.699999988079071 0.699999988079071 0.699999988079071 0.699999988079071 0.699999988079071 0.699999988079071 0.699999988079071 0.699999988079071 0.699999988079071 0.699999988079071 0.699999988079071 0.699999988079071 0.699999988079071 0.699999988079071 0.699999988079071 0.699999988079071 0.699999988079071 0.699999988079071 0.699999988079071 0.699999988079071 0.699999988079071 0.699999988079071 0.699999988079071 0.699999988079071 0.699999988079071 0.699999988079071 0.699999988079071 0.699999988079071 0.699999988079071 0.699999988079071 0.699999988079071 0.699999988079071 0.699999988079071 0.699999988079071 0.699999988079071 0.699999988079071 0.699999988079071 0.699999988079071 0.699999988079071 0.699999988079071 0.699999988079071 0.699999988079071 0.699999988079071 0.699999988079071 0.699999988079071 0.699999988079071 0.699999988079071 0.699999988079071 0.699999988079071 0.699999988079071 0.699999988079071 0.699999988079071 0.699999988079071 0.699999988079071 0.699999988079071;0 0 0 0 0 0 0 0 0 0 0 0 0 0 0 0 0 0 0 0 0 0 0 0 0 0 3 3 3 3 3 3 3 0.699999988079071 0.699999988079071 0.699999988079071 0.699999988079071 0.699999988079071 0.699999988079071 0.699999988079071 0.699999988079071 0.699999988079071 0.699999988079071 0.699999988079071 0.699999988079071 0.699999988079071 0.699999988079071 0.699999988079071 0.699999988079071 0.699999988079071 0.699999988079071 0.699999988079071 0.699999988079071 0.699999988079071 0.699999988079071 0.699999988079071 0.699999988079071 0.699999988079071 0.699999988079071 0.699999988079071 0.699999988079071 0.699999988079071 0.699999988079071 0.699999988079071 0.699999988079071 0.699999988079071 0.699999988079071 0.699999988079071 0.699999988079071 0.699999988079071 0.699999988079071 0.699999988079071 0.699999988079071 0.699999988079071 0.699999988079071 0.699999988079071 0.699999988079071 0.699999988079071 0.699999988079071 0.699999988079071 0.699999988079071 0.699999988079071 0.699999988079071 0.699999988079071 0.699999988079071 0.699999988079071 0.699999988079071 0.699999988079071 0.699999988079071 0.699999988079071 0.699999988079071 0.699999988079071 0.699999988079071 0.699999988079071 0.699999988079071 0.699999988079071 0.699999988079071 0.699999988079071 0.699999988079071 0.699999988079071 0.699999988079071 0.699999988079071 0.699999988079071 0.699999988079071 0.699999988079071 0.699999988079071 0.699999988079071 0.699999988079071 0.699999988079071 0.699999988079071 0.699999988079071 0.699999988079071 0.699999988079071 0.699999988079071 0.699999988079071 0.699999988079071 0.699999988079071 0.699999988079071 0.699999988079071 0.699999988079071 0.699999988079071 0.699999988079071 0.699999988079071 0.699999988079071 0.699999988079071 0.699999988079071 0.699999988079071 0.699999988079071 0.699999988079071 0.699999988079071 0.699999988079071 0.699999988079071 0.699999988079071 0.699999988079071 0.699999988079071 0.699999988079071 0.699999988079071 0.699999988079071 0.699999988079071 0.699999988079071 0.699999988079071 0.699999988079071 0.699999988079071 0.699999988079071 0.699999988079071 0.699999988079071 0.699999988079071 0.699999988079071 0.699999988079071 0.699999988079071;0 0 0 0 0 0 0 0 0 0 0 0 0 0 0 0 0 0 0 0 0 0 0 0 0 0 3 3 3 3 3 3 3 0.699999988079071 0.699999988079071 0.699999988079071 0.699999988079071 0.699999988079071 0.699999988079071 0.699999988079071 0.699999988079071 0.699999988079071 0.699999988079071 0.699999988079071 0.699999988079071 0.699999988079071 0.699999988079071 0.699999988079071 0.699999988079071 0.699999988079071 0.699999988079071 0.699999988079071 0.699999988079071 0.699999988079071 0.699999988079071 0.699999988079071 0.699999988079071 0.699999988079071 0.699999988079071 0.699999988079071 0.699999988079071 0.699999988079071 0.699999988079071 0.699999988079071 0.699999988079071 0.699999988079071 0.699999988079071 0.699999988079071 0.699999988079071 0.699999988079071 0.699999988079071 0.699999988079071 0.699999988079071 0.699999988079071 0.699999988079071 0.699999988079071 0.699999988079071 0.699999988079071 0.699999988079071 0.699999988079071 0.699999988079071 0.699999988079071 0.699999988079071 0.699999988079071 0.699999988079071 0.699999988079071 0.699999988079071 0.699999988079071 0.699999988079071 0.699999988079071 0.699999988079071 0.699999988079071 0.699999988079071 0.699999988079071 0.699999988079071 0.699999988079071 0.699999988079071 0.699999988079071 0.699999988079071 0.699999988079071 0.699999988079071 0.699999988079071 0.699999988079071 0.699999988079071 0.699999988079071 0.699999988079071 0.699999988079071 0.699999988079071 0.699999988079071 0.699999988079071 0.699999988079071 0.699999988079071 0.699999988079071 0.699999988079071 0.699999988079071 0.699999988079071 0.699999988079071 0.699999988079071 0.699999988079071 0.699999988079071 0.699999988079071 0.699999988079071 0.699999988079071 0.699999988079071 0.699999988079071 0.699999988079071 0.699999988079071 0.699999988079071 0.699999988079071 0.699999988079071 0.699999988079071 0.699999988079071 0.699999988079071 0.699999988079071 0.699999988079071 0.699999988079071 0.699999988079071 0.699999988079071 0.699999988079071 0.699999988079071 0.699999988079071 0.699999988079071 0.699999988079071 0.699999988079071 0.699999988079071 0.699999988079071 0.699999988079071 0.699999988079071 0.699999988079071 0.699999988079071;0 0 0 0 0 0 0 0 0 0 0 0 0 0 0 0 0 0 0 0 0 0 0 0 0 0 3 3 3 3 3 3 3 0.699999988079071 0.699999988079071 0.699999988079071 0.699999988079071 0.699999988079071 0.699999988079071 0.699999988079071 0.699999988079071 0.699999988079071 0.699999988079071 0.699999988079071 0.699999988079071 0.699999988079071 0.699999988079071 0.699999988079071 0.699999988079071 0.699999988079071 0.699999988079071 0.699999988079071 0.699999988079071 0.699999988079071 0.699999988079071 0.699999988079071 0.699999988079071 0.699999988079071 0.699999988079071 0.699999988079071 0.699999988079071 0.699999988079071 0.699999988079071 0.699999988079071 0.699999988079071 0.699999988079071 0.699999988079071 0.699999988079071 0.699999988079071 0.699999988079071 0.699999988079071 0.699999988079071 0.699999988079071 0.699999988079071 0.699999988079071 0.699999988079071 0.699999988079071 0.699999988079071 0.699999988079071 0.699999988079071 0.699999988079071 0.699999988079071 0.699999988079071 0.699999988079071 0.699999988079071 0.699999988079071 0.699999988079071 0.699999988079071 0.699999988079071 0.699999988079071 0.699999988079071 0.699999988079071 0.699999988079071 0.699999988079071 0.699999988079071 0.699999988079071 0.699999988079071 0.699999988079071 0.699999988079071 0.699999988079071 0.699999988079071 0.699999988079071 0.699999988079071 0.699999988079071 0.699999988079071 0.699999988079071 0.699999988079071 0.699999988079071 0.699999988079071 0.699999988079071 0.699999988079071 0.699999988079071 0.699999988079071 0.699999988079071 0.699999988079071 0.699999988079071 0.699999988079071 0.699999988079071 0.699999988079071 0.699999988079071 0.699999988079071 0.699999988079071 0.699999988079071 0.699999988079071 0.699999988079071 0.699999988079071 0.699999988079071 0.699999988079071 0.699999988079071 0.699999988079071 0.699999988079071 0.699999988079071 0.699999988079071 0.699999988079071 0.699999988079071 0.699999988079071 0.699999988079071 0.699999988079071 0.699999988079071 0.699999988079071 0.699999988079071 0.699999988079071 0.699999988079071 0.699999988079071 0.699999988079071 0.699999988079071 0.699999988079071 0.699999988079071 0.699999988079071 0.699999988079071;0 0 0 0 0 0 0 0 0 0 0 0 0 0 0 0 0 0 0 0 0 0 0 0 0 0 3 3 3 3 3 3 3 0.699999988079071 0.699999988079071 0.699999988079071 0.699999988079071 0.699999988079071 0.699999988079071 0.699999988079071 0.699999988079071 0.699999988079071 0.699999988079071 0.699999988079071 0.699999988079071 0.699999988079071 0.699999988079071 0.699999988079071 0.699999988079071 0.699999988079071 0.699999988079071 0.699999988079071 0.699999988079071 0.699999988079071 0.699999988079071 0.699999988079071 0.699999988079071 0.699999988079071 0.699999988079071 0.699999988079071 0.699999988079071 0.699999988079071 0.699999988079071 0.699999988079071 0.699999988079071 0.699999988079071 0.699999988079071 0.699999988079071 0.699999988079071 0.699999988079071 0.699999988079071 0.699999988079071 0.699999988079071 0.699999988079071 0.699999988079071 0.699999988079071 0.699999988079071 0.699999988079071 0.699999988079071 0.699999988079071 0.699999988079071 0.699999988079071 0.699999988079071 0.699999988079071 0.699999988079071 0.699999988079071 0.699999988079071 0.699999988079071 0.699999988079071 0.699999988079071 0.699999988079071 0.699999988079071 0.699999988079071 0.699999988079071 0.699999988079071 0.699999988079071 0.699999988079071 0.699999988079071 0.699999988079071 0.699999988079071 0.699999988079071 0.699999988079071 0.699999988079071 0.699999988079071 0.699999988079071 0.699999988079071 0.699999988079071 0.699999988079071 0.699999988079071 0.699999988079071 0.699999988079071 0.699999988079071 0.699999988079071 0.699999988079071 0.699999988079071 0.699999988079071 0.699999988079071 0.699999988079071 0.699999988079071 0.699999988079071 0.699999988079071 0.699999988079071 0.699999988079071 0.699999988079071 0.699999988079071 0.699999988079071 0.699999988079071 0.699999988079071 0.699999988079071 0.699999988079071 0.699999988079071 0.699999988079071 0.699999988079071 0.699999988079071 0.699999988079071 0.699999988079071 0.699999988079071 0.699999988079071 0.699999988079071 0.699999988079071 0.699999988079071 0.699999988079071 0.699999988079071 0.699999988079071 0.699999988079071 0.699999988079071 0.699999988079071 0.699999988079071 0.699999988079071 0.699999988079071;0 0 0 0 0 0 0 0 0 0 0 0 0 0 0 0 0 0 0 0 0 0 0 0 0 0 3 3 3 3 3 3 3 0.699999988079071 0.699999988079071 0.699999988079071 0.699999988079071 0.699999988079071 0.699999988079071 0.699999988079071 0.699999988079071 0.699999988079071 0.699999988079071 0.699999988079071 0.699999988079071 0.699999988079071 0.699999988079071 0.699999988079071 0.699999988079071 0.699999988079071 0.699999988079071 0.699999988079071 0.699999988079071 0.699999988079071 0.699999988079071 0.699999988079071 0.699999988079071 0.699999988079071 0.699999988079071 0.699999988079071 0.699999988079071 0.699999988079071 0.699999988079071 0.699999988079071 0.699999988079071 0.699999988079071 0.699999988079071 0.699999988079071 0.699999988079071 0.699999988079071 0.699999988079071 0.699999988079071 0.699999988079071 0.699999988079071 0.699999988079071 0.699999988079071 0.699999988079071 0.699999988079071 0.699999988079071 0.699999988079071 0.699999988079071 0.699999988079071 0.699999988079071 0.699999988079071 0.699999988079071 0.699999988079071 0.699999988079071 0.699999988079071 0.699999988079071 0.699999988079071 0.699999988079071 0.699999988079071 0.699999988079071 0.699999988079071 0.699999988079071 0.699999988079071 0.699999988079071 0.699999988079071 0.699999988079071 0.699999988079071 0.699999988079071 0.699999988079071 0.699999988079071 0.699999988079071 0.699999988079071 0.699999988079071 0.699999988079071 0.699999988079071 0.699999988079071 0.699999988079071 0.699999988079071 0.699999988079071 0.699999988079071 0.699999988079071 0.699999988079071 0.699999988079071 0.699999988079071 0.699999988079071 0.699999988079071 0.699999988079071 0.699999988079071 0.699999988079071 0.699999988079071 0.699999988079071 0.699999988079071 0.699999988079071 0.699999988079071 0.699999988079071 0.699999988079071 0.699999988079071 0.699999988079071 0.699999988079071 0.699999988079071 0.699999988079071 0.699999988079071 0.699999988079071 0.699999988079071 0.699999988079071 0.699999988079071 0.699999988079071 0.699999988079071 0.699999988079071 0.699999988079071 0.699999988079071 0.699999988079071 0.699999988079071 0.699999988079071 0.699999988079071 0.699999988079071 0.699999988079071;0 0 0 0 0 0 0 0 0 0 0 0 0 0 0 0 0 0 0 0 0 0 0 0 0 0 3 3 3 3 3 3 3 0.699999988079071 0.699999988079071 0.699999988079071 0.699999988079071 0.699999988079071 0.699999988079071 0.699999988079071 0.699999988079071 0.699999988079071 0.699999988079071 0.699999988079071 0.699999988079071 0.699999988079071 0.699999988079071 0.699999988079071 0.699999988079071 0.699999988079071 0.699999988079071 0.699999988079071 0.699999988079071 0.699999988079071 0.699999988079071 0.699999988079071 0.699999988079071 0.699999988079071 0.699999988079071 0.699999988079071 0.699999988079071 0.699999988079071 0.699999988079071 0.699999988079071 0.699999988079071 0.699999988079071 0.699999988079071 0.699999988079071 0.699999988079071 0.699999988079071 0.699999988079071 0.699999988079071 0.699999988079071 0.699999988079071 0.699999988079071 0.699999988079071 0.699999988079071 0.699999988079071 0.699999988079071 0.699999988079071 0.699999988079071 0.699999988079071 0.699999988079071 0.699999988079071 0.699999988079071 0.699999988079071 0.699999988079071 0.699999988079071 0.699999988079071 0.699999988079071 0.699999988079071 0.699999988079071 0.699999988079071 0.699999988079071 0.699999988079071 0.699999988079071 0.699999988079071 0.699999988079071 0.699999988079071 0.699999988079071 0.699999988079071 0.699999988079071 0.699999988079071 0.699999988079071 0.699999988079071 0.699999988079071 0.699999988079071 0.699999988079071 0.699999988079071 0.699999988079071 0.699999988079071 0.699999988079071 0.699999988079071 0.699999988079071 0.699999988079071 0.699999988079071 0.699999988079071 0.699999988079071 0.699999988079071 0.699999988079071 0.699999988079071 0.699999988079071 0.699999988079071 0.699999988079071 0.699999988079071 0.699999988079071 0.699999988079071 0.699999988079071 0.699999988079071 0.699999988079071 0.699999988079071 0.699999988079071 0.699999988079071 0.699999988079071 0.699999988079071 0.699999988079071 0.699999988079071 0.699999988079071 0.699999988079071 0.699999988079071 0.699999988079071 0.699999988079071 0.699999988079071 0.699999988079071 0.699999988079071 0.699999988079071 0.699999988079071 0.699999988079071 0.699999988079071 0.699999988079071;0 0 0 0 0 0 0 0 0 0 0 0 0 0 0 0 0 0 0 0 0 0 0 0 0 0 3 3 3 3 3 3 3 3 0.699999988079071 0.699999988079071 0.699999988079071 0.699999988079071 0.699999988079071 0.699999988079071 0.699999988079071 0.699999988079071 0.699999988079071 0.699999988079071 0.699999988079071 0.699999988079071 0.699999988079071 0.699999988079071 0.699999988079071 0.699999988079071 0.699999988079071 0.699999988079071 0.699999988079071 0.699999988079071 0.699999988079071 0.699999988079071 0.699999988079071 0.699999988079071 0.699999988079071 0.699999988079071 0.699999988079071 0.699999988079071 0.699999988079071 0.699999988079071 0.699999988079071 0.699999988079071 0.699999988079071 0.699999988079071 0.699999988079071 0.699999988079071 0.699999988079071 0.699999988079071 0.699999988079071 0.699999988079071 0.699999988079071 0.699999988079071 0.699999988079071 0.699999988079071 0.699999988079071 0.699999988079071 0.699999988079071 0.699999988079071 0.699999988079071 0.699999988079071 0.699999988079071 0.699999988079071 0.699999988079071 0.699999988079071 0.699999988079071 0.699999988079071 0.699999988079071 0.699999988079071 0.699999988079071 0.699999988079071 0.699999988079071 0.699999988079071 0.699999988079071 0.699999988079071 0.699999988079071 0.699999988079071 0.699999988079071 0.699999988079071 0.699999988079071 0.699999988079071 0.699999988079071 0.699999988079071 0.699999988079071 0.699999988079071 0.699999988079071 0.699999988079071 0.699999988079071 0.699999988079071 0.699999988079071 0.699999988079071 0.699999988079071 0.699999988079071 0.699999988079071 0.699999988079071 0.699999988079071 0.699999988079071 0.699999988079071 0.699999988079071 0.699999988079071 0.699999988079071 0.699999988079071 0.699999988079071 0.699999988079071 0.699999988079071 0.699999988079071 0.699999988079071 0.699999988079071 0.699999988079071 0.699999988079071 0.699999988079071 0.699999988079071 0.699999988079071 0.699999988079071 0.699999988079071 0.699999988079071 0.699999988079071 0.699999988079071 0.699999988079071 0.699999988079071 0.699999988079071 0.699999988079071 0.699999988079071 0.699999988079071 0.699999988079071 0.699999988079071 0.699999988079071;0 0 0 0 0 0 0 0 0 0 0 0 0 0 0 0 0 0 0 0 0 0 0 0 0 0 3 3 3 3 3 3 3 3 0.699999988079071 0.699999988079071 0.699999988079071 0.699999988079071 0.699999988079071 0.699999988079071 0.699999988079071 0.699999988079071 0.699999988079071 0.699999988079071 0.699999988079071 0.699999988079071 0.699999988079071 0.699999988079071 0.699999988079071 0.699999988079071 0.699999988079071 0.699999988079071 0.699999988079071 0.699999988079071 0.699999988079071 0.699999988079071 0.699999988079071 0.699999988079071 0.699999988079071 0.699999988079071 0.699999988079071 0.699999988079071 0.699999988079071 0.699999988079071 0.699999988079071 0.699999988079071 0.699999988079071 0.699999988079071 0.699999988079071 0.699999988079071 0.699999988079071 0.699999988079071 0.699999988079071 0.699999988079071 0.699999988079071 0.699999988079071 0.699999988079071 0.699999988079071 0.699999988079071 0.699999988079071 0.699999988079071 0.699999988079071 0.699999988079071 0.699999988079071 0.699999988079071 0.699999988079071 0.699999988079071 0.699999988079071 0.699999988079071 0.699999988079071 0.699999988079071 0.699999988079071 0.699999988079071 0.699999988079071 0.699999988079071 0.699999988079071 0.699999988079071 0.699999988079071 0.699999988079071 0.699999988079071 0.699999988079071 0.699999988079071 0.699999988079071 0.699999988079071 0.699999988079071 0.699999988079071 0.699999988079071 0.699999988079071 0.699999988079071 0.699999988079071 0.699999988079071 0.699999988079071 0.699999988079071 0.699999988079071 0.699999988079071 0.699999988079071 0.699999988079071 0.699999988079071 0.699999988079071 0.699999988079071 0.699999988079071 0.699999988079071 0.699999988079071 0.699999988079071 0.699999988079071 0.699999988079071 0.699999988079071 0.699999988079071 0.699999988079071 0.699999988079071 0.699999988079071 0.699999988079071 0.699999988079071 0.699999988079071 0.699999988079071 0.699999988079071 0.699999988079071 0.699999988079071 0.699999988079071 0.699999988079071 0.699999988079071 0.699999988079071 0.699999988079071 0.699999988079071 0.699999988079071 0.699999988079071 0.699999988079071 0.699999988079071 0.699999988079071 0.699999988079071;0 0 0 0 0 0 0 0 0 0 0 0 0 0 0 0 0 0 0 0 0 0 0 0 0 0 3 3 3 3 3 3 3 3 0.699999988079071 0.699999988079071 0.699999988079071 0.699999988079071 0.699999988079071 0.699999988079071 0.699999988079071 0.699999988079071 0.699999988079071 0.699999988079071 0.699999988079071 0.699999988079071 0.699999988079071 0.699999988079071 0.699999988079071 0.699999988079071 0.699999988079071 0.699999988079071 0.699999988079071 0.699999988079071 0.699999988079071 0.699999988079071 0.699999988079071 0.699999988079071 0.699999988079071 0.699999988079071 0.699999988079071 0.699999988079071 0.699999988079071 0.699999988079071 0.699999988079071 0.699999988079071 0.699999988079071 0.699999988079071 0.699999988079071 0.699999988079071 0.699999988079071 0.699999988079071 0.699999988079071 0.699999988079071 0.699999988079071 0.699999988079071 0.699999988079071 0.699999988079071 0.699999988079071 0.699999988079071 0.699999988079071 0.699999988079071 0.699999988079071 0.699999988079071 0.699999988079071 0.699999988079071 0.699999988079071 0.699999988079071 0.699999988079071 0.699999988079071 0.699999988079071 0.699999988079071 0.699999988079071 0.699999988079071 0.699999988079071 0.699999988079071 0.699999988079071 0.699999988079071 0.699999988079071 0.699999988079071 0.699999988079071 0.699999988079071 0.699999988079071 0.699999988079071 0.699999988079071 0.699999988079071 0.699999988079071 0.699999988079071 0.699999988079071 0.699999988079071 0.699999988079071 0.699999988079071 0.699999988079071 0.699999988079071 0.699999988079071 0.699999988079071 0.699999988079071 0.699999988079071 0.699999988079071 0.699999988079071 0.699999988079071 0.699999988079071 0.699999988079071 0.699999988079071 0.699999988079071 0.699999988079071 0.699999988079071 0.699999988079071 0.699999988079071 0.699999988079071 0.699999988079071 0.699999988079071 0.699999988079071 0.699999988079071 0.699999988079071 0.699999988079071 0.699999988079071 0.699999988079071 0.699999988079071 0.699999988079071 0.699999988079071 0.699999988079071 0.699999988079071 0.699999988079071 0.699999988079071 0.699999988079071 0.699999988079071 0.699999988079071 0.699999988079071 0.699999988079071;0 0 0 0 0 0 0 0 0 0 0 0 0 0 0 0 0 0 0 0 0 0 0 0 0 0 3 3 3 3 3 3 3 3 0.699999988079071 0.699999988079071 0.699999988079071 0.699999988079071 0.699999988079071 0.699999988079071 0.699999988079071 0.699999988079071 0.699999988079071 0.699999988079071 0.699999988079071 0.699999988079071 0.699999988079071 0.699999988079071 0.699999988079071 0.699999988079071 0.699999988079071 0.699999988079071 0.699999988079071 0.699999988079071 0.699999988079071 0.699999988079071 0.699999988079071 0.699999988079071 0.699999988079071 0.699999988079071 0.699999988079071 0.699999988079071 0.699999988079071 0.699999988079071 0.699999988079071 0.699999988079071 0.699999988079071 0.699999988079071 0.699999988079071 0.699999988079071 0.699999988079071 0.699999988079071 0.699999988079071 0.699999988079071 0.699999988079071 0.699999988079071 0.699999988079071 0.699999988079071 0.699999988079071 0.699999988079071 0.699999988079071 0.699999988079071 0.699999988079071 0.699999988079071 0.699999988079071 0.699999988079071 0.699999988079071 0.699999988079071 0.699999988079071 0.699999988079071 0.699999988079071 0.699999988079071 0.699999988079071 0.699999988079071 0.699999988079071 0.699999988079071 0.699999988079071 0.699999988079071 0.699999988079071 0.699999988079071 0.699999988079071 0.699999988079071 0.699999988079071 0.699999988079071 0.699999988079071 0.699999988079071 0.699999988079071 0.699999988079071 0.699999988079071 0.699999988079071 0.699999988079071 0.699999988079071 0.699999988079071 0.699999988079071 0.699999988079071 0.699999988079071 0.699999988079071 0.699999988079071 0.699999988079071 0.699999988079071 0.699999988079071 0.699999988079071 0.699999988079071 0.699999988079071 0.699999988079071 0.699999988079071 0.699999988079071 0.699999988079071 0.699999988079071 0.699999988079071 0.699999988079071 0.699999988079071 0.699999988079071 0.699999988079071 0.699999988079071 0.699999988079071 0.699999988079071 0.699999988079071 0.699999988079071 0.699999988079071 0.699999988079071 0.699999988079071 0.699999988079071 0.699999988079071 0.699999988079071 0.699999988079071 0.699999988079071 0.699999988079071 0.699999988079071 0.699999988079071;0 0 0 0 0 0 0 0 0 0 0 0 0 0 0 0 0 0 0 0 0 0 0 0 0 0 3 3 3 3 3 3 3 3 0.699999988079071 0.699999988079071 0.699999988079071 0.699999988079071 0.699999988079071 0.699999988079071 0.699999988079071 0.699999988079071 0.699999988079071 0.699999988079071 0.699999988079071 0.699999988079071 0.699999988079071 0.699999988079071 0.699999988079071 0.699999988079071 0.699999988079071 0.699999988079071 0.699999988079071 0.699999988079071 0.699999988079071 0.699999988079071 0.699999988079071 0.699999988079071 0.699999988079071 0.699999988079071 0.699999988079071 0.699999988079071 0.699999988079071 0.699999988079071 0.699999988079071 0.699999988079071 0.699999988079071 0.699999988079071 0.699999988079071 0.699999988079071 0.699999988079071 0.699999988079071 0.699999988079071 0.699999988079071 0.699999988079071 0.699999988079071 0.699999988079071 0.699999988079071 0.699999988079071 0.699999988079071 0.699999988079071 0.699999988079071 0.699999988079071 0.699999988079071 0.699999988079071 0.699999988079071 0.699999988079071 0.699999988079071 0.699999988079071 0.699999988079071 0.699999988079071 0.699999988079071 0.699999988079071 0.699999988079071 0.699999988079071 0.699999988079071 0.699999988079071 0.699999988079071 0.699999988079071 0.699999988079071 0.699999988079071 0.699999988079071 0.699999988079071 0.699999988079071 0.699999988079071 0.699999988079071 0.699999988079071 0.699999988079071 0.699999988079071 0.699999988079071 0.699999988079071 0.699999988079071 0.699999988079071 0.699999988079071 0.699999988079071 0.699999988079071 0.699999988079071 0.699999988079071 0.699999988079071 0.699999988079071 0.699999988079071 0.699999988079071 0.699999988079071 0.699999988079071 0.699999988079071 0.699999988079071 0.699999988079071 0.699999988079071 0.699999988079071 0.699999988079071 0.699999988079071 0.699999988079071 0.699999988079071 0.699999988079071 0.699999988079071 0.699999988079071 0.699999988079071 0.699999988079071 0.699999988079071 0.699999988079071 0.699999988079071 0.699999988079071 0.699999988079071 0.699999988079071 0.699999988079071 0.699999988079071 0.699999988079071 0.699999988079071 0.699999988079071 0.699999988079071;0 0 0 0 0 0 0 0 0 0 0 0 0 0 0 0 0 0 0 0 0 0 0 0 0 0 3 3 3 3 3 3 3 3 0.699999988079071 0.699999988079071 0.699999988079071 0.699999988079071 0.699999988079071 0.699999988079071 0.699999988079071 0.699999988079071 0.699999988079071 0.699999988079071 0.699999988079071 0.699999988079071 0.699999988079071 0.699999988079071 0.699999988079071 0.699999988079071 0.699999988079071 0.699999988079071 0.699999988079071 0.699999988079071 0.699999988079071 0.699999988079071 0.699999988079071 0.699999988079071 0.699999988079071 0.699999988079071 0.699999988079071 0.699999988079071 0.699999988079071 0.699999988079071 0.699999988079071 0.699999988079071 0.699999988079071 0.699999988079071 0.699999988079071 0.699999988079071 0.699999988079071 0.699999988079071 0.699999988079071 0.699999988079071 0.699999988079071 0.699999988079071 0.699999988079071 0.699999988079071 0.699999988079071 0.699999988079071 0.699999988079071 0.699999988079071 0.699999988079071 0.699999988079071 0.699999988079071 0.699999988079071 0.699999988079071 0.699999988079071 0.699999988079071 0.699999988079071 0.699999988079071 0.699999988079071 0.699999988079071 0.699999988079071 0.699999988079071 0.699999988079071 0.699999988079071 0.699999988079071 0.699999988079071 0.699999988079071 0.699999988079071 0.699999988079071 0.699999988079071 0.699999988079071 0.699999988079071 0.699999988079071 0.699999988079071 0.699999988079071 0.699999988079071 0.699999988079071 0.699999988079071 0.699999988079071 0.699999988079071 0.699999988079071 0.699999988079071 0.699999988079071 0.699999988079071 0.699999988079071 0.699999988079071 0.699999988079071 0.699999988079071 0.699999988079071 0.699999988079071 0.699999988079071 0.699999988079071 0.699999988079071 0.699999988079071 0.699999988079071 0.699999988079071 0.699999988079071 0.699999988079071 0.699999988079071 0.699999988079071 0.699999988079071 0.699999988079071 0.699999988079071 0.699999988079071 0.699999988079071 0.699999988079071 0.699999988079071 0.699999988079071 0.699999988079071 0.699999988079071 0.699999988079071 0.699999988079071 0.699999988079071 0.699999988079071 0.699999988079071 0.699999988079071 0.699999988079071;0 0 0 0 0 0 0 0 0 0 0 0 0 0 0 0 0 0 0 0 0 0 0 0 0 0 3 3 3 3 3 3 3 3 0.699999988079071 0.699999988079071 0.699999988079071 0.699999988079071 0.699999988079071 0.699999988079071 0.699999988079071 0.699999988079071 0.699999988079071 0.699999988079071 0.699999988079071 0.699999988079071 0.699999988079071 0.699999988079071 0.699999988079071 0.699999988079071 0.699999988079071 0.699999988079071 0.699999988079071 0.699999988079071 0.699999988079071 0.699999988079071 0.699999988079071 0.699999988079071 0.699999988079071 0.699999988079071 0.699999988079071 0.699999988079071 0.699999988079071 0.699999988079071 0.699999988079071 0.699999988079071 0.699999988079071 0.699999988079071 0.699999988079071 0.699999988079071 0.699999988079071 0.699999988079071 0.699999988079071 0.699999988079071 0.699999988079071 0.699999988079071 0.699999988079071 0.699999988079071 0.699999988079071 0.699999988079071 0.699999988079071 0.699999988079071 0.699999988079071 0.699999988079071 0.699999988079071 0.699999988079071 0.699999988079071 0.699999988079071 0.699999988079071 0.699999988079071 0.699999988079071 0.699999988079071 0.699999988079071 0.699999988079071 0.699999988079071 0.699999988079071 0.699999988079071 0.699999988079071 0.699999988079071 0.699999988079071 0.699999988079071 0.699999988079071 0.699999988079071 0.699999988079071 0.699999988079071 0.699999988079071 0.699999988079071 0.699999988079071 0.699999988079071 0.699999988079071 0.699999988079071 0.699999988079071 0.699999988079071 0.699999988079071 0.699999988079071 0.699999988079071 0.699999988079071 0.699999988079071 0.699999988079071 0.699999988079071 0.699999988079071 0.699999988079071 0.699999988079071 0.699999988079071 0.699999988079071 0.699999988079071 0.699999988079071 0.699999988079071 0.699999988079071 0.699999988079071 0.699999988079071 0.699999988079071 0.699999988079071 0.699999988079071 0.699999988079071 0.699999988079071 0.699999988079071 0.699999988079071 0.699999988079071 0.699999988079071 0.699999988079071 0.699999988079071 0.699999988079071 0.699999988079071 0.699999988079071 0.699999988079071 0.699999988079071 0.699999988079071 0.699999988079071 0.699999988079071;0 0 0 0 0 0 0 0 0 0 0 0 0 0 0 0 0 0 0 0 0 0 0 0 0 0 3 3 3 3 3 3 3 3 0.699999988079071 0.699999988079071 0.699999988079071 0.699999988079071 0.699999988079071 0.699999988079071 0.699999988079071 0.699999988079071 0.699999988079071 0.699999988079071 0.699999988079071 0.699999988079071 0.699999988079071 0.699999988079071 0.699999988079071 0.699999988079071 0.699999988079071 0.699999988079071 0.699999988079071 0.699999988079071 0.699999988079071 0.699999988079071 0.699999988079071 0.699999988079071 0.699999988079071 0.699999988079071 0.699999988079071 0.699999988079071 0.699999988079071 0.699999988079071 0.699999988079071 0.699999988079071 0.699999988079071 0.699999988079071 0.699999988079071 0.699999988079071 0.699999988079071 0.699999988079071 0.699999988079071 0.699999988079071 0.699999988079071 0.699999988079071 0.699999988079071 0.699999988079071 0.699999988079071 0.699999988079071 0.699999988079071 0.699999988079071 0.699999988079071 0.699999988079071 0.699999988079071 0.699999988079071 0.699999988079071 0.699999988079071 0.699999988079071 0.699999988079071 0.699999988079071 0.699999988079071 0.699999988079071 0.699999988079071 0.699999988079071 0.699999988079071 0.699999988079071 0.699999988079071 0.699999988079071 0.699999988079071 0.699999988079071 0.699999988079071 0.699999988079071 0.699999988079071 0.699999988079071 0.699999988079071 0.699999988079071 0.699999988079071 0.699999988079071 0.699999988079071 0.699999988079071 0.699999988079071 0.699999988079071 0.699999988079071 0.699999988079071 0.699999988079071 0.699999988079071 0.699999988079071 0.699999988079071 0.699999988079071 0.699999988079071 0.699999988079071 0.699999988079071 0.699999988079071 0.699999988079071 0.699999988079071 0.699999988079071 0.699999988079071 0.699999988079071 0.699999988079071 0.699999988079071 0.699999988079071 0.699999988079071 0.699999988079071 0.699999988079071 0.699999988079071 0.699999988079071 0.699999988079071 0.699999988079071 0.699999988079071 0.699999988079071 0.699999988079071 0.699999988079071 0.699999988079071 0.699999988079071 0.699999988079071 0.699999988079071 0.699999988079071 0.699999988079071 0.699999988079071;0 0 0 0 0 0 0 0 0 0 0 0 0 0 0 0 0 0 0 0 0 0 0 0 0 0 3 3 3 3 3 3 3 3 0.699999988079071 0.699999988079071 0.699999988079071 0.699999988079071 0.699999988079071 0.699999988079071 0.699999988079071 0.699999988079071 0.699999988079071 0.699999988079071 0.699999988079071 0.699999988079071 0.699999988079071 0.699999988079071 0.699999988079071 0.699999988079071 0.699999988079071 0.699999988079071 0.699999988079071 0.699999988079071 0.699999988079071 0.699999988079071 0.699999988079071 0.699999988079071 0.699999988079071 0.699999988079071 0.699999988079071 0.699999988079071 0.699999988079071 0.699999988079071 0.699999988079071 0.699999988079071 0.699999988079071 0.699999988079071 0.699999988079071 0.699999988079071 0.699999988079071 0.699999988079071 0.699999988079071 0.699999988079071 0.699999988079071 0.699999988079071 0.699999988079071 0.699999988079071 0.699999988079071 0.699999988079071 0.699999988079071 0.699999988079071 0.699999988079071 0.699999988079071 0.699999988079071 0.699999988079071 0.699999988079071 0.699999988079071 0.699999988079071 0.699999988079071 0.699999988079071 0.699999988079071 0.699999988079071 0.699999988079071 0.699999988079071 0.699999988079071 0.699999988079071 0.699999988079071 0.699999988079071 0.699999988079071 0.699999988079071 0.699999988079071 0.699999988079071 0.699999988079071 0.699999988079071 0.699999988079071 0.699999988079071 0.699999988079071 0.699999988079071 0.699999988079071 0.699999988079071 0.699999988079071 0.699999988079071 0.699999988079071 0.699999988079071 0.699999988079071 0.699999988079071 0.699999988079071 0.699999988079071 0.699999988079071 0.699999988079071 0.699999988079071 0.699999988079071 0.699999988079071 0.699999988079071 0.699999988079071 0.699999988079071 0.699999988079071 0.699999988079071 0.699999988079071 0.699999988079071 0.699999988079071 0.699999988079071 0.699999988079071 0.699999988079071 0.699999988079071 0.699999988079071 0.699999988079071 0.699999988079071 0.699999988079071 0.699999988079071 0.699999988079071 0.699999988079071 0.699999988079071 0.699999988079071 0.699999988079071 0.699999988079071 0.699999988079071 0.699999988079071 0.699999988079071;0 0 0 0 0 0 0 0 0 0 0 0 0 0 0 0 0 0 0 0 0 0 0 0 0 0 0 3 3 3 3 3 3 3 0.699999988079071 0.699999988079071 0.699999988079071 0.699999988079071 0.699999988079071 0.699999988079071 0.699999988079071 0.699999988079071 0.699999988079071 0.699999988079071 0.699999988079071 0.699999988079071 0.699999988079071 0.699999988079071 0.699999988079071 0.699999988079071 0.699999988079071 0.699999988079071 0.699999988079071 0.699999988079071 0.699999988079071 0.699999988079071 0.699999988079071 0.699999988079071 0.699999988079071 0.699999988079071 0.699999988079071 0.699999988079071 0.699999988079071 0.699999988079071 0.699999988079071 0.699999988079071 0.699999988079071 0.699999988079071 0.699999988079071 0.699999988079071 0.699999988079071 0.699999988079071 0.699999988079071 0.699999988079071 0.699999988079071 0.699999988079071 0.699999988079071 0.699999988079071 0.699999988079071 0.699999988079071 0.699999988079071 0.699999988079071 0.699999988079071 0.699999988079071 0.699999988079071 0.699999988079071 0.699999988079071 0.699999988079071 0.699999988079071 0.699999988079071 0.699999988079071 0.699999988079071 0.699999988079071 0.699999988079071 0.699999988079071 0.699999988079071 0.699999988079071 0.699999988079071 0.699999988079071 0.699999988079071 0.699999988079071 0.699999988079071 0.699999988079071 0.699999988079071 0.699999988079071 0.699999988079071 0.699999988079071 0.699999988079071 0.699999988079071 0.699999988079071 0.699999988079071 0.699999988079071 0.699999988079071 0.699999988079071 0.699999988079071 0.699999988079071 0.699999988079071 0.699999988079071 0.699999988079071 0.699999988079071 0.699999988079071 0.699999988079071 0.699999988079071 0.699999988079071 0.699999988079071 0.699999988079071 0.699999988079071 0.699999988079071 0.699999988079071 0.699999988079071 0.699999988079071 0.699999988079071 0.699999988079071 0.699999988079071 0.699999988079071 0.699999988079071 0.699999988079071 0.699999988079071 0.699999988079071 0.699999988079071 0.699999988079071 0.699999988079071 0.699999988079071 0.699999988079071 0.699999988079071 0.699999988079071 0.699999988079071 0.699999988079071 0.699999988079071 0.699999988079071;0 0 0 0 0 0 0 0 0 0 0 0 0 0 0 0 0 0 0 0 0 0 0 0 0 0 0 3 3 3 3 3 3 3 0.699999988079071 0.699999988079071 0.699999988079071 0.699999988079071 0.699999988079071 0.699999988079071 0.699999988079071 0.699999988079071 0.699999988079071 0.699999988079071 0.699999988079071 0.699999988079071 0.699999988079071 0.699999988079071 0.699999988079071 0.699999988079071 0.699999988079071 0.699999988079071 0.699999988079071 0.699999988079071 0.699999988079071 0.699999988079071 0.699999988079071 0.699999988079071 0.699999988079071 0.699999988079071 0.699999988079071 0.699999988079071 0.699999988079071 0.699999988079071 0.699999988079071 0.699999988079071 0.699999988079071 0.699999988079071 0.699999988079071 0.699999988079071 0.699999988079071 0.699999988079071 0.699999988079071 0.699999988079071 0.699999988079071 0.699999988079071 0.699999988079071 0.699999988079071 0.699999988079071 0.699999988079071 0.699999988079071 0.699999988079071 0.699999988079071 0.699999988079071 0.699999988079071 0.699999988079071 0.699999988079071 0.699999988079071 0.699999988079071 0.699999988079071 0.699999988079071 0.699999988079071 0.699999988079071 0.699999988079071 0.699999988079071 0.699999988079071 0.699999988079071 0.699999988079071 0.699999988079071 0.699999988079071 0.699999988079071 0.699999988079071 0.699999988079071 0.699999988079071 0.699999988079071 0.699999988079071 0.699999988079071 0.699999988079071 0.699999988079071 0.699999988079071 0.699999988079071 0.699999988079071 0.699999988079071 0.699999988079071 0.699999988079071 0.699999988079071 0.699999988079071 0.699999988079071 0.699999988079071 0.699999988079071 0.699999988079071 0.699999988079071 0.699999988079071 0.699999988079071 0.699999988079071 0.699999988079071 0.699999988079071 0.699999988079071 0.699999988079071 0.699999988079071 0.699999988079071 0.699999988079071 0.699999988079071 0.699999988079071 0.699999988079071 0.699999988079071 0.699999988079071 0.699999988079071 0.699999988079071 0.699999988079071 0.699999988079071 0.699999988079071 0.699999988079071 0.699999988079071 0.699999988079071 0.699999988079071 0.699999988079071 0.699999988079071 0.699999988079071 0.699999988079071;0 0 0 0 0 0 0 0 0 0 0 0 0 0 0 0 0 0 0 0 0 0 0 0 0 0 0 3 3 3 3 3 3 3 0.699999988079071 0.699999988079071 0.699999988079071 0.699999988079071 0.699999988079071 0.699999988079071 0.699999988079071 0.699999988079071 0.699999988079071 0.699999988079071 0.699999988079071 0.699999988079071 0.699999988079071 0.699999988079071 0.699999988079071 0.699999988079071 0.699999988079071 0.699999988079071 0.699999988079071 0.699999988079071 0.699999988079071 0.699999988079071 0.699999988079071 0.699999988079071 0.699999988079071 0.699999988079071 0.699999988079071 0.699999988079071 0.699999988079071 0.699999988079071 0.699999988079071 0.699999988079071 0.699999988079071 0.699999988079071 0.699999988079071 0.699999988079071 0.699999988079071 0.699999988079071 0.699999988079071 0.699999988079071 0.699999988079071 0.699999988079071 0.699999988079071 0.699999988079071 0.699999988079071 0.699999988079071 0.699999988079071 0.699999988079071 0.699999988079071 0.699999988079071 0.699999988079071 0.699999988079071 0.699999988079071 0.699999988079071 0.699999988079071 0.699999988079071 0.699999988079071 0.699999988079071 0.699999988079071 0.699999988079071 0.699999988079071 0.699999988079071 0.699999988079071 0.699999988079071 0.699999988079071 0.699999988079071 0.699999988079071 0.699999988079071 0.699999988079071 0.699999988079071 0.699999988079071 0.699999988079071 0.699999988079071 0.699999988079071 0.699999988079071 0.699999988079071 0.699999988079071 0.699999988079071 0.699999988079071 0.699999988079071 0.699999988079071 0.699999988079071 0.699999988079071 0.699999988079071 0.699999988079071 0.699999988079071 0.699999988079071 0.699999988079071 0.699999988079071 0.699999988079071 0.699999988079071 0.699999988079071 0.699999988079071 0.699999988079071 0.699999988079071 0.699999988079071 0.699999988079071 0.699999988079071 0.699999988079071 0.699999988079071 0.699999988079071 0.699999988079071 0.699999988079071 0.699999988079071 0.699999988079071 0.699999988079071 0.699999988079071 0.699999988079071 0.699999988079071 0.699999988079071 0.699999988079071 0.699999988079071 0.699999988079071 0.699999988079071 0.699999988079071 0.699999988079071;0 0 0 0 0 0 0 0 0 0 0 0 0 0 0 0 0 0 0 0 0 0 0 0 0 0 0 3 3 3 3 3 3 3 0.699999988079071 0.699999988079071 0.699999988079071 0.699999988079071 0.699999988079071 0.699999988079071 0.699999988079071 0.699999988079071 0.699999988079071 0.699999988079071 0.699999988079071 0.699999988079071 0.699999988079071 0.699999988079071 0.699999988079071 0.699999988079071 0.699999988079071 0.699999988079071 0.699999988079071 0.699999988079071 0.699999988079071 0.699999988079071 0.699999988079071 0.699999988079071 0.699999988079071 0.699999988079071 0.699999988079071 0.699999988079071 0.699999988079071 0.699999988079071 0.699999988079071 0.699999988079071 0.699999988079071 0.699999988079071 0.699999988079071 0.699999988079071 0.699999988079071 0.699999988079071 0.699999988079071 0.699999988079071 0.699999988079071 0.699999988079071 0.699999988079071 0.699999988079071 0.699999988079071 0.699999988079071 0.699999988079071 0.699999988079071 0.699999988079071 0.699999988079071 0.699999988079071 0.699999988079071 0.699999988079071 0.699999988079071 0.699999988079071 0.699999988079071 0.699999988079071 0.699999988079071 0.699999988079071 0.699999988079071 0.699999988079071 0.699999988079071 0.699999988079071 0.699999988079071 0.699999988079071 0.699999988079071 0.699999988079071 0.699999988079071 0.699999988079071 0.699999988079071 0.699999988079071 0.699999988079071 0.699999988079071 0.699999988079071 0.699999988079071 0.699999988079071 0.699999988079071 0.699999988079071 0.699999988079071 0.699999988079071 0.699999988079071 0.699999988079071 0.699999988079071 0.699999988079071 0.699999988079071 0.699999988079071 0.699999988079071 0.699999988079071 0.699999988079071 0.699999988079071 0.699999988079071 0.699999988079071 0.699999988079071 0.699999988079071 0.699999988079071 0.699999988079071 0.699999988079071 0.699999988079071 0.699999988079071 0.699999988079071 0.699999988079071 0.699999988079071 0.699999988079071 0.699999988079071 0.699999988079071 0.699999988079071 0.699999988079071 0.699999988079071 0.699999988079071 0.699999988079071 0.699999988079071 0.699999988079071 0.699999988079071 0.699999988079071 0.699999988079071 0.699999988079071;0 0 0 0 0 0 0 0 0 0 0 0 0 0 0 0 0 0 0 0 0 0 0 0 0 0 0 3 3 3 3 3 3 3 0.699999988079071 0.699999988079071 0.699999988079071 0.699999988079071 0.699999988079071 0.699999988079071 0.699999988079071 0.699999988079071 0.699999988079071 0.699999988079071 0.699999988079071 0.699999988079071 0.699999988079071 0.699999988079071 0.699999988079071 0.699999988079071 0.699999988079071 0.699999988079071 0.699999988079071 0.699999988079071 0.699999988079071 0.699999988079071 0.699999988079071 0.699999988079071 0.699999988079071 0.699999988079071 0.699999988079071 0.699999988079071 0.699999988079071 0.699999988079071 0.699999988079071 0.699999988079071 0.699999988079071 0.699999988079071 0.699999988079071 0.699999988079071 0.699999988079071 0.699999988079071 0.699999988079071 0.699999988079071 0.699999988079071 0.699999988079071 0.699999988079071 0.699999988079071 0.699999988079071 0.699999988079071 0.699999988079071 0.699999988079071 0.699999988079071 0.699999988079071 0.699999988079071 0.699999988079071 0.699999988079071 0.699999988079071 0.699999988079071 0.699999988079071 0.699999988079071 0.699999988079071 0.699999988079071 0.699999988079071 0.699999988079071 0.699999988079071 0.699999988079071 0.699999988079071 0.699999988079071 0.699999988079071 0.699999988079071 0.699999988079071 0.699999988079071 0.699999988079071 0.699999988079071 0.699999988079071 0.699999988079071 0.699999988079071 0.699999988079071 0.699999988079071 0.699999988079071 0.699999988079071 0.699999988079071 0.699999988079071 0.699999988079071 0.699999988079071 0.699999988079071 0.699999988079071 0.699999988079071 0.699999988079071 0.699999988079071 0.699999988079071 0.699999988079071 0.699999988079071 0.699999988079071 0.699999988079071 0.699999988079071 0.699999988079071 0.699999988079071 0.699999988079071 0.699999988079071 0.699999988079071 0.699999988079071 0.699999988079071 0.699999988079071 0.699999988079071 0.699999988079071 0.699999988079071 0.699999988079071 0.699999988079071 0.699999988079071 0.699999988079071 0.699999988079071 0.699999988079071 0.699999988079071 0.699999988079071 0.699999988079071 0.699999988079071 0.699999988079071 0.699999988079071;0 0 0 0 0 0 0 0 0 0 0 0 0 0 0 0 0 0 0 0 0 0 0 0 0 0 0 3 3 3 3 3 3 3 3 0.699999988079071 0.699999988079071 0.699999988079071 0.699999988079071 0.699999988079071 0.699999988079071 0.699999988079071 0.699999988079071 0.699999988079071 0.699999988079071 0.699999988079071 0.699999988079071 0.699999988079071 0.699999988079071 0.699999988079071 0.699999988079071 0.699999988079071 0.699999988079071 0.699999988079071 0.699999988079071 0.699999988079071 0.699999988079071 0.699999988079071 0.699999988079071 0.699999988079071 0.699999988079071 0.699999988079071 0.699999988079071 0.699999988079071 0.699999988079071 0.699999988079071 0.699999988079071 0.699999988079071 0.699999988079071 0.699999988079071 0.699999988079071 0.699999988079071 0.699999988079071 0.699999988079071 0.699999988079071 0.699999988079071 0.699999988079071 0.699999988079071 0.699999988079071 0.699999988079071 0.699999988079071 0.699999988079071 0.699999988079071 0.699999988079071 0.699999988079071 0.699999988079071 0.699999988079071 0.699999988079071 0.699999988079071 0.699999988079071 0.699999988079071 0.699999988079071 0.699999988079071 0.699999988079071 0.699999988079071 0.699999988079071 0.699999988079071 0.699999988079071 0.699999988079071 0.699999988079071 0.699999988079071 0.699999988079071 0.699999988079071 0.699999988079071 0.699999988079071 0.699999988079071 0.699999988079071 0.699999988079071 0.699999988079071 0.699999988079071 0.699999988079071 0.699999988079071 0.699999988079071 0.699999988079071 0.699999988079071 0.699999988079071 0.699999988079071 0.699999988079071 0.699999988079071 0.699999988079071 0.699999988079071 0.699999988079071 0.699999988079071 0.699999988079071 0.699999988079071 0.699999988079071 0.699999988079071 0.699999988079071 0.699999988079071 0.699999988079071 0.699999988079071 0.699999988079071 0.699999988079071 0.699999988079071 0.699999988079071 0.699999988079071 0.699999988079071 0.699999988079071 0.699999988079071 0.699999988079071 0.699999988079071 0.699999988079071 0.699999988079071 0.699999988079071 0.699999988079071 0.699999988079071 0.699999988079071 0.699999988079071 0.699999988079071 0.699999988079071;0 0 0 0 0 0 0 0 0 0 0 0 0 0 0 0 0 0 0 0 0 0 0 0 0 0 0 3 3 3 3 3 3 3 3 0.699999988079071 0.699999988079071 0.699999988079071 0.699999988079071 0.699999988079071 0.699999988079071 0.699999988079071 0.699999988079071 0.699999988079071 0.699999988079071 0.699999988079071 0.699999988079071 0.699999988079071 0.699999988079071 0.699999988079071 0.699999988079071 0.699999988079071 0.699999988079071 0.699999988079071 0.699999988079071 0.699999988079071 0.699999988079071 0.699999988079071 0.699999988079071 0.699999988079071 0.699999988079071 0.699999988079071 0.699999988079071 0.699999988079071 0.699999988079071 0.699999988079071 0.699999988079071 0.699999988079071 0.699999988079071 0.699999988079071 0.699999988079071 0.699999988079071 0.699999988079071 0.699999988079071 0.699999988079071 0.699999988079071 0.699999988079071 0.699999988079071 0.699999988079071 0.699999988079071 0.699999988079071 0.699999988079071 0.699999988079071 0.699999988079071 0.699999988079071 0.699999988079071 0.699999988079071 0.699999988079071 0.699999988079071 0.699999988079071 0.699999988079071 0.699999988079071 0.699999988079071 0.699999988079071 0.699999988079071 0.699999988079071 0.699999988079071 0.699999988079071 0.699999988079071 0.699999988079071 0.699999988079071 0.699999988079071 0.699999988079071 0.699999988079071 0.699999988079071 0.699999988079071 0.699999988079071 0.699999988079071 0.699999988079071 0.699999988079071 0.699999988079071 0.699999988079071 0.699999988079071 0.699999988079071 0.699999988079071 0.699999988079071 0.699999988079071 0.699999988079071 0.699999988079071 0.699999988079071 0.699999988079071 0.699999988079071 0.699999988079071 0.699999988079071 0.699999988079071 0.699999988079071 0.699999988079071 0.699999988079071 0.699999988079071 0.699999988079071 0.699999988079071 0.699999988079071 0.699999988079071 0.699999988079071 0.699999988079071 0.699999988079071 0.699999988079071 0.699999988079071 0.699999988079071 0.699999988079071 0.699999988079071 0.699999988079071 0.699999988079071 0.699999988079071 0.699999988079071 0.699999988079071 0.699999988079071 0.699999988079071 0.699999988079071 0.699999988079071;0 0 0 0 0 0 0 0 0 0 0 0 0 0 0 0 0 0 0 0 0 0 0 0 0 0 0 3 3 3 3 3 3 3 3 0.699999988079071 0.699999988079071 0.699999988079071 0.699999988079071 0.699999988079071 0.699999988079071 0.699999988079071 0.699999988079071 0.699999988079071 0.699999988079071 0.699999988079071 0.699999988079071 0.699999988079071 0.699999988079071 0.699999988079071 0.699999988079071 0.699999988079071 0.699999988079071 0.699999988079071 0.699999988079071 0.699999988079071 0.699999988079071 0.699999988079071 0.699999988079071 0.699999988079071 0.699999988079071 0.699999988079071 0.699999988079071 0.699999988079071 0.699999988079071 0.699999988079071 0.699999988079071 0.699999988079071 0.699999988079071 0.699999988079071 0.699999988079071 0.699999988079071 0.699999988079071 0.699999988079071 0.699999988079071 0.699999988079071 0.699999988079071 0.699999988079071 0.699999988079071 0.699999988079071 0.699999988079071 0.699999988079071 0.699999988079071 0.699999988079071 0.699999988079071 0.699999988079071 0.699999988079071 0.699999988079071 0.699999988079071 0.699999988079071 0.699999988079071 0.699999988079071 0.699999988079071 0.699999988079071 0.699999988079071 0.699999988079071 0.699999988079071 0.699999988079071 0.699999988079071 0.699999988079071 0.699999988079071 0.699999988079071 0.699999988079071 0.699999988079071 0.699999988079071 0.699999988079071 0.699999988079071 0.699999988079071 0.699999988079071 0.699999988079071 0.699999988079071 0.699999988079071 0.699999988079071 0.699999988079071 0.699999988079071 0.699999988079071 0.699999988079071 0.699999988079071 0.699999988079071 0.699999988079071 0.699999988079071 0.699999988079071 0.699999988079071 0.699999988079071 0.699999988079071 0.699999988079071 0.699999988079071 0.699999988079071 0.699999988079071 0.699999988079071 0.699999988079071 0.699999988079071 0.699999988079071 0.699999988079071 0.699999988079071 0.699999988079071 0.699999988079071 0.699999988079071 0.699999988079071 0.699999988079071 0.699999988079071 0.699999988079071 0.699999988079071 0.699999988079071 0.699999988079071 0.699999988079071 0.699999988079071 0.699999988079071 0.699999988079071 0.699999988079071;0 0 0 0 0 0 0 0 0 0 0 0 0 0 0 0 0 0 0 0 0 0 0 0 0 0 0 3 3 3 3 3 3 3 3 0.699999988079071 0.699999988079071 0.699999988079071 0.699999988079071 0.699999988079071 0.699999988079071 0.699999988079071 0.699999988079071 0.699999988079071 0.699999988079071 0.699999988079071 0.699999988079071 0.699999988079071 0.699999988079071 0.699999988079071 0.699999988079071 0.699999988079071 0.699999988079071 0.699999988079071 0.699999988079071 0.699999988079071 0.699999988079071 0.699999988079071 0.699999988079071 0.699999988079071 0.699999988079071 0.699999988079071 0.699999988079071 0.699999988079071 0.699999988079071 0.699999988079071 0.699999988079071 0.699999988079071 0.699999988079071 0.699999988079071 0.699999988079071 0.699999988079071 0.699999988079071 0.699999988079071 0.699999988079071 0.699999988079071 0.699999988079071 0.699999988079071 0.699999988079071 0.699999988079071 0.699999988079071 0.699999988079071 0.699999988079071 0.699999988079071 0.699999988079071 0.699999988079071 0.699999988079071 0.699999988079071 0.699999988079071 0.699999988079071 0.699999988079071 0.699999988079071 0.699999988079071 0.699999988079071 0.699999988079071 0.699999988079071 0.699999988079071 0.699999988079071 0.699999988079071 0.699999988079071 0.699999988079071 0.699999988079071 0.699999988079071 0.699999988079071 0.699999988079071 0.699999988079071 0.699999988079071 0.699999988079071 0.699999988079071 0.699999988079071 0.699999988079071 0.699999988079071 0.699999988079071 0.699999988079071 0.699999988079071 0.699999988079071 0.699999988079071 0.699999988079071 0.699999988079071 0.699999988079071 0.699999988079071 0.699999988079071 0.699999988079071 0.699999988079071 0.699999988079071 0.699999988079071 0.699999988079071 0.699999988079071 0.699999988079071 0.699999988079071 0.699999988079071 0.699999988079071 0.699999988079071 0.699999988079071 0.699999988079071 0.699999988079071 0.699999988079071 0.699999988079071 0.699999988079071 0.699999988079071 0.699999988079071 0.699999988079071 0.699999988079071 0.699999988079071 0.699999988079071 0.699999988079071 0.699999988079071 0.699999988079071 0.699999988079071 0.699999988079071;0 0 0 0 0 0 0 0 0 0 0 0 0 0 0 0 0 0 0 0 0 0 0 0 0 0 0 3 3 3 3 3 3 3 3 0.699999988079071 0.699999988079071 0.699999988079071 0.699999988079071 0.699999988079071 0.699999988079071 0.699999988079071 0.699999988079071 0.699999988079071 0.699999988079071 0.699999988079071 0.699999988079071 0.699999988079071 0.699999988079071 0.699999988079071 0.699999988079071 0.699999988079071 0.699999988079071 0.699999988079071 0.699999988079071 0.699999988079071 0.699999988079071 0.699999988079071 0.699999988079071 0.699999988079071 0.699999988079071 0.699999988079071 0.699999988079071 0.699999988079071 0.699999988079071 0.699999988079071 0.699999988079071 0.699999988079071 0.699999988079071 0.699999988079071 0.699999988079071 0.699999988079071 0.699999988079071 0.699999988079071 0.699999988079071 0.699999988079071 0.699999988079071 0.699999988079071 0.699999988079071 0.699999988079071 0.699999988079071 0.699999988079071 0.699999988079071 0.699999988079071 0.699999988079071 0.699999988079071 0.699999988079071 0.699999988079071 0.699999988079071 0.699999988079071 0.699999988079071 0.699999988079071 0.699999988079071 0.699999988079071 0.699999988079071 0.699999988079071 0.699999988079071 0.699999988079071 0.699999988079071 0.699999988079071 0.699999988079071 0.699999988079071 0.699999988079071 0.699999988079071 0.699999988079071 0.699999988079071 0.699999988079071 0.699999988079071 0.699999988079071 0.699999988079071 0.699999988079071 0.699999988079071 0.699999988079071 0.699999988079071 0.699999988079071 0.699999988079071 0.699999988079071 0.699999988079071 0.699999988079071 0.699999988079071 0.699999988079071 0.699999988079071 0.699999988079071 0.699999988079071 0.699999988079071 0.699999988079071 0.699999988079071 0.699999988079071 0.699999988079071 0.699999988079071 0.699999988079071 0.699999988079071 0.699999988079071 0.699999988079071 0.699999988079071 0.699999988079071 0.699999988079071 0.699999988079071 0.699999988079071 0.699999988079071 0.699999988079071 0.699999988079071 0.699999988079071 0.699999988079071 0.699999988079071 0.699999988079071 0.699999988079071 0.699999988079071 0.699999988079071 0.699999988079071;0 0 0 0 0 0 0 0 0 0 0 0 0 0 0 0 0 0 0 0 0 0 0 0 0 0 0 3 3 3 3 3 3 3 3 0.699999988079071 0.699999988079071 0.699999988079071 0.699999988079071 0.699999988079071 0.699999988079071 0.699999988079071 0.699999988079071 0.699999988079071 0.699999988079071 0.699999988079071 0.699999988079071 0.699999988079071 0.699999988079071 0.699999988079071 0.699999988079071 0.699999988079071 0.699999988079071 0.699999988079071 0.699999988079071 0.699999988079071 0.699999988079071 0.699999988079071 0.699999988079071 0.699999988079071 0.699999988079071 0.699999988079071 0.699999988079071 0.699999988079071 0.699999988079071 0.699999988079071 0.699999988079071 0.699999988079071 0.699999988079071 0.699999988079071 0.699999988079071 0.699999988079071 0.699999988079071 0.699999988079071 0.699999988079071 0.699999988079071 0.699999988079071 0.699999988079071 0.699999988079071 0.699999988079071 0.699999988079071 0.699999988079071 0.699999988079071 0.699999988079071 0.699999988079071 0.699999988079071 0.699999988079071 0.699999988079071 0.699999988079071 0.699999988079071 0.699999988079071 0.699999988079071 0.699999988079071 0.699999988079071 0.699999988079071 0.699999988079071 0.699999988079071 0.699999988079071 0.699999988079071 0.699999988079071 0.699999988079071 0.699999988079071 0.699999988079071 0.699999988079071 0.699999988079071 0.699999988079071 0.699999988079071 0.699999988079071 0.699999988079071 0.699999988079071 0.699999988079071 0.699999988079071 0.699999988079071 0.699999988079071 0.699999988079071 0.699999988079071 0.699999988079071 0.699999988079071 0.699999988079071 0.699999988079071 0.699999988079071 0.699999988079071 0.699999988079071 0.699999988079071 0.699999988079071 0.699999988079071 0.699999988079071 0.699999988079071 0.699999988079071 0.699999988079071 0.699999988079071 0.699999988079071 0.699999988079071 0.699999988079071 0.699999988079071 0.699999988079071 0.699999988079071 0.699999988079071 0.699999988079071 0.699999988079071 0.699999988079071 0.699999988079071 0.699999988079071 0.699999988079071 0.699999988079071 0.699999988079071 0.699999988079071 0.699999988079071 0.699999988079071 0.699999988079071;0 0 0 0 0 0 0 0 0 0 0 0 0 0 0 0 0 0 0 0 0 0 0 0 0 0 0 3 3 3 3 3 3 3 3 0.699999988079071 0.699999988079071 0.699999988079071 0.699999988079071 0.699999988079071 0.699999988079071 0.699999988079071 0.699999988079071 0.699999988079071 0.699999988079071 0.699999988079071 0.699999988079071 0.699999988079071 0.699999988079071 0.699999988079071 0.699999988079071 0.699999988079071 0.699999988079071 0.699999988079071 0.699999988079071 0.699999988079071 0.699999988079071 0.699999988079071 0.699999988079071 0.699999988079071 0.699999988079071 0.699999988079071 0.699999988079071 0.699999988079071 0.699999988079071 0.699999988079071 0.699999988079071 0.699999988079071 0.699999988079071 0.699999988079071 0.699999988079071 0.699999988079071 0.699999988079071 0.699999988079071 0.699999988079071 0.699999988079071 0.699999988079071 0.699999988079071 0.699999988079071 0.699999988079071 0.699999988079071 0.699999988079071 0.699999988079071 0.699999988079071 0.699999988079071 0.699999988079071 0.699999988079071 0.699999988079071 0.699999988079071 0.699999988079071 0.699999988079071 0.699999988079071 0.699999988079071 0.699999988079071 0.699999988079071 0.699999988079071 0.699999988079071 0.699999988079071 0.699999988079071 0.699999988079071 0.699999988079071 0.699999988079071 0.699999988079071 0.699999988079071 0.699999988079071 0.699999988079071 0.699999988079071 0.699999988079071 0.699999988079071 0.699999988079071 0.699999988079071 0.699999988079071 0.699999988079071 0.699999988079071 0.699999988079071 0.699999988079071 0.699999988079071 0.699999988079071 0.699999988079071 0.699999988079071 0.699999988079071 0.699999988079071 0.699999988079071 0.699999988079071 0.699999988079071 0.699999988079071 0.699999988079071 0.699999988079071 0.699999988079071 0.699999988079071 0.699999988079071 0.699999988079071 0.699999988079071 0.699999988079071 0.699999988079071 0.699999988079071 0.699999988079071 0.699999988079071 0.699999988079071 0.699999988079071 0.699999988079071 0.699999988079071 0.699999988079071 0.699999988079071 0.699999988079071 0.699999988079071 0.699999988079071 0.699999988079071 0.699999988079071 0.699999988079071;0 0 0 0 0 0 0 0 0 0 0 0 0 0 0 0 0 0 0 0 0 0 0 0 0 0 0 0 3 3 3 3 3 3 3 0.699999988079071 0.699999988079071 0.699999988079071 0.699999988079071 0.699999988079071 0.699999988079071 0.699999988079071 0.699999988079071 0.699999988079071 0.699999988079071 0.699999988079071 0.699999988079071 0.699999988079071 0.699999988079071 0.699999988079071 0.699999988079071 0.699999988079071 0.699999988079071 0.699999988079071 0.699999988079071 0.699999988079071 0.699999988079071 0.699999988079071 0.699999988079071 0.699999988079071 0.699999988079071 0.699999988079071 0.699999988079071 0.699999988079071 0.699999988079071 0.699999988079071 0.699999988079071 0.699999988079071 0.699999988079071 0.699999988079071 0.699999988079071 0.699999988079071 0.699999988079071 0.699999988079071 0.699999988079071 0.699999988079071 0.699999988079071 0.699999988079071 0.699999988079071 0.699999988079071 0.699999988079071 0.699999988079071 0.699999988079071 0.699999988079071 0.699999988079071 0.699999988079071 0.699999988079071 0.699999988079071 0.699999988079071 0.699999988079071 0.699999988079071 0.699999988079071 0.699999988079071 0.699999988079071 0.699999988079071 0.699999988079071 0.699999988079071 0.699999988079071 0.699999988079071 0.699999988079071 0.699999988079071 0.699999988079071 0.699999988079071 0.699999988079071 0.699999988079071 0.699999988079071 0.699999988079071 0.699999988079071 0.699999988079071 0.699999988079071 0.699999988079071 0.699999988079071 0.699999988079071 0.699999988079071 0.699999988079071 0.699999988079071 0.699999988079071 0.699999988079071 0.699999988079071 0.699999988079071 0.699999988079071 0.699999988079071 0.699999988079071 0.699999988079071 0.699999988079071 0.699999988079071 0.699999988079071 0.699999988079071 0.699999988079071 0.699999988079071 0.699999988079071 0.699999988079071 0.699999988079071 0.699999988079071 0.699999988079071 0.699999988079071 0.699999988079071 0.699999988079071 0.699999988079071 0.699999988079071 0.699999988079071 0.699999988079071 0.699999988079071 0.699999988079071 0.699999988079071 0.699999988079071 0.699999988079071 0.699999988079071 0.699999988079071 0.699999988079071'\n",
        "\n",
        "# Set and rescale 2D phantom\n",
        "phantom2D = np.matrix(val)\n",
        "phantom2D = rescale(phantom2D, 0.205, anti_aliasing=False)"
      ],
      "execution_count": null,
      "outputs": []
    },
    {
      "cell_type": "markdown",
      "metadata": {
        "id": "ypYhMqLUQfh_"
      },
      "source": [
        "## Image & k-Space \n",
        "The `isoGrid` class implements the geometrical objects used as inputs/outputs for the pulse sequence simulations and their auxiliary functions. These include:\n",
        "- `M0`: input 3D isochromat grid\n",
        "- `velAccMap`: flow properties map for the isochromat grid\n",
        "- `kSpace`: k space grid, computed during the sequence simulation\n",
        "\n",
        "\n"
      ]
    },
    {
      "cell_type": "code",
      "metadata": {
        "id": "3FEsdMq6bn8b"
      },
      "source": [
        "# Class to hold the input image and ouput k-Space\n",
        "class isoGrid:\n",
        "\n",
        "  # Constructor: Initialize with phantom image\n",
        "  # Input:\n",
        "  #   phantom: Matrix initialization\n",
        "  def __init__(self, phantom = np.zeros((128, 128))):\n",
        "\n",
        "    # Write input data to isochromat grid array\n",
        "    M0 = np.zeros((phantom.shape[0], phantom.shape[1], 1, 3))\n",
        "    M0[:,:,0,2] = phantom\n",
        "    self.M0 = np.array(M0)\n",
        "\n",
        "    # Calculate velocity/acceleration maps for flow-simulations\n",
        "    self.velAccMap()\n",
        "\n",
        "    # Initialize empty k-space\n",
        "    self.kSpace = np.zeros((self.M0.shape[0], self.M0.shape[1]), dtype=complex)\n",
        "\n",
        "  # Initialize flow velocity and acceleration maps\n",
        "  def velAccMap(self):\n",
        "\n",
        "    # Initialize empty arrays\n",
        "    self.vGrid = np.zeros_like(self.M0)\n",
        "    self.aGrid = np.zeros_like(self.M0)\n",
        "\n",
        "    # Set velocity and acceleration vectors for blood and myocardium\n",
        "    vBlood = np.array([0.4, 0.8, 0]) # [m/s]\n",
        "    aBlood = np.array([0.02, 0.08, 0]) # [m/s^2]\n",
        "    vMyo = np.array([0.1, 0.1, 0]) # [m/s]\n",
        "    aMyo = np.array([0.005, 0.005, 0]) # [m/s^2]\n",
        "    \n",
        "    # Set v and a properties to blood and myocardium pixels\n",
        "    I_Blood = 1 # phantom intensity in ventricles\n",
        "    I_Myo = 0.800000011920929 # phantom intensity in myocardium\n",
        "    for i in range(self.vGrid.shape[0]):\n",
        "      for j in range(self.vGrid.shape[1]):\n",
        "        for k in range(self.vGrid.shape[2]):\n",
        "          if self.M0[i, j, k, 2] == I_Blood:\n",
        "            self.vGrid[i,j,k,:] = vBlood\n",
        "            self.aGrid[i,j,k,:] = aBlood\n",
        "          elif self.M0[i, j, k, 2] == I_Myo:\n",
        "            self.vGrid[i,j,k,:] = vMyo\n",
        "            self.aGrid[i,j,k,:] = aMyo\n",
        "\n",
        "  # Get center points in all dimensions\n",
        "  # Input:\n",
        "  #   ax: Image axis\n",
        "  #          0: X-Axis, 1: Y-Axis, 2: Z-Axis\n",
        "  def getCenter(self,ax):\n",
        "    return np.floor((self.M0.shape[ax]-1)/2)\n",
        "\n",
        "\n",
        "  # Get size in all dimensions\n",
        "  # Input:\n",
        "  #   ax: Image axis\n",
        "  #          0: X-Axis, 1: Y-Axis, 2: Z-Axis\n",
        "  def getSize(self,ax):\n",
        "    return self.M0.shape[ax]\n"
      ],
      "execution_count": null,
      "outputs": []
    },
    {
      "cell_type": "markdown",
      "metadata": {
        "id": "GfzjrJozQz5E"
      },
      "source": [
        "## Gradients\n",
        "The `Gradient` class is used to define and compute the single gradient objects of the MRI sequence.\n"
      ]
    },
    {
      "cell_type": "code",
      "metadata": {
        "id": "6Lyk4-l7r20-"
      },
      "source": [
        "# Gradient class for rectangular gradients\n",
        "class Gradient:\n",
        "  \n",
        "  # Constructor\n",
        "  # Input:\n",
        "  #   seq:  Sequence Object\n",
        "  #   strn: Gradient Amplitude        [T/m]\n",
        "  #           (or step size if steps > 1)\n",
        "  #   dur:  Gradient Duration         [s]\n",
        "  #   t0:   Start Time within the TR  [s]\n",
        "  #   ax:   Gradient axis\n",
        "  #           0 : x - axis (readout)\n",
        "  #           1 : y - axis (phase)\n",
        "  #           2 : z - axis (slice)\n",
        "  #   steps: Number of gradient steps\n",
        "  def __init__(self, seq, strn=30, dur=0, t0=0, ax=0, steps=0):\n",
        "    # Initialize Member Variables\n",
        "    self.strn     = strn\n",
        "    self.steps    = steps\n",
        "    self.ax       = ax\n",
        "    self.dur_dts  = (int)(np.round(dur/seq.dt))\n",
        "    self.t0_dts   = (int)(np.round(t0/seq.dt))\n",
        "\n",
        "    # Add gradient to gradient list of sequence\n",
        "    seq.addGradient(self)\n",
        "\n",
        "\n",
        "  # Output function: Generates the gradient trace associated with this gradient\n",
        "  # Input:\n",
        "  #   seq:  Pulse sequence \n",
        "  # Output:\n",
        "  #   G:    Gradient Trace\n",
        "  def getTrace(self, seq):\n",
        "      #Initialize empty trace\n",
        "      G = np.zeros((3, (int)(np.round(seq.TR/seq.dt)), seq.nKy))\n",
        "\n",
        "      if self.steps == 0:\n",
        "        #For 0 steps, assign the same strengths to each repetition (ky line)\n",
        "        G[self.ax, self.t0_dts:(self.t0_dts+self.dur_dts), :] = self.strn\n",
        "      else:\n",
        "        #Otherwise use self.strn as step size between the gradients\n",
        "        G[self.ax, self.t0_dts:(self.t0_dts+self.dur_dts), :] = [self.strn*(i-((self.steps-1)/2)) for i in range(self.steps)]\n",
        "      return G\n"
      ],
      "execution_count": null,
      "outputs": []
    },
    {
      "cell_type": "markdown",
      "metadata": {
        "id": "9pgL7VbED09b"
      },
      "source": [
        "## RF Pulse\n",
        "The `RFpulse` class is used to define and compute the single RF pulse objects of the MRI sequence.\n"
      ]
    },
    {
      "cell_type": "code",
      "metadata": {
        "id": "Gd0NW2PID09g"
      },
      "source": [
        "# RF pulse class for radiofreq. pulses\n",
        "class RFpulse:\n",
        "  \n",
        "  # Constructor\n",
        "  # Input:\n",
        "  #   seq:  Sequence Object\n",
        "  #   fa:   Flip angle                [degrees]\n",
        "  #   tExc: Durationof RF pulse       [s]\n",
        "  #   t0Exc: Starting time RF pulse   [s]\n",
        "  def __init__(self, seq, fa=90, tExc=1e-3, t0Exc=0):\n",
        "    # Initialize Member Variables\n",
        "    self.fa       = fa\n",
        "    self.tExc     = tExc\n",
        "    self.t0Exc    = t0Exc\n",
        "    self.B1       = np.deg2rad(self.fa)/self.tExc; #[rad/s]\n",
        "  \n",
        "    # Add RF pulse to the sequence\n",
        "    seq.addRFpulse(self)\n",
        "\n",
        "\n",
        "  # Output function: Generates the RF pulse trace associated with this pulse\n",
        "  # Input:\n",
        "  #   seq:  Pulse sequence\n",
        "  # Output:\n",
        "  #   RF:   Radio frequency pulse trace\n",
        "  def getTrace(self, seq):\n",
        "      # Initialize empty trace\n",
        "      RF = np.zeros((3, (int)(seq.TR/seq.dt)))\n",
        "\n",
        "      # Assign RF pulse strength \n",
        "      RF[0, (int)(self.t0Exc / seq.dt):(int)((self.t0Exc+ self.tExc) / seq.dt)] = self.B1\n",
        "\n",
        "      return RF\n"
      ],
      "execution_count": null,
      "outputs": []
    },
    {
      "cell_type": "markdown",
      "metadata": {
        "id": "55q2JnwNQw-j"
      },
      "source": [
        "## Sequence\n",
        "The `Sequence` class is used to define, compute and simulate the complete MRI sequence. The workflow to run the simulation should be:\n",
        "\n",
        "1. Initialize the sequence by defining an new instance of a sequence object\n",
        "\n",
        "2. Define the RF pulse objects of this sequence\n",
        "\n",
        "3. Define the gradient objects of this sequence\n",
        "\n",
        "4. Calculate the sequence.\n",
        "\n",
        "5. Plot the resulting pulse sequence diagram."
      ]
    },
    {
      "cell_type": "code",
      "metadata": {
        "id": "M1-vjPcevWF5"
      },
      "source": [
        "# A simple sequence class\n",
        "class Sequence:\n",
        "\n",
        "  # Constructor\n",
        "  # Input:\n",
        "  #   seq:  Sequence Object\n",
        "  #   TR:   Repetition Time           [s]\n",
        "  #   nKx:  Number of samples along X\n",
        "  #   nKy:  Number of samples along Y (phase encoding lines)\n",
        "  def __init__(self, TR, t0ADC, nKx, nKy):\n",
        "    #General parameters\n",
        "    # Gyromagnetic Ratio\n",
        "    self.gamma  = 42.58e+6  #[Hz/T]\n",
        "    # Temporal simulation resolution\n",
        "    self.dt     = 0.1e-03 #[s]\n",
        "    # Voxel Size\n",
        "    self.resolution = [1e-3, 1e-3, 10e-3] # [m]\n",
        "    # Noise\n",
        "    self.noise = np.random.normal(0, 0.5)\n",
        "\n",
        "    #Initialize Member Variables\n",
        "    self.TR    = TR\n",
        "    self.t0ADC = t0ADC\n",
        "    self.nKx   = nKx\n",
        "    self.nKy   = nKy\n",
        "\n",
        "    #Set gradient and RFtraces to zero\n",
        "    self.Beff_t = np.zeros((3, (int)(np.round(TR/self.dt))))\n",
        "    self.G_t    = np.zeros((3, (int)(np.round(TR/self.dt)), self.nKy))\n",
        "    self.ADC    = np.zeros((1, (int)(np.round(TR/self.dt))))\n",
        "    \n",
        "    #Initialize Empty Gradient and RF object list\n",
        "    self.gradientList = []\n",
        "    self.rfList = []\n",
        "\n",
        "    #Define hardware limitations\n",
        "    self.Gmax   = [35e-3] * 3 # [T/m]\n",
        "\n",
        "    #Internal variable to ensure the sequence is calculated prior to simulation\n",
        "    self._isCalculated = False\n",
        "\n",
        "  # Add RF pulse to sequence\n",
        "  # Input:\n",
        "  #   RFp:  RF pulse object\n",
        "  def addRFpulse(self, rf):\n",
        "    self.rfList.append(rf)\n",
        "    self._isCalculated = False\n",
        "\n",
        "\n",
        "  # Add Gradient to list\n",
        "  # Input:\n",
        "  #   gradient:  Gradient Object\n",
        "  def addGradient(self, gradient):\n",
        "    self.gradientList.append(gradient)\n",
        "    self._isCalculated = False\n",
        "\n",
        "\n",
        "  # Calculate the sequence and generate Gradient/RF Trace\n",
        "  def calculateSequence(self):\n",
        "    # Combine all Gradient objects in the sequence\n",
        "    self.G_t    = np.zeros((3, (int)(np.round(self.TR/self.dt)), self.nKy))\n",
        "    for g in self.gradientList:\n",
        "      self.G_t += g.getTrace(self)\n",
        "\n",
        "    # Combine all RF objects in the sequence\n",
        "    self.Beff_t    = np.zeros((3, (int)(np.round(TR/self.dt))))\n",
        "    for rf in self.rfList:\n",
        "      self.Beff_t += rf.getTrace(self)\n",
        "\n",
        "    # Compute ADC trace\n",
        "    t0ADC_dts = (int)(np.round(self.t0ADC/seq.dt))\n",
        "    self.ADC[0, t0ADC_dts : t0ADC_dts + nKx] = 1\n",
        "\n",
        "    # Check for hardware limitation violations\n",
        "    if np.any( np.greater( np.max( np.max( np.abs(self.G_t), axis=2), axis=1 ), self.Gmax ) ):\n",
        "      print (np.max( np.max( np.abs(self.G_t), axis=2), axis=1 ), self.Gmax)\n",
        "      raise Exception(\"Gradient Limit exceeded\")\n",
        "\n",
        "    # Mark the Sequence as calculated\n",
        "    self._isCalculated = True\n",
        "\n",
        "\n",
        "  # Simulate the sequence\n",
        "  # Input:\n",
        "  #   isoGrid:  Grid Object containing the image\n",
        "  # Output:\n",
        "  #   isoGrid:  Grid Object with simulated k-Space\n",
        "  def simSeq(self, isoGrid):\n",
        "    # Check if the sequence has been calculated\n",
        "    if not self._isCalculated:\n",
        "      raise Exception(\"The sequence has to be calcuated before execution!\")\n",
        "\n",
        "    # Define Matrix to hold the magnetization vectors for each voxel as a function of time\n",
        "    M_t = np.zeros(((int)(self.TR/self.dt)+1, isoGrid.M0.shape[0], isoGrid.M0.shape[1], isoGrid.M0.shape[2], isoGrid.M0.shape[3]))\n",
        "    # Initialize the first time point with the input image\n",
        "    M_t[0, :, :, :, :] = isoGrid.M0\n",
        "\n",
        "    # Simulate the excitations\n",
        "    isoGrid, M_t = self._simSeqExc(isoGrid, M_t)\n",
        "    # Simulate the gradients\n",
        "    isoGrid, M_t = self._simSeqAcq(isoGrid, M_t)\n",
        "    \n",
        "    return isoGrid\n",
        "\n",
        "\n",
        "  # Simulate the effect of the RFpulse objects\n",
        "  # Input:\n",
        "  #   isoGrid:  Grid Object containing the image\n",
        "  #   M_t:      Matrix containig magnetization vectors over time\n",
        "  # Output:\n",
        "  #   isoGrid:  Grid Object containing the image\n",
        "  #   M_t:      Matrix containig magnetization vectors over time after B1 simulations\n",
        "  def _simSeqExc(self, isoGrid, M_t):\n",
        "    print(\"Simulating excitation...\\n\")\n",
        "\n",
        "    # Loop over voxels in all spatial dimensions of image\n",
        "    for i in tqdm(range(isoGrid.getSize(0))):\n",
        "      for j in range(isoGrid.getSize(1)):\n",
        "        for k in range(isoGrid.getSize(2)):\n",
        "\n",
        "          # Calculate location of the current voxel\n",
        "          r = np.multiply( [i-isoGrid.getCenter(0), j-isoGrid.getCenter(1), k-isoGrid.getCenter(2)], self.resolution );\n",
        "\n",
        "          for t in range(1, (int)(np.round(self.TR/self.dt))+1):\n",
        "\n",
        "            if  (np.linalg.norm(self.Beff_t[:,t-1]) != 0):\n",
        "            # Only simulate if there is a B1 field              \n",
        "              phi   = np.rad2deg(np.arctan(self.Beff_t[1, t-1] / self.Beff_t[0, t-1]))\n",
        "              theta = np.rad2deg(np.arctan(self.Beff_t[2, t-1] / self.Beff_t[0, t-1]))\n",
        "              M_t[t, i, j, k, :] = rotZ(phi) @ rotY(theta) @ rotX(np.linalg.norm(self.Beff_t[:,t-1])*self.dt) @ rotY(-theta) @ rotZ(-phi) @ M_t[t-1, i, j, k, :]\n",
        "            else:\n",
        "            # Otherwise just copy the previous time steps\n",
        "              M_t[t, i, j, k, :] = M_t[t-1, i, j, k, :]\n",
        "    return isoGrid, M_t\n",
        "\n",
        "\n",
        "  # Simulate the effect of the Gradient objects\n",
        "  # Input:\n",
        "  #   isoGrid:  Grid Object containing the image\n",
        "  #   M_t:      Matrix containig magnetization vectors over time\n",
        "  # Output:\n",
        "  #   isoGrid:  Grid Object containing the image\n",
        "  #   M_t:      Matrix containig magnetization vectors over time after Gradient simulations\n",
        "  def _simSeqAcq(self, isoGrid, M_t):\n",
        "    \n",
        "    print(\"Simulating acquisition...\\n\")\n",
        "\n",
        "    # Calculate time point of ADC in dime step units\n",
        "    t0ADC_dts = (int)(np.round(self.t0ADC/seq.dt))\n",
        "\n",
        "    M_t0 = copy.deepcopy(M_t)\n",
        "\n",
        "    # Loop over repetitions (ky lines)\n",
        "    for ky in tqdm(range(nKy)):\n",
        "\n",
        "      # Reset Magnetization vector to state after application of RF pulses\n",
        "      # at the beginning of each TR\n",
        "      if (ky > 0):\n",
        "        M_t = copy.deepcopy(M_t0)\n",
        "\n",
        "      # Loop over voxels in all spatial dimensions of image\n",
        "      for i in range(isoGrid.getSize(0)):\n",
        "        for j in range(isoGrid.getSize(1)):\n",
        "          for k in range(isoGrid.getSize(2)):\n",
        "\n",
        "            # Calculate location of the current voxel\n",
        "            r = np.multiply( [i-isoGrid.getCenter(0), j-isoGrid.getCenter(1), k-isoGrid.getCenter(2)], self.resolution )\n",
        "          \n",
        "            for t in range(1, (int)(np.round(self.TR/self.dt))+1):\n",
        "\n",
        "              # Phase offset accumulated due to gradients in this time step\n",
        "              thetaGF = self._phaseSim(t, ky, r, isoGrid.vGrid[i, j, k, :], isoGrid.aGrid[i, j, k , :])    \n",
        "              # Phase offset accumulated up to previous time step\n",
        "              thetaPr = np.arctan2( M_t[t-1, i, j, k, 0], M_t[t-1, i, j, k, 1])\n",
        "              # Rotate magnetization that has not been subjected to gradients by combined phase\n",
        "              M_t[t, i, j, k, :] = rotZ(thetaGF + thetaPr) @ M_t[t, i, j, k, :]\n",
        "\n",
        "\n",
        "      # Loop over radout time points\n",
        "      for kx in range(nKx):        \n",
        "        t = t0ADC_dts + kx + 1\n",
        "        re = np.sum(M_t[t, :, :, 0, 0]) + self.noise\n",
        "        im = np.sum(M_t[t, :, :, 0, 1]) + self.noise\n",
        "        isoGrid.kSpace[kx,ky] = complex(re, im)\n",
        "\n",
        "    return isoGrid, M_t\n",
        "\n",
        "  # Simulate the phase due to position in gradients and due to flow\n",
        "  # Input:\n",
        "  #   t:        time point of simulation\n",
        "  #   ky:       phase encoding step\n",
        "  #   r:        position of spin/isochromat\n",
        "  #   v:        velocity of spin/isochromat\n",
        "  #   a:        acceleration of spin/isochromat\n",
        "  # Output:\n",
        "  #   thetaGF:  phase angle in rad\n",
        "  def _phaseSim(self, t, ky, r, v, a):\n",
        "\n",
        "    # Compute reference time for flow phase \n",
        "    t0ADC_dts = (int)(np.round(self.t0ADC/self.dt))\n",
        "    tRef = t0ADC_dts + np.ceil(Gra.dur_dts/2) + 1\n",
        "\n",
        "    if self.fOrder == 0: # no flow\n",
        "      thetaGF = self.gamma*(r@self.G_t[:, t-1, ky])*self.dt\n",
        "\n",
        "    elif self.fOrder == 1: # velocity\n",
        "      thetaGF = self.gamma*((r@self.G_t[:, t-1, ky])*self.dt + 0.5*(v@self.G_t[:, t-1, ky])*(t-tRef)*self.dt*self.dt)\n",
        "    \n",
        "    elif self.fOrder == 2: # acceleration\n",
        "      gradM2 = (1/6)*(a@self.G_t[:, t-1, ky])*((t-tRef)*self.dt*(t-tRef)*self.dt*self.dt)\n",
        "      thetaGF = self.gamma*((r@self.G_t[:, t-1, ky])*self.dt + 0.5*(v@self.G_t[:, t-1, ky])*((t-tRef)*self.dt*self.dt) + gradM2)\n",
        "    \n",
        "    else:\n",
        "      print('Unrecognized flow type!\\n')\n",
        "    return thetaGF*2*np.pi\n",
        "\n",
        "# Plot the sequence diagram\n",
        "# Subplots: RF pulse, phase encoding and readout gradient\n",
        "  def plotSeq(self):\n",
        "\n",
        "    t = np.arange(0, (self.Beff_t.shape[1] + 1)) / 10\n",
        "    plt.figure(figsize=(12, 8))\n",
        "\n",
        "    # RF pulse\n",
        "    plt.subplot(511)\n",
        "    plt.plot(t, np.insert(np.linalg.norm(self.Beff_t, axis=0), 0, 0), 'b')\n",
        "    plt.ylabel('RF')\n",
        "    plt.title(\"Pulse sequence diagram\")\n",
        "    plt.grid(color='k', linestyle='--', linewidth=0.2)\n",
        "\n",
        "    # Gz\n",
        "    plt.subplot(512)\n",
        "    plt.plot(t, np.insert(self.G_t[2, :, 0], 0, 0), '-r')\n",
        "    plt.ylabel('Gz [T/m]')\n",
        "    plt.ylim((-2 * np.max(self.G_t[2, :, :]) - 0.001, 2 * np.max(self.G_t[2, :, :]) + 0.001))\n",
        "    plt.grid(color='k', linestyle='--', linewidth=0.2)\n",
        "\n",
        "    # Gy\n",
        "    plt.subplot(513)\n",
        "    plt.plot(t, np.insert(self.G_t[1, :, -1], 0, 0), '-r')\n",
        "    for i in range(0, self.G_t.shape[2]-1, 15):\n",
        "      plt.plot(t, np.insert(self.G_t[1, :, i], 0, 0), '--r')\n",
        "    plt.ylabel('Gy [T/m]')\n",
        "    plt.ylim((-np.max(self.G_t[1, :, :])-0.005, np.max(self.G_t[1, :, :])+0.005))\n",
        "    plt.grid(color='k', linestyle='--', linewidth=0.2)\n",
        "\n",
        "    # Gx\n",
        "    plt.subplot(514)\n",
        "    plt.plot(t, np.insert(self.G_t[0, :, 0], 0, 0), '-r')\n",
        "    plt.ylabel('Gx [T/m]')\n",
        "    plt.ylim((-np.max(self.G_t[0, :, :])-0.005, np.max(self.G_t[0, :, :])+0.005))\n",
        "    plt.grid(color='k', linestyle='--', linewidth=0.2)\n",
        "\n",
        "    # ADC\n",
        "    plt.subplot(515)\n",
        "    plt.plot(t, np.insert(self.ADC[0, :], 0, 0), '-g')\n",
        "    plt.ylim((-1, 2))\n",
        "    plt.ylabel('ADC')\n",
        "    plt.xlabel('time [ms]')\n",
        "    plt.grid(color='k', linestyle='--', linewidth=0.2)\n",
        "\n",
        "    plt.tight_layout()\n",
        "    plt.show()\n",
        "\n"
      ],
      "execution_count": null,
      "outputs": []
    },
    {
      "cell_type": "markdown",
      "metadata": {
        "id": "NL7psBYvn4yI"
      },
      "source": [
        "!------------------------- END OF 'DO NOT MODIFY' SECTION -------------------------!"
      ]
    },
    {
      "cell_type": "markdown",
      "metadata": {
        "id": "lGALd3y1zsEV"
      },
      "source": [
        "# GRE sequence simulation\n",
        "In this section, we simulate a spoiled gradient-echo (spGRE) sequence for the numerical cardiac phantom in short axis view."
      ]
    },
    {
      "cell_type": "code",
      "metadata": {
        "id": "qiYqE8CUCPCl",
        "colab": {
          "base_uri": "https://localhost:8080/",
          "height": 319
        },
        "outputId": "e508e5af-33d9-414d-e229-0491a09ed9ef"
      },
      "source": [
        "# Initialize isochromat grid with 2D phantom and plot the phantom\n",
        "grid = isoGrid(phantom2D)\n",
        "plotMulti([phantom2D], ['Original Phantom'])\n"
      ],
      "execution_count": null,
      "outputs": [
        {
          "output_type": "display_data",
          "data": {
            "image/png": "[encoded data removed]",
            "text/plain": [
              "<Figure size 1080x360 with 1 Axes>"
            ]
          },
          "metadata": {
            "tags": [],
            "needs_background": "light"
          }
        }
      ]
    },
    {
      "cell_type": "code",
      "metadata": {
        "id": "Lx3O3Do_xGWa",
        "colab": {
          "base_uri": "https://localhost:8080/",
          "height": 585
        },
        "outputId": "5d7ed6f4-b8fa-4a2d-83ae-5582acb10aed"
      },
      "source": [
        "# Set general parameters of the spGRE sequence\n",
        "TR = 9.4e-3             # repetition time in [s]\n",
        "nKx = grid.getSize(0)   # Number of frequency encoding steps\n",
        "nKy = grid.getSize(1)   # Number of phase encoding steps\n",
        "\n",
        "# Define sequence object (seq) with given parameters via Sequence class\n",
        "seq = Sequence(TR, 0, nKx, nKy)\n",
        "\n",
        "# Initialize RF field object (RF) via RFpulse class\n",
        "# Input:\n",
        "#   seq:    Sequence\n",
        "#   fa:     Flip angle in degrees\n",
        "#   tExc:   duration of RF pulse\n",
        "#   t0Exc:  start time of RF pulse\n",
        "RF = RFpulse(seq, fa = 90, tExc = 1e-3, t0Exc = 0)\n",
        "\n",
        "# Set parameters for spGRE sequence\n",
        "durPe       = np.ceil(nKx/2)*seq.dt  # Duration of phase encoding gradient\n",
        "durSpoiler  = 0.5e-3                 # Duration of spoiler gradient\n",
        "\n",
        "# Calculate field of view (FOV) and size of steps in k-Space dKx, dKy, dKz\n",
        "FOV = np.multiply( np.asarray([nKx, nKy, 1]), seq.resolution )\n",
        "dKx, dKy, dKz = 1 / FOV\n",
        "dF = 0.7e+3 # Bandwidth [Hz]\n",
        "\n",
        "# Set gradient amplitudes\n",
        "Gx = dKx / (seq.gamma * seq.dt) # readout \n",
        "Gy = dKy / (seq.gamma * durPe)  # phase encoding \n",
        "Gz = dF / (seq.gamma * FOV[2])  # slice  \n",
        "\n",
        "# Define gradient objects with given parameters via Gradient class\n",
        "# Input:  Gradient(seq, strn, dur, t0, ax, steps)\n",
        "#   seq:  Sequence object\n",
        "#   strn: Gradient amplitude\n",
        "#   dur:  Gradient duration         [s]\n",
        "#   t0:   Start time within the TR  [s]\n",
        "#   ax:   Gradient axis\n",
        "#           0 : x-axis (readout)\n",
        "#           1 : y-axis (phase)\n",
        "#           2 : z-axis (slice)\n",
        "#   steps: Number of gradient steps\n",
        "Gsls    = Gradient(seq,      Gz,                      RF.tExc,     t0=0,                         ax=2,     steps=0)\n",
        "Gslr    = Gradient(seq, -2 * Gz,                0.5 * RF.tExc,     t0=RF.tExc,                   ax=2,     steps=0)\n",
        "Gpe     = Gradient(seq,      Gy,                      durPe,       t0=RF.tExc,                   ax=1,     steps=nKy)\n",
        "Gdeph   = Gradient(seq,     -Gx,                      durPe,       t0=RF.tExc,                   ax=0,     steps=0)\n",
        "Gra     = Gradient(seq,      Gx,                      nKx*seq.dt,  t0=RF.tExc+durPe,             ax=0,     steps=0)\n",
        "Gspoil  = Gradient(seq,      np.min(seq.Gmax) * 0.8,  durSpoiler,  t0=RF.tExc+durPe+nKx*seq.dt,  ax=[0,1], steps=0)\n",
        "Gspoil  = Gradient(seq,      np.min(seq.Gmax) * 0.2,  durSpoiler,  t0=RF.tExc+durPe+nKx*seq.dt,  ax=2,     steps=0)\n",
        "\n",
        "# Set ADC Timing\n",
        "seq.t0ADC = Gra.t0_dts * seq.dt\n",
        "\n",
        "# Initialize sequence with defined RF pulse, gradients and ADC\n",
        "seq.calculateSequence()\n",
        "seq.plotSeq()"
      ],
      "execution_count": null,
      "outputs": [
        {
          "output_type": "display_data",
          "data": {
            "image/png": "[encoded data removed]",
            "text/plain": [
              "<Figure size 864x576 with 5 Axes>"
            ]
          },
          "metadata": {
            "tags": [],
            "needs_background": "light"
          }
        }
      ]
    },
    {
      "cell_type": "markdown",
      "metadata": {
        "id": "aJUdBeM7S1Y3"
      },
      "source": [
        "## Static phantom (no flow)\n",
        "Here, the previously defined sequence is applied for the cardiac phantom in the static case, i.e. without flow."
      ]
    },
    {
      "cell_type": "code",
      "metadata": {
        "id": "EaudwUTXfHbp",
        "colab": {
          "base_uri": "https://localhost:8080/",
          "referenced_widgets": [
            "8050616768dd4355a9506f942f7f0e70",
            "39b46513cd44456491d6772b95de5b6f",
            "22aa1c636be947e6a4c78e1bdc782bdf",
            "5b67363c911543178cae8850d28c8f4a",
            "17f74d0553824f9188190c2c43ca412c",
            "1e05d447f9e346dd8dc022c019840687",
            "c1b6fd8aa6b24c768d2e5b78e8987737",
            "e443a95259e143c6b76c6ea3ca6b41a5",
            "24e5f5b2610d4166933f3506151b2072",
            "6fb6b674460d44ecabd1884010b2e883",
            "a5993c8191d54c2ea5383d0f1e71e9b0",
            "026c24a1e4e8483dbeefd48432b9abad",
            "80dfc6df3f934114b13885fe8960887a",
            "d686f1f7e6f1402eae71dae18e41f039",
            "6e8768550e95432f933e07e6c93712a6",
            "72ef7cbd983c40878ecc558b8dd1104e"
          ]
        },
        "outputId": "e3481777-59a2-4d3c-8b86-151f89688d2f"
      },
      "source": [
        "# Set flow order to 0 (no flow)\n",
        "seq.fOrder = 0\n",
        "\n",
        "# Set up a copy of the grid to save results without flow\n",
        "gridNoFlow = copy.deepcopy(grid)\n",
        "\n",
        "# Simulate sequence on grid without flow\n",
        "gridNoFlow = seq.simSeq(gridNoFlow)"
      ],
      "execution_count": null,
      "outputs": [
        {
          "output_type": "stream",
          "text": [
            "Simulating excitation...\n",
            "\n"
          ],
          "name": "stdout"
        },
        {
          "output_type": "display_data",
          "data": {
            "application/vnd.jupyter.widget-view+json": {
              "model_id": "8050616768dd4355a9506f942f7f0e70",
              "version_minor": 0,
              "version_major": 2
            },
            "text/plain": [
              "HBox(children=(FloatProgress(value=0.0, max=21.0), HTML(value='')))"
            ]
          },
          "metadata": {
            "tags": []
          }
        },
        {
          "output_type": "stream",
          "text": [
            "\n",
            "Simulating acquisition...\n",
            "\n"
          ],
          "name": "stdout"
        },
        {
          "output_type": "display_data",
          "data": {
            "application/vnd.jupyter.widget-view+json": {
              "model_id": "24e5f5b2610d4166933f3506151b2072",
              "version_minor": 0,
              "version_major": 2
            },
            "text/plain": [
              "HBox(children=(FloatProgress(value=0.0, max=21.0), HTML(value='')))"
            ]
          },
          "metadata": {
            "tags": []
          }
        },
        {
          "output_type": "stream",
          "text": [
            "\n"
          ],
          "name": "stdout"
        }
      ]
    },
    {
      "cell_type": "markdown",
      "metadata": {
        "id": "MIKaXY3KTCsV"
      },
      "source": [
        "## Phantom with flow - 1st order\n",
        "Here, the previously defined sequence is applied for the cardiac phantom in the case where flow is present. Thereby, only first order effects are considered."
      ]
    },
    {
      "cell_type": "code",
      "metadata": {
        "id": "3sucezekVdEw",
        "colab": {
          "base_uri": "https://localhost:8080/",
          "referenced_widgets": [
            "12489030ff034c64b065e9d653aed29f",
            "e9b619fe58b64e5194a112c51ba9e801",
            "2bb6f39dc161490f8f782d2d57a71729",
            "98b5174e265c44b0a9b76ceae403e62e",
            "c0b17f884d394cc7965be23c1a46ada7",
            "cdb87a2559a944ad83d8969fd3724982",
            "bdcde3e9e2fe486197caa0e1c15bf178",
            "8a232ffda36745399eaac1ffd267ead5",
            "35b841d8a3d6431e950e448bfca1b524",
            "ad021642dc03416b96f7474b9f92f7aa",
            "ae58c5abb5354660b7e90a64e653d06b",
            "ea9567aeef264ddebbae9e937a7a9949",
            "f33a0fb50f20433abdccd9bcd490a083",
            "27440dcd8a0046f8bfa4325d141cb018",
            "baac2222b4e04d978be95ea63a796e62",
            "78f97dddb7a04973b5c302d8ca1ccd2f"
          ]
        },
        "outputId": "8a931824-fc68-4ba6-f249-ec1a4bc4b3b1"
      },
      "source": [
        "# Set flow order to 1 (1st order flow effects, i.e. motion with constant velocity)\n",
        "seq.fOrder = 1\n",
        "\n",
        "# Set up a copy of the grid to save results with flow\n",
        "gridFlow1 = copy.deepcopy(grid)\n",
        "\n",
        "# Simulate sequence on grid with flow\n",
        "gridFlow1 = seq.simSeq(gridFlow1)"
      ],
      "execution_count": null,
      "outputs": [
        {
          "output_type": "stream",
          "text": [
            "Simulating excitation...\n",
            "\n"
          ],
          "name": "stdout"
        },
        {
          "output_type": "display_data",
          "data": {
            "application/vnd.jupyter.widget-view+json": {
              "model_id": "12489030ff034c64b065e9d653aed29f",
              "version_minor": 0,
              "version_major": 2
            },
            "text/plain": [
              "HBox(children=(FloatProgress(value=0.0, max=21.0), HTML(value='')))"
            ]
          },
          "metadata": {
            "tags": []
          }
        },
        {
          "output_type": "stream",
          "text": [
            "\n",
            "Simulating acquisition...\n",
            "\n"
          ],
          "name": "stdout"
        },
        {
          "output_type": "display_data",
          "data": {
            "application/vnd.jupyter.widget-view+json": {
              "model_id": "35b841d8a3d6431e950e448bfca1b524",
              "version_minor": 0,
              "version_major": 2
            },
            "text/plain": [
              "HBox(children=(FloatProgress(value=0.0, max=21.0), HTML(value='')))"
            ]
          },
          "metadata": {
            "tags": []
          }
        },
        {
          "output_type": "stream",
          "text": [
            "\n"
          ],
          "name": "stdout"
        }
      ]
    },
    {
      "cell_type": "markdown",
      "metadata": {
        "id": "rGnnQ_RdNtPl"
      },
      "source": [
        "## Phantom with flow - 2nd order\n",
        "Here, the previously defined sequence is applied for the cardiac phantom in the case where flow is present. Thereby, first and second order effects are considered."
      ]
    },
    {
      "cell_type": "code",
      "metadata": {
        "id": "2vQNyF2PNtPo",
        "colab": {
          "base_uri": "https://localhost:8080/",
          "referenced_widgets": [
            "f54e391348d94e5a8559ff2b8744b9b7",
            "5b741b49dce74f91abe5058858fad1cf",
            "76eb787ae1cc4772962450a49c025af0",
            "40c78c9aa9594d59833985e45b010a52",
            "724a47e3b8af417ba10b9a597a34f388",
            "cf318a39eb9f42ccbcb605e54040c54d",
            "ebc279ff58024423ab535b67e010450b",
            "8e2d49f3c4fe4039b4d69250f5f30874",
            "de1d9913e3034af8a5825af7c75eea3b",
            "2d89c79b157a4f9e9f854820302ab3ec",
            "338a01f97f354bdf987f96abbd130559",
            "3fd04784f34a4e49994983f94f694767",
            "bf459391668b47629907b7a316c20b90",
            "52c37e8d076949d88a9ffc62b3d9b3c6",
            "c18d2e03fe904226afe7d012fd1d684e",
            "b2abc04c457349f587704c2e0c6e8fc7"
          ]
        },
        "outputId": "feffd1e8-55b4-40df-cc11-bbce878125e6"
      },
      "source": [
        "# Set flow order to 2 (2nd order flow effects, i.e. motion with constant acceleration)\n",
        "seq.fOrder = 2\n",
        "\n",
        "# Set up a copy of the grid to save results with flow\n",
        "gridFlow2 = copy.deepcopy(grid)\n",
        "\n",
        "# Simulate sequence on grid with flow\n",
        "gridFlow2 = seq.simSeq(gridFlow2)"
      ],
      "execution_count": null,
      "outputs": [
        {
          "output_type": "stream",
          "text": [
            "Simulating excitation...\n",
            "\n"
          ],
          "name": "stdout"
        },
        {
          "output_type": "display_data",
          "data": {
            "application/vnd.jupyter.widget-view+json": {
              "model_id": "f54e391348d94e5a8559ff2b8744b9b7",
              "version_minor": 0,
              "version_major": 2
            },
            "text/plain": [
              "HBox(children=(FloatProgress(value=0.0, max=21.0), HTML(value='')))"
            ]
          },
          "metadata": {
            "tags": []
          }
        },
        {
          "output_type": "stream",
          "text": [
            "\n",
            "Simulating acquisition...\n",
            "\n"
          ],
          "name": "stdout"
        },
        {
          "output_type": "display_data",
          "data": {
            "application/vnd.jupyter.widget-view+json": {
              "model_id": "de1d9913e3034af8a5825af7c75eea3b",
              "version_minor": 0,
              "version_major": 2
            },
            "text/plain": [
              "HBox(children=(FloatProgress(value=0.0, max=21.0), HTML(value='')))"
            ]
          },
          "metadata": {
            "tags": []
          }
        },
        {
          "output_type": "stream",
          "text": [
            "\n"
          ],
          "name": "stdout"
        }
      ]
    },
    {
      "cell_type": "markdown",
      "metadata": {
        "id": "MbgE__muKqv_"
      },
      "source": [
        "## Results\n",
        "In this last section, the previously simulated and reconstructed images are displayed."
      ]
    },
    {
      "cell_type": "markdown",
      "metadata": {
        "id": "x9WejzgyKqwE"
      },
      "source": [
        "### K-space results\n"
      ]
    },
    {
      "cell_type": "code",
      "metadata": {
        "id": "kKq4wH2GKqwJ",
        "colab": {
          "base_uri": "https://localhost:8080/",
          "height": 229
        },
        "outputId": "60a4c010-7c32-45c9-f8d0-b6f1d235f37c"
      },
      "source": [
        "# Compute reference k-space as Fourier transform of original phantom\n",
        "kSpaceOri    = np.abs(np.fft.fftshift(np.fft.fft2(grid.M0[:,:,0,2])))\n",
        "\n",
        "# Get simulated k-space from no flow and flow phantom\n",
        "kSpaceNoFlow = np.abs(gridNoFlow.kSpace)\n",
        "kSpaceFlow1  = np.abs(gridFlow1.kSpace)\n",
        "kSpaceFlow2  = np.abs(gridFlow2.kSpace)\n",
        "\n",
        "# Display results\n",
        "titles = [\"Reference k space\", \"No flow k space\", \"Flow k space O(1)\", \"Flow k space O(2)\"]\n",
        "plotMulti([kSpaceOri, kSpaceNoFlow, kSpaceFlow1, kSpaceFlow2], titles)\n"
      ],
      "execution_count": null,
      "outputs": [
        {
          "output_type": "display_data",
          "data": {
            "image/png": "[encoded data removed]",
            "text/plain": [
              "<Figure size 1080x360 with 4 Axes>"
            ]
          },
          "metadata": {
            "tags": [],
            "needs_background": "light"
          }
        }
      ]
    },
    {
      "cell_type": "markdown",
      "metadata": {
        "id": "ZD_AuQxeKqwR"
      },
      "source": [
        "### Simulated scans"
      ]
    },
    {
      "cell_type": "code",
      "metadata": {
        "id": "XqMyz-OYKqwV",
        "colab": {
          "base_uri": "https://localhost:8080/",
          "height": 229
        },
        "outputId": "2d0c2a22-8919-43f2-ae59-c82cec1d0165"
      },
      "source": [
        "# Reconstruct images from simulated k-Space without and with flow\n",
        "scanNoFlow = np.abs(np.fft.fftshift(np.fft.ifft2(gridNoFlow.kSpace)))\n",
        "scanFlow1 = np.abs(np.fft.fftshift(np.fft.ifft2(gridFlow1.kSpace)))\n",
        "scanFlow2 = np.abs(np.fft.fftshift(np.fft.ifft2(gridFlow2.kSpace)))\n",
        "\n",
        "# Display reconstructed images\n",
        "titles = [\"Original phantom\", \"Simulated scan no flow\", \"Simulated scan with flow O(1)\", \"Simulated scan with flow O(2)\"]\n",
        "plotMulti([phantom2D, scanNoFlow, scanFlow1, scanFlow2], titles)"
      ],
      "execution_count": null,
      "outputs": [
        {
          "output_type": "display_data",
          "data": {
            "image/png": "[encoded data removed]",
            "text/plain": [
              "<Figure size 1080x360 with 4 Axes>"
            ]
          },
          "metadata": {
            "tags": [],
            "needs_background": "light"
          }
        }
      ]
    },
    {
      "cell_type": "markdown",
      "metadata": {
        "id": "cvXD_Pvt1Wgr"
      },
      "source": [
        "## Phantom with flow and 1st order flow compensation (FC)"
      ]
    },
    {
      "cell_type": "code",
      "metadata": {
        "id": "KAC55E6R1kLK",
        "colab": {
          "base_uri": "https://localhost:8080/",
          "height": 585
        },
        "outputId": "07f1f4c5-435b-462c-e54a-d37961d3ec31"
      },
      "source": [
        "# Set general parameters of the spGRE sequence\n",
        "TR = 9.4e-3             # repetition time in [s]\n",
        "nKx = grid.getSize(0)   # Number of frequency encoding steps\n",
        "nKy = grid.getSize(1)   # Number of phase encoding steps\n",
        "\n",
        "# Define sequence object (seq) with given parameters via Sequence class\n",
        "seq = Sequence(TR, 0, nKx, nKy)\n",
        "\n",
        "# Initialize RF field object (RF) via RFpulse class\n",
        "# Input:\n",
        "#   seq:    Sequence\n",
        "#   fa:     Flip angle in degrees\n",
        "#   tExc:   duration of RF pulse\n",
        "#   t0Exc:  start time of RF pulse\n",
        "RF = RFpulse(seq, fa = 90, tExc = 1e-3, t0Exc = 0)\n",
        "\n",
        "# Set parameters for spGRE sequence\n",
        "durPe       = np.ceil(nKx/2)*seq.dt  # Duration of phase encoding gradient\n",
        "durSpoiler  = 0.5e-3                 # Duration of spoiler gradient\n",
        "\n",
        "# Calculate field of view (FOV) and size of steps in k-Space dKx, dKy, dKz\n",
        "FOV = np.multiply( np.asarray([nKx, nKy, 1]), seq.resolution )\n",
        "dKx, dKy, dKz = 1 / FOV\n",
        "dF = 0.7e+3 # Bandwidth [Hz]\n",
        "\n",
        "# Set gradient amplitudes\n",
        "Gx = dKx / (seq.gamma * seq.dt) # readout \n",
        "Gy = dKy / (seq.gamma * durPe)  # phase encoding \n",
        "Gz = dF / (seq.gamma * FOV[2])  # slice  \n",
        "\n",
        "# Define gradient objects with given parameters via Gradient class\n",
        "# Input:  Gradient(seq, strn, dur, t0, ax, steps)\n",
        "#   seq:  Sequence object\n",
        "#   strn: Gradient amplitude\n",
        "#   dur:  Gradient duration         [s]\n",
        "#   t0:   Start time within the TR  [s]\n",
        "#   ax:   Gradient axis\n",
        "#           0 : x-axis (readout)\n",
        "#           1 : y-axis (phase)\n",
        "#           2 : z-axis (slice)\n",
        "#   steps: Number of gradient steps\n",
        "Gsls    = Gradient(seq,      Gz,                      RF.tExc,     t0=0,                           ax=2,     steps=0)\n",
        "Gcompz  = Gradient(seq, -2 * Gz,                0.5 * RF.tExc,     t0=RF.tExc,                     ax=2,     steps=0)\n",
        "Gslr    = Gradient(seq,      Gz,                0.5 * RF.tExc,     t0=1.5*RF.tExc,                 ax=2,     steps=0)\n",
        "Gcompy  = Gradient(seq, -3 *(Gy/2),                   durPe,       t0=RF.tExc,                     ax=1,     steps=nKy)\n",
        "Gpe     = Gradient(seq,  5 *(Gy/2),                   durPe,       t0=RF.tExc+durPe,               ax=1,     steps=nKy)\n",
        "Gcompx  = Gradient(seq,      Gx,                      durPe,       t0=RF.tExc,                     ax=0,     steps=0)\n",
        "Gdeph   = Gradient(seq, -2 * Gx,                      durPe,       t0=RF.tExc+durPe,               ax=0,     steps=0)\n",
        "Gra     = Gradient(seq,      Gx,                      nKx*seq.dt,  t0=RF.tExc+2*durPe,             ax=0,     steps=0)\n",
        "Gspoil  = Gradient(seq,      np.min(seq.Gmax) * 0.8,  durSpoiler,  t0=RF.tExc+2*durPe+nKx*seq.dt,  ax=[0,1], steps=0)\n",
        "Gspoil  = Gradient(seq,      np.min(seq.Gmax) * 0.2,  durSpoiler,  t0=RF.tExc+2*durPe+nKx*seq.dt,  ax=2,     steps=0)\n",
        "\n",
        "# Set ADC Timing\n",
        "seq.t0ADC = Gra.t0_dts * seq.dt\n",
        "\n",
        "# Initialize sequence with defined RF pulse, gradients and ADC\n",
        "seq.calculateSequence()\n",
        "seq.plotSeq()"
      ],
      "execution_count": null,
      "outputs": [
        {
          "output_type": "display_data",
          "data": {
            "image/png": "[encoded data removed]",
            "text/plain": [
              "<Figure size 864x576 with 5 Axes>"
            ]
          },
          "metadata": {
            "tags": [],
            "needs_background": "light"
          }
        }
      ]
    },
    {
      "cell_type": "markdown",
      "metadata": {
        "id": "RUgA9XeO9og2"
      },
      "source": [
        "### Phantom with flow and FC - O(1)\n",
        "Here, the previously defined sequence is applied for the cardiac phantom in the case where flow is present. Thereby, first order effects are considered."
      ]
    },
    {
      "cell_type": "code",
      "metadata": {
        "id": "7B8_3xxw1p--",
        "colab": {
          "base_uri": "https://localhost:8080/",
          "height": 190,
          "referenced_widgets": [
            "7e22900431bb4b1ca8fbdc87ba93ba1c",
            "63d8883b108b49d2a6afd0f5b893f70a",
            "76ecb8a6a3924c11a7bf43d30d958550",
            "95577652bb5040d9bba721e55f79a2c4",
            "b30cd4cd966246fe889f91f5ee0225a6",
            "7451ea87024a45f1848a75103037c335",
            "0bef0940eaf14a0291d675dbccc4ca6a",
            "890af2880c7042a6af0a7ec056fbebbc",
            "b505b462435548588b1869adf5089ad2",
            "2b48f26e58c54fdf8a59ca9d15099546",
            "e64811a611b14c4abb836c9df1be8856",
            "11e135e4e91f428fa923ed834212602e",
            "2c72dabb69a64f7990072d37f2dbda50",
            "64743af54a8a44bbb102b78df349ecea",
            "c3e6b6be593749d0a7d7fc275037bcfd",
            "05281aa9e12145a78d9bcd3b5296ae01"
          ]
        },
        "outputId": "9e37b0c2-c6b9-472a-e526-5412fa24995f"
      },
      "source": [
        "# Set flow order to 1 (1st order flow effects, i.e. motion with constant velocity)\n",
        "seq.fOrder = 1\n",
        "\n",
        "# Set up a copy of the grid to save results with flow\n",
        "gridFlowComp1 = copy.deepcopy(grid)\n",
        "\n",
        "# Simulate sequence on grid with flow\n",
        "gridFlowComp1 = seq.simSeq(gridFlowComp1)"
      ],
      "execution_count": null,
      "outputs": [
        {
          "output_type": "stream",
          "text": [
            "Simulating excitation...\n",
            "\n"
          ],
          "name": "stdout"
        },
        {
          "output_type": "display_data",
          "data": {
            "application/vnd.jupyter.widget-view+json": {
              "model_id": "7e22900431bb4b1ca8fbdc87ba93ba1c",
              "version_minor": 0,
              "version_major": 2
            },
            "text/plain": [
              "HBox(children=(FloatProgress(value=0.0, max=21.0), HTML(value='')))"
            ]
          },
          "metadata": {
            "tags": []
          }
        },
        {
          "output_type": "stream",
          "text": [
            "\n",
            "Simulating acquisition...\n",
            "\n"
          ],
          "name": "stdout"
        },
        {
          "output_type": "display_data",
          "data": {
            "application/vnd.jupyter.widget-view+json": {
              "model_id": "b505b462435548588b1869adf5089ad2",
              "version_minor": 0,
              "version_major": 2
            },
            "text/plain": [
              "HBox(children=(FloatProgress(value=0.0, max=21.0), HTML(value='')))"
            ]
          },
          "metadata": {
            "tags": []
          }
        },
        {
          "output_type": "stream",
          "text": [
            "\n"
          ],
          "name": "stdout"
        }
      ]
    },
    {
      "cell_type": "markdown",
      "metadata": {
        "id": "OUo95WQ4THSW"
      },
      "source": [
        "## Results\n",
        "In this last section, the previously simulated and reconstructed images are displayed."
      ]
    },
    {
      "cell_type": "markdown",
      "metadata": {
        "id": "3dHai0eMTt67"
      },
      "source": [
        "### K-space results\n"
      ]
    },
    {
      "cell_type": "code",
      "metadata": {
        "id": "IE9uX0M5TJPT",
        "colab": {
          "base_uri": "https://localhost:8080/",
          "height": 293
        },
        "outputId": "06c38be6-8b6f-4563-c392-fa12f3a323ce"
      },
      "source": [
        "# Compute reference k-space as Fourier transform of original phantom\n",
        "kSpaceOri    = np.abs(np.fft.fftshift(np.fft.fft2(grid.M0[:,:,0,2])))\n",
        "\n",
        "# Get simulated k-space from no flow and flow phantom\n",
        "kSpaceNoFlow = np.abs(gridNoFlow.kSpace)\n",
        "kSpaceFlow1   = np.abs(gridFlow1.kSpace)\n",
        "\n",
        "# Get simulated k-space with flow and with flow comp\n",
        "kSpaceFlowComp1 = np.abs(gridFlowComp1.kSpace)\n",
        "\n",
        "# Display results\n",
        "titles = [\"Reference k space\", \"Flow k space\", \"FC O(1) k space\"]\n",
        "plotMulti([kSpaceOri, kSpaceFlow2, kSpaceFlowComp1], titles)\n"
      ],
      "execution_count": null,
      "outputs": [
        {
          "output_type": "display_data",
          "data": {
            "image/png": "[encoded data removed]",
            "text/plain": [
              "<Figure size 1080x360 with 3 Axes>"
            ]
          },
          "metadata": {
            "tags": [],
            "needs_background": "light"
          }
        }
      ]
    },
    {
      "cell_type": "markdown",
      "metadata": {
        "id": "l-nt-jOzXiO4"
      },
      "source": [
        "### Simulated scans"
      ]
    },
    {
      "cell_type": "code",
      "metadata": {
        "id": "1S5i1SyIXg6k",
        "colab": {
          "base_uri": "https://localhost:8080/",
          "height": 293
        },
        "outputId": "5e43347b-ac32-44dd-fafd-9d8a56ffe21d"
      },
      "source": [
        "# Reconstruct images from simulated k-Space without and with flow\n",
        "scanNoFlow = np.abs(np.fft.fftshift(np.fft.ifft2(gridNoFlow.kSpace)))\n",
        "scanFlow1 = np.abs(np.fft.fftshift(np.fft.ifft2(gridFlow1.kSpace)))\n",
        "\n",
        "# reconstruct images with flow comp\n",
        "scanFlowComp1 = np.abs(np.fft.fftshift(np.fft.ifft2(gridFlowComp1.kSpace)))\n",
        "\n",
        "# Display reconstructed images\n",
        "titles = [\"Original phantom\", \"Sim. scan with flow\", \"Sim. scan FC O(1)\"]\n",
        "plotMulti([phantom2D, scanFlow2, scanFlowComp1], titles)\n"
      ],
      "execution_count": null,
      "outputs": [
        {
          "output_type": "display_data",
          "data": {
            "image/png": "[encoded data removed]",
            "text/plain": [
              "<Figure size 1080x360 with 3 Axes>"
            ]
          },
          "metadata": {
            "tags": [],
            "needs_background": "light"
          }
        }
      ]
    }
  ]
}