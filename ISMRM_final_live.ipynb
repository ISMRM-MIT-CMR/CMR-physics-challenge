{
  "nbformat": 4,
  "nbformat_minor": 0,
  "metadata": {
    "colab": {
      "name": "ISMRM_final_live.ipynb",
      "provenance": [],
      "collapsed_sections": [],
      "toc_visible": true
    },
    "kernelspec": {
      "name": "python3",
      "display_name": "Python 3"
    },
    "language_info": {
      "name": "python"
    },
    "widgets": {
      "application/vnd.jupyter.widget-state+json": {
        "06b9510d1b454389b63ec77a290df9d7": {
          "model_module": "@jupyter-widgets/controls",
          "model_name": "HBoxModel",
          "state": {
            "_view_name": "HBoxView",
            "_dom_classes": [],
            "_model_name": "HBoxModel",
            "_view_module": "@jupyter-widgets/controls",
            "_model_module_version": "1.5.0",
            "_view_count": null,
            "_view_module_version": "1.5.0",
            "box_style": "",
            "layout": "IPY_MODEL_b55dbb8be0144376ae2754d2adcea8e7",
            "_model_module": "@jupyter-widgets/controls",
            "children": [
              "IPY_MODEL_d7f6ab00485442f3915dff088b74d377",
              "IPY_MODEL_51f6acb8211f444582e8a92d661986de"
            ]
          }
        },
        "b55dbb8be0144376ae2754d2adcea8e7": {
          "model_module": "@jupyter-widgets/base",
          "model_name": "LayoutModel",
          "state": {
            "_view_name": "LayoutView",
            "grid_template_rows": null,
            "right": null,
            "justify_content": null,
            "_view_module": "@jupyter-widgets/base",
            "overflow": null,
            "_model_module_version": "1.2.0",
            "_view_count": null,
            "flex_flow": null,
            "width": null,
            "min_width": null,
            "border": null,
            "align_items": null,
            "bottom": null,
            "_model_module": "@jupyter-widgets/base",
            "top": null,
            "grid_column": null,
            "overflow_y": null,
            "overflow_x": null,
            "grid_auto_flow": null,
            "grid_area": null,
            "grid_template_columns": null,
            "flex": null,
            "_model_name": "LayoutModel",
            "justify_items": null,
            "grid_row": null,
            "max_height": null,
            "align_content": null,
            "visibility": null,
            "align_self": null,
            "height": null,
            "min_height": null,
            "padding": null,
            "grid_auto_rows": null,
            "grid_gap": null,
            "max_width": null,
            "order": null,
            "_view_module_version": "1.2.0",
            "grid_template_areas": null,
            "object_position": null,
            "object_fit": null,
            "grid_auto_columns": null,
            "margin": null,
            "display": null,
            "left": null
          }
        },
        "d7f6ab00485442f3915dff088b74d377": {
          "model_module": "@jupyter-widgets/controls",
          "model_name": "FloatProgressModel",
          "state": {
            "_view_name": "ProgressView",
            "style": "IPY_MODEL_21140c50d8a045a8a91e58048bf277c7",
            "_dom_classes": [],
            "description": "100%",
            "_model_name": "FloatProgressModel",
            "bar_style": "success",
            "max": 31,
            "_view_module": "@jupyter-widgets/controls",
            "_model_module_version": "1.5.0",
            "value": 31,
            "_view_count": null,
            "_view_module_version": "1.5.0",
            "orientation": "horizontal",
            "min": 0,
            "description_tooltip": null,
            "_model_module": "@jupyter-widgets/controls",
            "layout": "IPY_MODEL_e0e43aa0a744473e8bd67adac3d8adde"
          }
        },
        "51f6acb8211f444582e8a92d661986de": {
          "model_module": "@jupyter-widgets/controls",
          "model_name": "HTMLModel",
          "state": {
            "_view_name": "HTMLView",
            "style": "IPY_MODEL_1c530eccd2744f728401badd7fd6f51a",
            "_dom_classes": [],
            "description": "",
            "_model_name": "HTMLModel",
            "placeholder": "​",
            "_view_module": "@jupyter-widgets/controls",
            "_model_module_version": "1.5.0",
            "value": " 31/31 [04:55&lt;00:00,  9.53s/it]",
            "_view_count": null,
            "_view_module_version": "1.5.0",
            "description_tooltip": null,
            "_model_module": "@jupyter-widgets/controls",
            "layout": "IPY_MODEL_81902d8ae48f4563a95feb415e0e7f08"
          }
        },
        "21140c50d8a045a8a91e58048bf277c7": {
          "model_module": "@jupyter-widgets/controls",
          "model_name": "ProgressStyleModel",
          "state": {
            "_view_name": "StyleView",
            "_model_name": "ProgressStyleModel",
            "description_width": "initial",
            "_view_module": "@jupyter-widgets/base",
            "_model_module_version": "1.5.0",
            "_view_count": null,
            "_view_module_version": "1.2.0",
            "bar_color": null,
            "_model_module": "@jupyter-widgets/controls"
          }
        },
        "e0e43aa0a744473e8bd67adac3d8adde": {
          "model_module": "@jupyter-widgets/base",
          "model_name": "LayoutModel",
          "state": {
            "_view_name": "LayoutView",
            "grid_template_rows": null,
            "right": null,
            "justify_content": null,
            "_view_module": "@jupyter-widgets/base",
            "overflow": null,
            "_model_module_version": "1.2.0",
            "_view_count": null,
            "flex_flow": null,
            "width": null,
            "min_width": null,
            "border": null,
            "align_items": null,
            "bottom": null,
            "_model_module": "@jupyter-widgets/base",
            "top": null,
            "grid_column": null,
            "overflow_y": null,
            "overflow_x": null,
            "grid_auto_flow": null,
            "grid_area": null,
            "grid_template_columns": null,
            "flex": null,
            "_model_name": "LayoutModel",
            "justify_items": null,
            "grid_row": null,
            "max_height": null,
            "align_content": null,
            "visibility": null,
            "align_self": null,
            "height": null,
            "min_height": null,
            "padding": null,
            "grid_auto_rows": null,
            "grid_gap": null,
            "max_width": null,
            "order": null,
            "_view_module_version": "1.2.0",
            "grid_template_areas": null,
            "object_position": null,
            "object_fit": null,
            "grid_auto_columns": null,
            "margin": null,
            "display": null,
            "left": null
          }
        },
        "1c530eccd2744f728401badd7fd6f51a": {
          "model_module": "@jupyter-widgets/controls",
          "model_name": "DescriptionStyleModel",
          "state": {
            "_view_name": "StyleView",
            "_model_name": "DescriptionStyleModel",
            "description_width": "",
            "_view_module": "@jupyter-widgets/base",
            "_model_module_version": "1.5.0",
            "_view_count": null,
            "_view_module_version": "1.2.0",
            "_model_module": "@jupyter-widgets/controls"
          }
        },
        "81902d8ae48f4563a95feb415e0e7f08": {
          "model_module": "@jupyter-widgets/base",
          "model_name": "LayoutModel",
          "state": {
            "_view_name": "LayoutView",
            "grid_template_rows": null,
            "right": null,
            "justify_content": null,
            "_view_module": "@jupyter-widgets/base",
            "overflow": null,
            "_model_module_version": "1.2.0",
            "_view_count": null,
            "flex_flow": null,
            "width": null,
            "min_width": null,
            "border": null,
            "align_items": null,
            "bottom": null,
            "_model_module": "@jupyter-widgets/base",
            "top": null,
            "grid_column": null,
            "overflow_y": null,
            "overflow_x": null,
            "grid_auto_flow": null,
            "grid_area": null,
            "grid_template_columns": null,
            "flex": null,
            "_model_name": "LayoutModel",
            "justify_items": null,
            "grid_row": null,
            "max_height": null,
            "align_content": null,
            "visibility": null,
            "align_self": null,
            "height": null,
            "min_height": null,
            "padding": null,
            "grid_auto_rows": null,
            "grid_gap": null,
            "max_width": null,
            "order": null,
            "_view_module_version": "1.2.0",
            "grid_template_areas": null,
            "object_position": null,
            "object_fit": null,
            "grid_auto_columns": null,
            "margin": null,
            "display": null,
            "left": null
          }
        },
        "0ca9f2af6c3449548f2c9b785e27acc5": {
          "model_module": "@jupyter-widgets/controls",
          "model_name": "HBoxModel",
          "state": {
            "_view_name": "HBoxView",
            "_dom_classes": [],
            "_model_name": "HBoxModel",
            "_view_module": "@jupyter-widgets/controls",
            "_model_module_version": "1.5.0",
            "_view_count": null,
            "_view_module_version": "1.5.0",
            "box_style": "",
            "layout": "IPY_MODEL_868483b47e154298941707e9c642e2df",
            "_model_module": "@jupyter-widgets/controls",
            "children": [
              "IPY_MODEL_c97ca19d95a4468b9b5da6860189d00a",
              "IPY_MODEL_8d1767e8fa964852973b69aebec7d942"
            ]
          }
        },
        "868483b47e154298941707e9c642e2df": {
          "model_module": "@jupyter-widgets/base",
          "model_name": "LayoutModel",
          "state": {
            "_view_name": "LayoutView",
            "grid_template_rows": null,
            "right": null,
            "justify_content": null,
            "_view_module": "@jupyter-widgets/base",
            "overflow": null,
            "_model_module_version": "1.2.0",
            "_view_count": null,
            "flex_flow": null,
            "width": null,
            "min_width": null,
            "border": null,
            "align_items": null,
            "bottom": null,
            "_model_module": "@jupyter-widgets/base",
            "top": null,
            "grid_column": null,
            "overflow_y": null,
            "overflow_x": null,
            "grid_auto_flow": null,
            "grid_area": null,
            "grid_template_columns": null,
            "flex": null,
            "_model_name": "LayoutModel",
            "justify_items": null,
            "grid_row": null,
            "max_height": null,
            "align_content": null,
            "visibility": null,
            "align_self": null,
            "height": null,
            "min_height": null,
            "padding": null,
            "grid_auto_rows": null,
            "grid_gap": null,
            "max_width": null,
            "order": null,
            "_view_module_version": "1.2.0",
            "grid_template_areas": null,
            "object_position": null,
            "object_fit": null,
            "grid_auto_columns": null,
            "margin": null,
            "display": null,
            "left": null
          }
        },
        "c97ca19d95a4468b9b5da6860189d00a": {
          "model_module": "@jupyter-widgets/controls",
          "model_name": "FloatProgressModel",
          "state": {
            "_view_name": "ProgressView",
            "style": "IPY_MODEL_e1cbb5c4ff074cee97c308140a72b830",
            "_dom_classes": [],
            "description": "100%",
            "_model_name": "FloatProgressModel",
            "bar_style": "success",
            "max": 31,
            "_view_module": "@jupyter-widgets/controls",
            "_model_module_version": "1.5.0",
            "value": 31,
            "_view_count": null,
            "_view_module_version": "1.5.0",
            "orientation": "horizontal",
            "min": 0,
            "description_tooltip": null,
            "_model_module": "@jupyter-widgets/controls",
            "layout": "IPY_MODEL_d458a7dbb68d4e739cd751da22719fd6"
          }
        },
        "8d1767e8fa964852973b69aebec7d942": {
          "model_module": "@jupyter-widgets/controls",
          "model_name": "HTMLModel",
          "state": {
            "_view_name": "HTMLView",
            "style": "IPY_MODEL_293da46af82846008f29592cec73098d",
            "_dom_classes": [],
            "description": "",
            "_model_name": "HTMLModel",
            "placeholder": "​",
            "_view_module": "@jupyter-widgets/controls",
            "_model_module_version": "1.5.0",
            "value": " 31/31 [02:14&lt;00:00,  4.33s/it]",
            "_view_count": null,
            "_view_module_version": "1.5.0",
            "description_tooltip": null,
            "_model_module": "@jupyter-widgets/controls",
            "layout": "IPY_MODEL_e341b183a8ef465bb9263e1a60767975"
          }
        },
        "e1cbb5c4ff074cee97c308140a72b830": {
          "model_module": "@jupyter-widgets/controls",
          "model_name": "ProgressStyleModel",
          "state": {
            "_view_name": "StyleView",
            "_model_name": "ProgressStyleModel",
            "description_width": "initial",
            "_view_module": "@jupyter-widgets/base",
            "_model_module_version": "1.5.0",
            "_view_count": null,
            "_view_module_version": "1.2.0",
            "bar_color": null,
            "_model_module": "@jupyter-widgets/controls"
          }
        },
        "d458a7dbb68d4e739cd751da22719fd6": {
          "model_module": "@jupyter-widgets/base",
          "model_name": "LayoutModel",
          "state": {
            "_view_name": "LayoutView",
            "grid_template_rows": null,
            "right": null,
            "justify_content": null,
            "_view_module": "@jupyter-widgets/base",
            "overflow": null,
            "_model_module_version": "1.2.0",
            "_view_count": null,
            "flex_flow": null,
            "width": null,
            "min_width": null,
            "border": null,
            "align_items": null,
            "bottom": null,
            "_model_module": "@jupyter-widgets/base",
            "top": null,
            "grid_column": null,
            "overflow_y": null,
            "overflow_x": null,
            "grid_auto_flow": null,
            "grid_area": null,
            "grid_template_columns": null,
            "flex": null,
            "_model_name": "LayoutModel",
            "justify_items": null,
            "grid_row": null,
            "max_height": null,
            "align_content": null,
            "visibility": null,
            "align_self": null,
            "height": null,
            "min_height": null,
            "padding": null,
            "grid_auto_rows": null,
            "grid_gap": null,
            "max_width": null,
            "order": null,
            "_view_module_version": "1.2.0",
            "grid_template_areas": null,
            "object_position": null,
            "object_fit": null,
            "grid_auto_columns": null,
            "margin": null,
            "display": null,
            "left": null
          }
        },
        "293da46af82846008f29592cec73098d": {
          "model_module": "@jupyter-widgets/controls",
          "model_name": "DescriptionStyleModel",
          "state": {
            "_view_name": "StyleView",
            "_model_name": "DescriptionStyleModel",
            "description_width": "",
            "_view_module": "@jupyter-widgets/base",
            "_model_module_version": "1.5.0",
            "_view_count": null,
            "_view_module_version": "1.2.0",
            "_model_module": "@jupyter-widgets/controls"
          }
        },
        "e341b183a8ef465bb9263e1a60767975": {
          "model_module": "@jupyter-widgets/base",
          "model_name": "LayoutModel",
          "state": {
            "_view_name": "LayoutView",
            "grid_template_rows": null,
            "right": null,
            "justify_content": null,
            "_view_module": "@jupyter-widgets/base",
            "overflow": null,
            "_model_module_version": "1.2.0",
            "_view_count": null,
            "flex_flow": null,
            "width": null,
            "min_width": null,
            "border": null,
            "align_items": null,
            "bottom": null,
            "_model_module": "@jupyter-widgets/base",
            "top": null,
            "grid_column": null,
            "overflow_y": null,
            "overflow_x": null,
            "grid_auto_flow": null,
            "grid_area": null,
            "grid_template_columns": null,
            "flex": null,
            "_model_name": "LayoutModel",
            "justify_items": null,
            "grid_row": null,
            "max_height": null,
            "align_content": null,
            "visibility": null,
            "align_self": null,
            "height": null,
            "min_height": null,
            "padding": null,
            "grid_auto_rows": null,
            "grid_gap": null,
            "max_width": null,
            "order": null,
            "_view_module_version": "1.2.0",
            "grid_template_areas": null,
            "object_position": null,
            "object_fit": null,
            "grid_auto_columns": null,
            "margin": null,
            "display": null,
            "left": null
          }
        },
        "d868a5f40e5d4e0e84db98fe99253905": {
          "model_module": "@jupyter-widgets/controls",
          "model_name": "HBoxModel",
          "state": {
            "_view_name": "HBoxView",
            "_dom_classes": [],
            "_model_name": "HBoxModel",
            "_view_module": "@jupyter-widgets/controls",
            "_model_module_version": "1.5.0",
            "_view_count": null,
            "_view_module_version": "1.5.0",
            "box_style": "",
            "layout": "IPY_MODEL_902e65d5281040c58e950bc905d6c5b8",
            "_model_module": "@jupyter-widgets/controls",
            "children": [
              "IPY_MODEL_e478138576284a189f51e65b071bf475",
              "IPY_MODEL_3b298ddeb6eb49aa843d1c5564874ad4"
            ]
          }
        },
        "902e65d5281040c58e950bc905d6c5b8": {
          "model_module": "@jupyter-widgets/base",
          "model_name": "LayoutModel",
          "state": {
            "_view_name": "LayoutView",
            "grid_template_rows": null,
            "right": null,
            "justify_content": null,
            "_view_module": "@jupyter-widgets/base",
            "overflow": null,
            "_model_module_version": "1.2.0",
            "_view_count": null,
            "flex_flow": null,
            "width": null,
            "min_width": null,
            "border": null,
            "align_items": null,
            "bottom": null,
            "_model_module": "@jupyter-widgets/base",
            "top": null,
            "grid_column": null,
            "overflow_y": null,
            "overflow_x": null,
            "grid_auto_flow": null,
            "grid_area": null,
            "grid_template_columns": null,
            "flex": null,
            "_model_name": "LayoutModel",
            "justify_items": null,
            "grid_row": null,
            "max_height": null,
            "align_content": null,
            "visibility": null,
            "align_self": null,
            "height": null,
            "min_height": null,
            "padding": null,
            "grid_auto_rows": null,
            "grid_gap": null,
            "max_width": null,
            "order": null,
            "_view_module_version": "1.2.0",
            "grid_template_areas": null,
            "object_position": null,
            "object_fit": null,
            "grid_auto_columns": null,
            "margin": null,
            "display": null,
            "left": null
          }
        },
        "e478138576284a189f51e65b071bf475": {
          "model_module": "@jupyter-widgets/controls",
          "model_name": "FloatProgressModel",
          "state": {
            "_view_name": "ProgressView",
            "style": "IPY_MODEL_44162ebfb360493a884dbe52f3b4f185",
            "_dom_classes": [],
            "description": "100%",
            "_model_name": "FloatProgressModel",
            "bar_style": "success",
            "max": 31,
            "_view_module": "@jupyter-widgets/controls",
            "_model_module_version": "1.5.0",
            "value": 31,
            "_view_count": null,
            "_view_module_version": "1.5.0",
            "orientation": "horizontal",
            "min": 0,
            "description_tooltip": null,
            "_model_module": "@jupyter-widgets/controls",
            "layout": "IPY_MODEL_dc55e3e8a57b42d88bcdc1f5ebde5e39"
          }
        },
        "3b298ddeb6eb49aa843d1c5564874ad4": {
          "model_module": "@jupyter-widgets/controls",
          "model_name": "HTMLModel",
          "state": {
            "_view_name": "HTMLView",
            "style": "IPY_MODEL_e86c8d5bb7be48058288a0e092cd4353",
            "_dom_classes": [],
            "description": "",
            "_model_name": "HTMLModel",
            "placeholder": "​",
            "_view_module": "@jupyter-widgets/controls",
            "_model_module_version": "1.5.0",
            "value": " 31/31 [02:00&lt;00:00,  3.90s/it]",
            "_view_count": null,
            "_view_module_version": "1.5.0",
            "description_tooltip": null,
            "_model_module": "@jupyter-widgets/controls",
            "layout": "IPY_MODEL_7c38dbf619514d4689656c1fcc71a2c4"
          }
        },
        "44162ebfb360493a884dbe52f3b4f185": {
          "model_module": "@jupyter-widgets/controls",
          "model_name": "ProgressStyleModel",
          "state": {
            "_view_name": "StyleView",
            "_model_name": "ProgressStyleModel",
            "description_width": "initial",
            "_view_module": "@jupyter-widgets/base",
            "_model_module_version": "1.5.0",
            "_view_count": null,
            "_view_module_version": "1.2.0",
            "bar_color": null,
            "_model_module": "@jupyter-widgets/controls"
          }
        },
        "dc55e3e8a57b42d88bcdc1f5ebde5e39": {
          "model_module": "@jupyter-widgets/base",
          "model_name": "LayoutModel",
          "state": {
            "_view_name": "LayoutView",
            "grid_template_rows": null,
            "right": null,
            "justify_content": null,
            "_view_module": "@jupyter-widgets/base",
            "overflow": null,
            "_model_module_version": "1.2.0",
            "_view_count": null,
            "flex_flow": null,
            "width": null,
            "min_width": null,
            "border": null,
            "align_items": null,
            "bottom": null,
            "_model_module": "@jupyter-widgets/base",
            "top": null,
            "grid_column": null,
            "overflow_y": null,
            "overflow_x": null,
            "grid_auto_flow": null,
            "grid_area": null,
            "grid_template_columns": null,
            "flex": null,
            "_model_name": "LayoutModel",
            "justify_items": null,
            "grid_row": null,
            "max_height": null,
            "align_content": null,
            "visibility": null,
            "align_self": null,
            "height": null,
            "min_height": null,
            "padding": null,
            "grid_auto_rows": null,
            "grid_gap": null,
            "max_width": null,
            "order": null,
            "_view_module_version": "1.2.0",
            "grid_template_areas": null,
            "object_position": null,
            "object_fit": null,
            "grid_auto_columns": null,
            "margin": null,
            "display": null,
            "left": null
          }
        },
        "e86c8d5bb7be48058288a0e092cd4353": {
          "model_module": "@jupyter-widgets/controls",
          "model_name": "DescriptionStyleModel",
          "state": {
            "_view_name": "StyleView",
            "_model_name": "DescriptionStyleModel",
            "description_width": "",
            "_view_module": "@jupyter-widgets/base",
            "_model_module_version": "1.5.0",
            "_view_count": null,
            "_view_module_version": "1.2.0",
            "_model_module": "@jupyter-widgets/controls"
          }
        },
        "7c38dbf619514d4689656c1fcc71a2c4": {
          "model_module": "@jupyter-widgets/base",
          "model_name": "LayoutModel",
          "state": {
            "_view_name": "LayoutView",
            "grid_template_rows": null,
            "right": null,
            "justify_content": null,
            "_view_module": "@jupyter-widgets/base",
            "overflow": null,
            "_model_module_version": "1.2.0",
            "_view_count": null,
            "flex_flow": null,
            "width": null,
            "min_width": null,
            "border": null,
            "align_items": null,
            "bottom": null,
            "_model_module": "@jupyter-widgets/base",
            "top": null,
            "grid_column": null,
            "overflow_y": null,
            "overflow_x": null,
            "grid_auto_flow": null,
            "grid_area": null,
            "grid_template_columns": null,
            "flex": null,
            "_model_name": "LayoutModel",
            "justify_items": null,
            "grid_row": null,
            "max_height": null,
            "align_content": null,
            "visibility": null,
            "align_self": null,
            "height": null,
            "min_height": null,
            "padding": null,
            "grid_auto_rows": null,
            "grid_gap": null,
            "max_width": null,
            "order": null,
            "_view_module_version": "1.2.0",
            "grid_template_areas": null,
            "object_position": null,
            "object_fit": null,
            "grid_auto_columns": null,
            "margin": null,
            "display": null,
            "left": null
          }
        },
        "c51cbce9c8164701acff87bc453d304c": {
          "model_module": "@jupyter-widgets/controls",
          "model_name": "HBoxModel",
          "state": {
            "_view_name": "HBoxView",
            "_dom_classes": [],
            "_model_name": "HBoxModel",
            "_view_module": "@jupyter-widgets/controls",
            "_model_module_version": "1.5.0",
            "_view_count": null,
            "_view_module_version": "1.5.0",
            "box_style": "",
            "layout": "IPY_MODEL_5aa0d48a3bce4329a928f49ef9ed92f1",
            "_model_module": "@jupyter-widgets/controls",
            "children": [
              "IPY_MODEL_a9f8a624f3524293b41ba3ef56dc5b2f",
              "IPY_MODEL_b9ac3dd229924e9686d5b13834cb04b2"
            ]
          }
        },
        "5aa0d48a3bce4329a928f49ef9ed92f1": {
          "model_module": "@jupyter-widgets/base",
          "model_name": "LayoutModel",
          "state": {
            "_view_name": "LayoutView",
            "grid_template_rows": null,
            "right": null,
            "justify_content": null,
            "_view_module": "@jupyter-widgets/base",
            "overflow": null,
            "_model_module_version": "1.2.0",
            "_view_count": null,
            "flex_flow": null,
            "width": null,
            "min_width": null,
            "border": null,
            "align_items": null,
            "bottom": null,
            "_model_module": "@jupyter-widgets/base",
            "top": null,
            "grid_column": null,
            "overflow_y": null,
            "overflow_x": null,
            "grid_auto_flow": null,
            "grid_area": null,
            "grid_template_columns": null,
            "flex": null,
            "_model_name": "LayoutModel",
            "justify_items": null,
            "grid_row": null,
            "max_height": null,
            "align_content": null,
            "visibility": null,
            "align_self": null,
            "height": null,
            "min_height": null,
            "padding": null,
            "grid_auto_rows": null,
            "grid_gap": null,
            "max_width": null,
            "order": null,
            "_view_module_version": "1.2.0",
            "grid_template_areas": null,
            "object_position": null,
            "object_fit": null,
            "grid_auto_columns": null,
            "margin": null,
            "display": null,
            "left": null
          }
        },
        "a9f8a624f3524293b41ba3ef56dc5b2f": {
          "model_module": "@jupyter-widgets/controls",
          "model_name": "FloatProgressModel",
          "state": {
            "_view_name": "ProgressView",
            "style": "IPY_MODEL_62a0c6e5fb7945869d7ba9e827520201",
            "_dom_classes": [],
            "description": "100%",
            "_model_name": "FloatProgressModel",
            "bar_style": "success",
            "max": 31,
            "_view_module": "@jupyter-widgets/controls",
            "_model_module_version": "1.5.0",
            "value": 31,
            "_view_count": null,
            "_view_module_version": "1.5.0",
            "orientation": "horizontal",
            "min": 0,
            "description_tooltip": null,
            "_model_module": "@jupyter-widgets/controls",
            "layout": "IPY_MODEL_00c27eaffe0342a595cc8f69346ca4b3"
          }
        },
        "b9ac3dd229924e9686d5b13834cb04b2": {
          "model_module": "@jupyter-widgets/controls",
          "model_name": "HTMLModel",
          "state": {
            "_view_name": "HTMLView",
            "style": "IPY_MODEL_6b5ffc20ba9840a4a71d17e86dcd4203",
            "_dom_classes": [],
            "description": "",
            "_model_name": "HTMLModel",
            "placeholder": "​",
            "_view_module": "@jupyter-widgets/controls",
            "_model_module_version": "1.5.0",
            "value": " 31/31 [01:59&lt;00:00,  3.84s/it]",
            "_view_count": null,
            "_view_module_version": "1.5.0",
            "description_tooltip": null,
            "_model_module": "@jupyter-widgets/controls",
            "layout": "IPY_MODEL_a36ddb61940f48ff9b02379517e33151"
          }
        },
        "62a0c6e5fb7945869d7ba9e827520201": {
          "model_module": "@jupyter-widgets/controls",
          "model_name": "ProgressStyleModel",
          "state": {
            "_view_name": "StyleView",
            "_model_name": "ProgressStyleModel",
            "description_width": "initial",
            "_view_module": "@jupyter-widgets/base",
            "_model_module_version": "1.5.0",
            "_view_count": null,
            "_view_module_version": "1.2.0",
            "bar_color": null,
            "_model_module": "@jupyter-widgets/controls"
          }
        },
        "00c27eaffe0342a595cc8f69346ca4b3": {
          "model_module": "@jupyter-widgets/base",
          "model_name": "LayoutModel",
          "state": {
            "_view_name": "LayoutView",
            "grid_template_rows": null,
            "right": null,
            "justify_content": null,
            "_view_module": "@jupyter-widgets/base",
            "overflow": null,
            "_model_module_version": "1.2.0",
            "_view_count": null,
            "flex_flow": null,
            "width": null,
            "min_width": null,
            "border": null,
            "align_items": null,
            "bottom": null,
            "_model_module": "@jupyter-widgets/base",
            "top": null,
            "grid_column": null,
            "overflow_y": null,
            "overflow_x": null,
            "grid_auto_flow": null,
            "grid_area": null,
            "grid_template_columns": null,
            "flex": null,
            "_model_name": "LayoutModel",
            "justify_items": null,
            "grid_row": null,
            "max_height": null,
            "align_content": null,
            "visibility": null,
            "align_self": null,
            "height": null,
            "min_height": null,
            "padding": null,
            "grid_auto_rows": null,
            "grid_gap": null,
            "max_width": null,
            "order": null,
            "_view_module_version": "1.2.0",
            "grid_template_areas": null,
            "object_position": null,
            "object_fit": null,
            "grid_auto_columns": null,
            "margin": null,
            "display": null,
            "left": null
          }
        },
        "6b5ffc20ba9840a4a71d17e86dcd4203": {
          "model_module": "@jupyter-widgets/controls",
          "model_name": "DescriptionStyleModel",
          "state": {
            "_view_name": "StyleView",
            "_model_name": "DescriptionStyleModel",
            "description_width": "",
            "_view_module": "@jupyter-widgets/base",
            "_model_module_version": "1.5.0",
            "_view_count": null,
            "_view_module_version": "1.2.0",
            "_model_module": "@jupyter-widgets/controls"
          }
        },
        "a36ddb61940f48ff9b02379517e33151": {
          "model_module": "@jupyter-widgets/base",
          "model_name": "LayoutModel",
          "state": {
            "_view_name": "LayoutView",
            "grid_template_rows": null,
            "right": null,
            "justify_content": null,
            "_view_module": "@jupyter-widgets/base",
            "overflow": null,
            "_model_module_version": "1.2.0",
            "_view_count": null,
            "flex_flow": null,
            "width": null,
            "min_width": null,
            "border": null,
            "align_items": null,
            "bottom": null,
            "_model_module": "@jupyter-widgets/base",
            "top": null,
            "grid_column": null,
            "overflow_y": null,
            "overflow_x": null,
            "grid_auto_flow": null,
            "grid_area": null,
            "grid_template_columns": null,
            "flex": null,
            "_model_name": "LayoutModel",
            "justify_items": null,
            "grid_row": null,
            "max_height": null,
            "align_content": null,
            "visibility": null,
            "align_self": null,
            "height": null,
            "min_height": null,
            "padding": null,
            "grid_auto_rows": null,
            "grid_gap": null,
            "max_width": null,
            "order": null,
            "_view_module_version": "1.2.0",
            "grid_template_areas": null,
            "object_position": null,
            "object_fit": null,
            "grid_auto_columns": null,
            "margin": null,
            "display": null,
            "left": null
          }
        }
      }
    }
  },
  "cells": [
    {
      "cell_type": "markdown",
      "metadata": {
        "id": "LSOrNNbGedJB"
      },
      "source": [
        "#ISMRM Member Initiated Tutorial - Cardiac MR\n",
        "##Physics coding challenge\n",
        "\n",
        "Authors: Maša Božić, Chiara Coletti, Sebastian Weingärtner (*TU Delft, Delft, The Netherlands*)\n",
        "\n",
        "---\n",
        "\n",
        "\n"
      ]
    },
    {
      "cell_type": "markdown",
      "metadata": {
        "id": "FA2FEcFigF4E"
      },
      "source": [
        "This notebook contains a simple MRI simulator which can be used to define a custom pulse sequence and simulate an image acquisition on a phantom.\n",
        "\n",
        "During this tutorial we will simulate a spoiled GRE sequence on a cardiac phantom and we will observe the effects of blood flow. \n",
        "\n",
        "**Some remarks**: the simulation does not take into account off-resonance effects nor relaxation contribution. \n"
      ]
    },
    {
      "cell_type": "markdown",
      "metadata": {
        "id": "kuNFgJpV6S33"
      },
      "source": [
        "!------------------------- DO NOT MODIFY THIS SECTION -------------------------!\n",
        "# Simulator \n",
        "This section contains the functions and classes needed to run  the simulation.\n",
        "*You should not modify these classes and functions to implement your solution.*"
      ]
    },
    {
      "cell_type": "markdown",
      "metadata": {
        "id": "064ZMWx2zjoN"
      },
      "source": [
        "## Utilities\n",
        "Some code cells to import necessary libraries, define auxiliary functions and the visualization function `plotMulti` which allows to display and compare multiple images in a single figure."
      ]
    },
    {
      "cell_type": "code",
      "metadata": {
        "id": "o_WIiFvKigdu"
      },
      "source": [
        "# Imports\n",
        "import numpy as np\n",
        "import matplotlib.pyplot as plt\n",
        "from tqdm.notebook import tqdm\n",
        "from skimage.transform import resize, rescale\n",
        "import scipy\n",
        "import copy"
      ],
      "execution_count": null,
      "outputs": []
    },
    {
      "cell_type": "code",
      "metadata": {
        "id": "C_Bt01Xl9QPD"
      },
      "source": [
        "# Rotation functions along cardinal axes\n",
        "# Input:\n",
        "#   alpha: rotation angle [radians] \n",
        "# Output:\n",
        "#   R: rotation matrix\n",
        "def rotX(alpha):\n",
        "  R = np.array([[1, 0, 0], [0, np.cos(alpha), np.sin(alpha)], [0, -np.sin(alpha), np.cos(alpha)]])\n",
        "  return R\n",
        "\n",
        "def rotY(alpha):\n",
        "  R = np.array([[np.cos(alpha), 0, -np.sin(alpha)], [0, 1, 0], [np.sin(alpha), 0, np.cos(alpha)]])\n",
        "  return R\n",
        "\n",
        "def rotZ(alpha):\n",
        "  R = np.array([[np.cos(alpha), np.sin(alpha), 0], [-np.sin(alpha), np.cos(alpha), 0], [0, 0, 1]])\n",
        "  return R\n"
      ],
      "execution_count": null,
      "outputs": []
    },
    {
      "cell_type": "code",
      "metadata": {
        "id": "zH4SKlzqQEcW"
      },
      "source": [
        "# Visualization function to compare 3 images\n",
        "# Input:\n",
        "#   imgs [img1, img2, img3]:        Input images\n",
        "#   [title1, title2, title3]:  Respective titles\n",
        "def plotMulti(imgs, titles):\n",
        "\n",
        "  # Number of subplots\n",
        "  n = len(imgs)\n",
        "\n",
        "  # Plot\n",
        "  plt.figure(figsize = [15, 5])\n",
        "\n",
        "  for i in range(len(imgs)):\n",
        "    plt.subplot(1, n, i + 1)\n",
        "    plt.imshow(imgs[i], cmap='gray')\n",
        "    plt.axis('off')\n",
        "    plt.title(titles[i])\n",
        "  \n",
        "  plt.plot()"
      ],
      "execution_count": null,
      "outputs": []
    },
    {
      "cell_type": "markdown",
      "metadata": {
        "id": "x-byLkmsw1-5"
      },
      "source": [
        "## Phantom\n",
        "Numerical cardiac phantom in short axis view"
      ]
    },
    {
      "cell_type": "code",
      "metadata": {
        "id": "OwdSfMv-r_h_"
      },
      "source": [
        "# Read in phantom as a matrix\n",
        "val = '0 0 0 0 0 0 0 0 0 0 0 0 0 0 0 0 0 0 0 0 0 0 0 0 0 0 0 0 0 0 0 0 0 0 0 0 0 0 0 0 0 0 0 0 0 0 0 0 0 3 3 3 3 3 3 3 3 3 3 3 3 0 0 0 0 0 0 0 0 0 0 0 0 0 0 0 0 0 0 0 0 0 0 0 0 0 0 0 0 0 0 0 0 0 0 0 0 0 0 0 0 0 0 0 0 0 0 0 0 0 0 0 0 0 0 0 0 0 0 0 0 0 0 0 0 0 0 0 0 0 0 0 0 0 0 0 0 0 0 0 0 0 0 0 0 0 0 0 0 0;0 0 0 0 0 0 0 0 0 0 0 0 0 0 0 0 0 0 0 0 0 0 0 0 0 0 0 0 0 0 0 0 0 0 0 0 0 0 0 0 0 0 0 0 0 0 0 0 0 3 3 3 3 3 3 3 3 3 3 3 3 0 0 0 0 0 0 0 0 0 0 0 0 0 0 0 0 0 0 0 0 0 0 0 0 0 0 0 0 0 0 0 0 0 0 0 0 0 0 0 0 0 0 0 0 0 0 0 0 0 0 0 0 0 0 0 0 0 0 0 0 0 0 0 0 0 0 0 0 0 0 0 0 0 0 0 0 0 0 0 0 0 0 0 0 0 0 0 0 0;0 0 0 0 0 0 0 0 0 0 0 0 0 0 0 0 0 0 0 0 0 0 0 0 0 0 0 0 0 0 0 0 0 0 0 0 0 0 0 0 0 0 0 0 0 0 0 0 0 3 3 3 3 3 3 3 3 3 3 3 0 0 0 0 0 0 0 0 0 0 0 0 0 0 0 0 0 0 0 0 0 0 0 0 0 0 0 0 0 0 0 0 0 0 0 0 0 0 0 0 0 0 0 0 0 0 0 0 0 0 0 0 0 0 0 0 0 0 0 0 0 0 0 0 0 0 0 0 0 0 0 0 0 0 0 0 0 0 0 0 0 0 0 0 0 0 0 0 0 0;0 0 0 0 0 0 0 0 0 0 0 0 0 0 0 0 0 0 0 0 0 0 0 0 0 0 0 0 0 0 0 0 0 0 0 0 0 0 0 0 0 0 0 0 0 0 0 0 0 3 3 3 3 3 3 3 3 3 3 0 0 0 0 0 0 0 0 0 0 0 0 0 0 0 0 0 0 0 0 0 0 0 0 0 0 0 0 0 0 0 0 0 0 0 0 0 0 0 0 0 0 0 0 0 0 0 0 0 0 0 0 0 0 0 0 0 0 0 0 0 0 0 0 0 0 0 0 0 0 0 0 0 0 0 0 0 0 0 0 0 0 0 0 0 0 0 0 0 0 0;0 0 0 0 0 0 0 0 0 0 0 0 0 0 0 0 0 0 0 0 0 0 0 0 0 0 0 0 0 0 0 0 0 0 0 0 0 0 0 0 0 0 0 0 0 0 0 0 3 3 3 3 3 3 3 3 3 3 3 0 0 0 0 0 0 0 0 0 0 0 0 0 0 0 0 0 0 0 0 0 0 0 0 0 0 0 0 0 0 0 0 0 0 0 0 0 0 0 0 0 0 0 0 0 0 0 0 0 0 0 0 0 0 0 0 0 0 0 0 0 0 0 0 0 0 0 0 0 0 0 0 0 0 0 0 0 0 0 0 0 0 0 0 0 0 0 0 0 0 0;0 0 0 0 0 0 0 0 0 0 0 0 0 0 0 0 0 0 0 0 0 0 0 0 0 0 0 0 0 0 0 0 0 0 0 0 0 0 0 0 0 0 0 0 0 0 0 0 3 3 3 3 3 3 3 3 3 3 3 0 0 0 0 0 0 0 0 0 0 0 0 0 0 0 0 0 0 0 0 0 0 0 0 0 0 0 0 0 0 0 0 0 0 0 0 0 0 0 0 0 0 0 0 0 0 0 0 0 0 0 0 0 0 0 0 0 0 0 0 0 0 0 0 0 0 0 0 0 0 0 0 0 0 0 0 0 0 0 0 0 0 0 0 0 0 0 0 0 0 0;0 0 0 0 0 0 0 0 0 0 0 0 0 0 0 0 0 0 0 0 0 0 0 0 0 0 0 0 0 0 0 0 0 0 0 0 0 0 0 0 0 0 0 0 0 0 0 0 3 3 3 3 3 3 3 3 3 3 0 0 0 0 0 0 0 0 0 0 0 0 0 0 0 0 0 0 0 0 0 0 0 0 0 0 0 0 0 0 0 0 0 0 0 0 0 0 0 0 0 0 0 0 0 0 0 0 0 0 0 0 0 0 0 0 0 0 0 0 0 0 0 0 0 0 0 0 0 0 0 0 0 0 0 0 0 0 0 0 0 0 0 0 0 0 0 0 0 0 0 0;0 0 0 0 0 0 0 0 0 0 0 0 0 0 0 0 0 0 0 0 0 0 0 0 0 0 0 0 0 0 0 0 0 0 0 0 0 0 0 0 0 0 0 0 0 0 0 0 3 3 3 3 3 3 3 3 3 3 0 0 0 0 0 0 0 0 0 0 0 0 0 0 0 0 0 0 0 0 0 0 0 0 0 0 0 0 0 0 0 0 0 0 0 0 0 0 0 0 0 0 0 0 0 0 0 0 0 0 0 0 0 0 0 0 0 0 0 0 0 0 0 0 0 0 0 0 0 0 0 0 0 0 0 0 0 0 0 0 0 0 0 0 0 0 0 0 0 0 0 0;0 0 0 0 0 0 0 0 0 0 0 0 0 0 0 0 0 0 0 0 0 0 0 0 0 0 0 0 0 0 0 0 0 0 0 0 0 0 0 0 0 0 0 0 0 0 0 3 3 3 3 3 3 3 3 3 3 3 0 0 0 0 0 0 0 0 0 0 0 0 0 0 0 0 0 0 0 0 0 0 0 0 0 0 0 0 0 0 0 0 0 0 0 0 0 0 0 0 0 0 0 0 0 0 0 0 0 0 0 0 0 0 0 0 0 0 0 0 0 0 0 0 0 0 0 0 0 0 0 0 0 0 0 0 0 0 0 0 0 0 0 0 0 0 0 0 0 0 0 0;0 0 0 0 0 0 0 0 0 0 0 0 0 0 0 0 0 0 0 0 0 0 0 0 0 0 0 0 0 0 0 0 0 0 0 0 0 0 0 0 0 0 0 0 0 0 0 3 3 3 3 3 3 3 3 3 3 3 0 0 0 0 0 0 0 0 0 0 0 0 0 0 0 0 0 0 0 0 0 0 0 0 0 0 0 0 0 0 0 0 0 0 0 0 0 0 0 0 0 0 0 0 0 0 0 0 0 0 0 0 0 0 0 0 0 0 0 0 0 0 0 0 0 0 0 0 0 0 0 0 0 0 0 0 0 0 0 0 0 0 0 0 0 0 0 0 0 0 0 0;0 0 0 0 0 0 0 0 0 0 0 0 0 0 0 0 0 0 0 0 0 0 0 0 0 0 0 0 0 0 0 0 0 0 0 0 0 0 0 0 0 0 0 0 0 0 3 3 3 3 3 3 3 3 3 3 3 0 0 0 0 0 0 0 0 0 0 0 0 0 0 0 0 0 0 0 0 0 0 0 0 0 0 0 0 0 0 0 0 0 0 0 0 0 0 0 0 0 0 0 0 0 0 0 0 0 0 0 0 0 0 0 0 0 0 0 0 0 0 0 0 0 0 0 0 0 0 0 0 0 0 0 0 0 0 0 0 0 0 0 0 0 0 0 0 0 0 0 0 0;0 0 0 0 0 0 0 0 0 0 0 0 0 0 0 0 0 0 0 0 0 0 0 0 0 0 0 0 0 0 0 0 0 0 0 0 0 0 0 0 0 0 0 0 0 0 3 3 3 3 3 3 3 3 3 3 0 0 0 0 0 0 0 0 0 0 0 0 0 0 0 0 0 0 0 0 0 0 0 0 0 0 0 0 0 0 0 0 0 0 0 0 0 0 0 0 0 0 0 0 0 0 0 0 0 0 0 0 0 0 0 0 0 0 0 0 0 0 0 0 0 0 0 0 0 0 0 0 0 0 0 0 0 0 0 0 0 0 0 0 0 0 0 0 0 0 0 0 0 0;0 0 0 0 0 0 0 0 0 0 0 0 0 0 0 0 0 0 0 0 0 0 0 0 0 0 0 0 0 0 0 0 0 0 0 0 0 0 0 0 0 0 0 0 0 0 3 3 3 3 3 3 3 3 3 3 0 0 0 0 0 0 0 0 0 0 0 0 0 0 0 0 0 0 0 0 0 0 0 0 0 0 0 0 0 0 0 0 0 0 0 0 0 0 0 0 0 0 0 0 0 0 0 0 0 0 0 0 0 0 0 0 0 0 0 0 0 0 0 0 0 0 0 0 0 0 0 0 0 0 0 0 0 0 0 0 0 0 0 0 0 0 0 0 0 0 0 0 0 0;0 0 0 0 0 0 0 0 0 0 0 0 0 0 0 0 0 0 0 0 0 0 0 0 0 0 0 0 0 0 0 0 0 0 0 0 0 0 0 0 0 0 0 0 0 3 3 3 3 3 3 3 3 3 3 3 0 0 0 0 0 0 0 0 0 0 0 0 0 0 0 0 0 0 0 0 0 0 0 0 0 0 0 0 0 0 0 0 0 0 0 0 0 0 0 0 0 0 0 0 0 0 0 0 0 0 0 0 0 0 0 0 0 0 0 0 0 0 0 0 0 0 0 0 0 0 0 0 0 0 0 0 0 0 0 0 0 0 0 0 0 0 0 0 0 0 0 0 0 0;0 0 0 0 0 0 0 0 0 0 0 0 0 0 0 0 0 0 0 0 0 0 0 0 0 0 0 0 0 0 0 0 0 0 0 0 0 0 0 0 0 0 0 0 0 3 3 3 3 3 3 3 3 3 3 3 0 0 0 0 0 0 0 0 0 0 0 0 0 0 0 0 0 0 0 0 0 0 0 0 0 0 0 0 0 0 0 0 0 0 0 0 0 0 0 0 0 0 0 0 0 0 0 0 0 0 0 0 0 0 0 0 0 0 0 0 0 0 0 0 0 0 0 0 0 0 0 0 0 0 0 0 0 0 0 0 0 0 0 0 0 0 0 0 0 0 0 0 0 0;0 0 0 0 0 0 0 0 0 0 0 0 0 0 0 0 0 0 0 0 0 0 0 0 0 0 0 0 0 0 0 0 0 0 0 0 0 0 0 0 0 0 0 0 0 3 3 3 3 3 3 3 3 3 3 0 0 0 0 0 0 0 0 0 0 0 0 0 0 0 0 0 0 0 0 0 0 0 0 0 0 0 0 0 0 0 0 0 0 0 0 0 0 0 0 0 0 0 0 0 0 0 0 0 0 0 0 0 0 0 0 0 0 0 0 0 0 0 0 0 0 0 0 0 0 0 0 0 0 0 0 0 0 0 0 0 0 0 0 0 0 0 0 0 0 0 0 0 0 0;0 0 0 0 0 0 0 0 0 0 0 0 0 0 0 0 0 0 0 0 0 0 0 0 0 0 0 0 0 0 0 0 0 0 0 0 0 0 0 0 0 0 0 0 0 3 3 3 3 3 3 3 3 3 3 0 0 0 0 0 0 0 0 0 0 0 0 0 0 0 0 0 0 0 0 0 0 0 0 0 0 0 0 0 0 0 0 0 0 0 0 0 0 0 0 0 0 0 0 0 0 0 0 0 0 0 0 0 0 0 0 0 0 0 0 0 0 0 0 0 0 0 0 0 0 0 0 0 0 0 0 0 0 0 0 0 0 0 0 0 0 0 0 0 0 0 0 0 0 0;0 0 0 0 0 0 0 0 0 0 0 0 0 0 0 0 0 0 0 0 0 0 0 0 0 0 0 0 0 0 0 0 0 0 0 0 0 0 0 0 0 0 0 0 3 3 3 3 3 3 3 3 3 3 3 0 0 0 0 0 0 0 0 0 0 0 0 0 0 0 0 0 0 0 0 0 0 0 0 0 0 0 0 0 0 0 0 0 0 0 0 0 0 0 0 0 0 0 0 0 0 0 0 0 0 0 0 0 0 0 0 0 0 0 0 0 0 0 0 0 0 0 0 0 0 0 0 0 0 0 0 0 0 0 0 0 0 0 0 0 0 0 0 0 0 0 0 0 0 0;0 0 0 0 0 0 0 0 0 0 0 0 0 0 0 0 0 0 0 0 0 0 0 0 0 0 0 0 0 0 0 0 0 0 0 0 0 0 0 0 0 0 0 0 3 3 3 3 3 3 3 3 3 3 3 0 0 0 0 0 0 0 0 0 0 0 0 0 0 0 0 0 0 0 0 0 0 0 0 0 0 0 0 0 0 0 0 0 0 0 0 0 0 0 0 0 0 0 0 0 0 0 0 0 0 0 0 0 0 0 0 0 0 0 0 0 0 0 0 0 0 0 0 0 0 0 0 0 0 0 0 0 0 0 0 0 0 0 0 0 0 0 0 0 0 0 0 0 0 0;0 0 0 0 0 0 0 0 0 0 0 0 0 0 0 0 0 0 0 0 0 0 0 0 0 0 0 0 0 0 0 0 0 0 0 0 0 0 0 0 0 0 0 0 3 3 3 3 3 3 3 3 3 3 0 0 0 0 0 0 0 0 0 0 0 0 0 0 0 0 0 0 0 0 0 0 0 0 0 0 0 0 0 0 0 0 0 0 0 0 0 0 0 0 0 0 0 0 0 0 0 0 0 0 0 0 0 0 0 0 0 0 0 0 0 0 0 0 0 0 0 0 0 0 0 0 0 0 0 0 0 0 0 0 0 0 0 0 0 0 0 0 0 0 0 0 0 0 0 0;0 0 0 0 0 0 0 0 0 0 0 0 0 0 0 0 0 0 0 0 0 0 0 0 0 0 0 0 0 0 0 0 0 0 0 0 0 0 0 0 0 0 0 0 3 3 3 3 3 3 3 3 3 0 0 0 0 0 0 0 0 0 0 0 0 0 0 0 0 0 0 0 0 0 0 0 0 0 0 0 0 0 0 0 0 0 0 0 0 0 0 0 0 0 0 0 0 0 0 0 0 0 0 0 0 0 0 0 0 0 0 0 0 0 0 0 0 0 0 0 0 0 0 0 0 0 0 0 0 0 0 0 0 0 0 0 0 0 0 0 0 0 0 0 0 0 0 0 0 0;0 0 0 0 0 0 0 0 0 0 0 0 0 0 0 0 0 0 0 0 0 0 0 0 0 0 0 0 0 0 0 0 0 0 0 0 0 0 0 0 0 0 0 0 3 3 3 3 3 3 3 3 3 0 0 0 0 0 0 0 0 0 0 0 0 0 0 0 0 0 0 0 0 0 0 0 0 0 0 0 0 0 0 0 0 0 0 0 0 0 0 0 0 0 0 0 0 0 0 0 0 0 0 0 0 0 0 0 0 0 0 0 0 0 0 0 0 0 0 0 0 0 0 0 0 0 0 0 0 0 0 0 0 0 0 0 0 0 0 0 0 0 0 0 0 0 0 0 0 0;0 0 0 0 0 0 0 0 0 0 0 0 0 0 0 0 0 0 0 0 0 0 0 0 0 0 0 0 0 0 0 0 0 0 0 0 0 0 0 0 0 0 0 3 3 3 3 3 3 3 3 3 3 0 0 0 0 0 0 0 0 0 0 0 0 0 0 0 0 0 0 0 0 0 0 0 0 0 0 0 0 0 0 0 0 0 0 0 0 0 0 0 0 0 0 0 0 0 0 0 0 0 0 0 0 0 0 0 0 0 0 0 0 0 0 0 0 0 0 0 0 0 0 0 0 0 0 0 0 0 0 0 0 0 0 0 0 0 0 0 0 0 0 0 0 0 0 0 0 0;0 0 0 0 0 0 0 0 0 0 0 0 0 0 0 0 0 0 0 0 0 0 0 0 0 0 0 0 0 0 0 0 0 0 0 0 0 0 0 0 0 0 0 3 3 3 3 3 3 3 3 3 3 0 0 0 0 0 0 0 0 0 0 0 0 0 0 0 0 0 0 0 0 0 0 0 0 0 0 0 0 0 0 0 0 0 0 0 0 0 0 0 0 0 0 0 0 0 0 0 0 0 0 0 0 0 0 0 0 0 0 0 0 0 0 0 0 0 0 0 0 0 0 0 0 0 0 0 0 0 0 0 0 0 0 0 0 0 0 0 0 0 0 0 0 0 0 0 0 0;0 0 0 0 0 0 0 0 0 0 0 0 0 0 0 0 0 0 0 0 0 0 0 0 0 0 0 0 0 0 0 0 0 0 0 0 0 0 0 0 0 0 3 3 3 3 3 3 3 3 3 3 3 0 0 0 0 0 0 0 0 0 0 0 0 0 0 0 0 0 0 0 0 0 0 0 0 0 0 0 0 0 0 0 0 0 0 0 0 0 0 0 0 0 0 0 0 0 0 0 0 0 0 0 0 0 0 0 0 0 0 0 0 0 0 0 0 0 0 0 0 0 0 0 0 0 0 0 0 0 0 0 0 0 0 0 0 0 0 0 0 0 0 0 0 0 0 0 0 0;0 0 0 0 0 0 0 0 0 0 0 0 0 0 0 0 0 0 0 0 0 0 0 0 0 0 0 0 0 0 0 0 0 0 0 0 0 0 0 0 0 0 3 3 3 3 3 3 3 3 3 3 0 0 0 0 0 0 0 0 0 0 0 0 0 0 0 0 0 0 0 0 0 0 0 0 0 0 0 0 0 0 0 0 0 0 0 0 0 0 0 0 0 0 0 0 0 0 0 0 0 0 0 0 0 0 0 0 0 0 0 0 0 0 0 0 0 0 0 0 0 0 0 0 0 0 0 0 0 0 0 0 0 0 0 0 0 0 0 0 0 0 0 0 0 0 0 0 0 0;0 0 0 0 0 0 0 0 0 0 0 0 0 0 0 0 0 0 0 0 0 0 0 0 0 0 0 0 0 0 0 0 0 0 0 0 0 0 0 0 0 0 3 3 3 3 3 3 3 3 3 3 0 0 0 0 0 0 0 0 0 0 0 0 0 0 0 0 0 0 0 0 0 0 0 0 0 0 0 0 0 0 0 0 0 0 0 0 0 0 0 0 0 0 0 0 0 0 0 0 0 0 0 0 0 0 0 0 0 0 0 0 0 0 0 0 0 0 0 0 0 0 0 0 0 0 0 0 0 0 0 0 0 0 0 0 0 0 0 0 0 0 0 0 0 0 0 0 0 0;0 0 0 0 0 0 0 0 0 0 0 0 0 0 0 0 0 0 0 0 0 0 0 0 0 0 0 0 0 0 0 0 0 0 0 0 0 0 0 0 0 0 3 3 3 3 3 3 3 3 3 3 0 0 0 0 0 0 0 0 0 0 0 0 0 0 0 0 0 0 0 0 0 0 0 0 0 0 0 0 0 0 0 0 0 0 0 0 0 0 0 0 0 0 0 0 0 0 0 0 0 0 0 0 0 0 0 0 0 0 0 0 0 0 0 0 0 0 0 0 0 0 0 0 0 0 0 0 0 0 0 0 0 0 0 0 0 0 0 0 0 0 0 0 0 0 0 0 0 0;0 0 0 0 0 0 0 0 0 0 0 0 0 0 0 0 0 0 0 0 0 0 0 0 0 0 0 0 0 0 0 0 0 0 0 0 0 0 0 0 0 0 3 3 3 3 3 3 3 3 3 3 0 0 0 0 0 0 0 0 0 0 0 0 0 0 0 0 0 0 0 0 0 0 0 0 0 0 0 0 0 0 0 0 0 0 0 0 0 0 0 0 0 0 0 0 0 0 0 0 0 0 0 0 0 0 0 0 0 0 0 0 0 0 0 0 0 0 0 0 0 0 0 0 0 0 0 0 0 0 0 0 0 0 0 0 0 0 0 0 0 0 0 0 0 0 0 0 0 0;0 0 0 0 0 0 0 0 0 0 0 0 0 0 0 0 0 0 0 0 0 0 0 0 0 0 0 0 0 0 0 0 0 0 0 0 0 0 0 0 0 3 3 3 3 3 3 3 3 3 3 0 0 0 0 0 0 0 0 0 0 0 0 0 0 0 0 0 0 0 0 0 0 0 0 0 0 0 0 0 0 0 0 0 0 0 0 0 0 0 0 0 0 0 0 0 0 0 0 0 0 0 0 0 0 0 0 0 0 0 0 0 0 0 0 0 0 0 0 0 0 0 0 0 0 0 0 0 0 0 0 0 0 0 0 0 0 0 0 0 0 0 0 0 0 0 0 0 0 0;0 0 0 0 0 0 0 0 0 0 0 0 0 0 0 0 0 0 0 0 0 0 0 0 0 0 0 0 0 0 0 0 0 0 0 0 0 0 0 0 0 3 3 3 3 3 3 3 3 3 3 0 0 0 0 0 0 0 0 0 0 0 0 0 0 0 0 0 0 0 0 0 0 0 0 0 0 0 0 0 0 0 0 0 0 0 0 0 0 0 0 0 0 0 0 0 0 0 0 0 0 0 0 0 0 0 0 0 0 0 0 0 0 0 0 0 0 0 0 0 0 0 0 0 0 0 0 0 0 0 0 0 0 0 0 0 0 0 0 0 0 0 0 0 0 0 0 0 0 0;0 0 0 0 0 0 0 0 0 0 0 0 0 0 0 0 0 0 0 0 0 0 0 0 0 0 0 0 0 0 0 0 0 0 0 0 0 0 0 0 0 3 3 3 3 3 3 3 3 3 3 0 0 0 0 0 0 0 0 0 0 0 0 0 0 0 0 0 0 0 0 0 0 0 0 0 0 0 0 0 0 0 0 0 0 0 0 0 0 0 0 0 0 0 0 0 0 0 0 0 0 0 0 0 0 0 0 0 0 0 0 0 0 0 0 0 0 0 0 0 0 0 0 0 0 0 0 0 0 0 0 0 0 0 0 0 0 0 0 0 0 0 0 0 0 0 0 0 0 0;0 0 0 0 0 0 0 0 0 0 0 0 0 0 0 0 0 0 0 0 0 0 0 0 0 0 0 0 0 0 0 0 0 0 0 0 0 0 0 0 0 3 3 3 3 3 3 3 3 3 3 0 0 0 0 0 0 0 0 0 0 0 0 0 0 0 0 0 0 0 0 0 0 0 0 0 0 0 0 0 0 0 0 0 0 0 0 0 0 0 0 0 0 0 0 0 0 0 0 0 0 0 0 0 0 0 0 0 0 0 0 0 0 0 0 0 0 0 0 0 0 0 0 0 0 0 0 0 0 0 0 0 0 0 0 0 0 0 0 0 0 0 0 0 0 0 0 0 0 0;0 0 0 0 0 0 0 0 0 0 0 0 0 0 0 0 0 0 0 0 0 0 0 0 0 0 0 0 0 0 0 0 0 0 0 0 0 0 0 0 3 3 3 3 3 3 3 3 3 3 0 0 0 0 0 0 0 0 0 0 0 0 0 0 0 0 0 0 0 0 0 0 0 0 0 0 0 0 0 0 0 0 0 0 0 0 0 0 0 0 0 0 0 0 0 0 0 0 0 0 0 0 0 0 0 0 0 0 0 0 0 0 0 0 0 0 0 0 0 0 0 0 0 0 0 0 0 0 0 0 0 0 0 0 0 0 0 0 0 0 0 0 0 0 0 0 0 0 0 0;0 0 0 0 0 0 0 0 0 0 0 0 0 0 0 0 0 0 0 0 0 0 0 0 0 0 0 0 0 0 0 0 0 0 0 0 0 0 0 0 3 3 3 3 3 3 3 3 3 3 0 0 0 0 0 0 0 0 0 0 0 0 0 0 0 0 0 0 0 0 0 0 0 0 0 0 0 0 0 0 0 0 0 0 0 0 0 0 0 0 0 0 0 0 0 0 0 0 0 0 0 0 0 0 0 0 0 0 0 0 0 0 0 0 0 0 0 0 0 0 0 0 0 0 0 0 0 0 0 0 0 0 0 0 0 0 0 0 0 0 0 0 0 0 0 0 0 0 0 0;0 0 0 0 0 0 0 0 0 0 0 0 0 0 0 0 0 0 0 0 0 0 0 0 0 0 0 0 0 0 0 0 0 0 0 0 0 0 0 0 3 3 3 3 3 3 3 3 3 0 0 0 0 0 0 0 0 0 0 0 0 0 0 0 0 0 0 0 0 0 0 0 0 0 0 0 0 0 0 0 0 0 0 0 0 0 0 0 0 0 0 0 0 0 0 0 0 0 0 0 0 0 0 0 0 0 0 0 0 0 0 0 0 0 0 0 0 0 0 0 0 0 0 0 0 0 0 0 0 0 0 0 0 0 0 0 0 0 0 0 0 0 0 0 0 0 0 0 0 0;0 0 0 0 0 0 0 0 0 0 0 0 0 0 0 0 0 0 0 0 0 0 0 0 0 0 0 0 0 0 0 0 0 0 0 0 0 0 0 3 3 3 3 3 3 3 3 3 3 0 0 0 0 0 0 0 0 0 0 0 0 0 0 0 0 0 0 0 0 0 0 0 0 0 0 0 0 0 0 0 0 0 0 0 0 0 0 0 0 0 0 0 0 0 0 0 0 0 0 0 0 0 0 0 0 0 0 0 0 0 0 0 0 0 0 0 0 0 0 0 0 0 0 0 0 0 0 0 0 0 0 0 0 0 0 0 0 0 0 0 0 0 0 0 0 0 0 0 0 0;0 0 0 0 0 0 0 0 0 0 0 0 0 0 0 0 0 0 0 0 0 0 0 0 0 0 0 0 0 0 0 0 0 0 0 0 0 0 0 3 3 3 3 3 3 3 3 3 3 0 0 0 0 0 0 0 0 0 0 0 0 0 0 0 0 0 0 0 0 0 0 0 0 0 0 0 0 0 0 0 0 0 0 0 0 0 0 0 0 0 0 0 0 0 0 0 0 0 0 0 0 0 0 0 0 0 0 0 0 0 0 0 0 0 0 0 0 0 0 0 0 0 0 0 0 0 0 0 0 0 0 0 0 0 0 0 0 0 0 0 0 0 0 0 0 0 0 0 0 0;0 0 0 0 0 0 0 0 0 0 0 0 0 0 0 0 0 0 0 0 0 0 0 0 0 0 0 0 0 0 0 0 0 0 0 0 0 0 0 3 3 3 3 3 3 3 3 3 3 0 0 0 0 0 0 0 0 0 0 0 0 0 0 0 0 0 0 0 0 0 0 0 0 0 0 0 0 0 0 0 0 0 0 0 0 0 0 0 0 0 0 0 0 0 0 0 0 0 0 0 0 0 0 0 0 0 0 0 0 0 0 0 0 0 0 0 0 0 0 0 0 0 0 0 0 0 0 0 0 0 0 0 0 0 0 0 0 0 0 0 0 0 0 0 0 0 0 0 0 0;0 0 0 0 0 0 0 0 0 0 0 0 0 0 0 0 0 0 0 0 0 0 0 0 0 0 0 0 0 0 0 0 0 0 0 0 0 0 0 3 3 3 3 3 3 3 3 3 3 0 0 0 0 0 0 0 0 0 0 0 0 0 0 0 0 0 0 0 0 0 0 0 0 0 0 0 0 0 0 0 0 0 0 0 0 0 0 0 0 0 0 0 0 0 0 0 0 0 0 0 0 0 0 0 0 0 0 0 0 0 0 0 0 0 0 0 0 0 0 0 0 0 0 0 0 0 0 0 0 0 0 0 0 0 0 0 0 0 0 0 0 0 0 0 0 0 0 0 0 0;0 0 0 0 0 0 0 0 0 0 0 0 0 0 0 0 0 0 0 0 0 0 0 0 0 0 0 0 0 0 0 0 0 0 0 0 0 0 0 3 3 3 3 3 3 3 3 3 0 0 0 0 0 0 0 0 0 0 0 0 0 0 0 0 0 0 0 0 0 0 0 0 0 0 0 0 0 0 0 0 0 0 0 0 0 0 0 0 0 0 0 0 0 0 0 0 0 0 0 0 0 0 0 0 0 0 0 0 0 0 0 0 0 0 0 0 0 0 0 0 0 0 0 0 0 0 0 0 0 0 0 0 0 0 0 0 0 0 0 0 0 0 0 0 0 0 0 0 0 0;0 0 0 0 0 0 0 0 0 0 0 0 0 0 0 0 0 0 0 0 0 0 0 0 0 0 0 0 0 0 0 0 0 0 0 0 0 0 3 3 3 3 3 3 3 3 3 3 0 0 0 0 0 0 0 0 0 0 0 0 0 0 0 0 0 0 0 0 0 0 0 0 0 0 0 0 0 0 0 0 0 0 0 0 0 0 0 0 0 0 0 0 0 0 0 0 0 0 0 0 0 0 0 0 0 0 0 0 0 0 0 0 0 0 0 0 0 0 0 0 0 0 0 0 0 0 0 0 0 0 0 0 0 0 0 0 0 0 0 0 0 0 0 0 0 0 0 0 0 0;0 0 0 0 0 0 0 0 0 0 0 0 0 0 0 0 0 0 0 0 0 0 0 0 0 0 0 0 0 0 0 0 0 0 0 0 0 0 3 3 3 3 3 3 3 3 3 3 0 0 0 0 0 0 0 0 0 0 0 0 0 0 0 0 0 0 0 0 0 0 0 0 0 0 0 0 0 0 0 0 0 0 0 0 0 0 0 0 0 0 0 0 0 0 0 0 0 0 0 0 0 0 0 0 0 0 0 0 0 0 0 0 0 0 0 0 0 0 0 0 0 0 0 0 0 0 0 0 0 0 0 0 0 0 0 0 0 0 0 0 0 0 0 0 0 0 0 0 0 0;0 0 0 0 0 0 0 0 0 0 0 0 0 0 0 0 0 0 0 0 0 0 0 0 0 0 0 0 0 0 0 0 0 0 0 0 0 0 3 3 3 3 3 3 3 3 3 3 0 0 0 0 0 0 0 0 0 0 0 0 0 0 0 0 0 0 0 0 0 0 0 0 0 0 0 0 0 0 0 0 0 0 0 0 0 0 0 0 0 0 0 0 0 0 0 0 0 0 0 0 0 0 0 0 0 0 0 0 0 0 0 0 0 0 0 0 0 0 0 0 0 0 0 0 0 0 0 0 0 0 0 0 0 0 0 0 0 0 0 0 0 0 0 0 0 0 0 0 0 0;0 0 0 0 0 0 0 0 0 0 0 0 0 0 0 0 0 0 0 0 0 0 0 0 0 0 0 0 0 0 0 0 0 0 0 0 0 0 3 3 3 3 3 3 3 3 3 0 0 0 0 0 0 0 0 0 0 0 0 0 0 0 0 0 0 0 0 0 0 0 0 0 0 0 0 0 0 0 0 0 0 0 0 0 0 0 0 0 0 0 0 0 0 0 0 0 0 0 0 0 0 0 0 0 0 0 0 0 0 0 0 0 0 0 0 0 0 0 0 0 0 0 0 0 0 0 0 0 0 0 0 0 0 0 0 0 0 0 0 0 0 0 0 0 0 0 0 0 0 0;0 0 0 0 0 0 0 0 0 0 0 0 0 0 0 0 0 0 0 0 0 0 0 0 0 0 0 0 0 0 0 0 0 0 0 0 0 0 3 3 3 3 3 3 3 3 3 0 0 0 0 0 0 0 0 0 0 0 0 0 0 0 0 0 0 0 0 0 0 0 0 0 0 0 0 0 0 0 0 0 0 0 0 0 0 0 0 0 0 0 0 0 0 0 0 0 0 0 0 0 0 0 0 0 0 0 0 0 0 0 0 0 0 0 0 0 0 0 0 0 0 0 0 0 0 0 0 0 0 0 0 0 0 0 0 0 0 0 0 0 0 0 0 0 0 0 0 0 0 0;0 0 0 0 0 0 0 0 0 0 0 0 0 0 0 0 0 0 0 0 0 0 0 0 0 0 0 0 0 0 0 0 0 0 0 0 0 0 3 3 3 3 3 3 3 3 3 0 0 0 0 0 0 0 0 0 0 0 0 0 0 0 0 0 0 0 0 0 0 0 0 0 0 0 0 0 0 0 0 0 0 0 0 0 0 0 0 0 0 0 0 0 0 0 0 0 0 0 0 0 0 0 0 0 0 0 0 0 0 0 0 0 0 0 0 0 0 0 0 0 0 0 0 0 0 0 0 0 0 0 0 0 0 0 0 0 0 0 0 0 0 0 0 0 0 0 0 0 0 0;0 0 0 0 0 0 0 0 0 0 0 0 0 0 0 0 0 0 0 0 0 0 0 0 0 0 0 0 0 0 0 0 0 0 0 0 0 3 3 3 3 3 3 3 3 3 0 0 0 0 0 0 0 0 0 0 0 0 0 0 0 0 0 0 0 0 0 0 0 0 0 0 0 0 0 0 0 0 0 0 0 0 0 0 0 0 0 0 0 0 0 0 0 0 0 0 0 0 0 0 0 0 0 0 0 0 0 0 0 0 0 0 0 0 0 0 0 0 0 0 0 0 0 0 0 0 0 0 0 0 0 0 0 0 0 0 0 0 0 0 0 0 0 0 0 0 0 0 0 0;0 0 0 0 0 0 0 0 0 0 0 0 0 0 0 0 0 0 0 0 0 0 0 0 0 0 0 0 0 0 0 0 0 0 0 0 0 3 3 3 3 3 3 3 3 3 0 0 0 0 0 0 0 0 0 0 0 0 0 0 0 0 0 0 0 0 0 0 0 0 0 0 0 0 0 0 0 0 0 0 0 0 0 0 0 0 0 0 0 0 0 0 0 0 0 0 0 0 0 0 0 0 0 0 0 0 0 0 0 0 0 0 0 0 0 0 0 0 0 0 0 0 0 0 0 0 0 0 0 0 0 0 0 0 0 0 0 0 0 0 0 0 0 0 0 0 0 0 0 0;0 0 0 0 0 0 0 0 0 0 0 0 0 0 0 0 0 0 0 0 0 0 0 0 0 0 0 0 0 0 0 0 0 0 0 0 0 3 3 3 3 3 3 3 3 3 0 0 0 0 0 0 0 0 0 0 0 0 0 0 0 0 0 0 0 0 0 0 0 0 0 0 0 0 0 0 0 0 0 0 0 0 0 0 0 0 0 0 0 0 0 0 0 0 0 0 0 0 0 0 0 0 0 0 0 0 0 0 0 0 0 0 0 0 0 0 0 0 0 0 0 0 0 0 0 0 0 0 0 0 0 0 0 0 0 0 0 0 0 0 0 0 0 0 0 0 0 0 0 0;0 0 0 0 0 0 0 0 0 0 0 0 0 0 0 0 0 0 0 0 0 0 0 0 0 0 0 0 0 0 0 0 0 0 0 0 0 3 3 3 3 3 3 3 3 3 0 0 0 0 0 0 0 0 0 0 0 0 0 0 0 0 0 0 0 0 0 0 0 0 0 0 0 0 0 0 0 0 0 0 0 0 0 0 0 0 0 0 0 0 0 0 0 0 0 0 0 0 0 0 0 0 0 0 0 0 0 0 0 0 0 0 0 0 0 0 0 0 0 0 0 0 0 0 0 0 0 0 0 0 0 0 0 0 0 0 0 0 0 0 0 0 0 0 0 0 0 0 0 0;0 0 0 0 0 0 0 0 0 0 0 0 0 0 0 0 0 0 0 0 0 0 0 0 0 0 0 0 0 0 0 0 0 0 0 0 0 3 3 3 3 3 3 3 3 3 0 0 0 0 0 0 0 0 0 0 0 0 0 0 0 0 0 0 0 0 0 0 0 0 0 0 0 0 0 0 0 0 0 0 0 0 0 0 0 0 0 0 0 0 0 0 0 0 0 0 0 0 0 0 0 0 0 0 0 0 0 0 0 0 0 0 0 0 0 0 0 0 0 0 0 0 0 0 0 0 0 0 0 0 0 0 0 0 0 0 0 0 0 0 0 0 0 0 0 0 0 0 0 0;0 0 0 0 0 0 0 0 0 0 0 0 0 0 0 0 0 0 0 0 0 0 0 0 0 0 0 0 0 0 0 0 0 0 0 0 0 3 3 3 3 3 3 3 3 3 0 0 0 0 0 0 0 0 0 0 0 0 0 0 0 0 0 0 0 0 0 0 0 0 0 0 0 0 0 0 0 0 0 0 0 0 0 0 0 0 0 0 0 0 0 0 0 0 0 0 0 0 0 0 0 0 0 0 0 0 0 0 0 0 0 0 0 0 0 0 0 0 0 0 0 0 0 0 0 0 0 0 0 0 0 0 0 0 0 0 0 0 0 0 0 0 0 0 0 0 0 0 0 0;0 0 0 0 0 0 0 0 0 0 0 0 0 0 0 0 0 0 0 0 0 0 0 0 0 0 0 0 0 0 0 0 0 0 0 0 3 3 3 3 3 3 3 3 3 0 0 0 0 0 0 0 0 0 0 0 0 0 0 0 0 0 0 0 0 0 0 0 0 0 0 0 0 0 0 0 0 0 0 0 0 0 0 0 0 0 0 0 0 0 0 0 0 0 0 0 0 0 0 0 0 0 0 0 0 0 0 0 0 0 0 0 0 0 0 0 0 0 0 0 0 0 0 0 0 0 0 0 0 0 0 0 0 0 0 0 0 0 0 0 0 0 0 0 0 0 0 0 0 0;0 0 0 0 0 0 0 0 0 0 0 0 0 0 0 0 0 0 0 0 0 0 0 0 0 0 0 0 0 0 0 0 0 0 0 0 3 3 3 3 3 3 3 3 3 0 0 0 0 0 0 0 0 0 0 0 0 0 0 0 0 0 0 0 0 0 0 0 0 0 0 0 0 0 0 0 0 0 0 0 0 0 0 0 0 0 0 0 0 0 0 0 0 0 0 0 0 0 0 0 0 0 0 0 0 0 0 0 0 0 0 0 0 0 0 0 0 0 0 0 0 0 0 0 0 0 0 0 0 0 0 0 0 0 0 0 0 0 0 0 0 0 0 0 0 0 0 0 0 0;0 0 0 0 0 0 0 0 0 0 0 0 0 0 0 0 0 0 0 0 0 0 0 0 0 0 0 0 0 0 0 0 0 0 0 0 3 3 3 3 3 3 3 3 3 0 0 0 0 0 0 0 0 0 0 0 0 0 0 0 0 0 0 0 0 0 0 0 0 0 0 0 0 0 0 0 0 0 0 0 0 0 0 0 0 0 0 0 0 0 0 0 0 0 0 0 0 0 0 0 0 0 0 0 0 0 0 0 0 0 0 0 0 0 0 0 0 0 0 0 0 0 0 0 0 0 0 0 0 0 0 0 0 0 0 0 0 0 0 0 0 0 0 0 0 0 0 0 0 0;0 0 0 0 0 0 0 0 0 0 0 0 0 0 0 0 0 0 0 0 0 0 0 0 0 0 0 0 0 0 0 0 0 0 0 3 3 3 3 3 3 3 3 3 3 0 0 0 0 0 0 0 0 0 0 0 0 0 0 0 0 0 0 0 0 0 0 0 0 0 0 0 0 0 0 0 0 0 0 0 0 0 0 0 0 0 0 0 0 0 0 0 0 0 0 0 0 0 0 0 0 0 0 0 0 0 0 0 0 0 0 0 0 0 0 0 0 0 0 0 0 0 0 0 0 0 0 0 0 0 0 0 0 0 0 0 0 0 0 0 0 0 0 0 0 0 0 0 0 0;0 0 0 0 0 0 0 0 0 0 0 0 0 0 0 0 0 0 0 0 0 0 0 0 0 0 0 0 0 0 0 0 0 0 0 3 3 3 3 3 3 3 3 3 3 0 0 0 0 0 0 0 0 0 0 0 0 0 0 0 0 0 0 0 0 0 0 0 0 0 0 0 0 0 0 0 0 0 0 0 0 0 0 0 0 0 0 0 0 0 0 0 0 0 0 0 0 0 0 0 0 0 0 0 0 0 0 3 3 3 3 3 3 3 0 0 0 0 0 0 0 0 0 0 0 0 0 0 0 0 0 0 0 0 0 0 0 0 0 0 0 0 0 0 0 0 0 0 0 0;0 0 0 0 0 0 0 0 0 0 0 0 0 0 0 0 0 0 0 0 0 0 0 0 0 0 0 0 0 0 0 0 0 0 0 3 3 3 3 3 3 3 3 3 3 0 0 0 0 0 0 0 0 0 0 0 0 0 0 0 0 0 0 0 0 0 0 0 0 0 0 0 0 0 0 0 0 0 0 0 0 0 0 0 0 0 0 0 0 0 0 0 0 0 0 0 0 0 0 0 0 0 3 3 3 3 3 3 0.800000011920929 0.800000011920929 0.800000011920929 0.800000011920929 0.800000011920929 3 3 3 3 3 3 3 0 0 0 0 0 0 0 0 0 0 0 0 0 0 0 0 0 0 0 0 0 0 0 0 0 0 0 0 0 0;0 0 0 0 0 0 0 0 0 0 0 0 0 0 0 0 0 0 0 0 0 0 0 0 0 0 0 0 0 0 0 0 0 0 0 3 3 3 3 3 3 3 3 3 0 0 0 0 0 0 0 0 0 0 0 0 0 0 0 0 0 0 0 0 0 0 0 0 0 0 0 0 0 0 0 0 0 0 0 0 0 0 0 0 0 0 0 0 0 0 0 0 0 0 0 0 0 0 0 0 3 3 3 3 3 0.800000011920929 0.800000011920929 0.800000011920929 0.800000011920929 0.800000011920929 0.800000011920929 0.800000011920929 0.800000011920929 0.800000011920929 0.800000011920929 0.800000011920929 0.800000011920929 3 3 3 3 0 0 0 0 0 0 0 0 0 0 0 0 0 0 0 0 0 0 0 0 0 0 0 0 0 0 0 0 0;0 0 0 0 0 0 0 0 0 0 0 0 0 0 0 0 0 0 0 0 0 0 0 0 0 0 0 0 0 0 0 0 0 0 0 3 3 3 3 3 3 3 3 3 0 0 0 0 0 0 0 0 0 0 0 0 0 0 0 0 0 0 0 0 0 0 0 0 0 0 0 0 0 0 0 0 0 0 0 0 0 0 0 0 0 0 0 0 0 0 0 0 0 0 0 0 0 0 3 3 3 3 0.800000011920929 0.800000011920929 0.800000011920929 0.800000011920929 0.800000011920929 0.800000011920929 0.800000011920929 0.800000011920929 0.800000011920929 0.800000011920929 0.800000011920929 0.800000011920929 0.800000011920929 0.800000011920929 0.800000011920929 0.800000011920929 0.800000011920929 0.800000011920929 3 3 3 3 0 0 0 0 0 0 0 0 0 0 0 0 0 0 0 0 0 0 0 0 0 0 0 0 0 0;0 0 0 0 0 0 0 0 0 0 0 0 0 0 0 0 0 0 0 0 0 0 0 0 0 0 0 0 0 0 0 0 0 0 0 3 3 3 3 3 3 3 3 3 0 0 0 0 0 0 0 0 0 0 0 0 0 0 0 0 0 0 0 0 0 0 0 0 0 0 0 0 0 0 0 0 0 0 0 0 0 0 0 0 0 0 0 0 0 0 0 0 0 0 0 0 3 3 3 0.800000011920929 0.800000011920929 0.800000011920929 0.800000011920929 0.800000011920929 0.800000011920929 0.800000011920929 0.800000011920929 0.800000011920929 0.800000011920929 0.800000011920929 0.800000011920929 0.800000011920929 0.800000011920929 0.800000011920929 0.800000011920929 0.800000011920929 0.800000011920929 0.800000011920929 0.800000011920929 0.800000011920929 0.800000011920929 0.800000011920929 0.800000011920929 3 3 3 0 0 0 0 0 0 0 0 0 0 0 0 0 0 0 0 0 0 0 0 0 0 0 0;0 0 0 0 0 0 0 0 0 0 0 0 0 0 0 0 0 0 0 0 0 0 0 0 0 0 0 0 0 0 0 0 0 0 0 3 3 3 3 3 3 3 3 3 0 0 0 0 0 0 0 0 0 0 0 0 0 0 0 0 0 0 0 0 0 0 0 0 0 0 0 0 0 0 0 0 0 0 0 0 0 0 0 0 0 0 0 0 0 0 0 0 0 0 3 3 3 3 0.800000011920929 0.800000011920929 0.800000011920929 0.800000011920929 0.800000011920929 0.800000011920929 0.800000011920929 0.800000011920929 0.800000011920929 0.800000011920929 0.800000011920929 0.800000011920929 0.800000011920929 0.800000011920929 0.800000011920929 0.800000011920929 0.800000011920929 0.800000011920929 0.800000011920929 0.800000011920929 0.800000011920929 0.800000011920929 0.800000011920929 0.800000011920929 0.800000011920929 3 3 3 0 0 0 0 0 0 0 0 0 0 0 0 0 0 0 0 0 0 0 0 0 0 0 0;0 0 0 0 0 0 0 0 0 0 0 0 0 0 0 0 0 0 0 0 0 0 0 0 0 0 0 0 0 0 0 0 0 0 3 3 3 3 3 3 3 3 3 3 0 0 0 0 0 0 0 0 0 0 0 0 0 0 0 0 0 0 0 0 0 0 0 0 0 0 0 0 0 0 0 0 0 0 0 0 0 0 0 0 0 0 0 0 0 0 3 3 3 3 3 1 0.800000011920929 0.800000011920929 0.800000011920929 0.800000011920929 0.800000011920929 0.800000011920929 0.800000011920929 0.800000011920929 0.800000011920929 0.800000011920929 0.800000011920929 0.800000011920929 0.800000011920929 0.800000011920929 0.800000011920929 0.800000011920929 0.800000011920929 0.800000011920929 0.800000011920929 0.800000011920929 0.800000011920929 0.800000011920929 0.800000011920929 0.800000011920929 0.800000011920929 0.800000011920929 0.800000011920929 0.800000011920929 0.800000011920929 3 3 0 0 0 0 0 0 0 0 0 0 0 0 0 0 0 0 0 0 0 0 0 0 0;0 0 0 0 0 0 0 0 0 0 0 0 0 0 0 0 0 0 0 0 0 0 0 0 0 0 0 0 0 0 0 0 0 0 3 3 3 3 3 3 3 3 3 3 0 0 0 0 0 0 0 0 0 0 0 0 0 0 0 0 0 0 0 0 0 0 0 0 0 0 0 0 0 0 0 0 0 0 0 0 0 0 0 0 0 0 0 3 3 3 3 1 1 1 1 0.800000011920929 0.800000011920929 0.800000011920929 0.800000011920929 0.800000011920929 0.800000011920929 0.800000011920929 0.800000011920929 0.800000011920929 0.800000011920929 0.800000011920929 0.800000011920929 0.800000011920929 0.800000011920929 0.800000011920929 0.800000011920929 0.800000011920929 0.800000011920929 0.800000011920929 0.800000011920929 0.800000011920929 0.800000011920929 0.800000011920929 0.800000011920929 0.800000011920929 0.800000011920929 0.800000011920929 0.800000011920929 0.800000011920929 0.800000011920929 0.800000011920929 3 3 3 0 0 0 0 0 0 0 0 0 0 0 0 0 0 0 0 0 0 0 0 0;0 0 0 0 0 0 0 0 0 0 0 0 0 0 0 0 0 0 0 0 0 0 0 0 0 0 0 0 0 0 0 0 0 0 3 3 3 3 3 3 3 3 3 3 0 0 0 0 0 0 0 0 0 0 0 0 0 0 0 0 0 0 0 0 0 0 0 0 0 0 0 0 0 0 0 0 0 0 0 0 0 0 0 0 0 0 3 3 3 1 1 1 1 1 1 0.800000011920929 0.800000011920929 0.800000011920929 0.800000011920929 0.800000011920929 0.800000011920929 0.800000011920929 0.800000011920929 0.800000011920929 0.800000011920929 0.800000011920929 0.800000011920929 0.800000011920929 0.800000011920929 0.800000011920929 0.800000011920929 0.800000011920929 0.800000011920929 0.800000011920929 0.800000011920929 0.800000011920929 0.800000011920929 0.800000011920929 0.800000011920929 0.800000011920929 0.800000011920929 0.800000011920929 0.800000011920929 0.800000011920929 0.800000011920929 0.800000011920929 0.800000011920929 3 3 0 0 0 0 0 0 0 0 0 0 0 0 0 0 0 0 0 0 0 0 0;0 0 0 0 0 0 0 0 0 0 0 0 0 0 0 0 0 0 0 0 0 0 0 0 0 0 0 0 0 0 0 0 0 0 3 3 3 3 3 3 3 3 3 0 0 0 0 0 0 0 0 0 0 0 0 0 0 0 0 0 0 0 0 0 0 0 0 0 0 0 0 0 0 0 0 0 0 0 0 0 0 0 0 3 3 3 3 1 1 1 1 1 1 0.800000011920929 0.800000011920929 0.800000011920929 0.800000011920929 0.800000011920929 0.800000011920929 0.800000011920929 0.800000011920929 0.800000011920929 0.800000011920929 0.800000011920929 0.800000011920929 0.800000011920929 0.800000011920929 0.800000011920929 0.800000011920929 0.800000011920929 0.800000011920929 0.800000011920929 0.800000011920929 0.800000011920929 0.800000011920929 0.800000011920929 0.800000011920929 0.800000011920929 0.800000011920929 0.800000011920929 0.800000011920929 0.800000011920929 0.800000011920929 0.800000011920929 0.800000011920929 0.800000011920929 0.800000011920929 0.800000011920929 3 3 0 0 0 0 0 0 0 0 0 0 0 0 0 0 0 0 0 0 0 0;0 0 0 0 0 0 0 0 0 0 0 0 0 0 0 0 0 0 0 0 0 0 0 0 0 0 0 0 0 0 0 0 0 0 3 3 3 3 3 3 3 3 3 0 0 0 0 0 0 0 0 0 0 0 0 0 0 0 0 0 0 0 0 0 0 0 0 0 0 0 0 0 0 0 0 0 0 0 0 0 0 3 3 3 3 1 1 1 1 1 1 1 0.800000011920929 0.800000011920929 0.800000011920929 0.800000011920929 0.800000011920929 0.800000011920929 0.800000011920929 0.800000011920929 0.800000011920929 0.800000011920929 0.800000011920929 0.800000011920929 0.800000011920929 0.800000011920929 0.800000011920929 0.800000011920929 0.800000011920929 1 1 1 1 0.800000011920929 0.800000011920929 0.800000011920929 0.800000011920929 0.800000011920929 0.800000011920929 0.800000011920929 0.800000011920929 0.800000011920929 0.800000011920929 0.800000011920929 0.800000011920929 0.800000011920929 0.800000011920929 0.800000011920929 0.800000011920929 3 3 0 0 0 0 0 0 0 0 0 0 0 0 0 0 0 0 0 0 0;0 0 0 0 0 0 0 0 0 0 0 0 0 0 0 0 0 0 0 0 0 0 0 0 0 0 0 0 0 0 0 0 0 0 3 3 3 3 3 3 3 3 3 0 0 0 0 0 0 0 0 0 0 0 0 0 0 0 0 0 0 0 0 0 0 0 0 0 0 0 0 0 0 0 0 0 0 0 0 0 3 3 1 1 1 1 1 1 1 1 1 1 0.800000011920929 0.800000011920929 0.800000011920929 0.800000011920929 0.800000011920929 0.800000011920929 0.800000011920929 0.800000011920929 0.800000011920929 0.800000011920929 0.800000011920929 0.800000011920929 1 1 1 1 1 1 1 1 1 1 1 1 1 0.800000011920929 0.800000011920929 0.800000011920929 0.800000011920929 0.800000011920929 0.800000011920929 0.800000011920929 0.800000011920929 0.800000011920929 0.800000011920929 0.800000011920929 0.800000011920929 0.800000011920929 3 3 0 0 0 0 0 0 0 0 0 0 0 0 0 0 0 0 0 0;0 0 0 0 0 0 0 0 0 0 0 0 0 0 0 0 0 0 0 0 0 0 0 0 0 0 0 0 0 0 0 0 0 0 3 3 3 3 3 3 3 3 0 0 0 0 0 0 0 0 0 0 0 0 0 0 0 0 0 0 0 0 0 0 0 0 0 0 0 0 0 0 0 0 0 0 0 0 0 3 3 3 1 1 1 1 1 1 1 1 1 0.800000011920929 0.800000011920929 0.800000011920929 0.800000011920929 0.800000011920929 0.800000011920929 0.800000011920929 0.800000011920929 0.800000011920929 0.800000011920929 0.800000011920929 0.800000011920929 1 1 1 1 1 1 1 1 1 1 1 1 1 1 1 0.800000011920929 0.800000011920929 0.800000011920929 0.800000011920929 0.800000011920929 0.800000011920929 0.800000011920929 0.800000011920929 0.800000011920929 0.800000011920929 0.800000011920929 0.800000011920929 3 3 3 0 0 0 0 0 0 0 0 0 0 0 0 0 0 0 0 0;0 0 0 0 0 0 0 0 0 0 0 0 0 0 0 0 0 0 0 0 0 0 0 0 0 0 0 0 0 0 0 0 0 3 3 3 3 3 3 3 3 3 0 0 0 0 0 0 0 0 0 0 0 0 0 0 0 0 0 0 0 0 0 0 0 0 0 0 0 0 0 0 0 0 0 0 0 3 3 3 1 1 1 1 1 1 1 1 1 1 0.800000011920929 0.800000011920929 0.800000011920929 0.800000011920929 0.800000011920929 0.800000011920929 0.800000011920929 0.800000011920929 0.800000011920929 0.800000011920929 0.800000011920929 0.800000011920929 1 1 1 1 1 1 1 1 1 1 1 1 1 1 1 1 1 1 0.800000011920929 0.800000011920929 0.800000011920929 0.800000011920929 0.800000011920929 0.800000011920929 0.800000011920929 0.800000011920929 0.800000011920929 0.800000011920929 0.800000011920929 3 3 0 0 0 0 0 0 0 0 0 0 0 0 0 0 0 0 0;0 0 0 0 0 0 0 0 0 0 0 0 0 0 0 0 0 0 0 0 0 0 0 0 0 0 0 0 0 0 0 0 0 3 3 3 3 3 3 3 3 3 0 0 0 0 0 0 0 0 0 0 0 0 0 0 0 0 0 0 0 0 0 0 0 0 0 0 0 0 0 0 0 0 0 3 3 3 1 1 1 1 1 1 1 1 1 1 1 1 0.800000011920929 0.800000011920929 0.800000011920929 0.800000011920929 0.800000011920929 0.800000011920929 0.800000011920929 0.800000011920929 0.800000011920929 0.800000011920929 1 1 1 1 1 1 1 1 1 1 1 1 1 1 1 1 1 1 1 1 1 0.800000011920929 0.800000011920929 0.800000011920929 0.800000011920929 0.800000011920929 0.800000011920929 0.800000011920929 0.800000011920929 0.800000011920929 0.800000011920929 0.800000011920929 3 3 0 0 0 0 0 0 0 0 0 0 0 0 0 0 0 0;0 0 0 0 0 0 0 0 0 0 0 0 0 0 0 0 0 0 0 0 0 0 0 0 0 0 0 0 0 0 0 0 0 3 3 3 3 3 3 3 3 3 0 0 0 0 0 0 0 0 0 0 0 0 0 0 0 0 0 0 0 0 0 0 0 0 0 0 0 0 0 0 0 0 0 3 3 3 1 1 1 1 1 1 1 1 1 1 1 0.800000011920929 0.800000011920929 0.800000011920929 0.800000011920929 0.800000011920929 0.800000011920929 0.800000011920929 0.800000011920929 0.800000011920929 0.800000011920929 0.800000011920929 1 1 1 1 1 1 1 1 1 1 1 1 1 1 1 1 1 1 1 1 1 0.800000011920929 0.800000011920929 0.800000011920929 0.800000011920929 0.800000011920929 0.800000011920929 0.800000011920929 0.800000011920929 0.800000011920929 0.800000011920929 0.800000011920929 3 3 0 0 0 0 0 0 0 0 0 0 0 0 0 0 0 0;0 0 0 0 0 0 0 0 0 0 0 0 0 0 0 0 0 0 0 0 0 0 0 0 0 0 0 0 0 0 0 0 0 3 3 3 3 3 3 3 3 3 0 0 0 0 0 0 0 0 0 0 0 0 0 0 0 0 0 0 0 0 0 0 0 0 0 0 0 0 0 0 0 3 3 3 1 1 1 1 1 1 1 1 1 1 1 1 1 0.800000011920929 0.800000011920929 0.800000011920929 0.800000011920929 0.800000011920929 0.800000011920929 0.800000011920929 0.800000011920929 0.800000011920929 0.800000011920929 1 1 1 1 1 1 1 1 1 1 1 1 1 1 1 1 1 1 1 1 1 1 1 1 0.800000011920929 0.800000011920929 0.800000011920929 0.800000011920929 0.800000011920929 0.800000011920929 0.800000011920929 0.800000011920929 0.800000011920929 0.800000011920929 3 0 0 0 0 0 0 0 0 0 0 0 0 0 0 0 0;0 0 0 0 0 0 0 0 0 0 0 0 0 0 0 0 0 0 0 0 0 0 0 0 0 0 0 0 0 0 0 0 3 3 3 3 3 3 3 3 3 3 0 0 0 0 0 0 0 0 0 0 0 0 0 0 0 0 0 0 0 0 0 0 0 0 0 0 0 0 0 0 3 3 3 1 1 1 1 1 1 1 1 1 1 1 1 1 1 0.800000011920929 0.800000011920929 0.800000011920929 0.800000011920929 0.800000011920929 0.800000011920929 0.800000011920929 0.800000011920929 0.800000011920929 1 1 1 1 1 1 1 1 1 1 1 1 1 1 1 1 1 1 1 1 1 1 1 1 1 0.800000011920929 0.800000011920929 0.800000011920929 0.800000011920929 0.800000011920929 0.800000011920929 0.800000011920929 0.800000011920929 0.800000011920929 0.800000011920929 3 0 0 0 0 0 0 0 0 0 0 0 0 0 0 0 0;0 0 0 0 0 0 0 0 0 0 0 0 0 0 0 0 0 0 0 0 0 0 0 0 0 0 0 0 0 0 0 0 3 3 3 3 3 3 3 3 3 3 0 0 0 0 0 0 0 0 0 0 0 0 0 0 0 0 0 0 0 0 0 0 0 0 0 0 0 0 0 3 3 1 1 1 1 1 1 1 1 1 1 1 1 1 1 1 0.800000011920929 0.800000011920929 0.800000011920929 0.800000011920929 0.800000011920929 0.800000011920929 0.800000011920929 0.800000011920929 0.800000011920929 1 1 1 1 1 1 1 1 1 1 1 1 1 1 1 1 1 1 1 1 1 1 1 1 1 1 1 0.800000011920929 0.800000011920929 0.800000011920929 0.800000011920929 0.800000011920929 0.800000011920929 0.800000011920929 0.800000011920929 0.800000011920929 3 3 0 0 0 0 0 0 0 0 0 0 0 0 0 0 0;0 0 0 0 0 0 0 0 0 0 0 0 0 0 0 0 0 0 0 0 0 0 0 0 0 0 0 0 0 0 0 0 3 3 3 3 3 3 3 3 3 3 0 0 0 0 0 0 0 0 0 0 0 0 0 0 0 0 0 0 0 0 0 0 0 0 0 0 0 0 3 3 3 1 1 1 1 1 1 1 1 1 1 1 1 1 1 1 0.800000011920929 0.800000011920929 0.800000011920929 0.800000011920929 0.800000011920929 0.800000011920929 0.800000011920929 0.800000011920929 0.800000011920929 1 1 1 1 1 1 1 1 1 1 1 1 1 1 1 1 1 1 1 1 1 1 1 1 1 1 1 0.800000011920929 0.800000011920929 0.800000011920929 0.800000011920929 0.800000011920929 0.800000011920929 0.800000011920929 0.800000011920929 0.800000011920929 0.800000011920929 3 0 0 0 0 0 0 0 0 0 0 0 0 0 0 0;0 0 0 0 0 0 0 0 0 0 0 0 0 0 0 0 0 0 0 0 0 0 0 0 0 0 0 0 0 0 0 0 3 3 3 3 3 3 3 3 3 0 0 0 0 0 0 0 0 0 0 0 0 0 0 0 0 0 0 0 0 0 0 0 0 0 0 0 0 3 3 3 1 1 1 1 1 1 1 1 1 1 1 1 1 1 1 1 0.800000011920929 0.800000011920929 0.800000011920929 0.800000011920929 0.800000011920929 0.800000011920929 0.800000011920929 0.800000011920929 0.800000011920929 1 1 1 1 1 1 1 1 1 1 1 1 1 1 1 1 1 1 1 1 1 1 1 1 1 1 1 1 0.800000011920929 0.800000011920929 0.800000011920929 0.800000011920929 0.800000011920929 0.800000011920929 0.800000011920929 0.800000011920929 0.800000011920929 3 0 0 0 0 0 0 0 0 0 0 0 0 0 0 0;0 0 0 0 0 0 0 0 0 0 0 0 0 0 0 0 0 0 0 0 0 0 0 0 0 0 0 0 0 0 0 0 3 3 3 3 3 3 3 3 3 0 0 0 0 0 0 0 0 0 0 0 0 0 0 0 0 0 0 0 0 0 0 0 0 0 0 0 3 3 1 1 1 1 1 1 1 1 1 1 1 1 1 1 1 1 1 0.800000011920929 0.800000011920929 0.800000011920929 0.800000011920929 0.800000011920929 0.800000011920929 0.800000011920929 0.800000011920929 0.800000011920929 1 1 1 1 1 1 1 1 1 1 1 1 1 1 1 1 1 1 1 1 1 1 1 1 1 1 1 1 1 0.800000011920929 0.800000011920929 0.800000011920929 0.800000011920929 0.800000011920929 0.800000011920929 0.800000011920929 0.800000011920929 0.800000011920929 3 3 0 0 0 0 0 0 0 0 0 0 0 0 0 0;0 0 0 0 0 0 0 0 0 0 0 0 0 0 0 0 0 0 0 0 0 0 0 0 0 0 0 0 0 0 0 0 3 3 3 3 3 3 3 3 3 0 0 0 0 0 0 0 0 0 0 0 0 0 0 0 0 0 0 0 0 0 0 0 0 0 0 0 3 3 1 1 1 1 1 1 1 1 1 1 1 1 1 1 1 1 1 0.800000011920929 0.800000011920929 0.800000011920929 0.800000011920929 0.800000011920929 0.800000011920929 0.800000011920929 0.800000011920929 0.800000011920929 1 1 1 1 1 1 1 1 1 1 1 1 1 1 1 1 1 1 1 1 1 1 1 1 1 1 1 1 1 0.800000011920929 0.800000011920929 0.800000011920929 0.800000011920929 0.800000011920929 0.800000011920929 0.800000011920929 0.800000011920929 0.800000011920929 3 3 0 0 0 0 0 0 0 0 0 0 0 0 0 0;0 0 0 0 0 0 0 0 0 0 0 0 0 0 0 0 0 0 0 0 0 0 0 0 0 0 0 0 0 0 0 0 3 3 3 3 3 3 3 3 3 0 0 0 0 0 0 0 0 0 0 0 0 0 0 0 0 0 0 0 0 0 0 0 0 0 3 3 3 1 1 1 1 1 1 1 1 1 1 1 1 1 1 1 1 1 1 0.800000011920929 0.800000011920929 0.800000011920929 0.800000011920929 0.800000011920929 0.800000011920929 0.800000011920929 0.800000011920929 0.800000011920929 1 1 1 1 1 1 1 1 1 1 1 1 1 1 1 1 1 1 1 1 1 1 1 1 1 1 1 1 1 1 0.800000011920929 0.800000011920929 0.800000011920929 0.800000011920929 0.800000011920929 0.800000011920929 0.800000011920929 0.800000011920929 3 3 0 0 0 0 0 0 0 0 0 0 0 0 0 0;0 0 0 0 0 0 0 0 0 0 0 0 0 0 0 0 0 0 0 0 0 0 0 0 0 0 0 0 0 0 0 0 3 3 3 3 3 3 3 3 3 0 0 0 0 0 0 0 0 0 0 0 0 0 0 0 0 0 0 0 0 0 0 0 0 0 3 3 1 1 1 1 1 1 1 1 1 1 1 1 1 1 1 1 1 1 1 0.800000011920929 0.800000011920929 0.800000011920929 0.800000011920929 0.800000011920929 0.800000011920929 0.800000011920929 0.800000011920929 0.800000011920929 1 1 1 1 1 1 1 1 1 1 1 1 1 1 1 1 1 1 1 1 1 1 1 1 1 1 1 1 1 1 0.800000011920929 0.800000011920929 0.800000011920929 0.800000011920929 0.800000011920929 0.800000011920929 0.800000011920929 0.800000011920929 3 3 0 0 0 0 0 0 0 0 0 0 0 0 0 0;0 0 0 0 0 0 0 0 0 0 0 0 0 0 0 0 0 0 0 0 0 0 0 0 0 0 0 0 0 0 0 0 3 3 3 3 3 3 3 3 3 0 0 0 0 0 0 0 0 0 0 0 0 0 0 0 0 0 0 0 0 0 0 0 0 3 3 1 1 1 1 1 1 1 1 1 1 1 1 1 1 1 1 1 1 1 1 0.800000011920929 0.800000011920929 0.800000011920929 0.800000011920929 0.800000011920929 0.800000011920929 0.800000011920929 0.800000011920929 0.800000011920929 1 1 1 1 1 1 1 1 1 1 1 1 1 1 1 1 1 1 1 1 1 1 1 1 1 1 1 1 1 1 0.800000011920929 0.800000011920929 0.800000011920929 0.800000011920929 0.800000011920929 0.800000011920929 0.800000011920929 0.800000011920929 3 3 0 0 0 0 0 0 0 0 0 0 0 0 0 0;0 0 0 0 0 0 0 0 0 0 0 0 0 0 0 0 0 0 0 0 0 0 0 0 0 0 0 0 0 0 0 0 3 3 3 3 3 3 3 3 3 0 0 0 0 0 0 0 0 0 0 0 0 0 0 0 0 0 0 0 0 0 0 0 0 3 1 1 1 1 1 1 1 1 1 1 1 1 1 1 1 1 1 1 1 1 1 0.800000011920929 0.800000011920929 0.800000011920929 0.800000011920929 0.800000011920929 0.800000011920929 0.800000011920929 0.800000011920929 0.800000011920929 1 1 1 1 1 1 1 1 1 1 1 1 1 1 1 1 1 1 1 1 1 1 1 1 1 1 1 1 1 1 0.800000011920929 0.800000011920929 0.800000011920929 0.800000011920929 0.800000011920929 0.800000011920929 0.800000011920929 0.800000011920929 3 3 0 0 0 0 0 0 0 0 0 0 0 0 0 0;0 0 0 0 0 0 0 0 0 0 0 0 0 0 0 0 0 0 0 0 0 0 0 0 0 0 0 0 0 0 0 3 3 3 3 3 3 3 3 3 3 0 0 0 0 0 0 0 0 0 0 0 0 0 0 0 0 0 0 0 0 0 0 0 3 3 1 1 1 1 1 1 1 1 1 1 1 1 1 1 1 1 1 1 1 1 1 0.800000011920929 0.800000011920929 0.800000011920929 0.800000011920929 0.800000011920929 0.800000011920929 0.800000011920929 0.800000011920929 0.800000011920929 1 1 1 1 1 1 1 1 1 1 1 1 1 1 1 1 1 1 1 1 1 1 1 1 1 1 1 1 1 0.800000011920929 0.800000011920929 0.800000011920929 0.800000011920929 0.800000011920929 0.800000011920929 0.800000011920929 0.800000011920929 0.800000011920929 3 3 0 0 0 0 0 0 0 0 0 0 0 0 0 0;0 0 0 0 0 0 0 0 0 0 0 0 0 0 0 0 0 0 0 0 0 0 0 0 0 0 0 0 0 0 0 3 3 3 3 3 3 3 3 3 3 0 0 0 0 0 0 0 0 0 0 0 0 0 0 0 0 0 0 0 0 0 0 3 3 1 1 1 1 1 1 1 1 1 1 1 1 1 1 1 1 1 1 1 1 1 1 0.800000011920929 0.800000011920929 0.800000011920929 0.800000011920929 0.800000011920929 0.800000011920929 0.800000011920929 0.800000011920929 0.800000011920929 0.800000011920929 1 1 1 1 1 1 1 1 1 1 1 1 1 1 1 1 1 1 1 1 1 1 1 1 1 1 1 1 0.800000011920929 0.800000011920929 0.800000011920929 0.800000011920929 0.800000011920929 0.800000011920929 0.800000011920929 0.800000011920929 0.800000011920929 3 3 0 0 0 0 0 0 0 0 0 0 0 0 0 0;0 0 0 0 0 0 0 0 0 0 0 0 0 0 0 0 0 0 0 0 0 0 0 0 0 0 0 0 0 0 0 3 3 3 3 3 3 3 3 3 0 0 0 0 0 0 0 0 0 0 0 0 0 0 0 0 0 0 0 0 0 0 0 3 3 1 1 1 1 1 1 1 1 1 1 1 1 1 1 1 1 1 1 1 1 1 1 0.800000011920929 0.800000011920929 0.800000011920929 0.800000011920929 0.800000011920929 0.800000011920929 0.800000011920929 0.800000011920929 0.800000011920929 0.800000011920929 1 1 1 1 1 1 1 1 1 1 1 1 1 1 1 1 1 1 1 1 1 1 1 1 1 1 1 1 0.800000011920929 0.800000011920929 0.800000011920929 0.800000011920929 0.800000011920929 0.800000011920929 0.800000011920929 0.800000011920929 0.800000011920929 3 0 0 0 0 0 0 0 0 0 0 0 0 0 0 0;0 0 0 0 0 0 0 0 0 0 0 0 0 0 0 0 0 0 0 0 0 0 0 0 0 0 0 0 0 0 0 3 3 3 3 3 3 3 3 3 0 0 0 0 0 0 0 0 0 0 0 0 0 0 0 0 0 0 0 0 0 0 3 3 1 1 1 1 1 1 1 1 1 1 1 1 1 1 1 1 1 1 1 1 1 1 1 1 0.800000011920929 0.800000011920929 0.800000011920929 0.800000011920929 0.800000011920929 0.800000011920929 0.800000011920929 0.800000011920929 0.800000011920929 1 1 1 1 1 1 1 1 1 1 1 1 1 1 1 1 1 1 1 1 1 1 1 1 1 1 1 0.800000011920929 0.800000011920929 0.800000011920929 0.800000011920929 0.800000011920929 0.800000011920929 0.800000011920929 0.800000011920929 0.800000011920929 0.800000011920929 3 0 0 0 0 0 0 0 0 0 0 0 0 0 0 0;0 0 0 0 0 0 0 0 0 0 0 0 0 0 0 0 0 0 0 0 0 0 0 0 0 0 0 0 0 0 0 3 3 3 3 3 3 3 3 3 0 0 0 0 0 0 0 0 0 0 0 0 0 0 0 0 0 0 0 0 0 0 3 1 1 1 1 1 1 1 1 1 1 1 1 1 1 1 1 1 1 1 1 1 1 1 1 1 0.800000011920929 0.800000011920929 0.800000011920929 0.800000011920929 0.800000011920929 0.800000011920929 0.800000011920929 0.800000011920929 0.800000011920929 1 1 1 1 1 1 1 1 1 1 1 1 1 1 1 1 1 1 1 1 1 1 1 1 1 1 1 0.800000011920929 0.800000011920929 0.800000011920929 0.800000011920929 0.800000011920929 0.800000011920929 0.800000011920929 0.800000011920929 0.800000011920929 3 3 0 0 0 0 0 0 0 0 0 0 0 0 0 0 0;0 0 0 0 0 0 0 0 0 0 0 0 0 0 0 0 0 0 0 0 0 0 0 0 0 0 0 0 0 0 0 3 3 3 3 3 3 3 3 3 0 0 0 0 0 0 0 0 0 0 0 0 0 0 0 0 0 0 0 0 0 3 3 1 1 1 1 1 1 1 1 1 1 1 1 1 1 1 1 1 1 1 1 1 1 1 1 1 1 0.800000011920929 0.800000011920929 0.800000011920929 0.800000011920929 0.800000011920929 0.800000011920929 0.800000011920929 0.800000011920929 0.800000011920929 1 1 1 1 1 1 1 1 1 1 1 1 1 1 1 1 1 1 1 1 1 1 1 1 1 1 0.800000011920929 0.800000011920929 0.800000011920929 0.800000011920929 0.800000011920929 0.800000011920929 0.800000011920929 0.800000011920929 0.800000011920929 3 0 0 0 0 0 0 0 0 0 0 0 0 0 0 0 0;0 0 0 0 0 0 0 0 0 0 0 0 0 0 0 0 0 0 0 0 0 0 0 0 0 0 0 0 0 0 0 3 3 3 3 3 3 3 3 3 0 0 0 0 0 0 0 0 0 0 0 0 0 0 0 0 0 0 0 0 0 3 1 1 1 1 1 1 1 1 1 1 1 1 1 1 1 1 1 1 1 1 1 1 1 1 1 1 1 0.800000011920929 0.800000011920929 0.800000011920929 0.800000011920929 0.800000011920929 0.800000011920929 0.800000011920929 0.800000011920929 0.800000011920929 0.800000011920929 1 1 1 1 1 1 1 1 1 1 1 1 1 1 1 1 1 1 1 1 1 1 1 1 0.800000011920929 0.800000011920929 0.800000011920929 0.800000011920929 0.800000011920929 0.800000011920929 0.800000011920929 0.800000011920929 0.800000011920929 0.800000011920929 3 0 0 0 0 0 0 0 0 0 0 0 0 0 0 0 0;0 0 0 0 0 0 0 0 0 0 0 0 0 0 0 0 0 0 0 0 0 0 0 0 0 0 0 0 0 0 0 3 3 3 3 3 3 3 3 0 0 0 0 0 0 0 0 0 0 0 0 0 0 0 0 0 0 0 0 0 3 3 1 1 1 1 1 1 1 1 1 1 1 1 1 1 1 1 1 1 1 1 1 1 1 1 1 1 1 0.800000011920929 0.800000011920929 0.800000011920929 0.800000011920929 0.800000011920929 0.800000011920929 0.800000011920929 0.800000011920929 0.800000011920929 0.800000011920929 0.800000011920929 1 1 1 1 1 1 1 1 1 1 1 1 1 1 1 1 1 1 1 1 1 1 0.800000011920929 0.800000011920929 0.800000011920929 0.800000011920929 0.800000011920929 0.800000011920929 0.800000011920929 0.800000011920929 0.800000011920929 0.800000011920929 3 3 0 0 0 0 0 0 0 0 0 0 0 0 0 0 0 0;0 0 0 0 0 0 0 0 0 0 0 0 0 0 0 0 0 0 0 0 0 0 0 0 0 0 0 0 0 0 0 3 3 3 3 3 3 3 3 0 0 0 0 0 0 0 0 0 0 0 0 0 0 0 0 0 0 0 0 0 3 1 1 1 1 1 1 1 1 1 1 1 1 1 1 1 1 1 1 1 1 1 1 1 1 1 1 1 1 1 0.800000011920929 0.800000011920929 0.800000011920929 0.800000011920929 0.800000011920929 0.800000011920929 0.800000011920929 0.800000011920929 0.800000011920929 0.800000011920929 0.800000011920929 1 1 1 1 1 1 1 1 1 1 1 1 1 1 1 1 1 1 1 1 0.800000011920929 0.800000011920929 0.800000011920929 0.800000011920929 0.800000011920929 0.800000011920929 0.800000011920929 0.800000011920929 0.800000011920929 0.800000011920929 3 3 0 0 0 0 0 0 0 0 0 0 0 0 0 0 0 0 0;0 0 0 0 0 0 0 0 0 0 0 0 0 0 0 0 0 0 0 0 0 0 0 0 0 0 0 0 0 0 0 3 3 3 3 3 3 3 3 0 0 0 0 0 0 0 0 0 0 0 0 0 0 0 0 0 0 0 0 0 3 1 1 1 1 1 1 1 1 1 1 1 1 1 1 1 1 1 1 1 1 1 1 1 1 1 1 1 1 1 0.800000011920929 0.800000011920929 0.800000011920929 0.800000011920929 0.800000011920929 0.800000011920929 0.800000011920929 0.800000011920929 0.800000011920929 0.800000011920929 0.800000011920929 0.800000011920929 1 1 1 1 1 1 1 1 1 1 1 1 1 1 1 1 1 1 0.800000011920929 0.800000011920929 0.800000011920929 0.800000011920929 0.800000011920929 0.800000011920929 0.800000011920929 0.800000011920929 0.800000011920929 0.800000011920929 0.800000011920929 3 3 0 0 0 0 0 0 0 0 0 0 0 0 0 0 0 0 0;0 0 0 0 0 0 0 0 0 0 0 0 0 0 0 0 0 0 0 0 0 0 0 0 0 0 0 0 0 0 0 3 3 3 3 3 3 3 3 0 0 0 0 0 0 0 0 0 0 0 0 0 0 0 0 0 0 0 0 3 3 1 1 1 1 1 1 1 1 1 1 1 1 1 1 1 1 1 1 1 1 1 1 1 1 1 1 1 1 1 1 0.800000011920929 0.800000011920929 0.800000011920929 0.800000011920929 0.800000011920929 0.800000011920929 0.800000011920929 0.800000011920929 0.800000011920929 0.800000011920929 0.800000011920929 0.800000011920929 1 1 1 1 1 1 1 1 1 1 1 1 1 1 1 1 0.800000011920929 0.800000011920929 0.800000011920929 0.800000011920929 0.800000011920929 0.800000011920929 0.800000011920929 0.800000011920929 0.800000011920929 0.800000011920929 0.800000011920929 0.800000011920929 3 3 0 0 0 0 0 0 0 0 0 0 0 0 0 0 0 0 0;0 0 0 0 0 0 0 0 0 0 0 0 0 0 0 0 0 0 0 0 0 0 0 0 0 0 0 0 0 0 0 3 3 3 3 3 3 3 3 0 0 0 0 0 0 0 0 0 0 0 0 0 0 0 0 0 0 0 0 3 3 1 1 1 1 1 1 1 1 1 1 1 1 1 1 1 1 1 1 1 1 1 1 1 1 1 1 1 1 1 1 1 0.800000011920929 0.800000011920929 0.800000011920929 0.800000011920929 0.800000011920929 0.800000011920929 0.800000011920929 0.800000011920929 0.800000011920929 0.800000011920929 0.800000011920929 0.800000011920929 0.800000011920929 0.800000011920929 1 1 1 1 1 1 1 1 1 1 0.800000011920929 0.800000011920929 0.800000011920929 0.800000011920929 0.800000011920929 0.800000011920929 0.800000011920929 0.800000011920929 0.800000011920929 0.800000011920929 0.800000011920929 0.800000011920929 0.800000011920929 0.800000011920929 3 3 0 0 0 0 0 0 0 0 0 0 0 0 0 0 0 0 0 0;0 0 0 0 0 0 0 0 0 0 0 0 0 0 0 0 0 0 0 0 0 0 0 0 0 0 0 0 0 0 3 3 3 3 3 3 3 3 3 0 0 0 0 0 0 0 0 0 0 0 0 0 0 0 0 0 0 0 0 3 3 1 1 1 1 1 1 1 1 1 1 1 1 1 1 1 1 1 1 1 1 1 1 1 1 1 1 1 1 1 1 1 0.800000011920929 0.800000011920929 0.800000011920929 0.800000011920929 0.800000011920929 0.800000011920929 0.800000011920929 0.800000011920929 0.800000011920929 0.800000011920929 0.800000011920929 0.800000011920929 0.800000011920929 0.800000011920929 0.800000011920929 1 1 1 1 1 1 1 0.800000011920929 0.800000011920929 0.800000011920929 0.800000011920929 0.800000011920929 0.800000011920929 0.800000011920929 0.800000011920929 0.800000011920929 0.800000011920929 0.800000011920929 0.800000011920929 0.800000011920929 0.800000011920929 0.800000011920929 0.800000011920929 3 0 0 0 0 0 0 0 0 0 0 0 0 0 0 0 0 0 0 0;0 0 0 0 0 0 0 0 0 0 0 0 0 0 0 0 0 0 0 0 0 0 0 0 0 0 0 0 0 0 3 3 3 3 3 3 3 3 3 0 0 0 0 0 0 0 0 0 0 0 0 0 0 0 0 0 0 0 0 3 1 1 1 1 1 1 1 1 1 1 1 1 1 1 1 1 1 1 1 1 1 1 1 1 1 1 1 1 1 1 1 1 1 0.800000011920929 0.800000011920929 0.800000011920929 0.800000011920929 0.800000011920929 0.800000011920929 0.800000011920929 0.800000011920929 0.800000011920929 0.800000011920929 0.800000011920929 0.800000011920929 0.800000011920929 0.800000011920929 0.800000011920929 0.800000011920929 0.800000011920929 0.800000011920929 0.800000011920929 0.800000011920929 0.800000011920929 0.800000011920929 0.800000011920929 0.800000011920929 0.800000011920929 0.800000011920929 0.800000011920929 0.800000011920929 0.800000011920929 0.800000011920929 0.800000011920929 0.800000011920929 0.800000011920929 0.800000011920929 0.800000011920929 3 3 3 0 0 0 0 0 0 0 0 0 0 0 0 0 0 0 0 0 0 0;0 0 0 0 0 0 0 0 0 0 0 0 0 0 0 0 0 0 0 0 0 0 0 0 0 0 0 0 0 0 3 3 3 3 3 3 3 3 3 0 0 0 0 0 0 0 0 0 0 0 0 0 0 0 0 0 0 0 0 3 1 1 1 1 1 1 1 1 1 1 1 1 1 1 1 1 1 1 1 1 1 1 1 1 1 1 1 1 1 1 1 1 1 1 0.800000011920929 0.800000011920929 0.800000011920929 0.800000011920929 0.800000011920929 0.800000011920929 0.800000011920929 0.800000011920929 0.800000011920929 0.800000011920929 0.800000011920929 0.800000011920929 0.800000011920929 0.800000011920929 0.800000011920929 0.800000011920929 0.800000011920929 0.800000011920929 0.800000011920929 0.800000011920929 0.800000011920929 0.800000011920929 0.800000011920929 0.800000011920929 0.800000011920929 0.800000011920929 0.800000011920929 0.800000011920929 0.800000011920929 0.800000011920929 0.800000011920929 0.800000011920929 0.800000011920929 3 3 3 0 0 0 0 0 0 0 0 0 0 0 0 0 0 0 0 0 0.699999988079071 0.699999988079071 0.699999988079071;0 0 0 0 0 0 0 0 0 0 0 0 0 0 0 0 0 0 0 0 0 0 0 0 0 0 0 0 0 0 3 3 3 3 3 3 3 3 3 0 0 0 0 0 0 0 0 0 0 0 0 0 0 0 0 0 0 0 0 3 1 1 1 1 1 1 1 1 1 1 1 1 1 1 1 1 1 1 1 1 1 1 1 1 1 1 1 1 1 1 1 1 1 1 1 0.800000011920929 0.800000011920929 0.800000011920929 0.800000011920929 0.800000011920929 0.800000011920929 0.800000011920929 0.800000011920929 0.800000011920929 0.800000011920929 0.800000011920929 0.800000011920929 0.800000011920929 0.800000011920929 0.800000011920929 0.800000011920929 0.800000011920929 0.800000011920929 0.800000011920929 0.800000011920929 0.800000011920929 0.800000011920929 0.800000011920929 0.800000011920929 0.800000011920929 0.800000011920929 0.800000011920929 0.800000011920929 0.800000011920929 0.800000011920929 0.800000011920929 0.800000011920929 3 3 0 0 0 0 0 0 0 0 0 0 0 0 0 0 0 0 0.699999988079071 0.699999988079071 0.699999988079071 0.699999988079071 0.699999988079071;0 0 0 0 0 0 0 0 0 0 0 0 0 0 0 0 0 0 0 0 0 0 0 0 0 0 0 0 0 0 3 3 3 3 3 3 3 3 3 0 0 0 0 0 0 0 0 0 0 0 0 0 0 0 0 0 0 0 3 3 1 1 1 1 1 1 1 1 1 1 1 1 1 1 1 1 1 1 1 1 1 1 1 1 1 1 1 1 1 1 1 1 1 1 1 1 0.800000011920929 0.800000011920929 0.800000011920929 0.800000011920929 0.800000011920929 0.800000011920929 0.800000011920929 0.800000011920929 0.800000011920929 0.800000011920929 0.800000011920929 0.800000011920929 0.800000011920929 0.800000011920929 0.800000011920929 0.800000011920929 0.800000011920929 0.800000011920929 0.800000011920929 0.800000011920929 0.800000011920929 0.800000011920929 0.800000011920929 0.800000011920929 0.800000011920929 0.800000011920929 0.800000011920929 0.800000011920929 0.800000011920929 0.800000011920929 3 3 0 0 0 0 0 0 0 0 0 0 0 0 0 0 0 0.699999988079071 0.699999988079071 0.699999988079071 0.699999988079071 0.699999988079071 0.699999988079071 0.699999988079071;0 0 0 0 0 0 0 0 0 0 0 0 0 0 0 0 0 0 0 0 0 0 0 0 0 0 0 0 0 0 3 3 3 3 3 3 3 3 3 0 0 0 0 0 0 0 0 0 0 0 0 0 0 0 0 0 0 0 3 1 1 1 1 1 1 1 1 1 1 1 1 1 1 1 1 1 1 1 1 1 1 1 1 1 1 1 1 1 1 1 1 1 1 1 1 1 1 1 0.800000011920929 0.800000011920929 0.800000011920929 0.800000011920929 0.800000011920929 0.800000011920929 0.800000011920929 0.800000011920929 0.800000011920929 0.800000011920929 0.800000011920929 0.800000011920929 0.800000011920929 0.800000011920929 0.800000011920929 0.800000011920929 0.800000011920929 0.800000011920929 0.800000011920929 0.800000011920929 0.800000011920929 0.800000011920929 0.800000011920929 0.800000011920929 0.800000011920929 0.800000011920929 3 3 3 0 0 0 0 0 0 0 0 0 0 0 0 0 0.699999988079071 0.699999988079071 0.699999988079071 0.699999988079071 0.699999988079071 0.699999988079071 0.699999988079071 0.699999988079071 0.699999988079071 0.699999988079071;0 0 0 0 0 0 0 0 0 0 0 0 0 0 0 0 0 0 0 0 0 0 0 0 0 0 0 0 0 0 3 3 3 3 3 3 3 3 3 0 0 0 0 0 0 0 0 0 0 0 0 0 0 0 0 0 0 0 3 1 1 1 1 1 1 1 1 1 1 1 1 1 1 1 1 1 1 1 1 1 1 1 1 1 1 1 1 1 1 1 1 1 1 1 1 1 1 1 1 1 0.800000011920929 0.800000011920929 0.800000011920929 0.800000011920929 0.800000011920929 0.800000011920929 0.800000011920929 0.800000011920929 0.800000011920929 0.800000011920929 0.800000011920929 0.800000011920929 0.800000011920929 0.800000011920929 0.800000011920929 0.800000011920929 0.800000011920929 0.800000011920929 0.800000011920929 0.800000011920929 0.800000011920929 0.800000011920929 3 3 3 0 0 0 0 0 0 0 0 0 0 0 0 0 0.699999988079071 0.699999988079071 0.699999988079071 0.699999988079071 0.699999988079071 0.699999988079071 0.699999988079071 0.699999988079071 0.699999988079071 0.699999988079071 0.699999988079071 0.699999988079071;0 0 0 0 0 0 0 0 0 0 0 0 0 0 0 0 0 0 0 0 0 0 0 0 0 0 0 0 0 3 3 3 3 3 3 3 3 3 3 0 0 0 0 0 0 0 0 0 0 0 0 0 0 0 0 0 0 0 3 1 1 1 1 1 1 1 1 1 1 1 1 1 1 1 1 1 1 1 1 1 1 1 1 1 1 1 1 1 1 1 1 1 1 1 1 1 1 1 1 1 1 0.800000011920929 0.800000011920929 0.800000011920929 0.800000011920929 0.800000011920929 0.800000011920929 0.800000011920929 0.800000011920929 0.800000011920929 0.800000011920929 0.800000011920929 0.800000011920929 0.800000011920929 0.800000011920929 0.800000011920929 0.800000011920929 0.800000011920929 0.800000011920929 0.800000011920929 0.800000011920929 3 3 3 0 0 0 0 0 0 0 0 0 0 0 0 0 0.699999988079071 0.699999988079071 0.699999988079071 0.699999988079071 0.699999988079071 0.699999988079071 0.699999988079071 0.699999988079071 0.699999988079071 0.699999988079071 0.699999988079071 0.699999988079071 0.699999988079071;0 0 0 0 0 0 0 0 0 0 0 0 0 0 0 0 0 0 0 0 0 0 0 0 0 0 0 0 0 3 3 3 3 3 3 3 3 3 3 0 0 0 0 0 0 0 0 0 0 0 0 0 0 0 0 0 0 0 3 1 1 1 1 1 1 1 1 1 1 1 1 1 1 1 1 1 1 1 1 1 1 1 1 1 1 1 1 1 1 1 1 1 1 1 1 1 1 1 1 1 1 1 1 1 0.800000011920929 0.800000011920929 0.800000011920929 0.800000011920929 0.800000011920929 0.800000011920929 0.800000011920929 0.800000011920929 0.800000011920929 0.800000011920929 0.800000011920929 0.800000011920929 0.800000011920929 1 1 1 3 3 0 0 0 0 0 0 0 0 0 0 0 0 0.699999988079071 0.699999988079071 0.699999988079071 0.699999988079071 0.699999988079071 0.699999988079071 0.699999988079071 0.699999988079071 0.699999988079071 0.699999988079071 0.699999988079071 0.699999988079071 0.699999988079071 0.699999988079071 0.699999988079071 0.699999988079071;0 0 0 0 0 0 0 0 0 0 0 0 0 0 0 0 0 0 0 0 0 0 0 0 0 0 0 0 0 3 3 3 3 3 3 3 3 3 0 0 0 0 0 0 0 0 0 0 0 0 0 0 0 0 0 0 0 0 3 1 1 1 1 1 1 1 1 1 1 1 1 1 1 1 1 1 1 1 1 1 1 1 1 1 1 1 1 1 1 1 1 1 1 1 1 1 1 1 1 1 1 1 1 1 1 1 1 1 1 1 1 1 1 1 1 1 1 1 1 3 3 0 0 0 0 0 0 0 0 0 0 0.699999988079071 0.699999988079071 0.699999988079071 0.699999988079071 0.699999988079071 0.699999988079071 0.699999988079071 0.699999988079071 0.699999988079071 0.699999988079071 0.699999988079071 0.699999988079071 0.699999988079071 0.699999988079071 0.699999988079071 0.699999988079071 0.699999988079071 0.699999988079071 0.699999988079071;0 0 0 0 0 0 0 0 0 0 0 0 0 0 0 0 0 0 0 0 0 0 0 0 0 0 0 0 0 3 3 3 3 3 3 3 3 3 0.699999988079071 0 0 0 0 0 0 0 0 0 0 0 0 0 0 0 0 0 0 0 3 3 1 1 1 1 1 1 1 1 1 1 1 1 1 1 1 1 1 1 1 1 1 1 1 1 1 1 1 1 1 1 1 1 1 1 1 1 1 1 1 1 1 1 1 1 1 1 1 1 1 1 1 1 1 1 1 1 1 1 1 3 3 0 0 0 0 0 0 0 0 0 0.699999988079071 0.699999988079071 0.699999988079071 0.699999988079071 0.699999988079071 0.699999988079071 0.699999988079071 0.699999988079071 0.699999988079071 0.699999988079071 0.699999988079071 0.699999988079071 0.699999988079071 0.699999988079071 0.699999988079071 0.699999988079071 0.699999988079071 0.699999988079071 0.699999988079071 0.699999988079071;0 0 0 0 0 0 0 0 0 0 0 0 0 0 0 0 0 0 0 0 0 0 0 0 0 0 0 0 0 3 3 3 3 3 3 3 3 3 0.699999988079071 0.699999988079071 0.699999988079071 0.699999988079071 0 0 0 0 0 0 0 0 0 0 0 0 0 0 0 0 0 3 1 1 1 1 1 1 1 1 1 1 1 1 1 1 1 1 1 1 1 1 1 1 1 1 1 1 1 1 1 1 1 1 1 1 1 1 1 1 1 1 1 1 1 1 1 1 1 1 1 1 1 1 1 1 1 1 1 3 3 3 0 0 0 0 0 0 0 0 0.699999988079071 0.699999988079071 0.699999988079071 0.699999988079071 0.699999988079071 0.699999988079071 0.699999988079071 0.699999988079071 0.699999988079071 0.699999988079071 0.699999988079071 0.699999988079071 0.699999988079071 0.699999988079071 0.699999988079071 0.699999988079071 0.699999988079071 0.699999988079071 0.699999988079071 0.699999988079071 0.699999988079071 0.699999988079071;0 0 0 0 0 0 0 0 0 0 0 0 0 0 0 0 0 0 0 0 0 0 0 0 0 0 0 0 0 3 3 3 3 3 3 3 3 3 0.699999988079071 0.699999988079071 0.699999988079071 0.699999988079071 0.699999988079071 0.699999988079071 0.699999988079071 0 0 0 0 0 0 0 0 0 0 0 0 0 0 3 1 1 1 1 1 1 1 1 1 1 1 1 1 1 1 1 1 1 1 1 1 1 1 1 1 1 1 1 1 1 1 1 1 1 1 1 1 1 1 1 1 1 1 1 1 1 1 1 1 1 1 1 1 1 1 1 3 3 3 0 0 0 0 0 0 0 0.699999988079071 0.699999988079071 0.699999988079071 0.699999988079071 0.699999988079071 0.699999988079071 0.699999988079071 0.699999988079071 0.699999988079071 0.699999988079071 0.699999988079071 0.699999988079071 0.699999988079071 0.699999988079071 0.699999988079071 0.699999988079071 0.699999988079071 0.699999988079071 0.699999988079071 0.699999988079071 0.699999988079071 0.699999988079071 0.699999988079071 0.699999988079071;0 0 0 0 0 0 0 0 0 0 0 0 0 0 0 0 0 0 0 0 0 0 0 0 0 0 0 0 0 3 3 3 3 3 3 3 3 3 0.699999988079071 0.699999988079071 0.699999988079071 0.699999988079071 0.699999988079071 0.699999988079071 0.699999988079071 0.699999988079071 0 0 0 0 0 0 0 0 0 0 0 0 0 3 3 1 1 1 1 1 1 1 1 1 1 1 1 1 1 1 1 1 1 1 1 1 1 1 1 1 1 1 1 1 1 1 1 1 1 1 1 1 1 1 1 1 1 1 1 1 1 1 1 1 1 1 1 1 1 3 3 0 0 0 0 0 0 0.699999988079071 0.699999988079071 0.699999988079071 0.699999988079071 0.699999988079071 0.699999988079071 0.699999988079071 0.699999988079071 0.699999988079071 0.699999988079071 0.699999988079071 0.699999988079071 0.699999988079071 0.699999988079071 0.699999988079071 0.699999988079071 0.699999988079071 0.699999988079071 0.699999988079071 0.699999988079071 0.699999988079071 0.699999988079071 0.699999988079071 0.699999988079071 0.699999988079071 0.699999988079071 0.699999988079071;0 0 0 0 0 0 0 0 0 0 0 0 0 0 0 0 0 0 0 0 0 0 0 0 0 0 0 0 0 3 3 3 3 3 3 3 3 3 0.699999988079071 0.699999988079071 0.699999988079071 0.699999988079071 0.699999988079071 0.699999988079071 0.699999988079071 0.699999988079071 0.699999988079071 0.699999988079071 0 0 0 0 0 0 0 0 0 0 0 3 3 1 1 1 1 1 1 1 1 1 1 1 1 1 1 1 1 1 1 1 1 1 1 1 1 1 1 1 1 1 1 1 1 1 1 1 1 1 1 1 1 1 1 1 1 1 1 1 1 1 1 1 1 1 3 3 3 0 0 0 0 0 0.699999988079071 0.699999988079071 0.699999988079071 0.699999988079071 0.699999988079071 0.699999988079071 0.699999988079071 0.699999988079071 0.699999988079071 0.699999988079071 0.699999988079071 0.699999988079071 0.699999988079071 0.699999988079071 0.699999988079071 0.699999988079071 0.699999988079071 0.699999988079071 0.699999988079071 0.699999988079071 0.699999988079071 0.699999988079071 0.699999988079071 0.699999988079071 0.699999988079071 0.699999988079071 0.699999988079071 0.699999988079071;0 0 0 0 0 0 0 0 0 0 0 0 0 0 0 0 0 0 0 0 0 0 0 0 0 0 0 0 0 3 3 3 3 3 3 3 3 3 0.699999988079071 0.699999988079071 0.699999988079071 0.699999988079071 0.699999988079071 0.699999988079071 0.699999988079071 0.699999988079071 0.699999988079071 0.699999988079071 0.699999988079071 0.699999988079071 0 0 0 0 0 0 0 0 0 3 3 1 1 1 1 1 1 1 1 1 1 1 1 1 1 1 1 1 1 1 1 1 1 1 1 1 1 1 1 1 1 1 1 1 1 1 1 1 1 1 1 1 1 1 1 1 1 1 1 1 1 1 1 3 3 3 0 0 0 0 0.699999988079071 0.699999988079071 0.699999988079071 0.699999988079071 0.699999988079071 0.699999988079071 0.699999988079071 0.699999988079071 0.699999988079071 0.699999988079071 0.699999988079071 0.699999988079071 0.699999988079071 0.699999988079071 0.699999988079071 0.699999988079071 0.699999988079071 0.699999988079071 0.699999988079071 0.699999988079071 0.699999988079071 0.699999988079071 0.699999988079071 0.699999988079071 0.699999988079071 0.699999988079071 0.699999988079071 0.699999988079071 0.699999988079071 0.699999988079071;0 0 0 0 0 0 0 0 0 0 0 0 0 0 0 0 0 0 0 0 0 0 0 0 0 0 0 0 0 3 3 3 3 3 3 3 3 3 0.699999988079071 0.699999988079071 0.699999988079071 0.699999988079071 0.699999988079071 0.699999988079071 0.699999988079071 0.699999988079071 0.699999988079071 0.699999988079071 0.699999988079071 0.699999988079071 0.699999988079071 0.699999988079071 0 0 0 0 0 0 0 0 3 3 1 1 1 1 1 1 1 1 1 1 1 1 1 1 1 1 1 1 1 1 1 1 1 1 1 1 1 1 1 1 1 1 1 1 1 1 1 1 1 1 1 1 1 1 1 1 1 1 1 1 3 3 0 0 0 0 0.699999988079071 0.699999988079071 0.699999988079071 0.699999988079071 0.699999988079071 0.699999988079071 0.699999988079071 0.699999988079071 0.699999988079071 0.699999988079071 0.699999988079071 0.699999988079071 0.699999988079071 0.699999988079071 0.699999988079071 0.699999988079071 0.699999988079071 0.699999988079071 0.699999988079071 0.699999988079071 0.699999988079071 0.699999988079071 0.699999988079071 0.699999988079071 0.699999988079071 0.699999988079071 0.699999988079071 0.699999988079071 0.699999988079071 0.699999988079071 0.699999988079071 0.699999988079071;0 0 0 0 0 0 0 0 0 0 0 0 0 0 0 0 0 0 0 0 0 0 0 0 0 0 0 0 0 3 3 3 3 3 3 3 3 3 0.699999988079071 0.699999988079071 0.699999988079071 0.699999988079071 0.699999988079071 0.699999988079071 0.699999988079071 0.699999988079071 0.699999988079071 0.699999988079071 0.699999988079071 0.699999988079071 0.699999988079071 0.699999988079071 0.699999988079071 0 0 0 0 0 0 0 0 3 1 1 1 1 1 1 1 1 1 1 1 1 1 1 1 1 1 1 1 1 1 1 1 1 1 1 1 1 1 1 1 1 1 1 1 1 1 1 1 1 1 1 1 1 1 1 1 1 1 3 3 3 0 0 0 0.699999988079071 0.699999988079071 0.699999988079071 0.699999988079071 0.699999988079071 0.699999988079071 0.699999988079071 0.699999988079071 0.699999988079071 0.699999988079071 0.699999988079071 0.699999988079071 0.699999988079071 0.699999988079071 0.699999988079071 0.699999988079071 0.699999988079071 0.699999988079071 0.699999988079071 0.699999988079071 0.699999988079071 0.699999988079071 0.699999988079071 0.699999988079071 0.699999988079071 0.699999988079071 0.699999988079071 0.699999988079071 0.699999988079071 0.699999988079071 0.699999988079071 0.699999988079071 0.699999988079071;0 0 0 0 0 0 0 0 0 0 0 0 0 0 0 0 0 0 0 0 0 0 0 0 0 0 0 0 0 3 3 3 3 3 3 3 3 3 0.699999988079071 0.699999988079071 0.699999988079071 0.699999988079071 0.699999988079071 0.699999988079071 0.699999988079071 0.699999988079071 0.699999988079071 0.699999988079071 0.699999988079071 0.699999988079071 0.699999988079071 0.699999988079071 0.699999988079071 0.699999988079071 0.699999988079071 0 0 0 0 0 0 3 3 1 1 1 1 1 1 1 1 1 1 1 1 1 1 1 1 1 1 1 1 1 1 1 1 1 1 1 1 1 1 1 1 1 1 1 1 1 1 1 1 1 1 1 1 1 1 3 3 3 0 0 0.699999988079071 0.699999988079071 0.699999988079071 0.699999988079071 0.699999988079071 0.699999988079071 0.699999988079071 0.699999988079071 0.699999988079071 0.699999988079071 0.699999988079071 0.699999988079071 0.699999988079071 0.699999988079071 0.699999988079071 0.699999988079071 0.699999988079071 0.699999988079071 0.699999988079071 0.699999988079071 0.699999988079071 0.699999988079071 0.699999988079071 0.699999988079071 0.699999988079071 0.699999988079071 0.699999988079071 0.699999988079071 0.699999988079071 0.699999988079071 0.699999988079071 0.699999988079071 0.699999988079071 0.699999988079071 0.699999988079071 0.699999988079071;0 0 0 0 0 0 0 0 0 0 0 0 0 0 0 0 0 0 0 0 0 0 0 0 0 0 0 0 0 3 3 3 3 3 3 3 3 3 0.699999988079071 0.699999988079071 0.699999988079071 0.699999988079071 0.699999988079071 0.699999988079071 0.699999988079071 0.699999988079071 0.699999988079071 0.699999988079071 0.699999988079071 0.699999988079071 0.699999988079071 0.699999988079071 0.699999988079071 0.699999988079071 0.699999988079071 0.699999988079071 0 0 0 0 0 0 3 3 1 1 1 1 1 1 1 1 1 1 1 1 1 1 1 1 1 1 1 1 1 1 1 1 1 1 1 1 1 1 1 1 1 1 1 1 1 1 1 1 1 1 1 3 3 3 0 0 0 0.699999988079071 0.699999988079071 0.699999988079071 0.699999988079071 0.699999988079071 0.699999988079071 0.699999988079071 0.699999988079071 0.699999988079071 0.699999988079071 0.699999988079071 0.699999988079071 0.699999988079071 0.699999988079071 0.699999988079071 0.699999988079071 0.699999988079071 0.699999988079071 0.699999988079071 0.699999988079071 0.699999988079071 0.699999988079071 0.699999988079071 0.699999988079071 0.699999988079071 0.699999988079071 0.699999988079071 0.699999988079071 0.699999988079071 0.699999988079071 0.699999988079071 0.699999988079071 0.699999988079071 0.699999988079071 0.699999988079071 0.699999988079071 0.699999988079071;0 0 0 0 0 0 0 0 0 0 0 0 0 0 0 0 0 0 0 0 0 0 0 0 0 0 0 0 0 3 3 3 3 3 3 3 3 3 0.699999988079071 0.699999988079071 0.699999988079071 0.699999988079071 0.699999988079071 0.699999988079071 0.699999988079071 0.699999988079071 0.699999988079071 0.699999988079071 0.699999988079071 0.699999988079071 0.699999988079071 0.699999988079071 0.699999988079071 0.699999988079071 0.699999988079071 0.699999988079071 0.699999988079071 0 0 0 0 0 3 3 1 1 1 1 1 1 1 1 1 1 1 1 1 1 1 1 1 1 1 1 1 1 1 1 1 1 1 1 1 1 1 1 1 1 1 1 1 1 1 1 1 1 1 3 3 0 0 0 0.699999988079071 0.699999988079071 0.699999988079071 0.699999988079071 0.699999988079071 0.699999988079071 0.699999988079071 0.699999988079071 0.699999988079071 0.699999988079071 0.699999988079071 0.699999988079071 0.699999988079071 0.699999988079071 0.699999988079071 0.699999988079071 0.699999988079071 0.699999988079071 0.699999988079071 0.699999988079071 0.699999988079071 0.699999988079071 0.699999988079071 0.699999988079071 0.699999988079071 0.699999988079071 0.699999988079071 0.699999988079071 0.699999988079071 0.699999988079071 0.699999988079071 0.699999988079071 0.699999988079071 0.699999988079071 0.699999988079071 0.699999988079071 0.699999988079071 0.699999988079071;0 0 0 0 0 0 0 0 0 0 0 0 0 0 0 0 0 0 0 0 0 0 0 0 0 0 0 0 0 3 3 3 3 3 3 3 3 3 0.699999988079071 0.699999988079071 0.699999988079071 0.699999988079071 0.699999988079071 0.699999988079071 0.699999988079071 0.699999988079071 0.699999988079071 0.699999988079071 0.699999988079071 0.699999988079071 0.699999988079071 0.699999988079071 0.699999988079071 0.699999988079071 0.699999988079071 0.699999988079071 0.699999988079071 0.699999988079071 0.699999988079071 0 0 0 0 3 3 1 1 1 1 1 1 1 1 1 1 1 1 1 1 1 1 1 1 1 1 1 1 1 1 1 1 1 1 1 1 1 1 1 1 1 1 1 1 1 3 3 3 3 0 0.699999988079071 0.699999988079071 0.699999988079071 0.699999988079071 0.699999988079071 0.699999988079071 0.699999988079071 0.699999988079071 0.699999988079071 0.699999988079071 0.699999988079071 0.699999988079071 0.699999988079071 0.699999988079071 0.699999988079071 0.699999988079071 0.699999988079071 0.699999988079071 0.699999988079071 0.699999988079071 0.699999988079071 0.699999988079071 0.699999988079071 0.699999988079071 0.699999988079071 0.699999988079071 0.699999988079071 0.699999988079071 0.699999988079071 0.699999988079071 0.699999988079071 0.699999988079071 0.699999988079071 0.699999988079071 0.699999988079071 0.699999988079071 0.699999988079071 0.699999988079071 0.699999988079071 0.699999988079071 0.699999988079071;0 0 0 0 0 0 0 0 0 0 0 0 0 0 0 0 0 0 0 0 0 0 0 0 0 0 0 0 0 3 3 3 3 3 3 3 3 3 0.699999988079071 0.699999988079071 0.699999988079071 0.699999988079071 0.699999988079071 0.699999988079071 0.699999988079071 0.699999988079071 0.699999988079071 0.699999988079071 0.699999988079071 0.699999988079071 0.699999988079071 0.699999988079071 0.699999988079071 0.699999988079071 0.699999988079071 0.699999988079071 0.699999988079071 0.699999988079071 0.699999988079071 0.699999988079071 0.699999988079071 0 0 0 3 3 3 1 1 1 1 1 1 1 1 1 1 1 1 1 1 1 1 1 1 1 1 1 1 1 1 1 1 1 1 1 1 1 1 1 1 1 3 3 3 3 0 0.699999988079071 0.699999988079071 0.699999988079071 0.699999988079071 0.699999988079071 0.699999988079071 0.699999988079071 0.699999988079071 0.699999988079071 0.699999988079071 0.699999988079071 0.699999988079071 0.699999988079071 0.699999988079071 0.699999988079071 0.699999988079071 0.699999988079071 0.699999988079071 0.699999988079071 0.699999988079071 0.699999988079071 0.699999988079071 0.699999988079071 0.699999988079071 0.699999988079071 0.699999988079071 0.699999988079071 0.699999988079071 0.699999988079071 0.699999988079071 0.699999988079071 0.699999988079071 0.699999988079071 0.699999988079071 0.699999988079071 0.699999988079071 0.699999988079071 0.699999988079071 0.699999988079071 0.699999988079071 0.699999988079071 0.699999988079071 0.699999988079071;0 0 0 0 0 0 0 0 0 0 0 0 0 0 0 0 0 0 0 0 0 0 0 0 0 0 0 0 0 3 3 3 3 3 3 3 3 3 0.699999988079071 0.699999988079071 0.699999988079071 0.699999988079071 0.699999988079071 0.699999988079071 0.699999988079071 0.699999988079071 0.699999988079071 0.699999988079071 0.699999988079071 0.699999988079071 0.699999988079071 0.699999988079071 0.699999988079071 0.699999988079071 0.699999988079071 0.699999988079071 0.699999988079071 0.699999988079071 0.699999988079071 0.699999988079071 0.699999988079071 0.699999988079071 0 0 0 0 3 3 3 1 1 1 1 1 1 1 1 1 1 1 1 1 1 1 1 1 1 1 1 1 1 1 1 1 1 1 1 1 1 1 3 3 3 0 0 0.699999988079071 0.699999988079071 0.699999988079071 0.699999988079071 0.699999988079071 0.699999988079071 0.699999988079071 0.699999988079071 0.699999988079071 0.699999988079071 0.699999988079071 0.699999988079071 0.699999988079071 0.699999988079071 0.699999988079071 0.699999988079071 0.699999988079071 0.699999988079071 0.699999988079071 0.699999988079071 0.699999988079071 0.699999988079071 0.699999988079071 0.699999988079071 0.699999988079071 0.699999988079071 0.699999988079071 0.699999988079071 0.699999988079071 0.699999988079071 0.699999988079071 0.699999988079071 0.699999988079071 0.699999988079071 0.699999988079071 0.699999988079071 0.699999988079071 0.699999988079071 0.699999988079071 0.699999988079071 0.699999988079071 0.699999988079071 0.699999988079071 0.699999988079071 0.699999988079071;0 0 0 0 0 0 0 0 0 0 0 0 0 0 0 0 0 0 0 0 0 0 0 0 0 0 0 0 0 3 3 3 3 3 3 3 3 3 0.699999988079071 0.699999988079071 0.699999988079071 0.699999988079071 0.699999988079071 0.699999988079071 0.699999988079071 0.699999988079071 0.699999988079071 0.699999988079071 0.699999988079071 0.699999988079071 0.699999988079071 0.699999988079071 0.699999988079071 0.699999988079071 0.699999988079071 0.699999988079071 0.699999988079071 0.699999988079071 0.699999988079071 0.699999988079071 0.699999988079071 0.699999988079071 0.699999988079071 0 0 0 3 3 3 1 1 1 1 1 1 1 1 1 1 1 1 1 1 1 1 1 1 1 1 1 1 1 1 1 1 1 1 1 1 3 3 3 0 0 0.699999988079071 0.699999988079071 0.699999988079071 0.699999988079071 0.699999988079071 0.699999988079071 0.699999988079071 0.699999988079071 0.699999988079071 0.699999988079071 0.699999988079071 0.699999988079071 0.699999988079071 0.699999988079071 0.699999988079071 0.699999988079071 0.699999988079071 0.699999988079071 0.699999988079071 0.699999988079071 0.699999988079071 0.699999988079071 0.699999988079071 0.699999988079071 0.699999988079071 0.699999988079071 0.699999988079071 0.699999988079071 0.699999988079071 0.699999988079071 0.699999988079071 0.699999988079071 0.699999988079071 0.699999988079071 0.699999988079071 0.699999988079071 0.699999988079071 0.699999988079071 0.699999988079071 0.699999988079071 0.699999988079071 0.699999988079071 0.699999988079071 0.699999988079071 0.699999988079071 0.699999988079071;0 0 0 0 0 0 0 0 0 0 0 0 0 0 0 0 0 0 0 0 0 0 0 0 0 0 0 0 0 3 3 3 3 3 3 3 3 3 0.699999988079071 0.699999988079071 0.699999988079071 0.699999988079071 0.699999988079071 0.699999988079071 0.699999988079071 0.699999988079071 0.699999988079071 0.699999988079071 0.699999988079071 0.699999988079071 0.699999988079071 0.699999988079071 0.699999988079071 0.699999988079071 0.699999988079071 0.699999988079071 0.699999988079071 0.699999988079071 0.699999988079071 0.699999988079071 0.699999988079071 0.699999988079071 0.699999988079071 0.699999988079071 0.699999988079071 0 0 0 3 3 3 3 1 1 1 1 1 1 1 1 1 1 1 1 1 1 1 1 1 1 1 1 1 1 1 3 3 3 3 3 0 0 0.699999988079071 0.699999988079071 0.699999988079071 0.699999988079071 0.699999988079071 0.699999988079071 0.699999988079071 0.699999988079071 0.699999988079071 0.699999988079071 0.699999988079071 0.699999988079071 0.699999988079071 0.699999988079071 0.699999988079071 0.699999988079071 0.699999988079071 0.699999988079071 0.699999988079071 0.699999988079071 0.699999988079071 0.699999988079071 0.699999988079071 0.699999988079071 0.699999988079071 0.699999988079071 0.699999988079071 0.699999988079071 0.699999988079071 0.699999988079071 0.699999988079071 0.699999988079071 0.699999988079071 0.699999988079071 0.699999988079071 0.699999988079071 0.699999988079071 0.699999988079071 0.699999988079071 0.699999988079071 0.699999988079071 0.699999988079071 0.699999988079071 0.699999988079071 0.699999988079071 0.699999988079071 0.699999988079071 0.699999988079071;0 0 0 0 0 0 0 0 0 0 0 0 0 0 0 0 0 0 0 0 0 0 0 0 0 0 0 0 0 3 3 3 3 3 3 3 3 3 0.699999988079071 0.699999988079071 0.699999988079071 0.699999988079071 0.699999988079071 0.699999988079071 0.699999988079071 0.699999988079071 0.699999988079071 0.699999988079071 0.699999988079071 0.699999988079071 0.699999988079071 0.699999988079071 0.699999988079071 0.699999988079071 0.699999988079071 0.699999988079071 0.699999988079071 0.699999988079071 0.699999988079071 0.699999988079071 0.699999988079071 0.699999988079071 0.699999988079071 0.699999988079071 0.699999988079071 0.699999988079071 0 0 0 0 3 3 3 3 3 3 1 1 1 1 1 1 1 1 1 1 1 1 1 1 3 3 3 3 3 3 0 0 0 0 0.699999988079071 0.699999988079071 0.699999988079071 0.699999988079071 0.699999988079071 0.699999988079071 0.699999988079071 0.699999988079071 0.699999988079071 0.699999988079071 0.699999988079071 0.699999988079071 0.699999988079071 0.699999988079071 0.699999988079071 0.699999988079071 0.699999988079071 0.699999988079071 0.699999988079071 0.699999988079071 0.699999988079071 0.699999988079071 0.699999988079071 0.699999988079071 0.699999988079071 0.699999988079071 0.699999988079071 0.699999988079071 0.699999988079071 0.699999988079071 0.699999988079071 0.699999988079071 0.699999988079071 0.699999988079071 0.699999988079071 0.699999988079071 0.699999988079071 0.699999988079071 0.699999988079071 0.699999988079071 0.699999988079071 0.699999988079071 0.699999988079071 0.699999988079071 0.699999988079071 0.699999988079071 0.699999988079071 0.699999988079071 0.699999988079071 0.699999988079071;0 0 0 0 0 0 0 0 0 0 0 0 0 0 0 0 0 0 0 0 0 0 0 0 0 0 0 0 0 3 3 3 3 3 3 3 3 3 0.699999988079071 0.699999988079071 0.699999988079071 0.699999988079071 0.699999988079071 0.699999988079071 0.699999988079071 0.699999988079071 0.699999988079071 0.699999988079071 0.699999988079071 0.699999988079071 0.699999988079071 0.699999988079071 0.699999988079071 0.699999988079071 0.699999988079071 0.699999988079071 0.699999988079071 0.699999988079071 0.699999988079071 0.699999988079071 0.699999988079071 0.699999988079071 0.699999988079071 0.699999988079071 0.699999988079071 0.699999988079071 0 0 0 0 0 0 0 3 3 3 3 3 1 1 1 1 1 1 1 1 3 3 3 3 3 3 3 3 0 0 0 0 0 0.699999988079071 0.699999988079071 0.699999988079071 0.699999988079071 0.699999988079071 0.699999988079071 0.699999988079071 0.699999988079071 0.699999988079071 0.699999988079071 0.699999988079071 0.699999988079071 0.699999988079071 0.699999988079071 0.699999988079071 0.699999988079071 0.699999988079071 0.699999988079071 0.699999988079071 0.699999988079071 0.699999988079071 0.699999988079071 0.699999988079071 0.699999988079071 0.699999988079071 0.699999988079071 0.699999988079071 0.699999988079071 0.699999988079071 0.699999988079071 0.699999988079071 0.699999988079071 0.699999988079071 0.699999988079071 0.699999988079071 0.699999988079071 0.699999988079071 0.699999988079071 0.699999988079071 0.699999988079071 0.699999988079071 0.699999988079071 0.699999988079071 0.699999988079071 0.699999988079071 0.699999988079071 0.699999988079071 0.699999988079071 0.699999988079071 0.699999988079071 0.699999988079071;0 0 0 0 0 0 0 0 0 0 0 0 0 0 0 0 0 0 0 0 0 0 0 0 0 0 0 0 0 3 3 3 3 3 3 3 3 3 0.699999988079071 0.699999988079071 0.699999988079071 0.699999988079071 0.699999988079071 0.699999988079071 0.699999988079071 0.699999988079071 0.699999988079071 0.699999988079071 0.699999988079071 0.699999988079071 0.699999988079071 0.699999988079071 0.699999988079071 0.699999988079071 0.699999988079071 0.699999988079071 0.699999988079071 0.699999988079071 0.699999988079071 0.699999988079071 0.699999988079071 0.699999988079071 0.699999988079071 0.699999988079071 0.699999988079071 0.699999988079071 0.699999988079071 0.699999988079071 0 0 0 0 0 0 0 0 0 3 3 3 3 3 3 3 3 3 3 0 0 0 0 0 0 0 0 0 0 0.699999988079071 0.699999988079071 0.699999988079071 0.699999988079071 0.699999988079071 0.699999988079071 0.699999988079071 0.699999988079071 0.699999988079071 0.699999988079071 0.699999988079071 0.699999988079071 0.699999988079071 0.699999988079071 0.699999988079071 0.699999988079071 0.699999988079071 0.699999988079071 0.699999988079071 0.699999988079071 0.699999988079071 0.699999988079071 0.699999988079071 0.699999988079071 0.699999988079071 0.699999988079071 0.699999988079071 0.699999988079071 0.699999988079071 0.699999988079071 0.699999988079071 0.699999988079071 0.699999988079071 0.699999988079071 0.699999988079071 0.699999988079071 0.699999988079071 0.699999988079071 0.699999988079071 0.699999988079071 0.699999988079071 0.699999988079071 0.699999988079071 0.699999988079071 0.699999988079071 0.699999988079071 0.699999988079071 0.699999988079071 0.699999988079071 0.699999988079071 0.699999988079071 0.699999988079071 0.699999988079071;0 0 0 0 0 0 0 0 0 0 0 0 0 0 0 0 0 0 0 0 0 0 0 0 0 0 0 0 0 3 3 3 3 3 3 3 3 3 0.699999988079071 0.699999988079071 0.699999988079071 0.699999988079071 0.699999988079071 0.699999988079071 0.699999988079071 0.699999988079071 0.699999988079071 0.699999988079071 0.699999988079071 0.699999988079071 0.699999988079071 0.699999988079071 0.699999988079071 0.699999988079071 0.699999988079071 0.699999988079071 0.699999988079071 0.699999988079071 0.699999988079071 0.699999988079071 0.699999988079071 0.699999988079071 0.699999988079071 0.699999988079071 0.699999988079071 0.699999988079071 0.699999988079071 0.699999988079071 0.699999988079071 0 0 0 0 0 0 0 0 0 0 0 0 0 0 0 0 0 0 0 0 0 0 0 0 0 0 0 0.699999988079071 0.699999988079071 0.699999988079071 0.699999988079071 0.699999988079071 0.699999988079071 0.699999988079071 0.699999988079071 0.699999988079071 0.699999988079071 0.699999988079071 0.699999988079071 0.699999988079071 0.699999988079071 0.699999988079071 0.699999988079071 0.699999988079071 0.699999988079071 0.699999988079071 0.699999988079071 0.699999988079071 0.699999988079071 0.699999988079071 0.699999988079071 0.699999988079071 0.699999988079071 0.699999988079071 0.699999988079071 0.699999988079071 0.699999988079071 0.699999988079071 0.699999988079071 0.699999988079071 0.699999988079071 0.699999988079071 0.699999988079071 0.699999988079071 0.699999988079071 0.699999988079071 0.699999988079071 0.699999988079071 0.699999988079071 0.699999988079071 0.699999988079071 0.699999988079071 0.699999988079071 0.699999988079071 0.699999988079071 0.699999988079071 0.699999988079071 0.699999988079071 0.699999988079071 0.699999988079071 0.699999988079071;0 0 0 0 0 0 0 0 0 0 0 0 0 0 0 0 0 0 0 0 0 0 0 0 0 0 0 0 0 3 3 3 3 3 3 3 3 3 0.699999988079071 0.699999988079071 0.699999988079071 0.699999988079071 0.699999988079071 0.699999988079071 0.699999988079071 0.699999988079071 0.699999988079071 0.699999988079071 0.699999988079071 0.699999988079071 0.699999988079071 0.699999988079071 0.699999988079071 0.699999988079071 0.699999988079071 0.699999988079071 0.699999988079071 0.699999988079071 0.699999988079071 0.699999988079071 0.699999988079071 0.699999988079071 0.699999988079071 0.699999988079071 0.699999988079071 0.699999988079071 0.699999988079071 0.699999988079071 0.699999988079071 0.699999988079071 0.699999988079071 0 0 0 0 0 0 0 0 0 0 0 0 0 0 0 0 0 0 0 0 0 0 0.699999988079071 0.699999988079071 0.699999988079071 0.699999988079071 0.699999988079071 0.699999988079071 0.699999988079071 0.699999988079071 0.699999988079071 0.699999988079071 0.699999988079071 0.699999988079071 0.699999988079071 0.699999988079071 0.699999988079071 0.699999988079071 0.699999988079071 0.699999988079071 0.699999988079071 0.699999988079071 0.699999988079071 0.699999988079071 0.699999988079071 0.699999988079071 0.699999988079071 0.699999988079071 0.699999988079071 0.699999988079071 0.699999988079071 0.699999988079071 0.699999988079071 0.699999988079071 0.699999988079071 0.699999988079071 0.699999988079071 0.699999988079071 0.699999988079071 0.699999988079071 0.699999988079071 0.699999988079071 0.699999988079071 0.699999988079071 0.699999988079071 0.699999988079071 0.699999988079071 0.699999988079071 0.699999988079071 0.699999988079071 0.699999988079071 0.699999988079071 0.699999988079071 0.699999988079071 0.699999988079071 0.699999988079071 0.699999988079071 0.699999988079071 0.699999988079071;0 0 0 0 0 0 0 0 0 0 0 0 0 0 0 0 0 0 0 0 0 0 0 0 0 0 0 0 0 3 3 3 3 3 3 3 3 3 0.699999988079071 0.699999988079071 0.699999988079071 0.699999988079071 0.699999988079071 0.699999988079071 0.699999988079071 0.699999988079071 0.699999988079071 0.699999988079071 0.699999988079071 0.699999988079071 0.699999988079071 0.699999988079071 0.699999988079071 0.699999988079071 0.699999988079071 0.699999988079071 0.699999988079071 0.699999988079071 0.699999988079071 0.699999988079071 0.699999988079071 0.699999988079071 0.699999988079071 0.699999988079071 0.699999988079071 0.699999988079071 0.699999988079071 0.699999988079071 0.699999988079071 0.699999988079071 0.699999988079071 0.699999988079071 0 0 0 0 0 0 0 0 0 0 0 0 0 0 0 0 0 0.699999988079071 0.699999988079071 0.699999988079071 0.699999988079071 0.699999988079071 0.699999988079071 0.699999988079071 0.699999988079071 0.699999988079071 0.699999988079071 0.699999988079071 0.699999988079071 0.699999988079071 0.699999988079071 0.699999988079071 0.699999988079071 0.699999988079071 0.699999988079071 0.699999988079071 0.699999988079071 0.699999988079071 0.699999988079071 0.699999988079071 0.699999988079071 0.699999988079071 0.699999988079071 0.699999988079071 0.699999988079071 0.699999988079071 0.699999988079071 0.699999988079071 0.699999988079071 0.699999988079071 0.699999988079071 0.699999988079071 0.699999988079071 0.699999988079071 0.699999988079071 0.699999988079071 0.699999988079071 0.699999988079071 0.699999988079071 0.699999988079071 0.699999988079071 0.699999988079071 0.699999988079071 0.699999988079071 0.699999988079071 0.699999988079071 0.699999988079071 0.699999988079071 0.699999988079071 0.699999988079071 0.699999988079071 0.699999988079071 0.699999988079071 0.699999988079071 0.699999988079071 0.699999988079071 0.699999988079071 0.699999988079071;0 0 0 0 0 0 0 0 0 0 0 0 0 0 0 0 0 0 0 0 0 0 0 0 0 0 0 0 0 3 3 3 3 3 3 3 3 3 0.699999988079071 0.699999988079071 0.699999988079071 0.699999988079071 0.699999988079071 0.699999988079071 0.699999988079071 0.699999988079071 0.699999988079071 0.699999988079071 0.699999988079071 0.699999988079071 0.699999988079071 0.699999988079071 0.699999988079071 0.699999988079071 0.699999988079071 0.699999988079071 0.699999988079071 0.699999988079071 0.699999988079071 0.699999988079071 0.699999988079071 0.699999988079071 0.699999988079071 0.699999988079071 0.699999988079071 0.699999988079071 0.699999988079071 0.699999988079071 0.699999988079071 0.699999988079071 0.699999988079071 0.699999988079071 0.699999988079071 0 0 0 0 0 0 0 0 0 0 0.699999988079071 0.699999988079071 0.699999988079071 0.699999988079071 0.699999988079071 0.699999988079071 0.699999988079071 0.699999988079071 0.699999988079071 0.699999988079071 0.699999988079071 0.699999988079071 0.699999988079071 0.699999988079071 0.699999988079071 0.699999988079071 0.699999988079071 0.699999988079071 0.699999988079071 0.699999988079071 0.699999988079071 0.699999988079071 0.699999988079071 0.699999988079071 0.699999988079071 0.699999988079071 0.699999988079071 0.699999988079071 0.699999988079071 0.699999988079071 0.699999988079071 0.699999988079071 0.699999988079071 0.699999988079071 0.699999988079071 0.699999988079071 0.699999988079071 0.699999988079071 0.699999988079071 0.699999988079071 0.699999988079071 0.699999988079071 0.699999988079071 0.699999988079071 0.699999988079071 0.699999988079071 0.699999988079071 0.699999988079071 0.699999988079071 0.699999988079071 0.699999988079071 0.699999988079071 0.699999988079071 0.699999988079071 0.699999988079071 0.699999988079071 0.699999988079071 0.699999988079071 0.699999988079071 0.699999988079071 0.699999988079071 0.699999988079071 0.699999988079071 0.699999988079071 0.699999988079071 0.699999988079071 0.699999988079071;0 0 0 0 0 0 0 0 0 0 0 0 0 0 0 0 0 0 0 0 0 0 0 0 0 0 0 0 0 3 3 3 3 3 3 3 3 3 0.699999988079071 0.699999988079071 0.699999988079071 0.699999988079071 0.699999988079071 0.699999988079071 0.699999988079071 0.699999988079071 0.699999988079071 0.699999988079071 0.699999988079071 0.699999988079071 0.699999988079071 0.699999988079071 0.699999988079071 0.699999988079071 0.699999988079071 0.699999988079071 0.699999988079071 0.699999988079071 0.699999988079071 0.699999988079071 0.699999988079071 0.699999988079071 0.699999988079071 0.699999988079071 0.699999988079071 0.699999988079071 0.699999988079071 0.699999988079071 0.699999988079071 0.699999988079071 0.699999988079071 0.699999988079071 0.699999988079071 0.699999988079071 0 0 0 0.699999988079071 0.699999988079071 0.699999988079071 0.699999988079071 0.699999988079071 0.699999988079071 0.699999988079071 0.699999988079071 0.699999988079071 0.699999988079071 0.699999988079071 0.699999988079071 0.699999988079071 0.699999988079071 0.699999988079071 0.699999988079071 0.699999988079071 0.699999988079071 0.699999988079071 0.699999988079071 0.699999988079071 0.699999988079071 0.699999988079071 0.699999988079071 0.699999988079071 0.699999988079071 0.699999988079071 0.699999988079071 0.699999988079071 0.699999988079071 0.699999988079071 0.699999988079071 0.699999988079071 0.699999988079071 0.699999988079071 0.699999988079071 0.699999988079071 0.699999988079071 0.699999988079071 0.699999988079071 0.699999988079071 0.699999988079071 0.699999988079071 0.699999988079071 0.699999988079071 0.699999988079071 0.699999988079071 0.699999988079071 0.699999988079071 0.699999988079071 0.699999988079071 0.699999988079071 0.699999988079071 0.699999988079071 0.699999988079071 0.699999988079071 0.699999988079071 0.699999988079071 0.699999988079071 0.699999988079071 0.699999988079071 0.699999988079071 0.699999988079071 0.699999988079071 0.699999988079071 0.699999988079071 0.699999988079071 0.699999988079071 0.699999988079071 0.699999988079071 0.699999988079071 0.699999988079071 0.699999988079071;0 0 0 0 0 0 0 0 0 0 0 0 0 0 0 0 0 0 0 0 0 0 0 0 0 0 0 0 0 3 3 3 3 3 3 3 3 3 0.699999988079071 0.699999988079071 0.699999988079071 0.699999988079071 0.699999988079071 0.699999988079071 0.699999988079071 0.699999988079071 0.699999988079071 0.699999988079071 0.699999988079071 0.699999988079071 0.699999988079071 0.699999988079071 0.699999988079071 0.699999988079071 0.699999988079071 0.699999988079071 0.699999988079071 0.699999988079071 0.699999988079071 0.699999988079071 0.699999988079071 0.699999988079071 0.699999988079071 0.699999988079071 0.699999988079071 0.699999988079071 0.699999988079071 0.699999988079071 0.699999988079071 0.699999988079071 0.699999988079071 0.699999988079071 0.699999988079071 0.699999988079071 0.699999988079071 0.699999988079071 0.699999988079071 0.699999988079071 0.699999988079071 0.699999988079071 0.699999988079071 0.699999988079071 0.699999988079071 0.699999988079071 0.699999988079071 0.699999988079071 0.699999988079071 0.699999988079071 0.699999988079071 0.699999988079071 0.699999988079071 0.699999988079071 0.699999988079071 0.699999988079071 0.699999988079071 0.699999988079071 0.699999988079071 0.699999988079071 0.699999988079071 0.699999988079071 0.699999988079071 0.699999988079071 0.699999988079071 0.699999988079071 0.699999988079071 0.699999988079071 0.699999988079071 0.699999988079071 0.699999988079071 0.699999988079071 0.699999988079071 0.699999988079071 0.699999988079071 0.699999988079071 0.699999988079071 0.699999988079071 0.699999988079071 0.699999988079071 0.699999988079071 0.699999988079071 0.699999988079071 0.699999988079071 0.699999988079071 0.699999988079071 0.699999988079071 0.699999988079071 0.699999988079071 0.699999988079071 0.699999988079071 0.699999988079071 0.699999988079071 0.699999988079071 0.699999988079071 0.699999988079071 0.699999988079071 0.699999988079071 0.699999988079071 0.699999988079071 0.699999988079071 0.699999988079071 0.699999988079071 0.699999988079071 0.699999988079071 0.699999988079071 0.699999988079071 0.699999988079071 0.699999988079071 0.699999988079071 0.699999988079071 0.699999988079071;0 0 0 0 0 0 0 0 0 0 0 0 0 0 0 0 0 0 0 0 0 0 0 0 0 0 0 0 0 3 3 3 3 3 3 3 3 3 0.699999988079071 0.699999988079071 0.699999988079071 0.699999988079071 0.699999988079071 0.699999988079071 0.699999988079071 0.699999988079071 0.699999988079071 0.699999988079071 0.699999988079071 0.699999988079071 0.699999988079071 0.699999988079071 0.699999988079071 0.699999988079071 0.699999988079071 0.699999988079071 0.699999988079071 0.699999988079071 0.699999988079071 0.699999988079071 0.699999988079071 0.699999988079071 0.699999988079071 0.699999988079071 0.699999988079071 0.699999988079071 0.699999988079071 0.699999988079071 0.699999988079071 0.699999988079071 0.699999988079071 0.699999988079071 0.699999988079071 0.699999988079071 0.699999988079071 0.699999988079071 0.699999988079071 0.699999988079071 0.699999988079071 0.699999988079071 0.699999988079071 0.699999988079071 0.699999988079071 0.699999988079071 0.699999988079071 0.699999988079071 0.699999988079071 0.699999988079071 0.699999988079071 0.699999988079071 0.699999988079071 0.699999988079071 0.699999988079071 0.699999988079071 0.699999988079071 0.699999988079071 0.699999988079071 0.699999988079071 0.699999988079071 0.699999988079071 0.699999988079071 0.699999988079071 0.699999988079071 0.699999988079071 0.699999988079071 0.699999988079071 0.699999988079071 0.699999988079071 0.699999988079071 0.699999988079071 0.699999988079071 0.699999988079071 0.699999988079071 0.699999988079071 0.699999988079071 0.699999988079071 0.699999988079071 0.699999988079071 0.699999988079071 0.699999988079071 0.699999988079071 0.699999988079071 0.699999988079071 0.699999988079071 0.699999988079071 0.699999988079071 0.699999988079071 0.699999988079071 0.699999988079071 0.699999988079071 0.699999988079071 0.699999988079071 0.699999988079071 0.699999988079071 0.699999988079071 0.699999988079071 0.699999988079071 0.699999988079071 0.699999988079071 0.699999988079071 0.699999988079071 0.699999988079071 0.699999988079071 0.699999988079071 0.699999988079071 0.699999988079071 0.699999988079071 0.699999988079071 0.699999988079071 0.699999988079071;0 0 0 0 0 0 0 0 0 0 0 0 0 0 0 0 0 0 0 0 0 0 0 0 0 0 0 0 0 3 3 3 3 3 3 3 3 3 0.699999988079071 0.699999988079071 0.699999988079071 0.699999988079071 0.699999988079071 0.699999988079071 0.699999988079071 0.699999988079071 0.699999988079071 0.699999988079071 0.699999988079071 0.699999988079071 0.699999988079071 0.699999988079071 0.699999988079071 0.699999988079071 0.699999988079071 0.699999988079071 0.699999988079071 0.699999988079071 0.699999988079071 0.699999988079071 0.699999988079071 0.699999988079071 0.699999988079071 0.699999988079071 0.699999988079071 0.699999988079071 0.699999988079071 0.699999988079071 0.699999988079071 0.699999988079071 0.699999988079071 0.699999988079071 0.699999988079071 0.699999988079071 0.699999988079071 0.699999988079071 0.699999988079071 0.699999988079071 0.699999988079071 0.699999988079071 0.699999988079071 0.699999988079071 0.699999988079071 0.699999988079071 0.699999988079071 0.699999988079071 0.699999988079071 0.699999988079071 0.699999988079071 0.699999988079071 0.699999988079071 0.699999988079071 0.699999988079071 0.699999988079071 0.699999988079071 0.699999988079071 0.699999988079071 0.699999988079071 0.699999988079071 0.699999988079071 0.699999988079071 0.699999988079071 0.699999988079071 0.699999988079071 0.699999988079071 0.699999988079071 0.699999988079071 0.699999988079071 0.699999988079071 0.699999988079071 0.699999988079071 0.699999988079071 0.699999988079071 0.699999988079071 0.699999988079071 0.699999988079071 0.699999988079071 0.699999988079071 0.699999988079071 0.699999988079071 0.699999988079071 0.699999988079071 0.699999988079071 0.699999988079071 0.699999988079071 0.699999988079071 0.699999988079071 0.699999988079071 0.699999988079071 0.699999988079071 0.699999988079071 0.699999988079071 0.699999988079071 0.699999988079071 0.699999988079071 0.699999988079071 0.699999988079071 0.699999988079071 0.699999988079071 0.699999988079071 0.699999988079071 0.699999988079071 0.699999988079071 0.699999988079071 0.699999988079071 0.699999988079071 0.699999988079071 0.699999988079071 0.699999988079071 0.699999988079071;0 0 0 0 0 0 0 0 0 0 0 0 0 0 0 0 0 0 0 0 0 0 0 0 0 0 0 0 0 3 3 3 3 3 3 3 3 3 0.699999988079071 0.699999988079071 0.699999988079071 0.699999988079071 0.699999988079071 0.699999988079071 0.699999988079071 0.699999988079071 0.699999988079071 0.699999988079071 0.699999988079071 0.699999988079071 0.699999988079071 0.699999988079071 0.699999988079071 0.699999988079071 0.699999988079071 0.699999988079071 0.699999988079071 0.699999988079071 0.699999988079071 0.699999988079071 0.699999988079071 0.699999988079071 0.699999988079071 0.699999988079071 0.699999988079071 0.699999988079071 0.699999988079071 0.699999988079071 0.699999988079071 0.699999988079071 0.699999988079071 0.699999988079071 0.699999988079071 0.699999988079071 0.699999988079071 0.699999988079071 0.699999988079071 0.699999988079071 0.699999988079071 0.699999988079071 0.699999988079071 0.699999988079071 0.699999988079071 0.699999988079071 0.699999988079071 0.699999988079071 0.699999988079071 0.699999988079071 0.699999988079071 0.699999988079071 0.699999988079071 0.699999988079071 0.699999988079071 0.699999988079071 0.699999988079071 0.699999988079071 0.699999988079071 0.699999988079071 0.699999988079071 0.699999988079071 0.699999988079071 0.699999988079071 0.699999988079071 0.699999988079071 0.699999988079071 0.699999988079071 0.699999988079071 0.699999988079071 0.699999988079071 0.699999988079071 0.699999988079071 0.699999988079071 0.699999988079071 0.699999988079071 0.699999988079071 0.699999988079071 0.699999988079071 0.699999988079071 0.699999988079071 0.699999988079071 0.699999988079071 0.699999988079071 0.699999988079071 0.699999988079071 0.699999988079071 0.699999988079071 0.699999988079071 0.699999988079071 0.699999988079071 0.699999988079071 0.699999988079071 0.699999988079071 0.699999988079071 0.699999988079071 0.699999988079071 0.699999988079071 0.699999988079071 0.699999988079071 0.699999988079071 0.699999988079071 0.699999988079071 0.699999988079071 0.699999988079071 0.699999988079071 0.699999988079071 0.699999988079071 0.699999988079071 0.699999988079071 0.699999988079071 0.699999988079071;0 0 0 0 0 0 0 0 0 0 0 0 0 0 0 0 0 0 0 0 0 0 0 0 0 0 0 0 0 3 3 3 3 3 3 3 3 3 0.699999988079071 0.699999988079071 0.699999988079071 0.699999988079071 0.699999988079071 0.699999988079071 0.699999988079071 0.699999988079071 0.699999988079071 0.699999988079071 0.699999988079071 0.699999988079071 0.699999988079071 0.699999988079071 0.699999988079071 0.699999988079071 0.699999988079071 0.699999988079071 0.699999988079071 0.699999988079071 0.699999988079071 0.699999988079071 0.699999988079071 0.699999988079071 0.699999988079071 0.699999988079071 0.699999988079071 0.699999988079071 0.699999988079071 0.699999988079071 0.699999988079071 0.699999988079071 0.699999988079071 0.699999988079071 0.699999988079071 0.699999988079071 0.699999988079071 0.699999988079071 0.699999988079071 0.699999988079071 0.699999988079071 0.699999988079071 0.699999988079071 0.699999988079071 0.699999988079071 0.699999988079071 0.699999988079071 0.699999988079071 0.699999988079071 0.699999988079071 0.699999988079071 0.699999988079071 0.699999988079071 0.699999988079071 0.699999988079071 0.699999988079071 0.699999988079071 0.699999988079071 0.699999988079071 0.699999988079071 0.699999988079071 0.699999988079071 0.699999988079071 0.699999988079071 0.699999988079071 0.699999988079071 0.699999988079071 0.699999988079071 0.699999988079071 0.699999988079071 0.699999988079071 0.699999988079071 0.699999988079071 0.699999988079071 0.699999988079071 0.699999988079071 0.699999988079071 0.699999988079071 0.699999988079071 0.699999988079071 0.699999988079071 0.699999988079071 0.699999988079071 0.699999988079071 0.699999988079071 0.699999988079071 0.699999988079071 0.699999988079071 0.699999988079071 0.699999988079071 0.699999988079071 0.699999988079071 0.699999988079071 0.699999988079071 0.699999988079071 0.699999988079071 0.699999988079071 0.699999988079071 0.699999988079071 0.699999988079071 0.699999988079071 0.699999988079071 0.699999988079071 0.699999988079071 0.699999988079071 0.699999988079071 0.699999988079071 0.699999988079071 0.699999988079071 0.699999988079071 0.699999988079071 0.699999988079071;0 0 0 0 0 0 0 0 0 0 0 0 0 0 0 0 0 0 0 0 0 0 0 0 0 0 0 0 0 3 3 3 3 3 3 3 3 3 0.699999988079071 0.699999988079071 0.699999988079071 0.699999988079071 0.699999988079071 0.699999988079071 0.699999988079071 0.699999988079071 0.699999988079071 0.699999988079071 0.699999988079071 0.699999988079071 0.699999988079071 0.699999988079071 0.699999988079071 0.699999988079071 0.699999988079071 0.699999988079071 0.699999988079071 0.699999988079071 0.699999988079071 0.699999988079071 0.699999988079071 0.699999988079071 0.699999988079071 0.699999988079071 0.699999988079071 0.699999988079071 0.699999988079071 0.699999988079071 0.699999988079071 0.699999988079071 0.699999988079071 0.699999988079071 0.699999988079071 0.699999988079071 0.699999988079071 0.699999988079071 0.699999988079071 0.699999988079071 0.699999988079071 0.699999988079071 0.699999988079071 0.699999988079071 0.699999988079071 0.699999988079071 0.699999988079071 0.699999988079071 0.699999988079071 0.699999988079071 0.699999988079071 0.699999988079071 0.699999988079071 0.699999988079071 0.699999988079071 0.699999988079071 0.699999988079071 0.699999988079071 0.699999988079071 0.699999988079071 0.699999988079071 0.699999988079071 0.699999988079071 0.699999988079071 0.699999988079071 0.699999988079071 0.699999988079071 0.699999988079071 0.699999988079071 0.699999988079071 0.699999988079071 0.699999988079071 0.699999988079071 0.699999988079071 0.699999988079071 0.699999988079071 0.699999988079071 0.699999988079071 0.699999988079071 0.699999988079071 0.699999988079071 0.699999988079071 0.699999988079071 0.699999988079071 0.699999988079071 0.699999988079071 0.699999988079071 0.699999988079071 0.699999988079071 0.699999988079071 0.699999988079071 0.699999988079071 0.699999988079071 0.699999988079071 0.699999988079071 0.699999988079071 0.699999988079071 0.699999988079071 0.699999988079071 0.699999988079071 0.699999988079071 0.699999988079071 0.699999988079071 0.699999988079071 0.699999988079071 0.699999988079071 0.699999988079071 0.699999988079071 0.699999988079071 0.699999988079071 0.699999988079071 0.699999988079071;0 0 0 0 0 0 0 0 0 0 0 0 0 0 0 0 0 0 0 0 0 0 0 0 0 0 0 0 3 3 3 3 3 3 3 3 3 0.699999988079071 0.699999988079071 0.699999988079071 0.699999988079071 0.699999988079071 0.699999988079071 0.699999988079071 0.699999988079071 0.699999988079071 0.699999988079071 0.699999988079071 0.699999988079071 0.699999988079071 0.699999988079071 0.699999988079071 0.699999988079071 0.699999988079071 0.699999988079071 0.699999988079071 0.699999988079071 0.699999988079071 0.699999988079071 0.699999988079071 0.699999988079071 0.699999988079071 0.699999988079071 0.699999988079071 0.699999988079071 0.699999988079071 0.699999988079071 0.699999988079071 0.699999988079071 0.699999988079071 0.699999988079071 0.699999988079071 0.699999988079071 0.699999988079071 0.699999988079071 0.699999988079071 0.699999988079071 0.699999988079071 0.699999988079071 0.699999988079071 0.699999988079071 0.699999988079071 0.699999988079071 0.699999988079071 0.699999988079071 0.699999988079071 0.699999988079071 0.699999988079071 0.699999988079071 0.699999988079071 0.699999988079071 0.699999988079071 0.699999988079071 0.699999988079071 0.699999988079071 0.699999988079071 0.699999988079071 0.699999988079071 0.699999988079071 0.699999988079071 0.699999988079071 0.699999988079071 0.699999988079071 0.699999988079071 0.699999988079071 0.699999988079071 0.699999988079071 0.699999988079071 0.699999988079071 0.699999988079071 0.699999988079071 0.699999988079071 0.699999988079071 0.699999988079071 0.699999988079071 0.699999988079071 0.699999988079071 0.699999988079071 0.699999988079071 0.699999988079071 0.699999988079071 0.699999988079071 0.699999988079071 0.699999988079071 0.699999988079071 0.699999988079071 0.699999988079071 0.699999988079071 0.699999988079071 0.699999988079071 0.699999988079071 0.699999988079071 0.699999988079071 0.699999988079071 0.699999988079071 0.699999988079071 0.699999988079071 0.699999988079071 0.699999988079071 0.699999988079071 0.699999988079071 0.699999988079071 0.699999988079071 0.699999988079071 0.699999988079071 0.699999988079071 0.699999988079071 0.699999988079071 0.699999988079071 0.699999988079071;0 0 0 0 0 0 0 0 0 0 0 0 0 0 0 0 0 0 0 0 0 0 0 0 0 0 0 0 0 3 3 3 3 3 3 3 3 3 0.699999988079071 0.699999988079071 0.699999988079071 0.699999988079071 0.699999988079071 0.699999988079071 0.699999988079071 0.699999988079071 0.699999988079071 0.699999988079071 0.699999988079071 0.699999988079071 0.699999988079071 0.699999988079071 0.699999988079071 0.699999988079071 0.699999988079071 0.699999988079071 0.699999988079071 0.699999988079071 0.699999988079071 0.699999988079071 0.699999988079071 0.699999988079071 0.699999988079071 0.699999988079071 0.699999988079071 0.699999988079071 0.699999988079071 0.699999988079071 0.699999988079071 0.699999988079071 0.699999988079071 0.699999988079071 0.699999988079071 0.699999988079071 0.699999988079071 0.699999988079071 0.699999988079071 0.699999988079071 0.699999988079071 0.699999988079071 0.699999988079071 0.699999988079071 0.699999988079071 0.699999988079071 0.699999988079071 0.699999988079071 0.699999988079071 0.699999988079071 0.699999988079071 0.699999988079071 0.699999988079071 0.699999988079071 0.699999988079071 0.699999988079071 0.699999988079071 0.699999988079071 0.699999988079071 0.699999988079071 0.699999988079071 0.699999988079071 0.699999988079071 0.699999988079071 0.699999988079071 0.699999988079071 0.699999988079071 0.699999988079071 0.699999988079071 0.699999988079071 0.699999988079071 0.699999988079071 0.699999988079071 0.699999988079071 0.699999988079071 0.699999988079071 0.699999988079071 0.699999988079071 0.699999988079071 0.699999988079071 0.699999988079071 0.699999988079071 0.699999988079071 0.699999988079071 0.699999988079071 0.699999988079071 0.699999988079071 0.699999988079071 0.699999988079071 0.699999988079071 0.699999988079071 0.699999988079071 0.699999988079071 0.699999988079071 0.699999988079071 0.699999988079071 0.699999988079071 0.699999988079071 0.699999988079071 0.699999988079071 0.699999988079071 0.699999988079071 0.699999988079071 0.699999988079071 0.699999988079071 0.699999988079071 0.699999988079071 0.699999988079071 0.699999988079071 0.699999988079071 0.699999988079071 0.699999988079071;0 0 0 0 0 0 0 0 0 0 0 0 0 0 0 0 0 0 0 0 0 0 0 0 0 0 0 0 0 3 3 3 3 3 3 3 3 3 0.699999988079071 0.699999988079071 0.699999988079071 0.699999988079071 0.699999988079071 0.699999988079071 0.699999988079071 0.699999988079071 0.699999988079071 0.699999988079071 0.699999988079071 0.699999988079071 0.699999988079071 0.699999988079071 0.699999988079071 0.699999988079071 0.699999988079071 0.699999988079071 0.699999988079071 0.699999988079071 0.699999988079071 0.699999988079071 0.699999988079071 0.699999988079071 0.699999988079071 0.699999988079071 0.699999988079071 0.699999988079071 0.699999988079071 0.699999988079071 0.699999988079071 0.699999988079071 0.699999988079071 0.699999988079071 0.699999988079071 0.699999988079071 0.699999988079071 0.699999988079071 0.699999988079071 0.699999988079071 0.699999988079071 0.699999988079071 0.699999988079071 0.699999988079071 0.699999988079071 0.699999988079071 0.699999988079071 0.699999988079071 0.699999988079071 0.699999988079071 0.699999988079071 0.699999988079071 0.699999988079071 0.699999988079071 0.699999988079071 0.699999988079071 0.699999988079071 0.699999988079071 0.699999988079071 0.699999988079071 0.699999988079071 0.699999988079071 0.699999988079071 0.699999988079071 0.699999988079071 0.699999988079071 0.699999988079071 0.699999988079071 0.699999988079071 0.699999988079071 0.699999988079071 0.699999988079071 0.699999988079071 0.699999988079071 0.699999988079071 0.699999988079071 0.699999988079071 0.699999988079071 0.699999988079071 0.699999988079071 0.699999988079071 0.699999988079071 0.699999988079071 0.699999988079071 0.699999988079071 0.699999988079071 0.699999988079071 0.699999988079071 0.699999988079071 0.699999988079071 0.699999988079071 0.699999988079071 0.699999988079071 0.699999988079071 0.699999988079071 0.699999988079071 0.699999988079071 0.699999988079071 0.699999988079071 0.699999988079071 0.699999988079071 0.699999988079071 0.699999988079071 0.699999988079071 0.699999988079071 0.699999988079071 0.699999988079071 0.699999988079071 0.699999988079071 0.699999988079071 0.699999988079071 0.699999988079071;0 0 0 0 0 0 0 0 0 0 0 0 0 0 0 0 0 0 0 0 0 0 0 0 0 0 0 0 0 3 3 3 3 3 3 3 3 3 0.699999988079071 0.699999988079071 0.699999988079071 0.699999988079071 0.699999988079071 0.699999988079071 0.699999988079071 0.699999988079071 0.699999988079071 0.699999988079071 0.699999988079071 0.699999988079071 0.699999988079071 0.699999988079071 0.699999988079071 0.699999988079071 0.699999988079071 0.699999988079071 0.699999988079071 0.699999988079071 0.699999988079071 0.699999988079071 0.699999988079071 0.699999988079071 0.699999988079071 0.699999988079071 0.699999988079071 0.699999988079071 0.699999988079071 0.699999988079071 0.699999988079071 0.699999988079071 0.699999988079071 0.699999988079071 0.699999988079071 0.699999988079071 0.699999988079071 0.699999988079071 0.699999988079071 0.699999988079071 0.699999988079071 0.699999988079071 0.699999988079071 0.699999988079071 0.699999988079071 0.699999988079071 0.699999988079071 0.699999988079071 0.699999988079071 0.699999988079071 0.699999988079071 0.699999988079071 0.699999988079071 0.699999988079071 0.699999988079071 0.699999988079071 0.699999988079071 0.699999988079071 0.699999988079071 0.699999988079071 0.699999988079071 0.699999988079071 0.699999988079071 0.699999988079071 0.699999988079071 0.699999988079071 0.699999988079071 0.699999988079071 0.699999988079071 0.699999988079071 0.699999988079071 0.699999988079071 0.699999988079071 0.699999988079071 0.699999988079071 0.699999988079071 0.699999988079071 0.699999988079071 0.699999988079071 0.699999988079071 0.699999988079071 0.699999988079071 0.699999988079071 0.699999988079071 0.699999988079071 0.699999988079071 0.699999988079071 0.699999988079071 0.699999988079071 0.699999988079071 0.699999988079071 0.699999988079071 0.699999988079071 0.699999988079071 0.699999988079071 0.699999988079071 0.699999988079071 0.699999988079071 0.699999988079071 0.699999988079071 0.699999988079071 0.699999988079071 0.699999988079071 0.699999988079071 0.699999988079071 0.699999988079071 0.699999988079071 0.699999988079071 0.699999988079071 0.699999988079071 0.699999988079071 0.699999988079071;0 0 0 0 0 0 0 0 0 0 0 0 0 0 0 0 0 0 0 0 0 0 0 0 0 0 0 0 0 3 3 3 3 3 3 3 3 3 0.699999988079071 0.699999988079071 0.699999988079071 0.699999988079071 0.699999988079071 0.699999988079071 0.699999988079071 0.699999988079071 0.699999988079071 0.699999988079071 0.699999988079071 0.699999988079071 0.699999988079071 0.699999988079071 0.699999988079071 0.699999988079071 0.699999988079071 0.699999988079071 0.699999988079071 0.699999988079071 0.699999988079071 0.699999988079071 0.699999988079071 0.699999988079071 0.699999988079071 0.699999988079071 0.699999988079071 0.699999988079071 0.699999988079071 0.699999988079071 0.699999988079071 0.699999988079071 0.699999988079071 0.699999988079071 0.699999988079071 0.699999988079071 0.699999988079071 0.699999988079071 0.699999988079071 0.699999988079071 0.699999988079071 0.699999988079071 0.699999988079071 0.699999988079071 0.699999988079071 0.699999988079071 0.699999988079071 0.699999988079071 0.699999988079071 0.699999988079071 0.699999988079071 0.699999988079071 0.699999988079071 0.699999988079071 0.699999988079071 0.699999988079071 0.699999988079071 0.699999988079071 0.699999988079071 0.699999988079071 0.699999988079071 0.699999988079071 0.699999988079071 0.699999988079071 0.699999988079071 0.699999988079071 0.699999988079071 0.699999988079071 0.699999988079071 0.699999988079071 0.699999988079071 0.699999988079071 0.699999988079071 0.699999988079071 0.699999988079071 0.699999988079071 0.699999988079071 0.699999988079071 0.699999988079071 0.699999988079071 0.699999988079071 0.699999988079071 0.699999988079071 0.699999988079071 0.699999988079071 0.699999988079071 0.699999988079071 0.699999988079071 0.699999988079071 0.699999988079071 0.699999988079071 0.699999988079071 0.699999988079071 0.699999988079071 0.699999988079071 0.699999988079071 0.699999988079071 0.699999988079071 0.699999988079071 0.699999988079071 0.699999988079071 0.699999988079071 0.699999988079071 0.699999988079071 0.699999988079071 0.699999988079071 0.699999988079071 0.699999988079071 0.699999988079071 0.699999988079071 0.699999988079071 0.699999988079071;0 0 0 0 0 0 0 0 0 0 0 0 0 0 0 0 0 0 0 0 0 0 0 0 0 0 0 0 0 3 3 3 3 3 3 3 3 3 0.699999988079071 0.699999988079071 0.699999988079071 0.699999988079071 0.699999988079071 0.699999988079071 0.699999988079071 0.699999988079071 0.699999988079071 0.699999988079071 0.699999988079071 0.699999988079071 0.699999988079071 0.699999988079071 0.699999988079071 0.699999988079071 0.699999988079071 0.699999988079071 0.699999988079071 0.699999988079071 0.699999988079071 0.699999988079071 0.699999988079071 0.699999988079071 0.699999988079071 0.699999988079071 0.699999988079071 0.699999988079071 0.699999988079071 0.699999988079071 0.699999988079071 0.699999988079071 0.699999988079071 0.699999988079071 0.699999988079071 0.699999988079071 0.699999988079071 0.699999988079071 0.699999988079071 0.699999988079071 0.699999988079071 0.699999988079071 0.699999988079071 0.699999988079071 0.699999988079071 0.699999988079071 0.699999988079071 0.699999988079071 0.699999988079071 0.699999988079071 0.699999988079071 0.699999988079071 0.699999988079071 0.699999988079071 0.699999988079071 0.699999988079071 0.699999988079071 0.699999988079071 0.699999988079071 0.699999988079071 0.699999988079071 0.699999988079071 0.699999988079071 0.699999988079071 0.699999988079071 0.699999988079071 0.699999988079071 0.699999988079071 0.699999988079071 0.699999988079071 0.699999988079071 0.699999988079071 0.699999988079071 0.699999988079071 0.699999988079071 0.699999988079071 0.699999988079071 0.699999988079071 0.699999988079071 0.699999988079071 0.699999988079071 0.699999988079071 0.699999988079071 0.699999988079071 0.699999988079071 0.699999988079071 0.699999988079071 0.699999988079071 0.699999988079071 0.699999988079071 0.699999988079071 0.699999988079071 0.699999988079071 0.699999988079071 0.699999988079071 0.699999988079071 0.699999988079071 0.699999988079071 0.699999988079071 0.699999988079071 0.699999988079071 0.699999988079071 0.699999988079071 0.699999988079071 0.699999988079071 0.699999988079071 0.699999988079071 0.699999988079071 0.699999988079071 0.699999988079071 0.699999988079071 0.699999988079071;0 0 0 0 0 0 0 0 0 0 0 0 0 0 0 0 0 0 0 0 0 0 0 0 0 0 0 0 0 3 3 3 3 3 3 3 3 3 0.699999988079071 0.699999988079071 0.699999988079071 0.699999988079071 0.699999988079071 0.699999988079071 0.699999988079071 0.699999988079071 0.699999988079071 0.699999988079071 0.699999988079071 0.699999988079071 0.699999988079071 0.699999988079071 0.699999988079071 0.699999988079071 0.699999988079071 0.699999988079071 0.699999988079071 0.699999988079071 0.699999988079071 0.699999988079071 0.699999988079071 0.699999988079071 0.699999988079071 0.699999988079071 0.699999988079071 0.699999988079071 0.699999988079071 0.699999988079071 0.699999988079071 0.699999988079071 0.699999988079071 0.699999988079071 0.699999988079071 0.699999988079071 0.699999988079071 0.699999988079071 0.699999988079071 0.699999988079071 0.699999988079071 0.699999988079071 0.699999988079071 0.699999988079071 0.699999988079071 0.699999988079071 0.699999988079071 0.699999988079071 0.699999988079071 0.699999988079071 0.699999988079071 0.699999988079071 0.699999988079071 0.699999988079071 0.699999988079071 0.699999988079071 0.699999988079071 0.699999988079071 0.699999988079071 0.699999988079071 0.699999988079071 0.699999988079071 0.699999988079071 0.699999988079071 0.699999988079071 0.699999988079071 0.699999988079071 0.699999988079071 0.699999988079071 0.699999988079071 0.699999988079071 0.699999988079071 0.699999988079071 0.699999988079071 0.699999988079071 0.699999988079071 0.699999988079071 0.699999988079071 0.699999988079071 0.699999988079071 0.699999988079071 0.699999988079071 0.699999988079071 0.699999988079071 0.699999988079071 0.699999988079071 0.699999988079071 0.699999988079071 0.699999988079071 0.699999988079071 0.699999988079071 0.699999988079071 0.699999988079071 0.699999988079071 0.699999988079071 0.699999988079071 0.699999988079071 0.699999988079071 0.699999988079071 0.699999988079071 0.699999988079071 0.699999988079071 0.699999988079071 0.699999988079071 0.699999988079071 0.699999988079071 0.699999988079071 0.699999988079071 0.699999988079071 0.699999988079071 0.699999988079071 0.699999988079071;0 0 0 0 0 0 0 0 0 0 0 0 0 0 0 0 0 0 0 0 0 0 0 0 0 0 0 0 0 3 3 3 3 3 3 3 3 3 0.699999988079071 0.699999988079071 0.699999988079071 0.699999988079071 0.699999988079071 0.699999988079071 0.699999988079071 0.699999988079071 0.699999988079071 0.699999988079071 0.699999988079071 0.699999988079071 0.699999988079071 0.699999988079071 0.699999988079071 0.699999988079071 0.699999988079071 0.699999988079071 0.699999988079071 0.699999988079071 0.699999988079071 0.699999988079071 0.699999988079071 0.699999988079071 0.699999988079071 0.699999988079071 0.699999988079071 0.699999988079071 0.699999988079071 0.699999988079071 0.699999988079071 0.699999988079071 0.699999988079071 0.699999988079071 0.699999988079071 0.699999988079071 0.699999988079071 0.699999988079071 0.699999988079071 0.699999988079071 0.699999988079071 0.699999988079071 0.699999988079071 0.699999988079071 0.699999988079071 0.699999988079071 0.699999988079071 0.699999988079071 0.699999988079071 0.699999988079071 0.699999988079071 0.699999988079071 0.699999988079071 0.699999988079071 0.699999988079071 0.699999988079071 0.699999988079071 0.699999988079071 0.699999988079071 0.699999988079071 0.699999988079071 0.699999988079071 0.699999988079071 0.699999988079071 0.699999988079071 0.699999988079071 0.699999988079071 0.699999988079071 0.699999988079071 0.699999988079071 0.699999988079071 0.699999988079071 0.699999988079071 0.699999988079071 0.699999988079071 0.699999988079071 0.699999988079071 0.699999988079071 0.699999988079071 0.699999988079071 0.699999988079071 0.699999988079071 0.699999988079071 0.699999988079071 0.699999988079071 0.699999988079071 0.699999988079071 0.699999988079071 0.699999988079071 0.699999988079071 0.699999988079071 0.699999988079071 0.699999988079071 0.699999988079071 0.699999988079071 0.699999988079071 0.699999988079071 0.699999988079071 0.699999988079071 0.699999988079071 0.699999988079071 0.699999988079071 0.699999988079071 0.699999988079071 0.699999988079071 0.699999988079071 0.699999988079071 0.699999988079071 0.699999988079071 0.699999988079071 0.699999988079071 0.699999988079071;0 0 0 0 0 0 0 0 0 0 0 0 0 0 0 0 0 0 0 0 0 0 0 0 0 0 0 0 0 3 3 3 3 3 3 3 3 3 0.699999988079071 0.699999988079071 0.699999988079071 0.699999988079071 0.699999988079071 0.699999988079071 0.699999988079071 0.699999988079071 0.699999988079071 0.699999988079071 0.699999988079071 0.699999988079071 0.699999988079071 0.699999988079071 0.699999988079071 0.699999988079071 0.699999988079071 0.699999988079071 0.699999988079071 0.699999988079071 0.699999988079071 0.699999988079071 0.699999988079071 0.699999988079071 0.699999988079071 0.699999988079071 0.699999988079071 0.699999988079071 0.699999988079071 0.699999988079071 0.699999988079071 0.699999988079071 0.699999988079071 0.699999988079071 0.699999988079071 0.699999988079071 0.699999988079071 0.699999988079071 0.699999988079071 0.699999988079071 0.699999988079071 0.699999988079071 0.699999988079071 0.699999988079071 0.699999988079071 0.699999988079071 0.699999988079071 0.699999988079071 0.699999988079071 0.699999988079071 0.699999988079071 0.699999988079071 0.699999988079071 0.699999988079071 0.699999988079071 0.699999988079071 0.699999988079071 0.699999988079071 0.699999988079071 0.699999988079071 0.699999988079071 0.699999988079071 0.699999988079071 0.699999988079071 0.699999988079071 0.699999988079071 0.699999988079071 0.699999988079071 0.699999988079071 0.699999988079071 0.699999988079071 0.699999988079071 0.699999988079071 0.699999988079071 0.699999988079071 0.699999988079071 0.699999988079071 0.699999988079071 0.699999988079071 0.699999988079071 0.699999988079071 0.699999988079071 0.699999988079071 0.699999988079071 0.699999988079071 0.699999988079071 0.699999988079071 0.699999988079071 0.699999988079071 0.699999988079071 0.699999988079071 0.699999988079071 0.699999988079071 0.699999988079071 0.699999988079071 0.699999988079071 0.699999988079071 0.699999988079071 0.699999988079071 0.699999988079071 0.699999988079071 0.699999988079071 0.699999988079071 0.699999988079071 0.699999988079071 0.699999988079071 0.699999988079071 0.699999988079071 0.699999988079071 0.699999988079071 0.699999988079071 0.699999988079071;0 0 0 0 0 0 0 0 0 0 0 0 0 0 0 0 0 0 0 0 0 0 0 0 0 0 0 0 0 3 3 3 3 3 3 3 3 3 0.699999988079071 0.699999988079071 0.699999988079071 0.699999988079071 0.699999988079071 0.699999988079071 0.699999988079071 0.699999988079071 0.699999988079071 0.699999988079071 0.699999988079071 0.699999988079071 0.699999988079071 0.699999988079071 0.699999988079071 0.699999988079071 0.699999988079071 0.699999988079071 0.699999988079071 0.699999988079071 0.699999988079071 0.699999988079071 0.699999988079071 0.699999988079071 0.699999988079071 0.699999988079071 0.699999988079071 0.699999988079071 0.699999988079071 0.699999988079071 0.699999988079071 0.699999988079071 0.699999988079071 0.699999988079071 0.699999988079071 0.699999988079071 0.699999988079071 0.699999988079071 0.699999988079071 0.699999988079071 0.699999988079071 0.699999988079071 0.699999988079071 0.699999988079071 0.699999988079071 0.699999988079071 0.699999988079071 0.699999988079071 0.699999988079071 0.699999988079071 0.699999988079071 0.699999988079071 0.699999988079071 0.699999988079071 0.699999988079071 0.699999988079071 0.699999988079071 0.699999988079071 0.699999988079071 0.699999988079071 0.699999988079071 0.699999988079071 0.699999988079071 0.699999988079071 0.699999988079071 0.699999988079071 0.699999988079071 0.699999988079071 0.699999988079071 0.699999988079071 0.699999988079071 0.699999988079071 0.699999988079071 0.699999988079071 0.699999988079071 0.699999988079071 0.699999988079071 0.699999988079071 0.699999988079071 0.699999988079071 0.699999988079071 0.699999988079071 0.699999988079071 0.699999988079071 0.699999988079071 0.699999988079071 0.699999988079071 0.699999988079071 0.699999988079071 0.699999988079071 0.699999988079071 0.699999988079071 0.699999988079071 0.699999988079071 0.699999988079071 0.699999988079071 0.699999988079071 0.699999988079071 0.699999988079071 0.699999988079071 0.699999988079071 0.699999988079071 0.699999988079071 0.699999988079071 0.699999988079071 0.699999988079071 0.699999988079071 0.699999988079071 0.699999988079071 0.699999988079071 0.699999988079071 0.699999988079071;0 0 0 0 0 0 0 0 0 0 0 0 0 0 0 0 0 0 0 0 0 0 0 0 0 0 0 0 0 3 3 3 3 3 3 3 3 3 0.699999988079071 0.699999988079071 0.699999988079071 0.699999988079071 0.699999988079071 0.699999988079071 0.699999988079071 0.699999988079071 0.699999988079071 0.699999988079071 0.699999988079071 0.699999988079071 0.699999988079071 0.699999988079071 0.699999988079071 0.699999988079071 0.699999988079071 0.699999988079071 0.699999988079071 0.699999988079071 0.699999988079071 0.699999988079071 0.699999988079071 0.699999988079071 0.699999988079071 0.699999988079071 0.699999988079071 0.699999988079071 0.699999988079071 0.699999988079071 0.699999988079071 0.699999988079071 0.699999988079071 0.699999988079071 0.699999988079071 0.699999988079071 0.699999988079071 0.699999988079071 0.699999988079071 0.699999988079071 0.699999988079071 0.699999988079071 0.699999988079071 0.699999988079071 0.699999988079071 0.699999988079071 0.699999988079071 0.699999988079071 0.699999988079071 0.699999988079071 0.699999988079071 0.699999988079071 0.699999988079071 0.699999988079071 0.699999988079071 0.699999988079071 0.699999988079071 0.699999988079071 0.699999988079071 0.699999988079071 0.699999988079071 0.699999988079071 0.699999988079071 0.699999988079071 0.699999988079071 0.699999988079071 0.699999988079071 0.699999988079071 0.699999988079071 0.699999988079071 0.699999988079071 0.699999988079071 0.699999988079071 0.699999988079071 0.699999988079071 0.699999988079071 0.699999988079071 0.699999988079071 0.699999988079071 0.699999988079071 0.699999988079071 0.699999988079071 0.699999988079071 0.699999988079071 0.699999988079071 0.699999988079071 0.699999988079071 0.699999988079071 0.699999988079071 0.699999988079071 0.699999988079071 0.699999988079071 0.699999988079071 0.699999988079071 0.699999988079071 0.699999988079071 0.699999988079071 0.699999988079071 0.699999988079071 0.699999988079071 0.699999988079071 0.699999988079071 0.699999988079071 0.699999988079071 0.699999988079071 0.699999988079071 0.699999988079071 0.699999988079071 0.699999988079071 0.699999988079071 0.699999988079071 0.699999988079071;0 0 0 0 0 0 0 0 0 0 0 0 0 0 0 0 0 0 0 0 0 0 0 0 0 0 0 0 0 3 3 3 3 3 3 3 3 3 0.699999988079071 0.699999988079071 0.699999988079071 0.699999988079071 0.699999988079071 0.699999988079071 0.699999988079071 0.699999988079071 0.699999988079071 0.699999988079071 0.699999988079071 0.699999988079071 0.699999988079071 0.699999988079071 0.699999988079071 0.699999988079071 0.699999988079071 0.699999988079071 0.699999988079071 0.699999988079071 0.699999988079071 0.699999988079071 0.699999988079071 0.699999988079071 0.699999988079071 0.699999988079071 0.699999988079071 0.699999988079071 0.699999988079071 0.699999988079071 0.699999988079071 0.699999988079071 0.699999988079071 0.699999988079071 0.699999988079071 0.699999988079071 0.699999988079071 0.699999988079071 0.699999988079071 0.699999988079071 0.699999988079071 0.699999988079071 0.699999988079071 0.699999988079071 0.699999988079071 0.699999988079071 0.699999988079071 0.699999988079071 0.699999988079071 0.699999988079071 0.699999988079071 0.699999988079071 0.699999988079071 0.699999988079071 0.699999988079071 0.699999988079071 0.699999988079071 0.699999988079071 0.699999988079071 0.699999988079071 0.699999988079071 0.699999988079071 0.699999988079071 0.699999988079071 0.699999988079071 0.699999988079071 0.699999988079071 0.699999988079071 0.699999988079071 0.699999988079071 0.699999988079071 0.699999988079071 0.699999988079071 0.699999988079071 0.699999988079071 0.699999988079071 0.699999988079071 0.699999988079071 0.699999988079071 0.699999988079071 0.699999988079071 0.699999988079071 0.699999988079071 0.699999988079071 0.699999988079071 0.699999988079071 0.699999988079071 0.699999988079071 0.699999988079071 0.699999988079071 0.699999988079071 0.699999988079071 0.699999988079071 0.699999988079071 0.699999988079071 0.699999988079071 0.699999988079071 0.699999988079071 0.699999988079071 0.699999988079071 0.699999988079071 0.699999988079071 0.699999988079071 0.699999988079071 0.699999988079071 0.699999988079071 0.699999988079071 0.699999988079071 0.699999988079071 0.699999988079071 0.699999988079071 0.699999988079071;0 0 0 0 0 0 0 0 0 0 0 0 0 0 0 0 0 0 0 0 0 0 0 0 0 0 0 0 0 3 3 3 3 3 3 3 3 3 0.699999988079071 0.699999988079071 0.699999988079071 0.699999988079071 0.699999988079071 0.699999988079071 0.699999988079071 0.699999988079071 0.699999988079071 0.699999988079071 0.699999988079071 0.699999988079071 0.699999988079071 0.699999988079071 0.699999988079071 0.699999988079071 0.699999988079071 0.699999988079071 0.699999988079071 0.699999988079071 0.699999988079071 0.699999988079071 0.699999988079071 0.699999988079071 0.699999988079071 0.699999988079071 0.699999988079071 0.699999988079071 0.699999988079071 0.699999988079071 0.699999988079071 0.699999988079071 0.699999988079071 0.699999988079071 0.699999988079071 0.699999988079071 0.699999988079071 0.699999988079071 0.699999988079071 0.699999988079071 0.699999988079071 0.699999988079071 0.699999988079071 0.699999988079071 0.699999988079071 0.699999988079071 0.699999988079071 0.699999988079071 0.699999988079071 0.699999988079071 0.699999988079071 0.699999988079071 0.699999988079071 0.699999988079071 0.699999988079071 0.699999988079071 0.699999988079071 0.699999988079071 0.699999988079071 0.699999988079071 0.699999988079071 0.699999988079071 0.699999988079071 0.699999988079071 0.699999988079071 0.699999988079071 0.699999988079071 0.699999988079071 0.699999988079071 0.699999988079071 0.699999988079071 0.699999988079071 0.699999988079071 0.699999988079071 0.699999988079071 0.699999988079071 0.699999988079071 0.699999988079071 0.699999988079071 0.699999988079071 0.699999988079071 0.699999988079071 0.699999988079071 0.699999988079071 0.699999988079071 0.699999988079071 0.699999988079071 0.699999988079071 0.699999988079071 0.699999988079071 0.699999988079071 0.699999988079071 0.699999988079071 0.699999988079071 0.699999988079071 0.699999988079071 0.699999988079071 0.699999988079071 0.699999988079071 0.699999988079071 0.699999988079071 0.699999988079071 0.699999988079071 0.699999988079071 0.699999988079071 0.699999988079071 0.699999988079071 0.699999988079071 0.699999988079071 0.699999988079071 0.699999988079071 0.699999988079071;0 0 0 0 0 0 0 0 0 0 0 0 0 0 0 0 0 0 0 0 0 0 0 0 0 0 0 0 0 3 3 3 3 3 3 3 3 3 0.699999988079071 0.699999988079071 0.699999988079071 0.699999988079071 0.699999988079071 0.699999988079071 0.699999988079071 0.699999988079071 0.699999988079071 0.699999988079071 0.699999988079071 0.699999988079071 0.699999988079071 0.699999988079071 0.699999988079071 0.699999988079071 0.699999988079071 0.699999988079071 0.699999988079071 0.699999988079071 0.699999988079071 0.699999988079071 0.699999988079071 0.699999988079071 0.699999988079071 0.699999988079071 0.699999988079071 0.699999988079071 0.699999988079071 0.699999988079071 0.699999988079071 0.699999988079071 0.699999988079071 0.699999988079071 0.699999988079071 0.699999988079071 0.699999988079071 0.699999988079071 0.699999988079071 0.699999988079071 0.699999988079071 0.699999988079071 0.699999988079071 0.699999988079071 0.699999988079071 0.699999988079071 0.699999988079071 0.699999988079071 0.699999988079071 0.699999988079071 0.699999988079071 0.699999988079071 0.699999988079071 0.699999988079071 0.699999988079071 0.699999988079071 0.699999988079071 0.699999988079071 0.699999988079071 0.699999988079071 0.699999988079071 0.699999988079071 0.699999988079071 0.699999988079071 0.699999988079071 0.699999988079071 0.699999988079071 0.699999988079071 0.699999988079071 0.699999988079071 0.699999988079071 0.699999988079071 0.699999988079071 0.699999988079071 0.699999988079071 0.699999988079071 0.699999988079071 0.699999988079071 0.699999988079071 0.699999988079071 0.699999988079071 0.699999988079071 0.699999988079071 0.699999988079071 0.699999988079071 0.699999988079071 0.699999988079071 0.699999988079071 0.699999988079071 0.699999988079071 0.699999988079071 0.699999988079071 0.699999988079071 0.699999988079071 0.699999988079071 0.699999988079071 0.699999988079071 0.699999988079071 0.699999988079071 0.699999988079071 0.699999988079071 0.699999988079071 0.699999988079071 0.699999988079071 0.699999988079071 0.699999988079071 0.699999988079071 0.699999988079071 0.699999988079071 0.699999988079071 0.699999988079071 0.699999988079071'\n",
        "\n",
        "# Set and rescale 2D phantom\n",
        "phantom2D = np.matrix(val)\n",
        "phantom2D = rescale(phantom2D, 0.205, anti_aliasing=False)"
      ],
      "execution_count": null,
      "outputs": []
    },
    {
      "cell_type": "markdown",
      "metadata": {
        "id": "ypYhMqLUQfh_"
      },
      "source": [
        "## Image & k-Space \n",
        "The `isoGrid` class implements the geometrical objects used as inputs/outputs for the pulse sequence simulations and their auxiliary functions. These include:\n",
        "- `M0`: input 3D isochromat grid\n",
        "- `velAccMap`: flow properties map for the isochromat grid\n",
        "- `kSpace`: k space grid, computed during the sequence simulation\n",
        "\n",
        "\n"
      ]
    },
    {
      "cell_type": "code",
      "metadata": {
        "id": "3FEsdMq6bn8b"
      },
      "source": [
        "# Class to hold the input image and ouput k-Space\n",
        "class isoGrid:\n",
        "\n",
        "  # Constructor: Initialize with phantom image\n",
        "  # Input:\n",
        "  #   phantom: Matrix initialization\n",
        "  def __init__(self, phantom = np.zeros((128, 128))):\n",
        "\n",
        "    # Write input data to isochromat grid array\n",
        "    M0 = np.zeros((phantom.shape[0], phantom.shape[1], 1, 3))\n",
        "    M0[:,:,0,2] = phantom\n",
        "    self.M0 = np.array(M0)\n",
        "\n",
        "    # Calculate velocity/acceleration maps for flow-simulations\n",
        "    self.velAccMap()\n",
        "\n",
        "    # Initialize empty k-space\n",
        "    self.kSpace = np.zeros((self.M0.shape[0], self.M0.shape[1]), dtype=complex)\n",
        "\n",
        "  # Initialize flow velocity and acceleration maps\n",
        "  #\n",
        "  def velAccMap(self):\n",
        "\n",
        "    # Initialize empty arrays\n",
        "    self.vGrid = np.zeros_like(self.M0)\n",
        "    self.aGrid = np.zeros_like(self.M0)\n",
        "\n",
        "    # Set velocity and acceleration vectors for blood and myocardium\n",
        "    vBlood = np.array([0.4, 0.8, 0]) # [m/s]\n",
        "    aBlood = np.array([0.02, 0.08, 0]) # [m/s^2]\n",
        "    vMyo = np.array([0.1, 0.1, 0]) # [m/s]\n",
        "    aMyo = np.array([0.005, 0.005, 0]) # [m/s^2]\n",
        "    \n",
        "    # Set v and a properties to blood and myocardium pixels\n",
        "    I_Blood = 1 # phantom intensity in ventricles\n",
        "    I_Myo = 0.800000011920929 # phantom intensity in myocardium\n",
        "    for i in range(self.vGrid.shape[0]):\n",
        "      for j in range(self.vGrid.shape[1]):\n",
        "        for k in range(self.vGrid.shape[2]):\n",
        "          if self.M0[i, j, k, 2] == I_Blood:\n",
        "            self.vGrid[i,j,k,:] = vBlood\n",
        "            self.aGrid[i,j,k,:] = aBlood\n",
        "          elif self.M0[i, j, k, 2] == I_Myo:\n",
        "            self.vGrid[i,j,k,:] = vMyo\n",
        "            self.aGrid[i,j,k,:] = aMyo\n",
        "\n",
        "  # Get center points in all dimensions\n",
        "  # Input:\n",
        "  #   ax: Image axis\n",
        "  #          0: X-Axis, 1: Y-Axis, 2: Z-Axis\n",
        "  def getCenter(self,ax):\n",
        "    return np.floor((self.M0.shape[ax]-1)/2)\n",
        "\n",
        "\n",
        "  # Get size in all dimensions\n",
        "  # Input:\n",
        "  #   ax: Image axis\n",
        "  #          0: X-Axis, 1: Y-Axis, 2: Z-Axis\n",
        "  def getSize(self,ax):\n",
        "\n",
        "    return self.M0.shape[ax]\n"
      ],
      "execution_count": 20,
      "outputs": []
    },
    {
      "cell_type": "markdown",
      "metadata": {
        "id": "GfzjrJozQz5E"
      },
      "source": [
        "## Gradients\n",
        "The `Gradient` class is used to define and compute the single gradient objects of the MRI sequence.\n"
      ]
    },
    {
      "cell_type": "code",
      "metadata": {
        "id": "6Lyk4-l7r20-"
      },
      "source": [
        "# Gradient class for rectangular gradients\n",
        "class Gradient:\n",
        "  \n",
        "  # Constructor\n",
        "  # Input:\n",
        "  #   seq:  Sequence Object\n",
        "  #   strn: Gradient Amplitude        [T/m]\n",
        "  #           (or step size if steps > 1)\n",
        "  #   dur:  Gradient Duration         [s]\n",
        "  #   t0:   Start Time within the TR  [s]\n",
        "  #   ax:   Gradient axis\n",
        "  #           0 : x - axis (readout)\n",
        "  #           1 : y - axis (phase)\n",
        "  #           2 : z - axis (slice)\n",
        "  #   steps: Number of gradient steps\n",
        "  def __init__(self, seq, strn=30, dur=0, t0=0, ax=0, steps=0):\n",
        "    # Initialize Member Variables\n",
        "    self.strn     = strn\n",
        "    self.steps    = steps\n",
        "    self.ax       = ax\n",
        "    self.dur_dts  = (int)(np.round(dur/seq.dt))\n",
        "    self.t0_dts   = (int)(np.round(t0/seq.dt))\n",
        "\n",
        "    # Add gradient to gradient list of sequence\n",
        "    seq.addGradient(self)\n",
        "\n",
        "\n",
        "  # Output function: Generates the gradient trace associated with this gradient\n",
        "  # Input:\n",
        "  #   seq:  Pulse sequence \n",
        "  # Output:\n",
        "  #   G:    Gradient Trace\n",
        "  def getTrace(self, seq):\n",
        "      #Initialize empty trace\n",
        "      G = np.zeros((3, (int)(np.round(seq.TR/seq.dt)), seq.nKy))\n",
        "\n",
        "      if self.steps == 0:\n",
        "        #For 0 steps, assign the same strengths to each repetition (ky line)\n",
        "        G[self.ax, self.t0_dts:(self.t0_dts+self.dur_dts), :] = self.strn\n",
        "      else:\n",
        "        #Otherwise use self.strn as step size between the gradients\n",
        "        G[self.ax, self.t0_dts:(self.t0_dts+self.dur_dts), :] = [self.strn*(i-((self.steps-1)/2)) for i in range(self.steps)]\n",
        "      return G\n"
      ],
      "execution_count": null,
      "outputs": []
    },
    {
      "cell_type": "markdown",
      "metadata": {
        "id": "9pgL7VbED09b"
      },
      "source": [
        "## RF Pulse\n",
        "The `RFpulse` class is used to define and compute the single RF pulse objects of the MRI sequence.\n"
      ]
    },
    {
      "cell_type": "code",
      "metadata": {
        "id": "Gd0NW2PID09g"
      },
      "source": [
        "# RF pulse class for radiofreq. pulses\n",
        "class RFpulse:\n",
        "  \n",
        "  # Constructor\n",
        "  # Input:\n",
        "  #   seq:  Sequence Object\n",
        "  #   fa:   Flip angle                [degrees]\n",
        "  #   tExc: Durationof RF pulse       [s]\n",
        "  #   t0Exc: Starting time RF pulse   [s]\n",
        "  def __init__(self, seq, fa=90, tExc=1e-3, t0Exc=0):\n",
        "    # Initialize Member Variables\n",
        "    self.fa       = fa\n",
        "    self.tExc     = tExc\n",
        "    self.t0Exc    = t0Exc\n",
        "    self.B1       = np.deg2rad(self.fa)/self.tExc; #[rad/s]\n",
        "  \n",
        "    # Add RF pulse to the sequence\n",
        "    seq.addRFpulse(self)\n",
        "\n",
        "\n",
        "  # Output function: Generates the RF pulse trace associated with this pulse\n",
        "  # Input:\n",
        "  #   seq:  Pulse sequence\n",
        "  # Output:\n",
        "  #   RF:   Radio frequency pulse trace\n",
        "  def getTrace(self, seq):\n",
        "      # Initialize empty trace\n",
        "      RF = np.zeros((3, (int)(seq.TR/seq.dt)))\n",
        "\n",
        "      # Assign RF pulse strength \n",
        "      RF[0, (int)(self.t0Exc / seq.dt):(int)((self.t0Exc+ self.tExc) / seq.dt)] = self.B1\n",
        "\n",
        "      return RF\n"
      ],
      "execution_count": null,
      "outputs": []
    },
    {
      "cell_type": "markdown",
      "metadata": {
        "id": "55q2JnwNQw-j"
      },
      "source": [
        "## Sequence\n",
        "The `Sequence` class is used to define, compute and simulate the complete MRI sequence. The workflow to run the simulation should be:\n",
        "\n",
        "1. Initialize the sequence by defining an new instance of a sequence object\n",
        "\n",
        "2. Define the RF pulse objects of this sequence\n",
        "\n",
        "3. Define the gradient objects of this sequence\n",
        "\n",
        "4. Calculate the sequence.\n",
        "\n",
        "5. Plot the resulting pulse sequence diagram."
      ]
    },
    {
      "cell_type": "code",
      "metadata": {
        "id": "M1-vjPcevWF5"
      },
      "source": [
        "# A simple sequence class\n",
        "class Sequence:\n",
        "\n",
        "  # Constructor\n",
        "  # Input:\n",
        "  #   seq:  Sequence Object\n",
        "  #   TR:   Repetition Time           [s]\n",
        "  #   nKx:  Number of samples along X\n",
        "  #   nKy:  Number of samples along Y (phase encoding lines)\n",
        "  def __init__(self, TR, t0ADC, nKx, nKy):\n",
        "    #General parameters\n",
        "    # Gyromagnetic Ratio\n",
        "    self.gamma  = 42.58e+6  #[Hz/T]\n",
        "    # Temporal simulation resolution\n",
        "    self.dt     = 0.1e-03 #[s]\n",
        "    # Voxel Size\n",
        "    self.resolution = [1e-3, 1e-3, 10e-3] # [m]\n",
        "\n",
        "    #Initialize Member Variables\n",
        "    self.TR    = TR\n",
        "    self.t0ADC = t0ADC\n",
        "    self.nKx   = nKx\n",
        "    self.nKy   = nKy\n",
        "\n",
        "    #Set gradient and RFtraces to zero\n",
        "    self.Beff_t = np.zeros((3, (int)(np.round(TR/self.dt))))\n",
        "    self.G_t    = np.zeros((3, (int)(np.round(TR/self.dt)), self.nKy))\n",
        "    self.ADC    = np.zeros((1, (int)(np.round(TR/self.dt))))\n",
        "    \n",
        "    #Initialize Empty Gradient and RF object list\n",
        "    self.gradientList = []\n",
        "    self.rfList = []\n",
        "\n",
        "    #Define hardware limitations\n",
        "    self.Gmax   = [35e-3] * 3 # [T/m]\n",
        "\n",
        "    #Internal variable to ensure the sequence is calculated prior to simulation\n",
        "    self._isCalculated = False\n",
        "\n",
        "  # Add RF pulse to sequence\n",
        "  # Input:\n",
        "  #   RFp:  RF pulse object\n",
        "  def addRFpulse(self, rf):\n",
        "    self.rfList.append(rf)\n",
        "    self._isCalculated = False\n",
        "\n",
        "\n",
        "  # Add Gradient to list\n",
        "  # Input:\n",
        "  #   gradient:  Gradient Object\n",
        "  def addGradient(self, gradient):\n",
        "    self.gradientList.append(gradient)\n",
        "    self._isCalculated = False\n",
        "\n",
        "\n",
        "  # Calculate the sequence and generate Gradient/RF Trace\n",
        "  def calculateSequence(self):\n",
        "    # Combine all Gradient objects in the sequence\n",
        "    self.G_t    = np.zeros((3, (int)(np.round(self.TR/self.dt)), self.nKy))\n",
        "    for g in self.gradientList:\n",
        "      self.G_t += g.getTrace(self)\n",
        "\n",
        "    # Combine all RF objects in the sequence\n",
        "    self.Beff_t    = np.zeros((3, (int)(np.round(TR/self.dt))))\n",
        "    for rf in self.rfList:\n",
        "      self.Beff_t += rf.getTrace(self)\n",
        "\n",
        "    # Compute ADC trace\n",
        "    t0ADC_dts = (int)(np.round(self.t0ADC/seq.dt))\n",
        "    self.ADC[0, t0ADC_dts : t0ADC_dts + nKx] = 1\n",
        "\n",
        "    # Check for hardware limitation violations\n",
        "    if np.any( np.greater( np.max( np.max( np.abs(self.G_t), axis=2), axis=1 ), self.Gmax ) ):\n",
        "      print (np.max( np.max( np.abs(self.G_t), axis=2), axis=1 ), self.Gmax)\n",
        "      raise Exception(\"Gradient Limit exceeded\")\n",
        "\n",
        "    # Mark the Sequence as calculated\n",
        "    self._isCalculated = True\n",
        "\n",
        "\n",
        "  # Simulate the sequence\n",
        "  # Input:\n",
        "  #   isoGrid:  Grid Object containing the image\n",
        "  # Output:\n",
        "  #   isoGrid:  Grid Object with simulated k-Space\n",
        "  def simSeq(self, isoGrid):\n",
        "    # Check if the sequence has been calculated\n",
        "    if not self._isCalculated:\n",
        "      raise Exception(\"The sequence has to be calcuated before execution!\")\n",
        "\n",
        "    # Define Matrix to hold the magnetization vectors for each voxel as a function of time\n",
        "    M_t = np.zeros(((int)(self.TR/self.dt)+1, isoGrid.M0.shape[0], isoGrid.M0.shape[1], isoGrid.M0.shape[2], isoGrid.M0.shape[3]))\n",
        "    # Initialize the first time point wiht the input image\n",
        "    M_t[0, :, :, :, :] = isoGrid.M0\n",
        "\n",
        "    # Simulate the excitations\n",
        "    isoGrid, M_t = self._simSeqExc(isoGrid, M_t)\n",
        "    # Simulate the gradients\n",
        "    isoGrid, M_t = self._simSeqAcq(isoGrid, M_t)\n",
        "    \n",
        "    return isoGrid\n",
        "\n",
        "\n",
        "  # Simulate the effect of the RFpulse objects\n",
        "  # Input:\n",
        "  #   isoGrid:  Grid Object containing the image\n",
        "  #   M_t:      Matrix containig magnetization vectors over time\n",
        "  # Output:\n",
        "  #   isoGrid:  Grid Object containing the image\n",
        "  #   M_t:      Matrix containig magnetization vectors over time after B1 simulations\n",
        "  def _simSeqExc(self, isoGrid, M_t):\n",
        "    print(\"Simulating excitation...\\n\")\n",
        "\n",
        "    # Loop over voxels in all spatial dimensions of image\n",
        "    for i in tqdm(range(isoGrid.getSize(0))):\n",
        "      for j in range(isoGrid.getSize(1)):\n",
        "        for k in range(isoGrid.getSize(2)):\n",
        "\n",
        "          # Calculate location of the current voxel\n",
        "          r = np.multiply( [i-isoGrid.getCenter(0), j-isoGrid.getCenter(1), k-isoGrid.getCenter(2)], self.resolution );\n",
        "\n",
        "          for t in range(1, (int)(np.round(self.TR/self.dt))+1):\n",
        "\n",
        "            if  (np.linalg.norm(self.Beff_t[:,t-1]) != 0):\n",
        "            # Only simulate if there is a B1 field              \n",
        "              phi   = np.rad2deg(np.arctan(self.Beff_t[1, t-1] / self.Beff_t[0, t-1]))\n",
        "              theta = np.rad2deg(np.arctan(self.Beff_t[2, t-1] / self.Beff_t[0, t-1]))\n",
        "              M_t[t, i, j, k, :] = rotZ(phi) @ rotY(theta) @ rotX(np.linalg.norm(self.Beff_t[:,t-1])*self.dt) @ rotY(-theta) @ rotZ(-phi) @ M_t[t-1, i, j, k, :]\n",
        "            else:\n",
        "            # Otherwise just copy the previous time steps\n",
        "              M_t[t, i, j, k, :] = M_t[t-1, i, j, k, :]\n",
        "    return isoGrid, M_t\n",
        "\n",
        "\n",
        "  # Simulate the effect of the Gradient objects\n",
        "  # Input:\n",
        "  #   isoGrid:  Grid Object containing the image\n",
        "  #   M_t:      Matrix containig magnetization vectors over time\n",
        "  # Output:\n",
        "  #   isoGrid:  Grid Object containing the image\n",
        "  #   M_t:      Matrix containig magnetization vectors over time after Gradient simulations\n",
        "  def _simSeqAcq(self, isoGrid, M_t):\n",
        "    \n",
        "    print(\"Simulating acquisition...\\n\")\n",
        "\n",
        "    # Calculate time point of ADC in dime step units\n",
        "    t0ADC_dts = (int)(np.round(self.t0ADC/seq.dt))\n",
        "\n",
        "    M_t0 = copy.deepcopy(M_t)\n",
        "\n",
        "    # Loop over repetitions (ky lines)\n",
        "    for ky in tqdm(range(nKy)):\n",
        "\n",
        "      # Reset Magnetization vector to state after application of RF pulses\n",
        "      # at the beginning of each TR\n",
        "      if (ky > 0):\n",
        "        M_t = copy.deepcopy(M_t0)\n",
        "\n",
        "      # Loop over voxels in all spatial dimensions of image\n",
        "      for i in range(isoGrid.getSize(0)):\n",
        "        for j in range(isoGrid.getSize(1)):\n",
        "          for k in range(isoGrid.getSize(2)):\n",
        "\n",
        "            # Calculate location of the current voxel\n",
        "            r = np.multiply( [i-isoGrid.getCenter(0), j-isoGrid.getCenter(1), k-isoGrid.getCenter(2)], self.resolution )\n",
        "          \n",
        "            for t in range(1, (int)(np.round(self.TR/self.dt))+1):\n",
        "\n",
        "              # Phase offset accumulated due to gradients in this time step\n",
        "              thetaGF = self._phaseSim(t, ky, r, isoGrid.vGrid[i, j, k, :], isoGrid.aGrid[i, j, k , :])    \n",
        "              # Phase offset accumulated up to previous time step\n",
        "              thetaPr = np.arctan2( M_t[t-1, i, j, k, 0], M_t[t-1, i, j, k, 1])\n",
        "              # Rotate magnetization that has not been subjected to gradients by combined phase\n",
        "              M_t[t, i, j, k, :] = rotZ(thetaGF + thetaPr) @ M_t[t, i, j, k, :]\n",
        "\n",
        "\n",
        "      # Loop over radout time points\n",
        "      for kx in range(nKx):        \n",
        "        t = t0ADC_dts + kx + 1\n",
        "        re = np.sum(M_t[t, :, :, 0, 0]) + np.random.normal(0, 0.5)\n",
        "        im = np.sum(M_t[t, :, :, 0, 1]) + np.random.normal(0, 0.5)\n",
        "        isoGrid.kSpace[kx,ky] = complex(re, im)\n",
        "\n",
        "    return isoGrid, M_t\n",
        "\n",
        "  # Simulate the phase due to position in gradients and due to flow\n",
        "  # Input:\n",
        "  #   t:        time point of simulation\n",
        "  #   ky:       phase encoding step\n",
        "  #   r:        position of spin/isochromat\n",
        "  #   v:        velocity of spin/isochromat\n",
        "  #   a:        acceleration of spin/isochromat\n",
        "  # Output:\n",
        "  #   thetaGF:  phase angle in rad\n",
        "  def _phaseSim(self, t, ky, r, v, a):\n",
        "\n",
        "    # Compute reference time for flow phase \n",
        "    t0ADC_dts = (int)(np.round(self.t0ADC/self.dt))\n",
        "    tRef = t0ADC_dts + np.ceil(Gra.dur_dts/2) + 1\n",
        "\n",
        "    if self.fOrder == 0: # no flow\n",
        "      thetaGF = self.gamma*(r@self.G_t[:, t-1, ky])*self.dt\n",
        "\n",
        "    elif self.fOrder == 1: # velocity\n",
        "      thetaGF = self.gamma*((r@self.G_t[:, t-1, ky])*self.dt + 0.5*(v@self.G_t[:, t-1, ky])*(t-tRef)*self.dt*self.dt)\n",
        "    \n",
        "    elif self.fOrder == 2: # acceleration\n",
        "      thetaGF = self.gamma*((r@self.G_t[:, t-1, ky])*self.dt + 0.5*(v@self.G_t[:, t-1, ky])*(self.dt**2) + (1/6)*(a@self.G_t[:, t-1, ky])*(t-tRef)*(self.dt**3))\n",
        "    \n",
        "    else:\n",
        "      print('Unrecognized flow type!\\n')\n",
        "    return thetaGF*2*np.pi\n",
        "\n",
        "# Plot the sequence diagram\n",
        "# Subplots: RF pulse, phase encoding and readout gradient\n",
        "  def plotSeq(self):\n",
        "\n",
        "    t = np.arange(0, (self.Beff_t.shape[1] + 1)) / 10\n",
        "    plt.figure(figsize=(12, 8))\n",
        "\n",
        "    # RF pulse\n",
        "    plt.subplot(511)\n",
        "    plt.plot(t, np.insert(np.linalg.norm(self.Beff_t, axis=0), 0, 0), 'b')\n",
        "    plt.ylabel('RF')\n",
        "    plt.title(\"Pulse sequence diagram\")\n",
        "    plt.grid(color='k', linestyle='--', linewidth=0.2)\n",
        "\n",
        "    # Gz\n",
        "    plt.subplot(512)\n",
        "    plt.plot(t, np.insert(self.G_t[2, :, 0], 0, 0), '-r')\n",
        "    plt.ylabel('Gz [T/m]')\n",
        "    plt.ylim((-2 * np.max(self.G_t[2, :, :]) - 0.001, 2 * np.max(self.G_t[2, :, :]) + 0.001))\n",
        "    plt.grid(color='k', linestyle='--', linewidth=0.2)\n",
        "\n",
        "    # Gy\n",
        "    plt.subplot(513)\n",
        "    plt.plot(t, np.insert(self.G_t[1, :, -1], 0, 0), '-r')\n",
        "    for i in range(0, self.G_t.shape[2]-1, 15):\n",
        "      plt.plot(t, np.insert(self.G_t[1, :, i], 0, 0), '--r')\n",
        "    plt.ylabel('Gy [T/m]')\n",
        "    plt.ylim((-np.max(self.G_t[1, :, :])-0.005, np.max(self.G_t[1, :, :])+0.005))\n",
        "    plt.grid(color='k', linestyle='--', linewidth=0.2)\n",
        "\n",
        "    # Gx\n",
        "    plt.subplot(514)\n",
        "    plt.plot(t, np.insert(self.G_t[0, :, 0], 0, 0), '-r')\n",
        "    plt.ylabel('Gx [T/m]')\n",
        "    plt.ylim((-np.max(self.G_t[0, :, :])-0.005, np.max(self.G_t[0, :, :])+0.005))\n",
        "    plt.grid(color='k', linestyle='--', linewidth=0.2)\n",
        "\n",
        "    # ADC\n",
        "    plt.subplot(515)\n",
        "    plt.plot(t, np.insert(self.ADC[0, :], 0, 0), '-g')\n",
        "    plt.ylim((-1, 2))\n",
        "    plt.ylabel('ADC')\n",
        "    plt.xlabel('time [ms]')\n",
        "    plt.grid(color='k', linestyle='--', linewidth=0.2)\n",
        "\n",
        "    plt.tight_layout()\n",
        "    plt.show()\n",
        "\n"
      ],
      "execution_count": null,
      "outputs": []
    },
    {
      "cell_type": "markdown",
      "metadata": {
        "id": "NL7psBYvn4yI"
      },
      "source": [
        "!------------------------- END OF 'DO NOT MODIFY' SECTION -------------------------!"
      ]
    },
    {
      "cell_type": "markdown",
      "metadata": {
        "id": "lGALd3y1zsEV"
      },
      "source": [
        "# GRE sequence simulation\n",
        "In this section, we simulate a spoiled gradient-echo (spGRE) sequence for the numerical cardiac phantom in short axis view."
      ]
    },
    {
      "cell_type": "code",
      "metadata": {
        "id": "qiYqE8CUCPCl",
        "colab": {
          "base_uri": "https://localhost:8080/",
          "height": 319
        },
        "outputId": "a8d8038c-48a8-4a66-f137-701789955d23"
      },
      "source": [
        "# Initialize isochromat grid with 2D phantom and plot the phantom\n",
        "grid = isoGrid(phantom2D)\n",
        "plotMulti([phantom2D], ['Original phantom'])\n"
      ],
      "execution_count": null,
      "outputs": [
        {
          "output_type": "display_data",
          "data": {
            "image/png": "[encoded data removed]",
            "text/plain": [
              "<Figure size 1080x360 with 1 Axes>"
            ]
          },
          "metadata": {
            "tags": [],
            "needs_background": "light"
          }
        }
      ]
    },
    {
      "cell_type": "code",
      "metadata": {
        "id": "Lx3O3Do_xGWa",
        "colab": {
          "base_uri": "https://localhost:8080/",
          "height": 585
        },
        "outputId": "5fd31b17-5d95-42b7-c325-535d9087adea"
      },
      "source": [
        "# Set general parameters of the spGRE sequence\n",
        "TR = 7e-3             # repetition time in [s]\n",
        "nKx = grid.getSize(0)   # Number of frequency encoding steps\n",
        "nKy = grid.getSize(1)   # Number of phase encoding steps\n",
        "\n",
        "# Define sequence object (seq) with given parameters via Sequence class\n",
        "seq = Sequence(TR, 0, nKx, nKy)\n",
        "\n",
        "# Initialize RF field object (RF) via RFpulse class\n",
        "# Input:\n",
        "#   seq:    Sequence\n",
        "#   fa:     Flip angle in degrees\n",
        "#   tExc:   duration of RF pulse\n",
        "#   t0Exc:  start time of RF pulse\n",
        "RF = RFpulse(seq, fa = 90, tExc = 1e-3, t0Exc = 0)\n",
        "\n",
        "# Set parameters for spGRE sequence\n",
        "durPe       = np.ceil(nKx/2)*seq.dt  # Duration of phase encoding gradient\n",
        "durSpoiler  = 0.5e-3                 # Duration of spoiler gradient\n",
        "\n",
        "# Calculate field of view (FOV) and size of steps in k-Space dKx, dKy, dKz\n",
        "FOV = np.multiply( np.asarray([nKx, nKy, 1]), seq.resolution )\n",
        "dKx, dKy, dKz = 1 / FOV\n",
        "dF = 0.7e+3 # Bandwidth [Hz]\n",
        "\n",
        "# Set gradient amplitudes\n",
        "Gx = dKx / (seq.gamma * seq.dt) # readout \n",
        "Gy = dKy / (seq.gamma * durPe)  # phase encoding \n",
        "Gz = dF / (seq.gamma * FOV[2])  # slice  \n",
        "\n",
        "# Define gradient objects with given parameters via Gradient class\n",
        "# Input:  Gradient(seq, strn, dur, t0, ax, steps)\n",
        "#   seq:  Sequence object\n",
        "#   strn: Gradient amplitude\n",
        "#   dur:  Gradient duration         [s]\n",
        "#   t0:   Start time within the TR  [s]\n",
        "#   ax:   Gradient axis\n",
        "#           0 : x-axis (readout)\n",
        "#           1 : y-axis (phase)\n",
        "#           2 : z-axis (slice)\n",
        "#   steps: Number of gradient steps\n",
        "Gsls    = Gradient(seq,      Gz,                      RF.tExc,     t0=0,                         ax=2,     steps=0)\n",
        "Gslr    = Gradient(seq, -2 * Gz,                0.5 * RF.tExc,     t0=RF.tExc,                   ax=2,     steps=0)\n",
        "Gpe     = Gradient(seq,      Gy,                      durPe,       t0=RF.tExc,                   ax=1,     steps=nKy)\n",
        "Gdeph   = Gradient(seq,     -Gx,                      durPe,       t0=RF.tExc,                   ax=0,     steps=0)\n",
        "Gra     = Gradient(seq,      Gx,                      nKx*seq.dt,  t0=RF.tExc+durPe,             ax=0,     steps=0)\n",
        "Gspoil  = Gradient(seq,      np.min(seq.Gmax) * 0.8,  durSpoiler,  t0=RF.tExc+durPe+nKx*seq.dt,  ax=[0,1], steps=0)\n",
        "\n",
        "# Set ADC Timing\n",
        "seq.t0ADC = Gra.t0_dts * seq.dt\n",
        "\n",
        "# Initialize sequence with defined RF pulse, gradients and ADC\n",
        "seq.calculateSequence()\n",
        "seq.plotSeq()"
      ],
      "execution_count": 21,
      "outputs": [
        {
          "output_type": "display_data",
          "data": {
            "image/png": "[encoded data removed]",
            "text/plain": [
              "<Figure size 864x576 with 5 Axes>"
            ]
          },
          "metadata": {
            "tags": [],
            "needs_background": "light"
          }
        }
      ]
    },
    {
      "cell_type": "markdown",
      "metadata": {
        "id": "aJUdBeM7S1Y3"
      },
      "source": [
        "## Static phantom (no flow)\n",
        "Here, the previously defined sequence is applied for the cardiac phantom in the static case, i.e. without flow."
      ]
    },
    {
      "cell_type": "code",
      "metadata": {
        "id": "EaudwUTXfHbp",
        "colab": {
          "base_uri": "https://localhost:8080/",
          "height": 183,
          "referenced_widgets": [
            "06b9510d1b454389b63ec77a290df9d7",
            "b55dbb8be0144376ae2754d2adcea8e7",
            "d7f6ab00485442f3915dff088b74d377",
            "51f6acb8211f444582e8a92d661986de",
            "21140c50d8a045a8a91e58048bf277c7",
            "e0e43aa0a744473e8bd67adac3d8adde",
            "1c530eccd2744f728401badd7fd6f51a",
            "81902d8ae48f4563a95feb415e0e7f08",
            "0ca9f2af6c3449548f2c9b785e27acc5",
            "868483b47e154298941707e9c642e2df",
            "c97ca19d95a4468b9b5da6860189d00a",
            "8d1767e8fa964852973b69aebec7d942",
            "e1cbb5c4ff074cee97c308140a72b830",
            "d458a7dbb68d4e739cd751da22719fd6",
            "293da46af82846008f29592cec73098d",
            "e341b183a8ef465bb9263e1a60767975"
          ]
        },
        "outputId": "03540342-df21-492c-ace9-131a604137d7"
      },
      "source": [
        "# Set flow order to 0 (no flow)\n",
        "seq.fOrder = 0\n",
        "\n",
        "# Set up a copy of the grid to save results without flow\n",
        "gridNoFlow = copy.deepcopy(grid)\n",
        "\n",
        "# Simulate sequence on grid without flow\n",
        "gridNoFlow = seq.simSeq(gridNoFlow)"
      ],
      "execution_count": null,
      "outputs": [
        {
          "output_type": "stream",
          "text": [
            "Simulating excitation...\n",
            "\n"
          ],
          "name": "stdout"
        },
        {
          "output_type": "display_data",
          "data": {
            "application/vnd.jupyter.widget-view+json": {
              "model_id": "06b9510d1b454389b63ec77a290df9d7",
              "version_minor": 0,
              "version_major": 2
            },
            "text/plain": [
              "HBox(children=(FloatProgress(value=0.0, max=31.0), HTML(value='')))"
            ]
          },
          "metadata": {
            "tags": []
          }
        },
        {
          "output_type": "stream",
          "text": [
            "\n",
            "Simulating acquisition...\n",
            "\n"
          ],
          "name": "stdout"
        },
        {
          "output_type": "display_data",
          "data": {
            "application/vnd.jupyter.widget-view+json": {
              "model_id": "0ca9f2af6c3449548f2c9b785e27acc5",
              "version_minor": 0,
              "version_major": 2
            },
            "text/plain": [
              "HBox(children=(FloatProgress(value=0.0, max=31.0), HTML(value='')))"
            ]
          },
          "metadata": {
            "tags": []
          }
        },
        {
          "output_type": "stream",
          "text": [
            "\n"
          ],
          "name": "stdout"
        }
      ]
    },
    {
      "cell_type": "markdown",
      "metadata": {
        "id": "MIKaXY3KTCsV"
      },
      "source": [
        "## Phantom with flow\n",
        "Here, the previously defined sequence is applied for the cardiac phantom in the case where flow is present. Thereby, only first order effects are considered."
      ]
    },
    {
      "cell_type": "code",
      "metadata": {
        "id": "3sucezekVdEw",
        "colab": {
          "base_uri": "https://localhost:8080/",
          "height": 183,
          "referenced_widgets": [
            "d868a5f40e5d4e0e84db98fe99253905",
            "902e65d5281040c58e950bc905d6c5b8",
            "e478138576284a189f51e65b071bf475",
            "3b298ddeb6eb49aa843d1c5564874ad4",
            "44162ebfb360493a884dbe52f3b4f185",
            "dc55e3e8a57b42d88bcdc1f5ebde5e39",
            "e86c8d5bb7be48058288a0e092cd4353",
            "7c38dbf619514d4689656c1fcc71a2c4",
            "c51cbce9c8164701acff87bc453d304c",
            "5aa0d48a3bce4329a928f49ef9ed92f1",
            "a9f8a624f3524293b41ba3ef56dc5b2f",
            "b9ac3dd229924e9686d5b13834cb04b2",
            "62a0c6e5fb7945869d7ba9e827520201",
            "00c27eaffe0342a595cc8f69346ca4b3",
            "6b5ffc20ba9840a4a71d17e86dcd4203",
            "a36ddb61940f48ff9b02379517e33151"
          ]
        },
        "outputId": "94b0c47d-819b-4635-8b63-292357c12123"
      },
      "source": [
        "# Set flow order to 0 (1st order flow effects, i.e. motion with constant velocity)\n",
        "seq.fOrder = 1\n",
        "\n",
        "# Set up a copy of the grid to save results with flow\n",
        "gridFlow = copy.deepcopy(grid)\n",
        "\n",
        "# Simulate sequence on grid with flow\n",
        "gridFlow = seq.simSeq(gridFlow)"
      ],
      "execution_count": 22,
      "outputs": [
        {
          "output_type": "stream",
          "text": [
            "Simulating excitation...\n",
            "\n"
          ],
          "name": "stdout"
        },
        {
          "output_type": "display_data",
          "data": {
            "application/vnd.jupyter.widget-view+json": {
              "model_id": "d868a5f40e5d4e0e84db98fe99253905",
              "version_minor": 0,
              "version_major": 2
            },
            "text/plain": [
              "HBox(children=(FloatProgress(value=0.0, max=31.0), HTML(value='')))"
            ]
          },
          "metadata": {
            "tags": []
          }
        },
        {
          "output_type": "stream",
          "text": [
            "\n",
            "Simulating acquisition...\n",
            "\n"
          ],
          "name": "stdout"
        },
        {
          "output_type": "display_data",
          "data": {
            "application/vnd.jupyter.widget-view+json": {
              "model_id": "c51cbce9c8164701acff87bc453d304c",
              "version_minor": 0,
              "version_major": 2
            },
            "text/plain": [
              "HBox(children=(FloatProgress(value=0.0, max=31.0), HTML(value='')))"
            ]
          },
          "metadata": {
            "tags": []
          }
        },
        {
          "output_type": "stream",
          "text": [
            "\n"
          ],
          "name": "stdout"
        }
      ]
    },
    {
      "cell_type": "markdown",
      "metadata": {
        "id": "OUo95WQ4THSW"
      },
      "source": [
        "## Results\n",
        "In this last section, the previously simulated and reconstructed images are displayed."
      ]
    },
    {
      "cell_type": "markdown",
      "metadata": {
        "id": "3dHai0eMTt67"
      },
      "source": [
        "### K-space results\n"
      ]
    },
    {
      "cell_type": "code",
      "metadata": {
        "colab": {
          "base_uri": "https://localhost:8080/",
          "height": 293
        },
        "id": "IE9uX0M5TJPT",
        "outputId": "cf854516-6a2a-4873-99aa-76ea6978e417"
      },
      "source": [
        "# Compute reference k-space as Fourier transform of original phantom\n",
        "kSpaceOri    = np.abs(np.fft.fftshift(np.fft.fft2(grid.M0[:,:,0,2])))\n",
        "\n",
        "# Get simulated k-space from no flow and flow phantom\n",
        "kSpaceNoFlow = np.abs(gridNoFlow.kSpace)\n",
        "kSpaceFlow   = np.abs(gridFlow.kSpace)\n",
        "\n",
        "# Display results\n",
        "titles = [\"Reference k space\", \"No flow k space\", \"Flow k space\"]\n",
        "plotMulti([kSpaceOri, kSpaceNoFlow, kSpaceFlow], titles)\n"
      ],
      "execution_count": null,
      "outputs": [
        {
          "output_type": "display_data",
          "data": {
            "image/png": "[encoded data removed]",
            "text/plain": [
              "<Figure size 1080x360 with 3 Axes>"
            ]
          },
          "metadata": {
            "tags": [],
            "needs_background": "light"
          }
        }
      ]
    },
    {
      "cell_type": "markdown",
      "metadata": {
        "id": "l-nt-jOzXiO4"
      },
      "source": [
        "### Simulated scans"
      ]
    },
    {
      "cell_type": "code",
      "metadata": {
        "colab": {
          "base_uri": "https://localhost:8080/",
          "height": 293
        },
        "id": "1S5i1SyIXg6k",
        "outputId": "1ecc1cb8-7172-4909-a87a-133932ee20f9"
      },
      "source": [
        "# Reconstruct images from simulated k-Space without and with flow\n",
        "scanNoFlow = np.abs(np.fft.fftshift(np.fft.ifft2(gridNoFlow.kSpace)))\n",
        "scanFlow = np.abs(np.fft.fftshift(np.fft.ifft2(gridFlow.kSpace)))\n",
        "\n",
        "# Display reconstructed images\n",
        "titles = [\"Original phantom\", \"Simulated scan no flow\", \"Simulated scan with flow\"]\n",
        "plotMulti([phantom2D, scanNoFlow, scanFlow], titles)\n"
      ],
      "execution_count": 23,
      "outputs": [
        {
          "output_type": "display_data",
          "data": {
            "image/png": "[encoded data removed]",
            "text/plain": [
              "<Figure size 1080x360 with 3 Axes>"
            ]
          },
          "metadata": {
            "tags": [],
            "needs_background": "light"
          }
        }
      ]
    },
    {
      "cell_type": "code",
      "metadata": {
        "id": "1AHK_JtMaWTf"
      },
      "source": [
        ""
      ],
      "execution_count": null,
      "outputs": []
    }
  ]
}